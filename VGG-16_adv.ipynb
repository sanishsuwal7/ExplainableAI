{
 "cells": [
  {
   "cell_type": "code",
   "execution_count": 44,
   "id": "9be8597f-3c0c-4e40-8166-a9d4ba6a53f5",
   "metadata": {},
   "outputs": [],
   "source": [
    "import torch\n",
    "import torch.nn as nn\n",
    "import torch.nn.functional as F\n",
    "import torchvision\n",
    "import torchvision.transforms as transforms\n",
    "from torchvision import models\n",
    "from cleverhans.torch.attacks.projected_gradient_descent import (projected_gradient_descent)\n",
    "\n",
    "import numpy as np\n",
    "import pandas as pd\n",
    "\n",
    "import matplotlib.pyplot as plt\n",
    "import seaborn as sns"
   ]
  },
  {
   "cell_type": "code",
   "execution_count": 46,
   "id": "168df61f-330a-4550-861e-cbf47c006f5a",
   "metadata": {},
   "outputs": [
    {
     "name": "stdout",
     "output_type": "stream",
     "text": [
      "cuda\n"
     ]
    }
   ],
   "source": [
    "device = torch.device(\"cuda\" if torch.cuda.is_available() else \"cpu\")\n",
    "print(device)"
   ]
  },
  {
   "cell_type": "code",
   "execution_count": 48,
   "id": "5a882568-0de4-40a8-8ead-4e1337d7e566",
   "metadata": {},
   "outputs": [],
   "source": [
    "num_epochs = 200\n",
    "\n",
    "batch_size = 128\n",
    "\n",
    "classes = ('plane', 'car' , 'bird','cat', 'deer', 'dog', 'frog', 'horse', 'ship', 'truck')"
   ]
  },
  {
   "cell_type": "code",
   "execution_count": 50,
   "id": "a5f25861-0024-45b1-87b1-2da2e9b1774d",
   "metadata": {},
   "outputs": [],
   "source": [
    "normalize = transforms.Normalize(mean=[0.485, 0.456, 0.406],\n",
    "                                     std=[0.229, 0.224, 0.225])\n",
    "cifar_transforms = transforms.Compose([transforms.RandomHorizontalFlip(),\n",
    "            transforms.RandomCrop(32, 4),\n",
    "            transforms.ToTensor(),\n",
    "            normalize,])"
   ]
  },
  {
   "cell_type": "code",
   "execution_count": 52,
   "id": "4c3b1cf1-17db-4ae9-9e73-33a05ebe8d66",
   "metadata": {},
   "outputs": [
    {
     "name": "stdout",
     "output_type": "stream",
     "text": [
      "Files already downloaded and verified\n",
      "Files already downloaded and verified\n"
     ]
    }
   ],
   "source": [
    "train_dataset = torchvision.datasets.CIFAR10(root= './data', train = True, download=True, transform = cifar_transforms)\n",
    "test_dataset =  torchvision.datasets.CIFAR10(root= './data', train = False, download=True, transform = cifar_transforms)"
   ]
  },
  {
   "cell_type": "code",
   "execution_count": 53,
   "id": "8893bfb6-f5da-439e-a526-6471109370a0",
   "metadata": {},
   "outputs": [
    {
     "data": {
      "text/plain": [
       "(45000, 5000, 10000)"
      ]
     },
     "execution_count": 53,
     "metadata": {},
     "output_type": "execute_result"
    }
   ],
   "source": [
    "train_size = int(0.9 * len(train_dataset))\n",
    "val_size = len(train_dataset) - train_size\n",
    "\n",
    "train_dataset, val_dataset = torch.utils.data.random_split(dataset = train_dataset, lengths = [train_size, val_size])\n",
    "len(train_dataset), len(val_dataset), len(test_dataset)"
   ]
  },
  {
   "cell_type": "code",
   "execution_count": 54,
   "id": "cc51c0b2-08ad-4d3b-8da8-ff8ab2dfa1e9",
   "metadata": {},
   "outputs": [],
   "source": [
    "from torch.utils.data import DataLoader\n",
    "train_dataloader = DataLoader(dataset =train_dataset, batch_size = batch_size, shuffle = True)\n",
    "test_dataloader = DataLoader(dataset= test_dataset, batch_size=batch_size, shuffle=True)\n",
    "val_dataloader = DataLoader(dataset = val_dataset, batch_size=batch_size, shuffle=True)"
   ]
  },
  {
   "cell_type": "code",
   "execution_count": 58,
   "id": "aa75c9b1-e2c3-4a7b-b679-5b6c2dbe8d0a",
   "metadata": {},
   "outputs": [],
   "source": [
    "import math\n",
    "class VGG(nn.Module):\n",
    "    def __init__(self, features):\n",
    "        super(VGG,self).__init__()\n",
    "        self.features = features\n",
    "        self.classifier = nn.Sequential(\n",
    "            nn.Dropout(),\n",
    "            nn.Linear(512,512),\n",
    "            nn.ReLU(True),\n",
    "            nn.Dropout(),\n",
    "            nn.Linear(512,512),\n",
    "            nn.ReLU(True),\n",
    "            nn.Linear(512,10)\n",
    "        )\n",
    "\n",
    "        for m in self.modules():\n",
    "            if isinstance(m, nn.Conv2d):\n",
    "                n = m.kernel_size[0] * m.kernel_size[1] * m.out_channels\n",
    "                m.weight.data.normal_(0, math.sqrt(2. / n))\n",
    "                m.bias.data.zero_()\n",
    "\n",
    "    def forward(self, x):\n",
    "        x = self.features(x)\n",
    "        x = x.view(x.size(0), -1)\n",
    "        x = self.classifier(x)\n",
    "        return x\n",
    "\n",
    "def make_layers(cfg):\n",
    "    layers = []\n",
    "    in_channels =3\n",
    "    for out_channels in cfg:\n",
    "        if out_channels == 'M':\n",
    "            layers += [nn.MaxPool2d(kernel_size = 2, stride =2)]\n",
    "        else:\n",
    "            conv2d = nn.Conv2d(in_channels, out_channels, kernel_size = 3, padding =1)\n",
    "            layers += [conv2d, nn.ReLU(inplace = True)]\n",
    "            in_channels = out_channels\n",
    "    return nn.Sequential(*layers)\n",
    "\n",
    "cfg = [64, 64, 'M', 128, 128, 'M', 256, 256, 256, 'M', 512, 512, 512, 'M', 512, 512, 512, 'M']\n",
    "\n",
    "def vgg16():\n",
    "    return VGG(make_layers(cfg))"
   ]
  },
  {
   "cell_type": "code",
   "execution_count": 60,
   "id": "4bc1c4b4-d96d-4dfe-bff2-0d643f32d72c",
   "metadata": {},
   "outputs": [],
   "source": [
    "from torchmetrics import Accuracy\n",
    "model = vgg16()\n",
    "loss_fn = nn.CrossEntropyLoss()\n",
    "optimizer = torch.optim.SGD(model.parameters(), lr = 0.05, momentum = 0.9, weight_decay = 5e-4)\n",
    "accuracy = Accuracy(task='multiclass', num_classes=10)\n",
    "eps= [0.01, 0.03, 0.06, 0.1, 0.3, 0.5]"
   ]
  },
  {
   "cell_type": "code",
   "execution_count": 62,
   "id": "c91dc576-a092-461c-9ce5-1b0445fda0d2",
   "metadata": {},
   "outputs": [
    {
     "data": {
      "application/vnd.jupyter.widget-view+json": {
       "model_id": "6c30e848891c497eb39a4572fb4c5734",
       "version_major": 2,
       "version_minor": 0
      },
      "text/plain": [
       "  0%|          | 0/200 [00:00<?, ?it/s]"
      ]
     },
     "metadata": {},
     "output_type": "display_data"
    },
    {
     "name": "stdout",
     "output_type": "stream",
     "text": [
      "Epoch: 0| Train loss:  2.07583| Train acc:  18.65580| Val loss:  1.87540| Val acc:  23.71094\n",
      "Epoch: 1| Train loss:  1.81409| Train acc:  27.94720| Val loss:  1.64626| Val acc:  32.40234\n",
      "Epoch: 2| Train loss:  1.63149| Train acc:  35.83738| Val loss:  1.71327| Val acc:  32.44141\n",
      "Epoch: 3| Train loss:  1.48174| Train acc:  43.19020| Val loss:  1.48831| Val acc:  42.42188\n",
      "Epoch: 4| Train loss:  1.28095| Train acc:  53.67149| Val loss:  1.20335| Val acc:  57.46094\n",
      "Epoch: 5| Train loss:  1.16170| Train acc:  58.56317| Val loss:  1.00691| Val acc:  66.11328\n",
      "Epoch: 6| Train loss:  1.05645| Train acc:  62.90025| Val loss:  1.02730| Val acc:  65.56641\n",
      "Epoch: 7| Train loss:  0.99422| Train acc:  65.09011| Val loss:  0.93358| Val acc:  68.76953\n",
      "Epoch: 8| Train loss:  0.92407| Train acc:  68.20377| Val loss:  0.79054| Val acc:  73.86719\n",
      "Epoch: 9| Train loss:  0.86868| Train acc:  70.04864| Val loss:  0.88268| Val acc:  73.84766\n",
      "Epoch: 10| Train loss:  0.81757| Train acc:  71.85305| Val loss:  0.75285| Val acc:  75.76172\n",
      "Epoch: 11| Train loss:  0.79293| Train acc:  73.13122| Val loss:  0.67326| Val acc:  77.59766\n",
      "Epoch: 12| Train loss:  0.75526| Train acc:  74.37609| Val loss:  0.66887| Val acc:  79.10156\n",
      "Epoch: 13| Train loss:  0.72155| Train acc:  75.39087| Val loss:  0.63326| Val acc:  79.72656\n",
      "Epoch: 14| Train loss:  0.69735| Train acc:  75.92453| Val loss:  0.70909| Val acc:  78.39844\n",
      "Epoch: 15| Train loss:  0.67711| Train acc:  76.82638| Val loss:  0.68751| Val acc:  79.58984\n",
      "Epoch: 16| Train loss:  0.65803| Train acc:  77.71317| Val loss:  0.62472| Val acc:  80.66406\n",
      "Epoch: 17| Train loss:  0.64430| Train acc:  77.79480| Val loss:  0.62142| Val acc:  80.58594\n",
      "Epoch: 18| Train loss:  0.62569| Train acc:  78.38912| Val loss:  0.64167| Val acc:  80.62500\n",
      "Epoch: 19| Train loss:  0.60464| Train acc:  79.49564| Val loss:  0.71314| Val acc:  78.47656\n",
      "Epoch: 20| Train loss:  0.59847| Train acc:  79.54176| Val loss:  0.61169| Val acc:  82.20703\n",
      "Epoch: 21| Train loss:  0.58144| Train acc:  80.12672| Val loss:  0.68840| Val acc:  79.43359\n",
      "Epoch: 22| Train loss:  0.57462| Train acc:  80.18516| Val loss:  0.62865| Val acc:  82.38281\n",
      "Epoch: 23| Train loss:  0.56296| Train acc:  80.74668| Val loss:  0.65372| Val acc:  80.99609\n",
      "Epoch: 24| Train loss:  0.53739| Train acc:  81.28009| Val loss:  0.55131| Val acc:  82.71484\n",
      "Epoch: 25| Train loss:  0.55008| Train acc:  80.94299| Val loss:  0.61020| Val acc:  82.96875\n",
      "Epoch: 26| Train loss:  0.53541| Train acc:  81.45568| Val loss:  0.59191| Val acc:  82.28516\n",
      "Epoch: 27| Train loss:  0.53335| Train acc:  81.45469| Val loss:  0.55281| Val acc:  82.77344\n",
      "Epoch: 28| Train loss:  0.51504| Train acc:  82.05640| Val loss:  0.53443| Val acc:  83.61328\n",
      "Epoch: 29| Train loss:  0.51705| Train acc:  82.29093| Val loss:  0.67248| Val acc:  81.03516\n",
      "Epoch: 30| Train loss:  0.49495| Train acc:  82.81423| Val loss:  0.52668| Val acc:  84.51172\n",
      "Epoch: 31| Train loss:  0.49824| Train acc:  82.71140| Val loss:  0.58956| Val acc:  82.91016\n",
      "Epoch: 32| Train loss:  0.48797| Train acc:  82.94592| Val loss:  0.54635| Val acc:  83.76953\n",
      "Epoch: 33| Train loss:  0.47119| Train acc:  83.64407| Val loss:  0.59030| Val acc:  82.83203\n",
      "Epoch: 34| Train loss:  0.49822| Train acc:  82.62952| Val loss:  0.60307| Val acc:  82.08984\n",
      "Epoch: 35| Train loss:  0.47928| Train acc:  83.21941| Val loss:  0.60231| Val acc:  82.42188\n",
      "Epoch: 36| Train loss:  0.48279| Train acc:  83.35233| Val loss:  0.63270| Val acc:  81.38672\n",
      "Epoch: 37| Train loss:  0.47533| Train acc:  83.50029| Val loss:  0.59386| Val acc:  82.59766\n",
      "Epoch: 38| Train loss:  0.47029| Train acc:  83.42902| Val loss:  0.55125| Val acc:  82.48047\n",
      "Epoch: 39| Train loss:  0.45341| Train acc:  84.39030| Val loss:  0.49170| Val acc:  85.21484\n",
      "Epoch: 40| Train loss:  0.46395| Train acc:  83.80805| Val loss:  0.53671| Val acc:  83.96484\n",
      "Epoch: 41| Train loss:  0.45282| Train acc:  84.00041| Val loss:  0.54991| Val acc:  83.04688\n",
      "Epoch: 42| Train loss:  0.46980| Train acc:  83.63864| Val loss:  0.57583| Val acc:  83.45703\n",
      "Epoch: 43| Train loss:  0.45648| Train acc:  84.03222| Val loss:  0.52099| Val acc:  84.45312\n",
      "Epoch: 44| Train loss:  0.44637| Train acc:  84.50521| Val loss:  0.50454| Val acc:  83.96484\n",
      "Epoch: 45| Train loss:  0.43601| Train acc:  84.44528| Val loss:  0.49294| Val acc:  85.01953\n",
      "Epoch: 46| Train loss:  0.43703| Train acc:  84.64504| Val loss:  0.50569| Val acc:  85.17578\n",
      "Epoch: 47| Train loss:  0.43346| Train acc:  84.75453| Val loss:  0.63941| Val acc:  81.64062\n",
      "Epoch: 48| Train loss:  0.44676| Train acc:  84.38660| Val loss:  0.57764| Val acc:  83.12500\n",
      "Epoch: 49| Train loss:  0.43750| Train acc:  84.66254| Val loss:  0.54716| Val acc:  84.70703\n",
      "Epoch: 50| Train loss:  0.42781| Train acc:  85.02531| Val loss:  0.54199| Val acc:  83.98438\n",
      "Epoch: 51| Train loss:  0.44549| Train acc:  84.17969| Val loss:  0.52104| Val acc:  84.51172\n",
      "Epoch: 52| Train loss:  0.42455| Train acc:  84.99399| Val loss:  0.59031| Val acc:  81.52344\n",
      "Epoch: 53| Train loss:  0.42074| Train acc:  85.23738| Val loss:  0.56449| Val acc:  82.94922\n",
      "Epoch: 54| Train loss:  0.43219| Train acc:  84.86452| Val loss:  0.59832| Val acc:  83.71094\n",
      "Epoch: 55| Train loss:  0.42496| Train acc:  84.88474| Val loss:  0.53708| Val acc:  84.27734\n",
      "Epoch: 56| Train loss:  0.43278| Train acc:  84.68549| Val loss:  0.55634| Val acc:  84.90234\n",
      "Epoch: 57| Train loss:  0.42567| Train acc:  84.94885| Val loss:  0.53303| Val acc:  84.47266\n",
      "Epoch: 58| Train loss:  0.42252| Train acc:  85.04528| Val loss:  0.54302| Val acc:  85.48828\n",
      "Epoch: 59| Train loss:  0.41524| Train acc:  85.41395| Val loss:  0.53776| Val acc:  84.17969\n",
      "Epoch: 60| Train loss:  0.41227| Train acc:  85.40853| Val loss:  0.62316| Val acc:  83.90625\n",
      "Epoch: 61| Train loss:  0.41921| Train acc:  85.33332| Val loss:  0.53543| Val acc:  84.23828\n",
      "Epoch: 62| Train loss:  0.40571| Train acc:  85.43640| Val loss:  0.53139| Val acc:  85.07812\n",
      "Epoch: 63| Train loss:  0.40934| Train acc:  85.54811| Val loss:  0.48665| Val acc:  86.09375\n",
      "Epoch: 64| Train loss:  0.41212| Train acc:  85.36069| Val loss:  0.51383| Val acc:  84.64844\n",
      "Epoch: 65| Train loss:  0.42033| Train acc:  85.12050| Val loss:  0.51790| Val acc:  84.88281\n",
      "Epoch: 66| Train loss:  0.40136| Train acc:  85.70496| Val loss:  0.50871| Val acc:  85.72266\n",
      "Epoch: 67| Train loss:  0.41422| Train acc:  85.23714| Val loss:  0.51532| Val acc:  85.46875\n",
      "Epoch: 68| Train loss:  0.39990| Train acc:  85.59990| Val loss:  0.55442| Val acc:  83.90625\n",
      "Epoch: 69| Train loss:  0.40304| Train acc:  85.69608| Val loss:  0.65887| Val acc:  82.34375\n",
      "Epoch: 70| Train loss:  0.42075| Train acc:  85.10792| Val loss:  0.47514| Val acc:  85.89844\n",
      "Epoch: 71| Train loss:  0.40927| Train acc:  85.49583| Val loss:  0.54374| Val acc:  84.12109\n",
      "Epoch: 72| Train loss:  0.40117| Train acc:  85.63985| Val loss:  0.54377| Val acc:  84.80469\n",
      "Epoch: 73| Train loss:  0.40875| Train acc:  85.48128| Val loss:  0.59397| Val acc:  83.47656\n",
      "Epoch: 74| Train loss:  0.39753| Train acc:  85.85637| Val loss:  0.47661| Val acc:  85.46875\n",
      "Epoch: 75| Train loss:  0.40375| Train acc:  85.65292| Val loss:  0.51384| Val acc:  85.41016\n",
      "Epoch: 76| Train loss:  0.40887| Train acc:  85.55576| Val loss:  0.46704| Val acc:  85.72266\n",
      "Epoch: 77| Train loss:  0.39901| Train acc:  86.04848| Val loss:  0.56949| Val acc:  84.82422\n",
      "Epoch: 78| Train loss:  0.40631| Train acc:  85.67882| Val loss:  0.53239| Val acc:  84.72656\n",
      "Epoch: 79| Train loss:  0.40818| Train acc:  85.53651| Val loss:  0.51239| Val acc:  86.15234\n",
      "Epoch: 80| Train loss:  0.39599| Train acc:  86.01518| Val loss:  0.51565| Val acc:  85.95703\n",
      "Epoch: 81| Train loss:  0.38594| Train acc:  86.27807| Val loss:  0.48974| Val acc:  85.85938\n",
      "Epoch: 82| Train loss:  0.38287| Train acc:  86.32146| Val loss:  0.51547| Val acc:  85.50781\n",
      "Epoch: 83| Train loss:  0.40930| Train acc:  85.57105| Val loss:  0.50445| Val acc:  85.37109\n",
      "Epoch: 84| Train loss:  0.39794| Train acc:  85.99670| Val loss:  0.48996| Val acc:  85.25391\n",
      "Epoch: 85| Train loss:  0.39676| Train acc:  85.79225| Val loss:  0.46715| Val acc:  86.01562\n",
      "Epoch: 86| Train loss:  0.39496| Train acc:  85.87463| Val loss:  0.50227| Val acc:  85.31250\n",
      "Epoch: 87| Train loss:  0.40602| Train acc:  85.75107| Val loss:  0.59883| Val acc:  83.12500\n",
      "Epoch: 88| Train loss:  0.40369| Train acc:  85.70200| Val loss:  0.57777| Val acc:  85.31250\n",
      "Epoch: 89| Train loss:  0.40048| Train acc:  85.90322| Val loss:  0.59298| Val acc:  83.71094\n",
      "Epoch: 90| Train loss:  0.39379| Train acc:  86.12295| Val loss:  0.62931| Val acc:  83.18359\n",
      "Epoch: 91| Train loss:  0.38820| Train acc:  86.09409| Val loss:  0.46382| Val acc:  86.36719\n",
      "Epoch: 92| Train loss:  0.38370| Train acc:  86.22825| Val loss:  0.66767| Val acc:  82.44141\n",
      "Epoch: 93| Train loss:  0.40576| Train acc:  85.80162| Val loss:  0.58427| Val acc:  83.71094\n",
      "Epoch: 94| Train loss:  0.39033| Train acc:  86.03442| Val loss:  0.49971| Val acc:  85.09766\n",
      "Epoch: 95| Train loss:  0.40392| Train acc:  85.89805| Val loss:  0.66182| Val acc:  83.04688\n",
      "Epoch: 96| Train loss:  0.37974| Train acc:  86.39249| Val loss:  0.60485| Val acc:  83.96484\n",
      "Epoch: 97| Train loss:  0.38667| Train acc:  86.16685| Val loss:  0.61281| Val acc:  83.47656\n",
      "Epoch: 98| Train loss:  0.38886| Train acc:  86.04182| Val loss:  0.51026| Val acc:  85.13672\n",
      "Epoch: 99| Train loss:  0.38598| Train acc:  86.19718| Val loss:  0.54133| Val acc:  83.75000\n",
      "Epoch: 100| Train loss:  0.38203| Train acc:  86.41765| Val loss:  0.55269| Val acc:  86.60156\n",
      "Epoch: 101| Train loss:  0.38326| Train acc:  86.34687| Val loss:  0.53608| Val acc:  85.46875\n",
      "Epoch: 102| Train loss:  0.39234| Train acc:  86.08942| Val loss:  0.46812| Val acc:  87.07031\n",
      "Epoch: 103| Train loss:  0.38167| Train acc:  86.10051| Val loss:  0.50763| Val acc:  85.31250\n",
      "Epoch: 104| Train loss:  0.37169| Train acc:  86.59890| Val loss:  0.47796| Val acc:  86.19141\n",
      "Epoch: 105| Train loss:  0.38595| Train acc:  86.16833| Val loss:  0.69866| Val acc:  82.14844\n",
      "Epoch: 106| Train loss:  0.39550| Train acc:  86.10618| Val loss:  0.50709| Val acc:  85.31250\n",
      "Epoch: 107| Train loss:  0.38854| Train acc:  86.28251| Val loss:  0.43834| Val acc:  86.66016\n",
      "Epoch: 108| Train loss:  0.38435| Train acc:  86.30125| Val loss:  0.54603| Val acc:  85.09766\n",
      "Epoch: 109| Train loss:  0.38660| Train acc:  86.21642| Val loss:  0.49723| Val acc:  84.98047\n",
      "Epoch: 110| Train loss:  0.39760| Train acc:  85.93454| Val loss:  0.65298| Val acc:  83.06641\n",
      "Epoch: 111| Train loss:  0.39277| Train acc:  85.91876| Val loss:  0.50233| Val acc:  85.58594\n",
      "Epoch: 112| Train loss:  0.37977| Train acc:  86.31210| Val loss:  0.47456| Val acc:  86.71875\n",
      "Epoch: 113| Train loss:  0.37219| Train acc:  86.66253| Val loss:  0.51010| Val acc:  84.84375\n",
      "Epoch: 114| Train loss:  0.37613| Train acc:  86.80531| Val loss:  0.47126| Val acc:  86.54297\n",
      "Epoch: 115| Train loss:  0.38821| Train acc:  86.20162| Val loss:  0.57872| Val acc:  83.63281\n",
      "Epoch: 116| Train loss:  0.39253| Train acc:  85.93504| Val loss:  0.49413| Val acc:  86.60156\n",
      "Epoch: 117| Train loss:  0.37708| Train acc:  86.50174| Val loss:  0.51289| Val acc:  84.25781\n",
      "Epoch: 118| Train loss:  0.37255| Train acc:  86.72591| Val loss:  0.51243| Val acc:  85.29297\n",
      "Epoch: 119| Train loss:  0.38612| Train acc:  86.17055| Val loss:  0.55353| Val acc:  85.87891\n",
      "Epoch: 120| Train loss:  0.37061| Train acc:  86.74070| Val loss:  0.51723| Val acc:  85.95703\n",
      "Epoch: 121| Train loss:  0.38182| Train acc:  86.39323| Val loss:  0.48240| Val acc:  85.82031\n",
      "Epoch: 122| Train loss:  0.37714| Train acc:  86.72024| Val loss:  0.64620| Val acc:  82.89062\n",
      "Epoch: 123| Train loss:  0.39368| Train acc:  86.08005| Val loss:  0.52747| Val acc:  85.74219\n",
      "Epoch: 124| Train loss:  0.37274| Train acc:  86.86425| Val loss:  0.52355| Val acc:  85.29297\n",
      "Epoch: 125| Train loss:  0.39107| Train acc:  86.05981| Val loss:  0.54958| Val acc:  85.09766\n",
      "Epoch: 126| Train loss:  0.38515| Train acc:  86.16142| Val loss:  0.51491| Val acc:  84.23828\n",
      "Epoch: 127| Train loss:  0.37752| Train acc:  86.51012| Val loss:  0.44821| Val acc:  86.66016\n",
      "Epoch: 128| Train loss:  0.37020| Train acc:  87.00704| Val loss:  0.58781| Val acc:  84.21875\n",
      "Epoch: 129| Train loss:  0.38613| Train acc:  86.43664| Val loss:  0.50189| Val acc:  86.09375\n",
      "Epoch: 130| Train loss:  0.37384| Train acc:  86.85981| Val loss:  0.45324| Val acc:  87.42188\n",
      "Epoch: 131| Train loss:  0.37283| Train acc:  86.86795| Val loss:  0.52728| Val acc:  84.47266\n",
      "Epoch: 132| Train loss:  0.38913| Train acc:  86.20927| Val loss:  0.53005| Val acc:  84.90234\n",
      "Epoch: 133| Train loss:  0.37465| Train acc:  86.58879| Val loss:  0.49977| Val acc:  85.54688\n",
      "Epoch: 134| Train loss:  0.37172| Train acc:  86.79372| Val loss:  0.48136| Val acc:  86.34766\n",
      "Epoch: 135| Train loss:  0.38494| Train acc:  86.29434| Val loss:  0.58399| Val acc:  86.40625\n",
      "Epoch: 136| Train loss:  0.39121| Train acc:  86.20212| Val loss:  0.51135| Val acc:  84.84375\n",
      "Epoch: 137| Train loss:  0.37064| Train acc:  86.80383| Val loss:  0.52291| Val acc:  85.97656\n",
      "Epoch: 138| Train loss:  0.38038| Train acc:  86.40754| Val loss:  0.48404| Val acc:  86.56250\n",
      "Epoch: 139| Train loss:  0.37938| Train acc:  86.41912| Val loss:  0.49036| Val acc:  85.70312\n",
      "Epoch: 140| Train loss:  0.37387| Train acc:  86.69089| Val loss:  0.53511| Val acc:  86.05469\n",
      "Epoch: 141| Train loss:  0.37456| Train acc:  86.41321| Val loss:  0.50229| Val acc:  85.95703\n",
      "Epoch: 142| Train loss:  0.36935| Train acc:  86.90099| Val loss:  0.49108| Val acc:  85.39062\n",
      "Epoch: 143| Train loss:  0.37646| Train acc:  86.64650| Val loss:  0.51101| Val acc:  85.48828\n",
      "Epoch: 144| Train loss:  0.37495| Train acc:  86.58411| Val loss:  0.54058| Val acc:  84.49219\n",
      "Epoch: 145| Train loss:  0.37215| Train acc:  86.90790| Val loss:  0.45995| Val acc:  86.85547\n",
      "Epoch: 146| Train loss:  0.36158| Train acc:  87.12614| Val loss:  0.57474| Val acc:  84.49219\n",
      "Epoch: 147| Train loss:  0.36936| Train acc:  86.81937| Val loss:  0.46200| Val acc:  86.73828\n",
      "Epoch: 148| Train loss:  0.37293| Train acc:  86.44330| Val loss:  0.52390| Val acc:  84.29688\n",
      "Epoch: 149| Train loss:  0.37696| Train acc:  86.44353| Val loss:  0.49897| Val acc:  85.15625\n",
      "Epoch: 150| Train loss:  0.38736| Train acc:  86.12862| Val loss:  0.47825| Val acc:  85.95703\n",
      "Epoch: 151| Train loss:  0.37264| Train acc:  86.47190| Val loss:  0.47959| Val acc:  86.60156\n",
      "Epoch: 152| Train loss:  0.37151| Train acc:  86.71752| Val loss:  0.51782| Val acc:  85.11719\n",
      "Epoch: 153| Train loss:  0.37788| Train acc:  86.51382| Val loss:  0.58028| Val acc:  83.59375\n",
      "Epoch: 154| Train loss:  0.37083| Train acc:  86.61345| Val loss:  0.52581| Val acc:  85.25391\n",
      "Epoch: 155| Train loss:  0.37767| Train acc:  86.31358| Val loss:  0.48682| Val acc:  86.81641\n",
      "Epoch: 156| Train loss:  0.37279| Train acc:  86.67264| Val loss:  0.50738| Val acc:  86.26953\n",
      "Epoch: 157| Train loss:  0.37299| Train acc:  86.77892| Val loss:  0.57588| Val acc:  83.57422\n",
      "Epoch: 158| Train loss:  0.36745| Train acc:  86.73627| Val loss:  0.56049| Val acc:  85.25391\n",
      "Epoch: 159| Train loss:  0.36767| Train acc:  86.73650| Val loss:  0.47869| Val acc:  85.82031\n",
      "Epoch: 160| Train loss:  0.37436| Train acc:  86.82677| Val loss:  0.49187| Val acc:  86.54297\n",
      "Epoch: 161| Train loss:  0.35214| Train acc:  87.34242| Val loss:  0.65064| Val acc:  84.86328\n",
      "Epoch: 162| Train loss:  0.37484| Train acc:  86.77868| Val loss:  0.66220| Val acc:  82.46094\n",
      "Epoch: 163| Train loss:  0.38373| Train acc:  86.37967| Val loss:  0.47359| Val acc:  85.62500\n",
      "Epoch: 164| Train loss:  0.36344| Train acc:  87.07780| Val loss:  0.46166| Val acc:  86.93359\n",
      "Epoch: 165| Train loss:  0.36876| Train acc:  87.04378| Val loss:  0.51670| Val acc:  86.17188\n",
      "Epoch: 166| Train loss:  0.36350| Train acc:  86.77177| Val loss:  0.49118| Val acc:  85.76172\n",
      "Epoch: 167| Train loss:  0.36350| Train acc:  86.80013| Val loss:  0.49594| Val acc:  86.11328\n",
      "Epoch: 168| Train loss:  0.37178| Train acc:  86.67017| Val loss:  0.55899| Val acc:  85.27344\n",
      "Epoch: 169| Train loss:  0.36759| Train acc:  86.89902| Val loss:  0.51697| Val acc:  84.66797\n",
      "Epoch: 170| Train loss:  0.37086| Train acc:  86.71949| Val loss:  0.51828| Val acc:  85.15625\n",
      "Epoch: 171| Train loss:  0.38472| Train acc:  86.22998| Val loss:  0.51689| Val acc:  86.34766\n",
      "Epoch: 172| Train loss:  0.38051| Train acc:  86.46869| Val loss:  0.47133| Val acc:  86.58203\n",
      "Epoch: 173| Train loss:  0.37745| Train acc:  86.45266| Val loss:  0.48085| Val acc:  86.23047\n",
      "Epoch: 174| Train loss:  0.35942| Train acc:  86.99274| Val loss:  0.51052| Val acc:  86.40625\n",
      "Epoch: 175| Train loss:  0.37586| Train acc:  86.61839| Val loss:  0.55898| Val acc:  85.35156\n",
      "Epoch: 176| Train loss:  0.37266| Train acc:  86.83712| Val loss:  0.48524| Val acc:  87.42188\n",
      "Epoch: 177| Train loss:  0.36021| Train acc:  87.40778| Val loss:  0.48041| Val acc:  86.87500\n",
      "Epoch: 178| Train loss:  0.37794| Train acc:  86.31358| Val loss:  0.58901| Val acc:  84.27734\n",
      "Epoch: 179| Train loss:  0.37562| Train acc:  86.63835| Val loss:  0.51039| Val acc:  85.52734\n",
      "Epoch: 180| Train loss:  0.35889| Train acc:  87.11801| Val loss:  0.44409| Val acc:  87.36328\n",
      "Epoch: 181| Train loss:  0.36899| Train acc:  87.03342| Val loss:  0.48450| Val acc:  85.46875\n",
      "Epoch: 182| Train loss:  0.36607| Train acc:  86.87856| Val loss:  0.49578| Val acc:  86.05469\n",
      "Epoch: 183| Train loss:  0.34959| Train acc:  87.32887| Val loss:  0.56101| Val acc:  84.45312\n",
      "Epoch: 184| Train loss:  0.36075| Train acc:  86.99249| Val loss:  0.54034| Val acc:  85.01953\n",
      "Epoch: 185| Train loss:  0.37092| Train acc:  86.83688| Val loss:  0.51511| Val acc:  85.62500\n",
      "Epoch: 186| Train loss:  0.37184| Train acc:  86.70051| Val loss:  0.46278| Val acc:  87.28516\n",
      "Epoch: 187| Train loss:  0.37273| Train acc:  86.55156| Val loss:  0.51441| Val acc:  85.17578\n",
      "Epoch: 188| Train loss:  0.37254| Train acc:  86.56068| Val loss:  0.57710| Val acc:  84.70703\n",
      "Epoch: 189| Train loss:  0.36376| Train acc:  86.94415| Val loss:  0.53694| Val acc:  84.90234\n",
      "Epoch: 190| Train loss:  0.36632| Train acc:  86.86672| Val loss:  0.52254| Val acc:  84.41406\n",
      "Epoch: 191| Train loss:  0.36890| Train acc:  86.63959| Val loss:  0.49304| Val acc:  86.66016\n",
      "Epoch: 192| Train loss:  0.36514| Train acc:  86.71777| Val loss:  0.43697| Val acc:  86.83594\n",
      "Epoch: 193| Train loss:  0.36536| Train acc:  87.09089| Val loss:  0.52451| Val acc:  85.56641\n",
      "Epoch: 194| Train loss:  0.35858| Train acc:  87.17719| Val loss:  0.49347| Val acc:  85.80078\n",
      "Epoch: 195| Train loss:  0.36999| Train acc:  86.84427| Val loss:  0.49750| Val acc:  85.33203\n",
      "Epoch: 196| Train loss:  0.38113| Train acc:  86.41666| Val loss:  0.64478| Val acc:  81.40625\n",
      "Epoch: 197| Train loss:  0.35963| Train acc:  86.94538| Val loss:  0.49402| Val acc:  86.56250\n",
      "Epoch: 198| Train loss:  0.36356| Train acc:  87.07410| Val loss:  0.45891| Val acc:  86.99219\n",
      "Epoch: 199| Train loss:  0.35330| Train acc:  87.38780| Val loss:  0.66313| Val acc:  83.51562\n"
     ]
    }
   ],
   "source": [
    "from tqdm.notebook import tqdm\n",
    "\n",
    "# device-agnostic setup\n",
    "device = 'cuda' if torch.cuda.is_available() else 'cpu'\n",
    "accuracy = accuracy.to(device)\n",
    "model = model.to(device)\n",
    "\n",
    "for epoch in tqdm(range(num_epochs)):\n",
    "    # Training loop\n",
    "    train_loss, train_acc = 0.0, 0.0\n",
    "    for X, y in train_dataloader:\n",
    "        X, y = X.to(device), y.to(device)\n",
    "        X = projected_gradient_descent(model, X, eps[0], eps[0]/10, 40, np.inf )\n",
    "        model.train()\n",
    "        \n",
    "        y_pred = model(X)\n",
    "        \n",
    "        loss = loss_fn(y_pred, y)\n",
    "        train_loss += loss.item()\n",
    "        \n",
    "        acc = accuracy(y_pred, y)\n",
    "        train_acc += acc\n",
    "        \n",
    "        optimizer.zero_grad()\n",
    "        loss.backward()\n",
    "        optimizer.step()\n",
    "        \n",
    "    train_loss /= len(train_dataloader)\n",
    "    train_acc /= len(train_dataloader)\n",
    "        \n",
    "    # Validation loop\n",
    "    val_loss, val_acc = 0.0, 0.0\n",
    "    model.eval()\n",
    "    with torch.inference_mode():\n",
    "        for X, y in val_dataloader:\n",
    "            X, y = X.to(device), y.to(device)\n",
    "            \n",
    "            y_pred = model(X)\n",
    "            \n",
    "            loss = loss_fn(y_pred, y)\n",
    "            val_loss += loss.item()\n",
    "            \n",
    "            acc = accuracy(y_pred, y)\n",
    "            val_acc += acc\n",
    "            \n",
    "        val_loss /= len(val_dataloader)\n",
    "        val_acc /= len(val_dataloader)\n",
    "    \n",
    "    print(f\"Epoch: {epoch}| Train loss: {train_loss: .5f}| Train acc: {(100* train_acc): .5f}| Val loss: {val_loss: .5f}| Val acc: {(100*val_acc): .5f}\")"
   ]
  },
  {
   "cell_type": "code",
   "execution_count": 64,
   "id": "86a8eecc-46cc-45b2-975e-31667fc63a31",
   "metadata": {},
   "outputs": [
    {
     "name": "stdout",
     "output_type": "stream",
     "text": [
      "Saving the model: models\\vgg_16_cifar_adv.pth\n"
     ]
    },
    {
     "name": "stderr",
     "output_type": "stream",
     "text": [
      "C:\\Users\\User\\AppData\\Local\\Temp\\ipykernel_19616\\3212535161.py:15: FutureWarning: You are using `torch.load` with `weights_only=False` (the current default value), which uses the default pickle module implicitly. It is possible to construct malicious pickle data which will execute arbitrary code during unpickling (See https://github.com/pytorch/pytorch/blob/main/SECURITY.md#untrusted-models for more details). In a future release, the default value for `weights_only` will be flipped to `True`. This limits the functions that could be executed during unpickling. Arbitrary objects will no longer be allowed to be loaded via this mode unless they are explicitly allowlisted by the user via `torch.serialization.add_safe_globals`. We recommend you start setting `weights_only=True` for any use case where you don't have full control of the loaded file. Please open an issue on GitHub for any issues related to this experimental feature.\n",
      "  model_vgg_16_cifar_adv_loaded.load_state_dict(torch.load(MODEL_SAVE_PATH))\n"
     ]
    },
    {
     "data": {
      "text/plain": [
       "<All keys matched successfully>"
      ]
     },
     "execution_count": 64,
     "metadata": {},
     "output_type": "execute_result"
    }
   ],
   "source": [
    "from pathlib import Path\n",
    "\n",
    "MODEL_PATH = Path(\"models\")\n",
    "MODEL_PATH.mkdir(parents=True, exist_ok=True)\n",
    "\n",
    "MODEL_NAME = \"vgg_16_cifar_adv.pth\"\n",
    "MODEL_SAVE_PATH = MODEL_PATH / MODEL_NAME\n",
    "\n",
    "# Saving the model\n",
    "print(f\"Saving the model: {MODEL_SAVE_PATH}\")\n",
    "torch.save(obj=model.state_dict(), f=MODEL_SAVE_PATH)\n",
    "\n",
    "# Loading the saved model\n",
    "model_vgg_16_cifar_adv_loaded = vgg16()\n",
    "model_vgg_16_cifar_adv_loaded.load_state_dict(torch.load(MODEL_SAVE_PATH))"
   ]
  },
  {
   "cell_type": "code",
   "execution_count": 66,
   "id": "f4006fa6-6874-4f57-8132-bc3c1e08d734",
   "metadata": {},
   "outputs": [
    {
     "name": "stdout",
     "output_type": "stream",
     "text": [
      "Test loss:  0.64499| Test acc:  83.28719\n"
     ]
    }
   ],
   "source": [
    "test_loss, test_acc = 0, 0\n",
    "\n",
    "model = model_vgg_16_cifar_adv_loaded.to(device)\n",
    "\n",
    "model.eval()\n",
    "with torch.inference_mode():\n",
    "    for X, y in test_dataloader:\n",
    "        X, y = X.to(device), y.to(device)\n",
    "        y_pred = model(X)\n",
    "        \n",
    "        test_loss += loss_fn(y_pred, y)\n",
    "        test_acc += accuracy(y_pred, y)\n",
    "        \n",
    "    test_loss /= len(test_dataloader)\n",
    "    test_acc /= len(test_dataloader)\n",
    "\n",
    "print(f\"Test loss: {test_loss: .5f}| Test acc: {(100*test_acc): .5f}\")"
   ]
  },
  {
   "cell_type": "code",
   "execution_count": null,
   "id": "9c3f951c-347e-4606-8d44-4dcc1583414a",
   "metadata": {},
   "outputs": [],
   "source": []
  }
 ],
 "metadata": {
  "kernelspec": {
   "display_name": "Python 3 (ipykernel)",
   "language": "python",
   "name": "python3"
  },
  "language_info": {
   "codemirror_mode": {
    "name": "ipython",
    "version": 3
   },
   "file_extension": ".py",
   "mimetype": "text/x-python",
   "name": "python",
   "nbconvert_exporter": "python",
   "pygments_lexer": "ipython3",
   "version": "3.12.3"
  }
 },
 "nbformat": 4,
 "nbformat_minor": 5
}
