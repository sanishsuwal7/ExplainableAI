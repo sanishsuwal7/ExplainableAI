{
 "cells": [
  {
   "cell_type": "code",
   "execution_count": 1,
   "id": "93353e0b-c5ac-48d3-b291-a6fbcff74918",
   "metadata": {},
   "outputs": [],
   "source": [
    "import torch\n",
    "from torch import nn\n",
    "import torch.nn as nn\n",
    "import torch.nn.functional as F\n",
    "from torch.utils.data import DataLoader\n",
    "import torch.nn.utils.prune as prune\n",
    "\n",
    "import torchvision\n",
    "from torchvision import datasets\n",
    "from torchvision.transforms import Normalize\n",
    "from torchvision import transforms\n",
    "from torchmetrics import Accuracy\n",
    "\n",
    "import torch.optim as optim\n",
    "from cleverhans.torch.attacks.projected_gradient_descent import (projected_gradient_descent)\n",
    "\n",
    "import quantus\n",
    "import captum\n",
    "from captum.attr import Saliency, IntegratedGradients, NoiseTunnel\n",
    "\n",
    "import pandas as pd\n",
    "import numpy as np\n",
    "import matplotlib.pyplot as plt\n",
    "\n",
    "import random\n",
    "import copy\n",
    "import gc\n",
    "\n",
    "import warnings\n",
    "warnings.filterwarnings('ignore')\n",
    "\n"
   ]
  },
  {
   "cell_type": "code",
   "execution_count": 2,
   "id": "f7b011ac-a913-45e6-8580-b2fdcdf02757",
   "metadata": {},
   "outputs": [],
   "source": [
    "transformer = torchvision.transforms.Compose([torchvision.transforms.ToTensor()])\n",
    "test_dataset = torchvision.datasets.FashionMNIST(root='./datasets', train=False,  download=True, transform=transformer)\n",
    "test_dataloader = torch.utils.data.DataLoader(test_dataset, batch_size=32, pin_memory=True)"
   ]
  },
  {
   "cell_type": "code",
   "execution_count": 3,
   "id": "d6ab24c5-d345-4494-950d-4906f617e51e",
   "metadata": {},
   "outputs": [],
   "source": [
    "class LeNet(torch.nn.Module):\n",
    "    def __init__(self):\n",
    "        super().__init__()\n",
    "        self.conv_1 = torch.nn.Conv2d(1, 6, 5)\n",
    "        self.pool_1 = torch.nn.MaxPool2d(2, 2)\n",
    "        self.relu_1 = torch.nn.ReLU()\n",
    "        self.conv_2 = torch.nn.Conv2d(6, 16, 5)\n",
    "        self.pool_2 = torch.nn.MaxPool2d(2, 2)\n",
    "        self.relu_2 = torch.nn.ReLU()\n",
    "        self.fc_1 = torch.nn.Linear(256, 120)\n",
    "        self.relu_3 = torch.nn.ReLU()\n",
    "        self.fc_2 = torch.nn.Linear(120, 84)\n",
    "        self.relu_4 = torch.nn.ReLU()\n",
    "        self.fc_3 = torch.nn.Linear(84, 10)\n",
    "\n",
    "    def forward(self, x):\n",
    "        x = self.pool_1(self.relu_1(self.conv_1(x)))\n",
    "        x = self.pool_2(self.relu_2(self.conv_2(x)))\n",
    "        x = x.view(x.shape[0], -1)\n",
    "        x = self.relu_3(self.fc_1(x))\n",
    "        x = self.relu_4(self.fc_2(x))\n",
    "        x = self.fc_3(x)\n",
    "        return x"
   ]
  },
  {
   "cell_type": "code",
   "execution_count": 4,
   "id": "83309437-e4c8-4edc-bddf-79319ca49268",
   "metadata": {},
   "outputs": [],
   "source": [
    "device = 'cuda' if torch.cuda.is_available() else 'cpu'"
   ]
  },
  {
   "cell_type": "markdown",
   "id": "907b8afe-d7db-45dc-b40d-bdf6ec946cca",
   "metadata": {},
   "source": [
    "# Normal Training LeNet"
   ]
  },
  {
   "cell_type": "code",
   "execution_count": 6,
   "id": "fa8163f0-bf39-4c89-b79e-3492c8144a2a",
   "metadata": {},
   "outputs": [
    {
     "data": {
      "text/plain": [
       "<All keys matched successfully>"
      ]
     },
     "execution_count": 6,
     "metadata": {},
     "output_type": "execute_result"
    }
   ],
   "source": [
    "from pathlib import Path\n",
    "\n",
    "MODEL_PATH = Path(\"models\")\n",
    "MODEL_PATH.mkdir(parents=True, exist_ok=True)\n",
    "\n",
    "MODEL_NAME = \"lenet_fmnist.pth\"\n",
    "MODEL_SAVE_PATH = MODEL_PATH / MODEL_NAME\n",
    "model = LeNet().to(device)\n",
    "model.load_state_dict(torch.load(MODEL_SAVE_PATH))\n"
   ]
  },
  {
   "cell_type": "code",
   "execution_count": 7,
   "id": "e5018ec9-2e80-4c4d-954c-872fa64e81c2",
   "metadata": {},
   "outputs": [],
   "source": [
    "def evaluate_model(model, data, device):\n",
    "    model.eval()\n",
    "    logits = torch.Tensor().to(device)\n",
    "    targets = torch.LongTensor().to(device)\n",
    "\n",
    "    with torch.no_grad():\n",
    "        for x_batch, y_batch in data:\n",
    "            x_batch, y_batch = x_batch.to(device), y_batch.to(device)\n",
    "            logits = torch.cat([logits, model(x_batch)])\n",
    "            targets = torch.cat([targets, y_batch])\n",
    "    \n",
    "    return torch.nn.functional.softmax(logits, dim=1), targets"
   ]
  },
  {
   "cell_type": "code",
   "execution_count": 8,
   "id": "04bb8bc7-9985-4144-942c-094576eb18e4",
   "metadata": {},
   "outputs": [
    {
     "name": "stdout",
     "output_type": "stream",
     "text": [
      "Test accuracy for LeNet Normal is: 88.91%\n"
     ]
    }
   ],
   "source": [
    "# Model to GPU and eval mode.\n",
    "model.to(device)\n",
    "model.eval()\n",
    "\n",
    "# Check test set performance.\n",
    "predictions, labels = evaluate_model(model, test_dataloader, device)\n",
    "test_acc = np.mean(np.argmax(predictions.cpu().numpy(), axis=1) == labels.cpu().numpy())\n",
    "print(f\"Test accuracy for LeNet Normal is: {(100 * test_acc):.2f}%\")"
   ]
  },
  {
   "cell_type": "code",
   "execution_count": 9,
   "id": "e9910320-ad0e-40c9-96ae-d42641225c26",
   "metadata": {},
   "outputs": [],
   "source": [
    "x_batch, y_batch = next(iter(test_dataloader))\n",
    "x_batch, y_batch = x_batch.to(device), y_batch.to(device)"
   ]
  },
  {
   "cell_type": "code",
   "execution_count": 10,
   "id": "a72f5e4b-9957-4ef6-a046-5df9840a41a4",
   "metadata": {},
   "outputs": [],
   "source": [
    "a_batch_integrad = IntegratedGradients(model).attribute(inputs=x_batch, target=y_batch, baselines=torch.zeros_like(x_batch)).sum(axis=1).cpu().numpy()\n",
    "a_batch_integrad[a_batch_integrad<0] = 0\n",
    "a_batch_saliency = Saliency(model).attribute(inputs=x_batch, target=y_batch, abs=True).sum(axis=1).cpu().numpy()\n",
    "saliency = Saliency(model)\n",
    "a_batch_smoothgrad = NoiseTunnel(saliency).attribute(inputs = x_batch, target = y_batch, nt_type ='smoothgrad', nt_samples = 50, stdevs=0.15).sum(axis=1).cpu().numpy()\n"
   ]
  },
  {
   "cell_type": "code",
   "execution_count": 11,
   "id": "1a34005f-9996-4a65-b11a-e082f194b79d",
   "metadata": {},
   "outputs": [],
   "source": [
    "x_batch, y_batch = x_batch.cpu().numpy(), y_batch.cpu().numpy()"
   ]
  },
  {
   "cell_type": "code",
   "execution_count": 12,
   "id": "8bc9c269-4122-490e-830d-b4ad70d3a13b",
   "metadata": {},
   "outputs": [
    {
     "data": {
      "image/png": "[encoded data removed]",
      "text/plain": [
       "<Figure size 800x200 with 4 Axes>"
      ]
     },
     "metadata": {},
     "output_type": "display_data"
    }
   ],
   "source": [
    "index = 6\n",
    "nr_images = 2\n",
    "fig, axes = plt.subplots(nrows=1, ncols=4, figsize=(nr_images*4., int(nr_images)))\n",
    "\n",
    "#plot normal\n",
    "axes[0].imshow(np.reshape(x_batch[index], (28,28)), cmap=\"grey\")\n",
    "axes[0].title.set_text(f\"Normal Image {y_batch[index].item()}\")\n",
    "axes[0].axis(\"off\")\n",
    "axes[1].imshow(a_batch_saliency[index], cmap=\"hot\")\n",
    "axes[1].title.set_text(f\"Vanilla Gradient\")\n",
    "axes[1].axis(\"off\")  \n",
    "axes[2].imshow(a_batch_integrad[index], cmap=\"hot\")\n",
    "axes[2].title.set_text(f\"Integrated Gradients\")\n",
    "axes[2].axis(\"off\")\n",
    "axes[3].imshow(a_batch_smoothgrad[index], cmap=\"hot\")\n",
    "axes[3].title.set_text(f\"SmoothGrad\")\n",
    "axes[3].axis(\"off\")\n",
    "plt.tight_layout()\n",
    "plt.savefig('Explanations/lenet_normal.png')\n",
    "\n",
    "plt.show()\n"
   ]
  },
  {
   "cell_type": "markdown",
   "id": "2d0013ff-03c7-4a21-9672-67735085917c",
   "metadata": {},
   "source": [
    "# Adversarial Training LeNet"
   ]
  },
  {
   "cell_type": "code",
   "execution_count": 14,
   "id": "ab17a47d-108c-4678-b3fd-4249137bb11e",
   "metadata": {},
   "outputs": [
    {
     "data": {
      "text/plain": [
       "<All keys matched successfully>"
      ]
     },
     "execution_count": 14,
     "metadata": {},
     "output_type": "execute_result"
    }
   ],
   "source": [
    "from pathlib import Path\n",
    "\n",
    "MODEL_PATH = Path(\"models\")\n",
    "MODEL_PATH.mkdir(parents=True, exist_ok=True)\n",
    "\n",
    "MODEL_NAME = \"lenet_fmnist_adv.pth\"\n",
    "MODEL_SAVE_PATH = MODEL_PATH / MODEL_NAME\n",
    "model_adv = LeNet().to(device)\n",
    "model_adv.load_state_dict(torch.load(MODEL_SAVE_PATH))"
   ]
  },
  {
   "cell_type": "code",
   "execution_count": 15,
   "id": "2d5f207c-a38a-421b-95d8-4cd23e975835",
   "metadata": {},
   "outputs": [
    {
     "name": "stdout",
     "output_type": "stream",
     "text": [
      "Test accuracy for LeNet Adversarial is: 87.97%\n"
     ]
    }
   ],
   "source": [
    "# Model to GPU and eval mode.\n",
    "model_adv.to(device)\n",
    "model_adv.eval()\n",
    "\n",
    "# Check test set performance.\n",
    "predictions, labels = evaluate_model(model_adv, test_dataloader, device)\n",
    "test_acc = np.mean(np.argmax(predictions.cpu().numpy(), axis=1) == labels.cpu().numpy())        \n",
    "print(f\"Test accuracy for LeNet Adversarial is: {(100 * test_acc):.2f}%\")"
   ]
  },
  {
   "cell_type": "code",
   "execution_count": 20,
   "id": "9e498c52-64cf-4375-be6b-88b57f400219",
   "metadata": {},
   "outputs": [],
   "source": [
    "x_batch, y_batch = next(iter(test_dataloader))\n",
    "x_batch, y_batch = x_batch.to(device), y_batch.to(device)"
   ]
  },
  {
   "cell_type": "code",
   "execution_count": 23,
   "id": "c85f8c17-21ae-4f18-9b98-d9cf54ea4319",
   "metadata": {},
   "outputs": [],
   "source": [
    "a_batch_integrad_adv = IntegratedGradients(model_adv).attribute(inputs=x_batch, target=y_batch, baselines=torch.zeros_like(x_batch)).sum(axis=1).cpu().numpy()\n",
    "a_batch_integrad_adv[a_batch_integrad_adv<0] = 0\n",
    "a_batch_saliency_adv = Saliency(model_adv).attribute(inputs=x_batch, target=y_batch, abs=True).sum(axis=1).cpu().numpy()\n",
    "saliency = Saliency(model_adv)\n",
    "a_batch_smoothgrad_adv = NoiseTunnel(saliency).attribute(inputs = x_batch, target = y_batch, nt_type ='smoothgrad', nt_samples = 50, stdevs=0.15).sum(axis=1).cpu().numpy()\n"
   ]
  },
  {
   "cell_type": "code",
   "execution_count": 24,
   "id": "51233af8-2705-48b2-b731-2a027248ae58",
   "metadata": {},
   "outputs": [],
   "source": [
    "x_batch, y_batch = x_batch.cpu().numpy(), y_batch.cpu().numpy()"
   ]
  },
  {
   "cell_type": "code",
   "execution_count": 25,
   "id": "743232d2-96fa-4392-86ab-066b818f0677",
   "metadata": {},
   "outputs": [
    {
     "data": {
      "image/png": "[encoded data removed]",
      "text/plain": [
       "<Figure size 800x200 with 4 Axes>"
      ]
     },
     "metadata": {},
     "output_type": "display_data"
    }
   ],
   "source": [
    "\n",
    "nr_images = 2\n",
    "fig, axes = plt.subplots(nrows=1, ncols=4, figsize=(nr_images*4., int(nr_images)))\n",
    "\n",
    "#plot normal\n",
    "axes[0].imshow(np.reshape(x_batch[index], (28,28)), cmap=\"grey\")\n",
    "axes[0].title.set_text(f\"Normal Image {y_batch[index].item()}\")\n",
    "axes[0].axis(\"off\")\n",
    "axes[1].imshow(a_batch_saliency_adv[index], cmap=\"hot\")\n",
    "axes[1].title.set_text(f\"Vanilla Gradient\")\n",
    "axes[1].axis(\"off\")  \n",
    "axes[2].imshow(a_batch_integrad_adv[index], cmap=\"hot\")\n",
    "axes[2].title.set_text(f\"Integrated Gradients\")\n",
    "axes[2].axis(\"off\")\n",
    "axes[3].imshow(a_batch_smoothgrad_adv[index], cmap=\"hot\")\n",
    "axes[3].title.set_text(f\"SmoothGrad\")\n",
    "axes[3].axis(\"off\")\n",
    "plt.tight_layout()\n",
    "plt.savefig('Explanations/lenet_adversarial.png')\n",
    "\n",
    "plt.show()"
   ]
  },
  {
   "cell_type": "markdown",
   "id": "8a64a629-9e54-464b-af9b-55945662df64",
   "metadata": {},
   "source": [
    "# Puning L1 Unstructured LeNet"
   ]
  },
  {
   "cell_type": "code",
   "execution_count": 29,
   "id": "e75c92ce-dff5-4a08-a325-fc16ed871628",
   "metadata": {},
   "outputs": [
    {
     "data": {
      "text/plain": [
       "<All keys matched successfully>"
      ]
     },
     "execution_count": 29,
     "metadata": {},
     "output_type": "execute_result"
    }
   ],
   "source": [
    "from pathlib import Path\n",
    "\n",
    "MODEL_PATH = Path(\"models\")\n",
    "MODEL_PATH.mkdir(parents=True, exist_ok=True)\n",
    "\n",
    "MODEL_NAME = \"lenet_fmnist_l1_unstructured.pth\"\n",
    "MODEL_SAVE_PATH = MODEL_PATH / MODEL_NAME\n",
    "model_l1_unstructured = LeNet().to(device)\n",
    "\n",
    "for name, module in model_l1_unstructured.named_modules():\n",
    "    # prune 20% of weights/connections in for all hidden layaers-\n",
    "    if isinstance(module, torch.nn.Conv2d):\n",
    "        prune.l1_unstructured(module = module, name = 'weight', amount = 0.2)\n",
    "    \n",
    "    # prune 10% of weights/connections for output layer-\n",
    "    elif isinstance(module, torch.nn.Linear):\n",
    "        prune.l1_unstructured(module = module, name = 'weight', amount = 0.1)\n",
    "        \n",
    "model_l1_unstructured.load_state_dict(torch.load(MODEL_SAVE_PATH))"
   ]
  },
  {
   "cell_type": "code",
   "execution_count": 34,
   "id": "fa61bf0c-56d7-4446-a968-996c5d87ac28",
   "metadata": {},
   "outputs": [
    {
     "name": "stdout",
     "output_type": "stream",
     "text": [
      "Test accuracy for LeNet Pruned L1 UnStructure is: 88.95%\n"
     ]
    }
   ],
   "source": [
    "# Model to GPU and eval mode.\n",
    "model_l1_unstructured.to(device)\n",
    "model_l1_unstructured.eval()\n",
    "\n",
    "# Check test set performance.\n",
    "predictions, labels = evaluate_model(model_l1_unstructured, test_dataloader, device)\n",
    "test_acc = np.mean(np.argmax(predictions.cpu().numpy(), axis=1) == labels.cpu().numpy())        \n",
    "print(f\"Test accuracy for LeNet Pruned L1 UnStructure is: {(100 * test_acc):.2f}%\")"
   ]
  },
  {
   "cell_type": "code",
   "execution_count": 35,
   "id": "fe284397-d3af-4e9c-b6f9-f07976d461b3",
   "metadata": {},
   "outputs": [],
   "source": [
    "x_batch, y_batch = next(iter(test_dataloader))\n",
    "x_batch, y_batch = x_batch.to(device), y_batch.to(device)"
   ]
  },
  {
   "cell_type": "code",
   "execution_count": 36,
   "id": "b745a7fb-2474-4491-bae2-d9eec8bae574",
   "metadata": {},
   "outputs": [],
   "source": [
    "a_batch_integrad_l1 = IntegratedGradients(model_l1_unstructured).attribute(inputs=x_batch, target=y_batch, baselines=torch.zeros_like(x_batch)).sum(axis=1).cpu().numpy()\n",
    "a_batch_integrad_l1[a_batch_integrad_l1<0] = 0\n",
    "a_batch_saliency_l1 = Saliency(model_l1_unstructured).attribute(inputs=x_batch, target=y_batch, abs=True).sum(axis=1).cpu().numpy()\n",
    "saliency = Saliency(model_l1_unstructured)\n",
    "a_batch_smoothgrad_l1 = NoiseTunnel(saliency).attribute(inputs = x_batch, target = y_batch, nt_type ='smoothgrad', nt_samples = 50, stdevs=0.15).sum(axis=1).cpu().numpy()\n"
   ]
  },
  {
   "cell_type": "code",
   "execution_count": 37,
   "id": "20bbcb73-e69d-44e4-b45d-4626fee180df",
   "metadata": {},
   "outputs": [],
   "source": [
    "x_batch, y_batch = x_batch.cpu().numpy(), y_batch.cpu().numpy()"
   ]
  },
  {
   "cell_type": "code",
   "execution_count": 42,
   "id": "26884d88-1b9f-4ecf-bd85-e14ff6baeb1e",
   "metadata": {},
   "outputs": [
    {
     "data": {
      "image/png": "[encoded data removed]",
      "text/plain": [
       "<Figure size 800x200 with 4 Axes>"
      ]
     },
     "metadata": {},
     "output_type": "display_data"
    }
   ],
   "source": [
    "nr_images = 2\n",
    "fig, axes = plt.subplots(nrows=1, ncols=4, figsize=(nr_images*4., int(nr_images)))\n",
    "\n",
    "#plot normal\n",
    "axes[0].imshow(np.reshape(x_batch[index], (28,28)), cmap=\"grey\")\n",
    "axes[0].title.set_text(f\"Normal Image {y_batch[index].item()}\")\n",
    "axes[0].axis(\"off\")\n",
    "axes[1].imshow(a_batch_saliency_l1[index], cmap=\"hot\")\n",
    "axes[1].title.set_text(f\"Vanilla Gradient\")\n",
    "axes[1].axis(\"off\")  \n",
    "axes[2].imshow(a_batch_integrad_l1[index], cmap=\"hot\")\n",
    "axes[2].title.set_text(f\"Integrated Gradients\")\n",
    "axes[2].axis(\"off\")\n",
    "axes[3].imshow(a_batch_smoothgrad_l1[index], cmap=\"hot\")\n",
    "axes[3].title.set_text(f\"SmoothGrad\")\n",
    "axes[3].axis(\"off\")\n",
    "plt.tight_layout()\n",
    "\n",
    "plt.savefig('Explanations/lenet_l1_unstructured.png')\n",
    "plt.show()"
   ]
  },
  {
   "cell_type": "markdown",
   "id": "fd7a62dd-62db-48f5-9b26-39836a23addb",
   "metadata": {},
   "source": [
    "# Pruning Global LeNet"
   ]
  },
  {
   "cell_type": "code",
   "execution_count": 48,
   "id": "bdf7c42e-eee7-48a0-9f57-469e49a3d402",
   "metadata": {},
   "outputs": [],
   "source": [
    "def compute_sparsity(model):\n",
    "    conv1_sparsity = torch.sum(model.conv_1.weight == 0) \n",
    "    conv2_sparsity = torch.sum(model.conv_2.weight == 0)\n",
    "    fc1_sparsity = torch.sum(model.fc_1.weight == 0) \n",
    "    fc2_sparsity = torch.sum(model.fc_2.weight == 0) \n",
    "    fc3_sparsity = torch.sum(model.fc_3.weight == 0) \n",
    "\n",
    "    num = conv1_sparsity + conv2_sparsity +fc1_sparsity + fc2_sparsity + fc3_sparsity\n",
    "    denom = model.conv_1.weight.nelement() + model.conv_2.weight.nelement() + model.fc_1.weight.nelement() + model.fc_2.weight.nelement() + model.fc_3.weight.nelement()\n",
    "\n",
    "    global_sparsity = num/denom * 100\n",
    "\n",
    "    return global_sparsity"
   ]
  },
  {
   "cell_type": "code",
   "execution_count": 51,
   "id": "b3a1ea44-06f5-409f-bd97-98b17faf6d0a",
   "metadata": {},
   "outputs": [
    {
     "name": "stdout",
     "output_type": "stream",
     "text": [
      "\n",
      "\n",
      "Iterative Global pruning round = 1\n",
      "LeNet-5 global sparsity = 20.00%\n"
     ]
    },
    {
     "data": {
      "text/plain": [
       "<All keys matched successfully>"
      ]
     },
     "execution_count": 51,
     "metadata": {},
     "output_type": "execute_result"
    }
   ],
   "source": [
    "from pathlib import Path\n",
    "\n",
    "prune_rates_global = [0.2, 0.3, 0.4, 0.5, 0.6]\n",
    "\n",
    "MODEL_PATH = Path(\"models\")\n",
    "MODEL_PATH.mkdir(parents=True, exist_ok=True)\n",
    "\n",
    "MODEL_NAME = \"lenet_fmnist_global.pth\"\n",
    "MODEL_SAVE_PATH = MODEL_PATH / MODEL_NAME\n",
    "model_global = LeNet().to(device)\n",
    "\n",
    "parameters_to_prune = (\n",
    "    (model_global.conv_1, 'weight'),\n",
    "    (model_global.conv_2, 'weight'),\n",
    "    (model_global.fc_1, 'weight'),\n",
    "    (model_global.fc_2, 'weight'),\n",
    "    (model_global.fc_3, 'weight')\n",
    ")\n",
    "\n",
    "for iter_prune_round in range(1):\n",
    "    print(f\"\\n\\nIterative Global pruning round = {iter_prune_round + 1}\")\n",
    "    \n",
    "    # Prune layer-wise in a structured manner-\n",
    "    prune.global_unstructured(\n",
    "        parameters_to_prune,\n",
    "        pruning_method = prune.L1Unstructured,\n",
    "        amount = prune_rates_global[iter_prune_round]\n",
    "        \n",
    "    )\n",
    "\n",
    "    # Print current global sparsity level-\n",
    "    print(f\"LeNet-5 global sparsity = {compute_sparsity(model_global):.2f}%\")\n",
    "\n",
    "        \n",
    "model_global.load_state_dict(torch.load(MODEL_SAVE_PATH))"
   ]
  },
  {
   "cell_type": "code",
   "execution_count": 55,
   "id": "bbd3ac2c-6a70-4775-9943-bac3d8f2aa17",
   "metadata": {},
   "outputs": [
    {
     "name": "stdout",
     "output_type": "stream",
     "text": [
      "Test accuracy for LeNet Pruned Global is: 89.47%\n"
     ]
    }
   ],
   "source": [
    "# Model to GPU and eval mode.\n",
    "model_global.to(device)\n",
    "model_global.eval()\n",
    "\n",
    "# Check test set performance.\n",
    "predictions, labels = evaluate_model(model_global, test_dataloader, device)\n",
    "test_acc = np.mean(np.argmax(predictions.cpu().numpy(), axis=1) == labels.cpu().numpy())        \n",
    "print(f\"Test accuracy for LeNet Pruned Global is: {(100 * test_acc):.2f}%\")"
   ]
  },
  {
   "cell_type": "code",
   "execution_count": 56,
   "id": "fd9748e2-f266-4457-95ca-5c124d82c3d4",
   "metadata": {},
   "outputs": [],
   "source": [
    "x_batch, y_batch = next(iter(test_dataloader))\n",
    "x_batch, y_batch = x_batch.to(device), y_batch.to(device)"
   ]
  },
  {
   "cell_type": "code",
   "execution_count": 57,
   "id": "4c891d1e-cc17-46a0-9997-54b3fb7750d1",
   "metadata": {},
   "outputs": [],
   "source": [
    "a_batch_integrad_global = IntegratedGradients(model_global).attribute(inputs=x_batch, target=y_batch, baselines=torch.zeros_like(x_batch)).sum(axis=1).cpu().numpy()\n",
    "a_batch_integrad_global[a_batch_integrad_global<0] = 0\n",
    "a_batch_saliency_global =Saliency(model_global).attribute(inputs=x_batch, target=y_batch, abs=True).sum(axis=1).cpu().numpy()\n",
    "saliency = Saliency(model_global)\n",
    "a_batch_smoothgrad_global = NoiseTunnel(saliency).attribute(inputs = x_batch, target = y_batch, nt_type ='smoothgrad', nt_samples = 50, stdevs=0.15).sum(axis=1).cpu().numpy()\n",
    "\n",
    "x_batch, y_batch = x_batch.cpu().numpy(), y_batch.cpu().numpy()"
   ]
  },
  {
   "cell_type": "code",
   "execution_count": 58,
   "id": "c389d7fb-2d26-456b-a3b9-f45500686ae8",
   "metadata": {},
   "outputs": [
    {
     "data": {
      "image/png": "[encoded data removed]",
      "text/plain": [
       "<Figure size 800x200 with 4 Axes>"
      ]
     },
     "metadata": {},
     "output_type": "display_data"
    }
   ],
   "source": [
    "nr_images = 2\n",
    "fig, axes = plt.subplots(nrows=1, ncols=4, figsize=(nr_images*4., int(nr_images)))\n",
    "\n",
    "#plot normal\n",
    "axes[0].imshow(np.reshape(x_batch[index], (28,28)), cmap=\"grey\")\n",
    "axes[0].title.set_text(f\"Normal Image {y_batch[index].item()}\")\n",
    "axes[0].axis(\"off\")\n",
    "axes[1].imshow(a_batch_saliency_global[index], cmap=\"hot\")\n",
    "axes[1].title.set_text(f\"Vanilla Gradient\")\n",
    "axes[1].axis(\"off\")  \n",
    "axes[2].imshow(a_batch_integrad_global[index], cmap=\"hot\")\n",
    "axes[2].title.set_text(f\"Integrated Gradients\")\n",
    "axes[2].axis(\"off\")\n",
    "axes[3].imshow(a_batch_smoothgrad_global[index], cmap=\"hot\")\n",
    "axes[3].title.set_text(f\"SmoothGrad\")\n",
    "axes[3].axis(\"off\")\n",
    "plt.tight_layout()\n",
    "plt.savefig('Explanations/lenet_global.png')\n",
    "\n",
    "plt.show()"
   ]
  },
  {
   "cell_type": "markdown",
   "id": "96b1ee61-e0e7-4139-9709-c9261cbb1aad",
   "metadata": {},
   "source": [
    "# Pruning Layered Strutured LeNet"
   ]
  },
  {
   "cell_type": "code",
   "execution_count": 64,
   "id": "3eb0b8bd-9e51-406d-a921-5863809cda7a",
   "metadata": {},
   "outputs": [],
   "source": [
    "def count_params(model):\n",
    "    total_parameters = 0\n",
    "    for layer, param in model.named_parameters():\n",
    "        total_parameters += torch.count_nonzero(param.data)\n",
    "    return total_parameters"
   ]
  },
  {
   "cell_type": "code",
   "execution_count": 66,
   "id": "648cf6cc-3ad4-4e80-bb16-9f60da193f2e",
   "metadata": {},
   "outputs": [
    {
     "name": "stdout",
     "output_type": "stream",
     "text": [
      "LeNet-5 global sparsity = 10.05%\n"
     ]
    },
    {
     "data": {
      "text/plain": [
       "<All keys matched successfully>"
      ]
     },
     "execution_count": 66,
     "metadata": {},
     "output_type": "execute_result"
    }
   ],
   "source": [
    "from pathlib import Path\n",
    "\n",
    "MODEL_PATH = Path(\"models\")\n",
    "MODEL_PATH.mkdir(parents=True, exist_ok=True)\n",
    "\n",
    "MODEL_NAME = \"lenet_fmnist_structured.pth\"\n",
    "MODEL_SAVE_PATH = MODEL_PATH / MODEL_NAME\n",
    "model_structured = LeNet().to(device)\n",
    "\n",
    "# # Prune layer-wise in a structured manner-\n",
    "prune.ln_structured(model_structured.conv_1, name = \"weight\", amount = 0.1, n = 2, dim = 0)\n",
    "prune.ln_structured(model_structured.conv_2, name = \"weight\", amount = 0.1, n = 2, dim = 0)\n",
    "prune.ln_structured(model_structured.fc_1, name = \"weight\", amount = 0.1, n = 2, dim = 0)\n",
    "prune.ln_structured(model_structured.fc_2, name = \"weight\", amount = 0.1, n = 2, dim = 0)\n",
    "prune.ln_structured(model_structured.fc_3, name = \"weight\", amount = 0.1, n = 2, dim = 0)\n",
    "\n",
    "# Print current global sparsity level-\n",
    "print(f\"LeNet-5 global sparsity = {compute_sparsity(model_structured):.2f}%\")\n",
    "\n",
    "model_structured.load_state_dict(torch.load(MODEL_SAVE_PATH))\n"
   ]
  },
  {
   "cell_type": "code",
   "execution_count": 68,
   "id": "07d92b95-085d-421a-bd99-7e8413496fa7",
   "metadata": {},
   "outputs": [
    {
     "name": "stdout",
     "output_type": "stream",
     "text": [
      "Pruned LeNet-5 model has 44426 trainable parameters\n"
     ]
    }
   ],
   "source": [
    "new_params = count_params(model_structured)\n",
    "print(f\"Pruned LeNet-5 model has {new_params} trainable parameters\")"
   ]
  },
  {
   "cell_type": "code",
   "execution_count": 70,
   "id": "d2d6f61d-e907-443b-abbc-3bed2d45a2c9",
   "metadata": {},
   "outputs": [
    {
     "name": "stdout",
     "output_type": "stream",
     "text": [
      "Test accuracy for LeNet Pruned Layered Structure is: 85.99%\n"
     ]
    }
   ],
   "source": [
    "# Model to GPU and eval mode.\n",
    "model_structured.to(device)\n",
    "model_structured.eval()\n",
    "\n",
    "# Check test set performance.\n",
    "predictions, labels = evaluate_model(model_structured, test_dataloader, device)\n",
    "test_acc = np.mean(np.argmax(predictions.cpu().numpy(), axis=1) == labels.cpu().numpy())        \n",
    "print(f\"Test accuracy for LeNet Pruned Layered Structure is: {(100 * test_acc):.2f}%\")"
   ]
  },
  {
   "cell_type": "code",
   "execution_count": 71,
   "id": "e8cec91e-f201-4207-9c14-52a0a9d9536f",
   "metadata": {},
   "outputs": [],
   "source": [
    "x_batch, y_batch = next(iter(test_dataloader))\n",
    "x_batch, y_batch = x_batch.to(device), y_batch.to(device)"
   ]
  },
  {
   "cell_type": "code",
   "execution_count": 72,
   "id": "1ba560d5-65c3-47e4-9dad-f94d47a4c3ce",
   "metadata": {},
   "outputs": [],
   "source": [
    "a_batch_integrad_structured = IntegratedGradients(model_structured).attribute(inputs=x_batch, target=y_batch, baselines=torch.zeros_like(x_batch)).sum(axis=1).cpu().numpy()\n",
    "a_batch_integrad_structured[a_batch_integrad_structured<0] = 0\n",
    "a_batch_saliency_structured = Saliency(model_structured).attribute(inputs=x_batch, target=y_batch, abs=True).sum(axis=1).cpu().numpy()\n",
    "saliency = Saliency(model_structured)\n",
    "a_batch_smoothgrad_structured = NoiseTunnel(saliency).attribute(inputs = x_batch, target = y_batch, nt_type ='smoothgrad', nt_samples = 50, stdevs=0.15).sum(axis=1).cpu().numpy()\n",
    "\n",
    "x_batch, y_batch = x_batch.cpu().numpy(), y_batch.cpu().numpy()"
   ]
  },
  {
   "cell_type": "code",
   "execution_count": 76,
   "id": "b5ae1663-959c-495a-b7b3-46f5c94c6982",
   "metadata": {},
   "outputs": [
    {
     "data": {
      "image/png": "[encoded data removed]",
      "text/plain": [
       "<Figure size 800x200 with 4 Axes>"
      ]
     },
     "metadata": {},
     "output_type": "display_data"
    }
   ],
   "source": [
    "nr_images = 2\n",
    "fig, axes = plt.subplots(nrows=1, ncols=4, figsize=(nr_images*4., int(nr_images)))\n",
    "\n",
    "#plot normal\n",
    "axes[0].imshow(np.reshape(x_batch[index], (28,28)), cmap=\"grey\")\n",
    "axes[0].title.set_text(f\"Normal Image {y_batch[index].item()}\")\n",
    "axes[0].axis(\"off\")\n",
    "axes[1].imshow(a_batch_saliency_structured[index], cmap=\"hot\")\n",
    "axes[1].title.set_text(f\"Vanilla Gradient\")\n",
    "axes[1].axis(\"off\")  \n",
    "axes[2].imshow(a_batch_integrad_structured[index], cmap=\"hot\")\n",
    "axes[2].title.set_text(f\"Integrated Gradients\")\n",
    "axes[2].axis(\"off\")\n",
    "axes[3].imshow(a_batch_smoothgrad_structured[index], cmap=\"hot\")\n",
    "axes[3].title.set_text(f\"SmoothGrad\")\n",
    "axes[3].axis(\"off\")\n",
    "plt.tight_layout()\n",
    "plt.savefig('Explanations/lenet_layered_structure.png')\n",
    "\n",
    "plt.show()"
   ]
  },
  {
   "cell_type": "markdown",
   "id": "59895a3d-8b99-4575-8fe4-4ffd8190c76c",
   "metadata": {},
   "source": [
    "# Quantitative Metrics"
   ]
  },
  {
   "cell_type": "code",
   "execution_count": 79,
   "id": "2876ac11-2527-41ac-814d-2f91376b555c",
   "metadata": {},
   "outputs": [],
   "source": [
    "def explainer_wrapper(**kwargs):\n",
    "    if kwargs[\"method\"] == \"SmoothGrad\":\n",
    "        return smoothgrad_explainer(**kwargs)\n",
    "    else:\n",
    "        return ValueError(\"Explanation function doesnt exist\")\n",
    "\n",
    "def smoothgrad_explainer(model, inputs, targets, abs=True, normalise=True, stdevs=0.15, nt_samples=10, *args, **kwargs):\n",
    "    std = kwargs.get(\"std\", 0.15)  # Standard deviation for input noise\n",
    "    n = kwargs.get(\"n\", 10)  # Number of noisy samples\n",
    "    clip = kwargs.get(\"clip\", False)\n",
    "\n",
    "    model.to(kwargs.get(\"device\", None))\n",
    "    model.eval()\n",
    "\n",
    "    if not isinstance(inputs, torch.Tensor):\n",
    "        inputs = (\n",
    "            torch.Tensor(inputs).reshape(-1,kwargs.get(\"nr_channels\", 1),kwargs.get(\"img_size\", 28),kwargs.get(\"img_size\", 28),).to(kwargs.get(\"device\", None))\n",
    "        )\n",
    "    \n",
    "    if not isinstance(targets, torch.Tensor):\n",
    "        targets = torch.as_tensor(targets).long().to(kwargs.get(\"device\", None))\n",
    "\n",
    "    assert (len(np.shape(inputs)) == 4), \"Inputs should be shaped (nr_samples, nr_channels, img_size, img_size\"\n",
    "\n",
    "    if inputs.shape[0] > 1:\n",
    "        explanation = torch.zeros(\n",
    "            (\n",
    "                n,\n",
    "                inputs.shape[0],\n",
    "                kwargs.get(\"img_size\", 28),\n",
    "                kwargs.get(\"img_size\", 28),\n",
    "            )\n",
    "        )\n",
    "    else:\n",
    "        explanation = torch.zeros(\n",
    "            (n, kwargs.get(\"img_size\", 28), kwargs.get(\"img_size\", 28))\n",
    "        )\n",
    "    saliency = Saliency(model)\n",
    "    \n",
    "    explanation = (\n",
    "        NoiseTunnel(saliency)\n",
    "        .attribute(inputs=inputs, target=targets, nt_type=\"smoothgrad\", stdevs = stdevs, nt_samples= 10)\n",
    "        .sum(axis=1)\n",
    "        .reshape(-1, kwargs.get(\"img_size\", 28), kwargs.get(\"img_size\", 28))\n",
    "        .cpu()\n",
    "        .data\n",
    "    )\n",
    "\n",
    "    # explanation = explanation.mean(axis=0)\n",
    "    gc.collect()\n",
    "    torch.cuda.empty_cache()\n",
    "\n",
    "    explanation = explanation.numpy()\n",
    "    # Normalization (if required)\n",
    "    if normalise:\n",
    "        explanation = quantus.normalise_func.normalise_by_negative(explanation)\n",
    "\n",
    "    # Convert the result to NumPy if it is still a PyTorch tensor\n",
    "    if isinstance(explanation, torch.Tensor):\n",
    "        if explanation.requires_grad:\n",
    "            return explanation.cpu().detach().numpy()\n",
    "        return explanation.cpu().numpy()\n",
    "\n",
    "    return explanation\n",
    "\n",
    "\n",
    "# # # SmoothGrad\n",
    "# gc.collect()\n",
    "# torch.cuda.empty_cache()\n",
    "# a_batch_smoothgrad_custom = smoothgrad_explainer(model=model.to(device), \n",
    "#                                         inputs=x_batch, \n",
    "#                                         targets=y_batch,\n",
    "#                                         **{ \"device\": device})\n",
    "\n",
    "# gc.collect()\n",
    "# torch.cuda.empty_cache()\n",
    "# a_batch_smoothgrad_adv_custom = smoothgrad_explainer(model=model_adv.to(device), \n",
    "#                                         inputs=x_batch, \n",
    "#                                         targets=y_batch,\n",
    "#                                         **{ \"device\": device})\n"
   ]
  },
  {
   "cell_type": "code",
   "execution_count": 81,
   "id": "c62eebed-6e21-4730-90dd-cbd452803db8",
   "metadata": {},
   "outputs": [],
   "source": [
    "xai_method=[\"SmoothGrad\"]"
   ]
  },
  {
   "cell_type": "code",
   "execution_count": 128,
   "id": "4ecc3c6f-0b77-491c-908b-5e5b7832f44b",
   "metadata": {},
   "outputs": [],
   "source": [
    "def filter_and_compute_road_saliency_ig(model, test_loader, method, device):\n",
    "\n",
    "    faithfulness = quantus.ROAD(\n",
    "    noise=0.01,\n",
    "    perturb_func=quantus.perturb_func.noisy_linear_imputation,\n",
    "    percentages=list(range(1, 100, 5)),\n",
    "    display_progressbar=False)\n",
    "\n",
    "\n",
    "    score_faithfulness = []\n",
    "\n",
    "    for i, (x_batch, y_batch) in enumerate(test_loader):\n",
    "        x_batch, y_batch = x_batch.to(device), y_batch.to(device)\n",
    "        #print(len(x_batch))\n",
    "        outputs = model(x_batch)\n",
    "        predictions = torch.argmax(outputs, dim=1)\n",
    "        correct_mask = predictions == y_batch\n",
    "        #print(correct_mask)\n",
    "        x_batch = x_batch[correct_mask]\n",
    "        y_batch = y_batch[correct_mask]\n",
    "        #print(len(x_batch))\n",
    "        x_batch, y_batch = x_batch.cpu().numpy(), y_batch.cpu().numpy()\n",
    "        scores = faithfulness(\n",
    "                model= model,\n",
    "                x_batch=x_batch,\n",
    "                y_batch=y_batch,\n",
    "                a_batch=None,\n",
    "                s_batch=None,\n",
    "                device=device,\n",
    "                explain_func= quantus.explain,\n",
    "                explain_func_kwargs = {\"method\": method, \"softmax\": False})\n",
    "        #print(scores)\n",
    "        \n",
    "        score_faithfulness.append(scores)\n",
    "        if len(score_faithfulness) > 1000:\n",
    "            break\n",
    "    average_values = {}\n",
    "    for d in score_faithfulness:\n",
    "        for key, value in d.items():\n",
    "            if key in average_values:\n",
    "                average_values[key] += value\n",
    "            else:\n",
    "                average_values[key] = value\n",
    "\n",
    "    # Divide the sum by the number of dictionaries to get the average\n",
    "    num_dicts = len(score_faithfulness)\n",
    "    for key in average_values.keys():\n",
    "        average_values[key] /= num_dicts\n",
    "    return average_values\n"
   ]
  },
  {
   "cell_type": "code",
   "execution_count": 130,
   "id": "ae1ff890-4523-4677-b6b7-a7db79cb617d",
   "metadata": {},
   "outputs": [],
   "source": [
    "result_normal = filter_and_compute_road_saliency_ig(model, test_dataloader, \"Saliency\", device)"
   ]
  },
  {
   "cell_type": "code",
   "execution_count": 131,
   "id": "b397d085-71de-45fd-a2a0-b688aced6ad0",
   "metadata": {},
   "outputs": [],
   "source": [
    "result_adv = filter_and_compute_road_saliency_ig(model_adv, test_dataloader,\"Saliency\", device)"
   ]
  },
  {
   "cell_type": "code",
   "execution_count": 132,
   "id": "5a44d58f-281e-41e1-aeb3-75a76c9ca834",
   "metadata": {},
   "outputs": [],
   "source": [
    "result_l1 = filter_and_compute_road_saliency_ig(model_l1_unstructured, test_dataloader,\"Saliency\", device)"
   ]
  },
  {
   "cell_type": "code",
   "execution_count": 133,
   "id": "4c12794a-8ddb-4578-ba26-ca202549354e",
   "metadata": {},
   "outputs": [],
   "source": [
    "result_global = filter_and_compute_road_saliency_ig(model_global, test_dataloader,\"Saliency\", device)"
   ]
  },
  {
   "cell_type": "code",
   "execution_count": 134,
   "id": "2ed3f215-5ea0-436a-990b-ba73c0d2f92e",
   "metadata": {},
   "outputs": [],
   "source": [
    "result_structured = filter_and_compute_road_saliency_ig(model_structured, test_dataloader,\"Saliency\", device)"
   ]
  },
  {
   "cell_type": "code",
   "execution_count": 145,
   "id": "f421c14a-9cda-4682-8219-68560e5d5455",
   "metadata": {},
   "outputs": [
    {
     "data": {
      "image/png": "[encoded data removed]",
      "text/plain": [
       "<Figure size 400x300 with 1 Axes>"
      ]
     },
     "metadata": {},
     "output_type": "display_data"
    }
   ],
   "source": [
    "import matplotlib.pyplot as plt\n",
    "import pandas as pd\n",
    "\n",
    "# Plot setup\n",
    "fig, ax = plt.subplots(figsize=(4, 3))\n",
    "\n",
    "ax.plot(list(result_normal.keys()),list(result_normal.values()), label='N', linestyle='-', marker='o', linewidth=2)\n",
    "ax.plot(list(result_normal.keys()), list(result_adv.values()), label='A', linestyle='--', marker='s', linewidth=2)\n",
    "ax.plot(list(result_normal.keys()), list(result_l1.values()), label='L1', linestyle='--', marker='^', linewidth=2)\n",
    "ax.plot(list(result_normal.keys()), list(result_global.values()), label='G', linestyle='--', marker='v', linewidth=2)\n",
    "ax.plot(list(result_normal.keys()), list(result_structured.values()), label='S', linestyle='--', marker='D', linewidth=2)\n",
    "\n",
    "# Customize the plot\n",
    "ax.set_xlabel('% of Features Removed', fontsize=10)\n",
    "ax.set_ylabel('Accuracy', fontsize=10)\n",
    "ax.legend(fontsize=10)\n",
    "\n",
    "# Grid and ticks\n",
    "ax.grid(True, which='both', linestyle='--', linewidth=0.5)\n",
    "ax.tick_params(axis='both', which='major', labelsize=10)\n",
    "\n",
    "plt.savefig(\"roadplots/LeNet_FMNIST_SALIENCY_ROAD.pdf\", format=\"pdf\", dpi=300, bbox_inches=\"tight\")\n",
    "plt.show()"
   ]
  },
  {
   "cell_type": "code",
   "execution_count": 137,
   "id": "71434ccc-bae1-438b-b940-b30a04756e25",
   "metadata": {},
   "outputs": [],
   "source": [
    "result_normal_ig = filter_and_compute_road_saliency_ig(model, test_dataloader,\"IntegratedGradients\", device)"
   ]
  },
  {
   "cell_type": "code",
   "execution_count": 138,
   "id": "b9ba9857-b0bc-4fb8-87f5-af99e43c6dc0",
   "metadata": {},
   "outputs": [],
   "source": [
    "result_adv_ig = filter_and_compute_road_saliency_ig(model_adv, test_dataloader,\"IntegratedGradients\", device)"
   ]
  },
  {
   "cell_type": "code",
   "execution_count": 139,
   "id": "f9b8386c-9ff3-4170-b9ab-50afa053ede3",
   "metadata": {},
   "outputs": [],
   "source": [
    "result_l1_ig = filter_and_compute_road_saliency_ig(model_l1_unstructured, test_dataloader,\"IntegratedGradients\", device)"
   ]
  },
  {
   "cell_type": "code",
   "execution_count": 140,
   "id": "aa4c3c59-9379-4e5e-8648-a8ae9dbf6897",
   "metadata": {},
   "outputs": [],
   "source": [
    "result_global_ig = filter_and_compute_road_saliency_ig(model_global, test_dataloader,\"IntegratedGradients\", device)"
   ]
  },
  {
   "cell_type": "code",
   "execution_count": 141,
   "id": "946a8f03-2c55-44ba-b905-9692d8bc7e13",
   "metadata": {},
   "outputs": [],
   "source": [
    "result_structured_ig = filter_and_compute_road_saliency_ig(model_structured, test_dataloader,\"IntegratedGradients\", device)"
   ]
  },
  {
   "cell_type": "code",
   "execution_count": 143,
   "id": "240141be-2a62-4d7f-821a-9868115e8865",
   "metadata": {},
   "outputs": [
    {
     "data": {
      "image/png": "[encoded data removed]",
      "text/plain": [
       "<Figure size 400x300 with 1 Axes>"
      ]
     },
     "metadata": {},
     "output_type": "display_data"
    }
   ],
   "source": [
    "import matplotlib.pyplot as plt\n",
    "import pandas as pd\n",
    "\n",
    "# Plot setup\n",
    "fig, ax = plt.subplots(figsize=(4, 3))\n",
    "\n",
    "ax.plot(list(result_normal_ig.keys()),list(result_normal_ig.values()), label='N', linestyle='-', marker='o', linewidth=2)\n",
    "ax.plot(list(result_normal_ig.keys()), list(result_adv_ig.values()), label='A', linestyle='--', marker='s', linewidth=2)\n",
    "ax.plot(list(result_normal_ig.keys()), list(result_l1_ig.values()), label='L1', linestyle='--', marker='^', linewidth=2)\n",
    "ax.plot(list(result_normal_ig.keys()), list(result_global_ig.values()), label='G', linestyle='--', marker='v', linewidth=2)\n",
    "ax.plot(list(result_normal_ig.keys()), list(result_structured_ig.values()), label='S', linestyle='--', marker='D', linewidth=2)\n",
    "\n",
    "# Customize the plot\n",
    "ax.set_xlabel('% of Features Removed', fontsize=10)\n",
    "ax.set_ylabel('Accuracy', fontsize=10)\n",
    "ax.legend(fontsize=10)\n",
    "\n",
    "# Grid and ticks\n",
    "ax.grid(True, which='both', linestyle='--', linewidth=0.5)\n",
    "ax.tick_params(axis='both', which='major', labelsize=10)\n",
    "\n",
    "plt.savefig(\"roadplots/LeNet_FMNIST_IG_ROAD.pdf\", format=\"pdf\", dpi=300, bbox_inches=\"tight\")\n",
    "plt.show()"
   ]
  },
  {
   "cell_type": "code",
   "execution_count": 54,
   "id": "7a01b732-02cb-40e8-ba15-4e4358b83c8e",
   "metadata": {},
   "outputs": [],
   "source": [
    "def filter_and_compute_road_smooth(model, test_loader, device):\n",
    "\n",
    "    faithfulness = quantus.ROAD(\n",
    "    noise=0.01,\n",
    "    perturb_func=quantus.perturb_func.noisy_linear_imputation,\n",
    "    percentages=list(range(1, 100, 5)),\n",
    "    display_progressbar=False)\n",
    "\n",
    "\n",
    "    score_faithfulness = []\n",
    "\n",
    "    for i, (x_batch, y_batch) in enumerate(test_loader):\n",
    "        x_batch, y_batch = x_batch.to(device), y_batch.to(device)\n",
    "        #print(len(x_batch))\n",
    "        outputs = model(x_batch)\n",
    "        predictions = torch.argmax(outputs, dim=1)\n",
    "        correct_mask = predictions == y_batch\n",
    "        #print(correct_mask)\n",
    "        x_batch = x_batch[correct_mask]\n",
    "        y_batch = y_batch[correct_mask]\n",
    "        #print(len(x_batch))\n",
    "        x_batch, y_batch = x_batch.cpu().numpy(), y_batch.cpu().numpy()\n",
    "        scores = faithfulness(\n",
    "                model= model,\n",
    "                x_batch=x_batch,\n",
    "                y_batch=y_batch,\n",
    "                a_batch=None,\n",
    "                s_batch=None,\n",
    "                device=device,\n",
    "                explain_func= explainer_wrapper,\n",
    "                explain_func_kwargs = {\n",
    "                    \"method\": xai_method[0],\n",
    "                    \"posterior_mean\": copy.deepcopy(\n",
    "                        model\n",
    "                        .to(device)\n",
    "                        .state_dict()\n",
    "                    ),\n",
    "                    \"mean\": 1.0,\n",
    "                    \"std\": 0.5,\n",
    "                    \"n\": 25,\n",
    "                    \"device\": device,\n",
    "                },\n",
    "        )\n",
    "        #print(scores)\n",
    "        \n",
    "        score_faithfulness.append(scores)\n",
    "        if len(score_faithfulness) > 1000:\n",
    "            break\n",
    "    average_values = {}\n",
    "    for d in score_faithfulness:\n",
    "        for key, value in d.items():\n",
    "            if key in average_values:\n",
    "                average_values[key] += value\n",
    "            else:\n",
    "                average_values[key] = value\n",
    "\n",
    "    # Divide the sum by the number of dictionaries to get the average\n",
    "    num_dicts = len(score_faithfulness)\n",
    "    for key in average_values.keys():\n",
    "        average_values[key] /= num_dicts\n",
    "\n",
    "    # Display the average values\n",
    "    # print(\"Average Values:\")\n",
    "    # for key, value in average_values.items():\n",
    "    #     print(f\"{key}: {value}\")\n",
    "    return average_values"
   ]
  },
  {
   "cell_type": "code",
   "execution_count": 55,
   "id": "8355d70b-ca23-4d76-824b-2d24f6b445cc",
   "metadata": {},
   "outputs": [],
   "source": [
    "result_normal_smooth = filter_and_compute_road_smooth(model, test_dataloader, device)"
   ]
  },
  {
   "cell_type": "code",
   "execution_count": 56,
   "id": "581b3816-3ad8-463a-9944-ab9a46e39a73",
   "metadata": {},
   "outputs": [],
   "source": [
    "result_adv_smooth = filter_and_compute_road_smooth(model_adv, test_dataloader, device)"
   ]
  },
  {
   "cell_type": "code",
   "execution_count": 57,
   "id": "a9ed964a-672e-413b-b2c7-35a1c89e2b9a",
   "metadata": {},
   "outputs": [],
   "source": [
    "result_l1_smooth = filter_and_compute_road_smooth(model_l1_unstructured, test_dataloader, device)"
   ]
  },
  {
   "cell_type": "code",
   "execution_count": 58,
   "id": "dc8a75db-4323-44f6-82b1-c11db54b1bc7",
   "metadata": {},
   "outputs": [],
   "source": [
    "result_global_smooth = filter_and_compute_road_smooth(model_global, test_dataloader, device)"
   ]
  },
  {
   "cell_type": "code",
   "execution_count": 59,
   "id": "a13e8fa8-1f4d-4ae5-b27d-7f48fc62c57c",
   "metadata": {},
   "outputs": [],
   "source": [
    "result_structured_smooth = filter_and_compute_road_smooth(model_structured, test_dataloader, device)"
   ]
  },
  {
   "cell_type": "code",
   "execution_count": 60,
   "id": "a05f4308-e287-43b7-9d9a-d19d3309ddfd",
   "metadata": {},
   "outputs": [
    {
     "data": {
      "image/png": "[encoded data removed]",
      "text/plain": [
       "<Figure size 400x300 with 1 Axes>"
      ]
     },
     "metadata": {},
     "output_type": "display_data"
    }
   ],
   "source": [
    "import matplotlib.pyplot as plt\n",
    "import pandas as pd\n",
    "\n",
    "# Plot setup\n",
    "fig, ax = plt.subplots(figsize=(4, 3))\n",
    "\n",
    "ax.plot(list(result_normal_smooth.keys()),list(result_normal_smooth.values()), label='N', linestyle='-', marker='o', linewidth=2)\n",
    "ax.plot(list(result_normal_smooth.keys()), list(result_adv_smooth.values()), label='A', linestyle='--', marker='s', linewidth=2)\n",
    "ax.plot(list(result_normal_smooth.keys()), list(result_l1_smooth.values()), label='L1', linestyle='--', marker='^', linewidth=2)\n",
    "ax.plot(list(result_normal_smooth.keys()), list(result_global_smooth.values()), label='G', linestyle='--', marker='v', linewidth=2)\n",
    "ax.plot(list(result_normal_smooth.keys()), list(result_structured_smooth.values()), label='S', linestyle='--', marker='D', linewidth=2)\n",
    "\n",
    "# Customize the plot\n",
    "ax.set_xlabel('% of Features Removed', fontsize=10)\n",
    "ax.set_ylabel('Accuracy', fontsize=10)\n",
    "ax.legend(fontsize=10)\n",
    "\n",
    "# Grid and ticks\n",
    "ax.grid(True, which='both', linestyle='--', linewidth=0.5)\n",
    "ax.tick_params(axis='both', which='major', labelsize=10)\n",
    "\n",
    "plt.savefig(\"LeNet_FMNIST_SMOOTH_ROAD.pdf\", format=\"pdf\", dpi=300, bbox_inches=\"tight\")\n",
    "plt.show()"
   ]
  },
  {
   "cell_type": "code",
   "execution_count": 147,
   "id": "c95878ea-b60e-4e72-a7c9-5f15831cfcb8",
   "metadata": {},
   "outputs": [],
   "source": [
    "import math\n",
    "def filter_and_compute_input_stability_saliency_ig(model, test_loader,method, device):\n",
    "    \n",
    "    metrics = quantus.RelativeInputStability(\n",
    "        nr_samples =5,\n",
    "        return_aggregate=False,\n",
    "         disable_warnings=True,\n",
    "    )\n",
    "    score = []\n",
    "    for i, (x_batch, y_batch) in enumerate(test_loader):\n",
    "        x_batch, y_batch = x_batch.to(device), y_batch.to(device)\n",
    "        outputs = model(x_batch)\n",
    "        predictions = torch.argmax(outputs, dim=1)\n",
    "        correct_mask = predictions == y_batch\n",
    "        x_batch = x_batch[correct_mask]\n",
    "        y_batch = y_batch[correct_mask]\n",
    "        x_batch, y_batch = x_batch.cpu().numpy(), y_batch.cpu().numpy()\n",
    "        scores = metrics(\n",
    "                model= model,\n",
    "                x_batch=x_batch,\n",
    "                y_batch=y_batch,\n",
    "                a_batch=None,\n",
    "                s_batch=None,\n",
    "                device=device,\n",
    "                explain_func= quantus.explain, \n",
    "                explain_func_kwargs = {\"method\": method, \"softmax\": False})\n",
    "        scores2 = np.nanmean(scores)\n",
    "        score.append(scores2)\n",
    "        if len(score) > 1000:\n",
    "            break \n",
    "    score2=score\n",
    "    return math.log(np.nanmean(score2), 10)"
   ]
  },
  {
   "cell_type": "code",
   "execution_count": 160,
   "id": "6dcc18d9-21de-4765-aa9f-5392a013a3d2",
   "metadata": {},
   "outputs": [
    {
     "name": "stdout",
     "output_type": "stream",
     "text": [
      "The relative input stability score is:  5.066674427418179\n"
     ]
    }
   ],
   "source": [
    "normal_input_saliency = filter_and_compute_input_stability_saliency_ig(model, test_dataloader,\"Saliency\", device)\n",
    "print(\"The relative input stability score is: \", normal_input_saliency)"
   ]
  },
  {
   "cell_type": "code",
   "execution_count": 161,
   "id": "c0eaf27b-ce78-41b6-bdf1-f6a4e6c47d0b",
   "metadata": {},
   "outputs": [
    {
     "name": "stdout",
     "output_type": "stream",
     "text": [
      "The relative input stability score is:  4.225695502027566\n"
     ]
    }
   ],
   "source": [
    "adversarial_input_saliency = filter_and_compute_input_stability_saliency_ig(model_adv, test_dataloader,\"Saliency\", device)\n",
    "print(\"The relative input stability score is: \", adversarial_input_saliency)"
   ]
  },
  {
   "cell_type": "code",
   "execution_count": 162,
   "id": "69a46071-970e-4963-943d-9a6752d9f16f",
   "metadata": {},
   "outputs": [
    {
     "name": "stdout",
     "output_type": "stream",
     "text": [
      "The relative input stability score is:  4.573288190834013\n"
     ]
    }
   ],
   "source": [
    "l1_input_saliency =  filter_and_compute_input_stability_saliency_ig(model_l1_unstructured, test_dataloader,\"Saliency\", device)\n",
    "print(\"The relative input stability score is: \", l1_input_saliency)"
   ]
  },
  {
   "cell_type": "code",
   "execution_count": 163,
   "id": "12b8f36e-825f-46d9-93de-d03204da664d",
   "metadata": {},
   "outputs": [
    {
     "name": "stdout",
     "output_type": "stream",
     "text": [
      "The relative input stability score is:  4.160707619092476\n"
     ]
    }
   ],
   "source": [
    "global_input_saliency = filter_and_compute_input_stability_saliency_ig(model_global, test_dataloader,\"Saliency\", device)\n",
    "print(\"The relative input stability score is: \", global_input_saliency)"
   ]
  },
  {
   "cell_type": "code",
   "execution_count": 164,
   "id": "ee50bcd4-f9ce-44cf-88c5-8174fc880fdf",
   "metadata": {},
   "outputs": [
    {
     "name": "stdout",
     "output_type": "stream",
     "text": [
      "The relative input stability score is:  5.016785834655409\n"
     ]
    }
   ],
   "source": [
    "layered_input_saliency = filter_and_compute_input_stability_saliency_ig(model_structured, test_dataloader,\"Saliency\", device)\n",
    "print(\"The relative input stability score is: \", layered_input_saliency)"
   ]
  },
  {
   "cell_type": "code",
   "execution_count": 165,
   "id": "d2a6e947-ce81-4f29-9fb5-8adca72e88d1",
   "metadata": {},
   "outputs": [
    {
     "name": "stdout",
     "output_type": "stream",
     "text": [
      "The relative input stability score is:  5.8216689413066165\n"
     ]
    }
   ],
   "source": [
    "normal_input_ig  = filter_and_compute_input_stability_saliency_ig(model, test_dataloader,\"IntegratedGradients\", device)\n",
    "print(\"The relative input stability score is: \", normal_input_ig)"
   ]
  },
  {
   "cell_type": "code",
   "execution_count": 166,
   "id": "fbc388bf-29a1-4787-8ed0-e807d8c5e4e3",
   "metadata": {},
   "outputs": [
    {
     "name": "stdout",
     "output_type": "stream",
     "text": [
      "The relative input stability score is:  4.316235615069907\n"
     ]
    }
   ],
   "source": [
    "adversarial_input_ig = filter_and_compute_input_stability_saliency_ig(model_adv, test_dataloader,\"IntegratedGradients\", device)\n",
    "print(\"The relative input stability score is: \", adversarial_input_ig)"
   ]
  },
  {
   "cell_type": "code",
   "execution_count": 167,
   "id": "5e28769b-495d-45fc-855a-ba90c8fd1e9d",
   "metadata": {},
   "outputs": [
    {
     "name": "stdout",
     "output_type": "stream",
     "text": [
      "The relative input stability score is:  3.758161243759267\n"
     ]
    }
   ],
   "source": [
    "l1_input_ig = filter_and_compute_input_stability_saliency_ig(model_l1_unstructured, test_dataloader,\"IntegratedGradients\", device)\n",
    "print(\"The relative input stability score is: \",l1_input_ig)"
   ]
  },
  {
   "cell_type": "code",
   "execution_count": 168,
   "id": "536cc18e-b439-4df9-9854-afaf7859d32c",
   "metadata": {},
   "outputs": [
    {
     "name": "stdout",
     "output_type": "stream",
     "text": [
      "The relative input stability score is:  0.5750025243673051\n"
     ]
    }
   ],
   "source": [
    "global_input_ig = filter_and_compute_input_stability_saliency_ig(model_global, test_dataloader,\"IntegratedGradients\", device)\n",
    "print(\"The relative input stability score is: \", global_input_ig)"
   ]
  },
  {
   "cell_type": "code",
   "execution_count": 169,
   "id": "7663227c-61bb-4f43-9a6c-0fe01e416ab4",
   "metadata": {},
   "outputs": [
    {
     "name": "stdout",
     "output_type": "stream",
     "text": [
      "The relative input stability score is:  6.18274377011576\n"
     ]
    }
   ],
   "source": [
    "layered_input_ig = filter_and_compute_input_stability_saliency_ig(model_structured, test_dataloader,\"IntegratedGradients\", device)\n",
    "print(\"The relative input stability score is: \", layered_input_ig)"
   ]
  },
  {
   "cell_type": "code",
   "execution_count": 180,
   "id": "da10eee5-6cba-472b-8e09-71f0a7e3b6b2",
   "metadata": {},
   "outputs": [],
   "source": [
    "import math\n",
    "def filter_and_compute_input_stability_smooth(model, test_loader, device):\n",
    "    \n",
    "    metrics = quantus.RelativeInputStability(\n",
    "        nr_samples =5,\n",
    "        return_aggregate=False,\n",
    "         disable_warnings=True,\n",
    "    )\n",
    "    score = []\n",
    "    for i, (x_batch, y_batch) in enumerate(test_loader):\n",
    "        x_batch, y_batch = x_batch.to(device), y_batch.to(device)\n",
    "        outputs = model(x_batch)\n",
    "        predictions = torch.argmax(outputs, dim=1)\n",
    "        correct_mask = predictions == y_batch\n",
    "        x_batch = x_batch[correct_mask]\n",
    "        y_batch = y_batch[correct_mask]\n",
    "        x_batch, y_batch = x_batch.cpu().numpy(), y_batch.cpu().numpy()\n",
    "        scores = metrics(\n",
    "                model= model,\n",
    "                x_batch=x_batch,\n",
    "                y_batch=y_batch,\n",
    "                a_batch=None,\n",
    "                s_batch=None,\n",
    "                device=device,\n",
    "                explain_func= explainer_wrapper,\n",
    "                explain_func_kwargs = {\n",
    "                    \"method\": xai_method[0],\n",
    "                    \"posterior_mean\": copy.deepcopy(\n",
    "                        model\n",
    "                        .to(device)\n",
    "                        .state_dict()\n",
    "                    ),\n",
    "                    \"mean\": 1.0,\n",
    "                    \"std\": 0.5,\n",
    "                    \"n\": 25,\n",
    "                    \"device\": device,\n",
    "                })\n",
    "        scores2 = np.nanmean(scores)\n",
    "        score.append(scores2)\n",
    "        if len(score) > 1000:\n",
    "            break \n",
    "    score2=score\n",
    "    return math.log(np.nanmean(score2), 10)"
   ]
  },
  {
   "cell_type": "code",
   "execution_count": 182,
   "id": "3ce0692d-680e-4d3e-8b97-22b504175c20",
   "metadata": {},
   "outputs": [
    {
     "name": "stdout",
     "output_type": "stream",
     "text": [
      "The relative input stability score is:  -2.2871881059388004\n"
     ]
    }
   ],
   "source": [
    "normal_input_smooth  =  filter_and_compute_input_stability_smooth(model, test_dataloader, device)\n",
    "print(\"The relative input stability score is: \",normal_input_smooth)"
   ]
  },
  {
   "cell_type": "code",
   "execution_count": 183,
   "id": "96d98040-4a00-4ec3-9112-28530c7f23b3",
   "metadata": {},
   "outputs": [
    {
     "name": "stdout",
     "output_type": "stream",
     "text": [
      "The relative input stability score is:  -1.7823288032721591\n"
     ]
    }
   ],
   "source": [
    "adversarial_input_smooth =  filter_and_compute_input_stability_smooth(model_adv, test_dataloader, device)\n",
    "print(\"The relative input stability score is: \",adversarial_input_smooth)"
   ]
  },
  {
   "cell_type": "code",
   "execution_count": 184,
   "id": "8208bbab-0447-45d4-a09b-943eae4a51f5",
   "metadata": {},
   "outputs": [
    {
     "name": "stdout",
     "output_type": "stream",
     "text": [
      "The relative input stability score is:  -2.0172942618764056\n"
     ]
    }
   ],
   "source": [
    "l1_input_smooth = filter_and_compute_input_stability_smooth(model_l1_unstructured, test_dataloader, device)\n",
    "print(\"The relative input stability score is: \", l1_input_smooth)"
   ]
  },
  {
   "cell_type": "code",
   "execution_count": 185,
   "id": "2e055814-2b09-4fe0-9634-8d71fb69fda2",
   "metadata": {},
   "outputs": [
    {
     "name": "stdout",
     "output_type": "stream",
     "text": [
      "The relative input stability score is:  -2.274979903117145\n"
     ]
    }
   ],
   "source": [
    "global_input_smooth = filter_and_compute_input_stability_smooth(model_global, test_dataloader, device)\n",
    "print(\"The relative input stability score is: \", global_input_smooth)"
   ]
  },
  {
   "cell_type": "code",
   "execution_count": 186,
   "id": "752b6d6f-4027-4cc0-9310-6442825ea236",
   "metadata": {},
   "outputs": [
    {
     "name": "stdout",
     "output_type": "stream",
     "text": [
      "The relative input stability score is:  0.7478442923747064\n"
     ]
    }
   ],
   "source": [
    "layered_input_smooth = filter_and_compute_input_stability_smooth(model_structured, test_dataloader, device)\n",
    "print(\"The relative input stability score is: \", layered_input_smooth)"
   ]
  },
  {
   "cell_type": "code",
   "execution_count": 200,
   "id": "04e973f8-de6c-42b4-9e13-f9ef3a5da59d",
   "metadata": {},
   "outputs": [
    {
     "data": {
      "text/html": [
       "<style type=\"text/css\">\n",
       "#T_a086f th {\n",
       "  border: 1px solid black;\n",
       "}\n",
       "#T_a086f  td {\n",
       "  border: 1px solid black;\n",
       "}\n",
       "</style>\n",
       "<table id=\"T_a086f\">\n",
       "  <thead>\n",
       "    <tr>\n",
       "      <th class=\"blank level0\" >&nbsp;</th>\n",
       "      <th id=\"T_a086f_level0_col0\" class=\"col_heading level0 col0\" >Vanilla Gradient</th>\n",
       "      <th id=\"T_a086f_level0_col1\" class=\"col_heading level0 col1\" >Integrated Gradients</th>\n",
       "      <th id=\"T_a086f_level0_col2\" class=\"col_heading level0 col2\" >SmoothGrad</th>\n",
       "    </tr>\n",
       "  </thead>\n",
       "  <tbody>\n",
       "    <tr>\n",
       "      <th id=\"T_a086f_level0_row0\" class=\"row_heading level0 row0\" >Normal Model</th>\n",
       "      <td id=\"T_a086f_row0_col0\" class=\"data row0 col0\" >5.066674</td>\n",
       "      <td id=\"T_a086f_row0_col1\" class=\"data row0 col1\" >5.821669</td>\n",
       "      <td id=\"T_a086f_row0_col2\" class=\"data row0 col2\" >-2.287188</td>\n",
       "    </tr>\n",
       "    <tr>\n",
       "      <th id=\"T_a086f_level0_row1\" class=\"row_heading level0 row1\" >Adversarial Model</th>\n",
       "      <td id=\"T_a086f_row1_col0\" class=\"data row1 col0\" >4.225696</td>\n",
       "      <td id=\"T_a086f_row1_col1\" class=\"data row1 col1\" >4.316236</td>\n",
       "      <td id=\"T_a086f_row1_col2\" class=\"data row1 col2\" >-1.782329</td>\n",
       "    </tr>\n",
       "    <tr>\n",
       "      <th id=\"T_a086f_level0_row2\" class=\"row_heading level0 row2\" >L1 Unstructured Pruned</th>\n",
       "      <td id=\"T_a086f_row2_col0\" class=\"data row2 col0\" >4.573288</td>\n",
       "      <td id=\"T_a086f_row2_col1\" class=\"data row2 col1\" >3.758161</td>\n",
       "      <td id=\"T_a086f_row2_col2\" class=\"data row2 col2\" >-2.017294</td>\n",
       "    </tr>\n",
       "    <tr>\n",
       "      <th id=\"T_a086f_level0_row3\" class=\"row_heading level0 row3\" >Global Pruned</th>\n",
       "      <td id=\"T_a086f_row3_col0\" class=\"data row3 col0\" >4.160708</td>\n",
       "      <td id=\"T_a086f_row3_col1\" class=\"data row3 col1\" >0.575003</td>\n",
       "      <td id=\"T_a086f_row3_col2\" class=\"data row3 col2\" >-2.274980</td>\n",
       "    </tr>\n",
       "    <tr>\n",
       "      <th id=\"T_a086f_level0_row4\" class=\"row_heading level0 row4\" >Layered Structured Pruned</th>\n",
       "      <td id=\"T_a086f_row4_col0\" class=\"data row4 col0\" >5.016786</td>\n",
       "      <td id=\"T_a086f_row4_col1\" class=\"data row4 col1\" >6.182744</td>\n",
       "      <td id=\"T_a086f_row4_col2\" class=\"data row4 col2\" >0.747844</td>\n",
       "    </tr>\n",
       "  </tbody>\n",
       "</table>\n"
      ],
      "text/plain": [
       "<pandas.io.formats.style.Styler at 0x1e8bed37da0>"
      ]
     },
     "execution_count": 200,
     "metadata": {},
     "output_type": "execute_result"
    }
   ],
   "source": [
    "vanilla_gradient = [normal_input_saliency, adversarial_input_saliency, l1_input_saliency, global_input_saliency, layered_input_saliency]\n",
    "integrated_gradients = [normal_input_ig, adversarial_input_ig, l1_input_ig, global_input_ig, layered_input_ig]\n",
    "smoothgrad = [normal_input_smooth, adversarial_input_smooth, l1_input_smooth, global_input_smooth, layered_input_smooth]\n",
    "\n",
    "row_labels = [\"Normal Model\", \"Adversarial Model\", \"L1 Unstructured Pruned\", \"Global Pruned\", \"Layered Structured Pruned\"]\n",
    "\n",
    "data = {\n",
    "    \"Vanilla Gradient\": vanilla_gradient,\n",
    "    \"Integrated Gradients\": integrated_gradients,\n",
    "    \"SmoothGrad\": smoothgrad\n",
    "}\n",
    "\n",
    "df = pd.DataFrame(data, index = row_labels)\n",
    "\n",
    "df.style.set_table_styles(\n",
    "    [{'selector': 'th, td', 'props': [('border', '1px solid black')]}]\n",
    ")"
   ]
  },
  {
   "cell_type": "code",
   "execution_count": 83,
   "id": "65648bc3-9655-4a4f-9bda-779736373182",
   "metadata": {},
   "outputs": [],
   "source": [
    "import math\n",
    "def filter_and_compute_output_stability_saliency_ig(model, test_loader,method,  device):\n",
    "    metrics = quantus.RelativeOutputStability(\n",
    "        nr_samples = 5,\n",
    "         return_aggregate=False,\n",
    "        disable_warnings=True,\n",
    "    )\n",
    "    score = []\n",
    "    \n",
    "    for i, (x_batch, y_batch) in enumerate(test_loader):\n",
    "        x_batch, y_batch = x_batch.to(device), y_batch.to(device)\n",
    "        outputs = model(x_batch)\n",
    "        predictions = torch.argmax(outputs, dim=1)\n",
    "        correct_mask = predictions == y_batch\n",
    "        x_batch = x_batch[correct_mask]\n",
    "        y_batch = y_batch[correct_mask]\n",
    "        x_batch, y_batch = x_batch.cpu().numpy(), y_batch.cpu().numpy()\n",
    "        scores = metrics(\n",
    "                model= model,\n",
    "                x_batch=x_batch,\n",
    "                y_batch=y_batch,\n",
    "                a_batch=None,\n",
    "                s_batch=None,\n",
    "                device=device,\n",
    "                explain_func= quantus.explain, \n",
    "                explain_func_kwargs = {\"method\": method, \"softmax\": False})\n",
    "        scores2 = np.nanmean(scores)\n",
    "        score.append(scores2)\n",
    "        if len(score) > 1000:\n",
    "            break \n",
    "    score2=score\n",
    "    return math.log(np.nanmean(score2), 10)"
   ]
  },
  {
   "cell_type": "code",
   "execution_count": 85,
   "id": "ddde41f0-749e-4eb9-8e4c-99706250982c",
   "metadata": {},
   "outputs": [
    {
     "name": "stdout",
     "output_type": "stream",
     "text": [
      "The relative output stability score is:  10.248388393518342\n"
     ]
    }
   ],
   "source": [
    "normal_output_saliency = filter_and_compute_output_stability_saliency_ig(model, test_dataloader,\"Saliency\", device)\n",
    "print(\"The relative output stability score is: \", normal_output_saliency)"
   ]
  },
  {
   "cell_type": "code",
   "execution_count": 86,
   "id": "1c71ae95-7895-401e-bcbd-b9bd9d97618a",
   "metadata": {},
   "outputs": [
    {
     "name": "stdout",
     "output_type": "stream",
     "text": [
      "The relative output stability score is:  10.491200766763761\n"
     ]
    }
   ],
   "source": [
    "adversarial_output_saliency = filter_and_compute_output_stability_saliency_ig(model_adv, test_dataloader,\"Saliency\", device)\n",
    "print(\"The relative output stability score is: \", adversarial_output_saliency)"
   ]
  },
  {
   "cell_type": "code",
   "execution_count": 87,
   "id": "d1c2efc3-1ef7-46c0-b8cb-38ef35487b51",
   "metadata": {},
   "outputs": [
    {
     "name": "stdout",
     "output_type": "stream",
     "text": [
      "The relative output stability score is:  9.54433600676578\n"
     ]
    }
   ],
   "source": [
    "l1_output_saliency = filter_and_compute_output_stability_saliency_ig(model_l1_unstructured, test_dataloader,\"Saliency\", device)\n",
    "print(\"The relative output stability score is: \", l1_output_saliency)"
   ]
  },
  {
   "cell_type": "code",
   "execution_count": 88,
   "id": "85650d3b-9a09-4f09-9720-9b5906840ea7",
   "metadata": {},
   "outputs": [
    {
     "name": "stdout",
     "output_type": "stream",
     "text": [
      "The relative output stability score is:  9.571688178130827\n"
     ]
    }
   ],
   "source": [
    "global_output_saliency = filter_and_compute_output_stability_saliency_ig(model_global, test_dataloader,\"Saliency\", device)\n",
    "print(\"The relative output stability score is: \", global_output_saliency)"
   ]
  },
  {
   "cell_type": "code",
   "execution_count": 89,
   "id": "3e056977-35ed-4ff7-b6b7-6fc0d5f70589",
   "metadata": {},
   "outputs": [
    {
     "name": "stdout",
     "output_type": "stream",
     "text": [
      "The relative output stability score is:  9.854424967881346\n"
     ]
    }
   ],
   "source": [
    "layered_output_saliency = filter_and_compute_output_stability_saliency_ig(model_structured, test_dataloader,\"Saliency\", device)\n",
    "print(\"The relative output stability score is: \",layered_output_saliency )"
   ]
  },
  {
   "cell_type": "code",
   "execution_count": 90,
   "id": "f158aff8-7275-49f0-889c-b8adb4c733dc",
   "metadata": {},
   "outputs": [
    {
     "name": "stdout",
     "output_type": "stream",
     "text": [
      "The relative output stability score is:  9.709989289948878\n"
     ]
    }
   ],
   "source": [
    "normal_output_ig = filter_and_compute_output_stability_saliency_ig(model, test_dataloader,\"IntegratedGradients\", device)\n",
    "print(\"The relative output stability score is: \", normal_output_ig)"
   ]
  },
  {
   "cell_type": "code",
   "execution_count": 91,
   "id": "3338edcb-129b-4ee1-85c8-94987f0f6a7b",
   "metadata": {},
   "outputs": [
    {
     "name": "stdout",
     "output_type": "stream",
     "text": [
      "The relative output stability score is:  10.638913475367135\n"
     ]
    }
   ],
   "source": [
    "adversarial_output_ig = filter_and_compute_output_stability_saliency_ig(model_adv, test_dataloader,\"IntegratedGradients\", device)\n",
    "print(\"The relative output stability score is: \", adversarial_output_ig)"
   ]
  },
  {
   "cell_type": "code",
   "execution_count": 92,
   "id": "5fb4690e-7631-4b0f-8f06-d2fc9339db2d",
   "metadata": {},
   "outputs": [
    {
     "name": "stdout",
     "output_type": "stream",
     "text": [
      "The relative output stability score is:  9.753132148435613\n"
     ]
    }
   ],
   "source": [
    "l1_output_ig =  filter_and_compute_output_stability_saliency_ig(model_l1_unstructured, test_dataloader,\"IntegratedGradients\", device)\n",
    "print(\"The relative output stability score is: \",l1_output_ig)"
   ]
  },
  {
   "cell_type": "code",
   "execution_count": 93,
   "id": "2a564f63-7140-4707-aaf9-2c8e2e0d625c",
   "metadata": {},
   "outputs": [
    {
     "name": "stdout",
     "output_type": "stream",
     "text": [
      "The relative output stability score is:  5.500438286338631\n"
     ]
    }
   ],
   "source": [
    "global_output_ig = filter_and_compute_output_stability_saliency_ig(model_global, test_dataloader,\"IntegratedGradients\", device)\n",
    "print(\"The relative output stability score is: \",global_output_ig )"
   ]
  },
  {
   "cell_type": "code",
   "execution_count": 94,
   "id": "50edd2c5-b3b9-42b8-9f5d-b91e702fc340",
   "metadata": {},
   "outputs": [
    {
     "name": "stdout",
     "output_type": "stream",
     "text": [
      "The relative output stability score is:  11.408792743159324\n"
     ]
    }
   ],
   "source": [
    "layered_output_ig = filter_and_compute_output_stability_saliency_ig(model_structured, test_dataloader,\"IntegratedGradients\", device)\n",
    "print(\"The relative output stability score is: \", layered_output_ig)"
   ]
  },
  {
   "cell_type": "code",
   "execution_count": 95,
   "id": "d612940d-1b99-49a9-a833-f650133fc13d",
   "metadata": {},
   "outputs": [],
   "source": [
    "def filter_and_compute_output_stability_smooth(model, test_loader, device):\n",
    "    metrics = quantus.RelativeOutputStability(\n",
    "        nr_samples = 5,\n",
    "         return_aggregate=False,\n",
    "        disable_warnings=True,\n",
    "    )\n",
    "    score = []\n",
    "    \n",
    "    for i, (x_batch, y_batch) in enumerate(test_loader):\n",
    "        x_batch, y_batch = x_batch.to(device), y_batch.to(device)\n",
    "        outputs = model(x_batch)\n",
    "        predictions = torch.argmax(outputs, dim=1)\n",
    "        correct_mask = predictions == y_batch\n",
    "        x_batch = x_batch[correct_mask]\n",
    "        y_batch = y_batch[correct_mask]\n",
    "        x_batch, y_batch = x_batch.cpu().numpy(), y_batch.cpu().numpy()\n",
    "        scores = metrics(\n",
    "                model= model,\n",
    "                x_batch=x_batch,\n",
    "                y_batch=y_batch,\n",
    "                a_batch=None,\n",
    "                s_batch=None,\n",
    "                device=device,\n",
    "                explain_func= explainer_wrapper,\n",
    "                explain_func_kwargs = {\n",
    "                    \"method\": xai_method[0],\n",
    "                    \"posterior_mean\": copy.deepcopy(\n",
    "                        model\n",
    "                        .to(device)\n",
    "                        .state_dict()\n",
    "                    ),\n",
    "                    \"mean\": 1.0,\n",
    "                    \"std\": 0.5,\n",
    "                    \"n\": 25,\n",
    "                    \"device\": device,\n",
    "                })\n",
    "        scores2 = np.nanmean(scores)\n",
    "        score.append(scores2)\n",
    "        if len(score) > 1000:\n",
    "            break \n",
    "    score2=score\n",
    "    return math.log(np.nanmean(score2), 10)"
   ]
  },
  {
   "cell_type": "code",
   "execution_count": 96,
   "id": "c8f83799-7a23-4a94-b573-9d87e2bc9f72",
   "metadata": {},
   "outputs": [
    {
     "name": "stdout",
     "output_type": "stream",
     "text": [
      "The relative output stability score is:  2.834908317705301\n"
     ]
    }
   ],
   "source": [
    "normal_output_smooth =  filter_and_compute_output_stability_smooth(model, test_dataloader, device)\n",
    "print(\"The relative output stability score is: \",normal_output_smooth)"
   ]
  },
  {
   "cell_type": "code",
   "execution_count": 97,
   "id": "f5e56512-1bd4-4cde-8182-fd626bae0e17",
   "metadata": {},
   "outputs": [
    {
     "name": "stdout",
     "output_type": "stream",
     "text": [
      "The relative output stability score is:  4.275068269353544\n"
     ]
    }
   ],
   "source": [
    "adversarial_output_smooth =  filter_and_compute_output_stability_smooth(model_adv, test_dataloader, device)\n",
    "print(\"The relative output stability score is: \",adversarial_output_smooth)"
   ]
  },
  {
   "cell_type": "code",
   "execution_count": 98,
   "id": "a3f5ca24-a28f-4563-a9ca-21ebf2413c7a",
   "metadata": {},
   "outputs": [
    {
     "name": "stdout",
     "output_type": "stream",
     "text": [
      "The relative output stability score is:  3.192582269842001\n"
     ]
    }
   ],
   "source": [
    "l1_output_smooth = filter_and_compute_output_stability_smooth(model_l1_unstructured, test_dataloader, device)\n",
    "print(\"The relative output stability score is: \", l1_output_smooth)"
   ]
  },
  {
   "cell_type": "code",
   "execution_count": 99,
   "id": "c69995c9-2b68-4efc-ad05-21c3282d5f7c",
   "metadata": {},
   "outputs": [
    {
     "name": "stdout",
     "output_type": "stream",
     "text": [
      "The relative output stability score is:  2.9948924785089353\n"
     ]
    }
   ],
   "source": [
    "global_output_smooth = filter_and_compute_output_stability_smooth(model_global, test_dataloader, device)\n",
    "print(\"The relative output stability score is: \", global_output_smooth)"
   ]
  },
  {
   "cell_type": "code",
   "execution_count": 100,
   "id": "1464cdea-0364-476c-b23f-cdc5679b7eaf",
   "metadata": {},
   "outputs": [
    {
     "name": "stdout",
     "output_type": "stream",
     "text": [
      "The relative output stability score is:  10.246903949706216\n"
     ]
    }
   ],
   "source": [
    "layered_output_smooth = filter_and_compute_output_stability_smooth(model_structured, test_dataloader, device)\n",
    "print(\"The relative output stability score is: \", layered_output_smooth)"
   ]
  },
  {
   "cell_type": "code",
   "execution_count": 101,
   "id": "94a11086-2265-4e9b-bab7-d587d7c99569",
   "metadata": {},
   "outputs": [
    {
     "data": {
      "text/html": [
       "<style type=\"text/css\">\n",
       "#T_7489d th {\n",
       "  border: 1px solid black;\n",
       "}\n",
       "#T_7489d  td {\n",
       "  border: 1px solid black;\n",
       "}\n",
       "</style>\n",
       "<table id=\"T_7489d\">\n",
       "  <thead>\n",
       "    <tr>\n",
       "      <th class=\"blank level0\" >&nbsp;</th>\n",
       "      <th id=\"T_7489d_level0_col0\" class=\"col_heading level0 col0\" >Vanilla Gradient</th>\n",
       "      <th id=\"T_7489d_level0_col1\" class=\"col_heading level0 col1\" >Integrated Gradients</th>\n",
       "      <th id=\"T_7489d_level0_col2\" class=\"col_heading level0 col2\" >SmoothGrad</th>\n",
       "    </tr>\n",
       "  </thead>\n",
       "  <tbody>\n",
       "    <tr>\n",
       "      <th id=\"T_7489d_level0_row0\" class=\"row_heading level0 row0\" >Normal Model</th>\n",
       "      <td id=\"T_7489d_row0_col0\" class=\"data row0 col0\" >10.248388</td>\n",
       "      <td id=\"T_7489d_row0_col1\" class=\"data row0 col1\" >9.709989</td>\n",
       "      <td id=\"T_7489d_row0_col2\" class=\"data row0 col2\" >2.834908</td>\n",
       "    </tr>\n",
       "    <tr>\n",
       "      <th id=\"T_7489d_level0_row1\" class=\"row_heading level0 row1\" >Adversarial Model</th>\n",
       "      <td id=\"T_7489d_row1_col0\" class=\"data row1 col0\" >10.491201</td>\n",
       "      <td id=\"T_7489d_row1_col1\" class=\"data row1 col1\" >10.638913</td>\n",
       "      <td id=\"T_7489d_row1_col2\" class=\"data row1 col2\" >4.275068</td>\n",
       "    </tr>\n",
       "    <tr>\n",
       "      <th id=\"T_7489d_level0_row2\" class=\"row_heading level0 row2\" >L1 Unstructured Pruned</th>\n",
       "      <td id=\"T_7489d_row2_col0\" class=\"data row2 col0\" >9.544336</td>\n",
       "      <td id=\"T_7489d_row2_col1\" class=\"data row2 col1\" >9.753132</td>\n",
       "      <td id=\"T_7489d_row2_col2\" class=\"data row2 col2\" >3.192582</td>\n",
       "    </tr>\n",
       "    <tr>\n",
       "      <th id=\"T_7489d_level0_row3\" class=\"row_heading level0 row3\" >Global Pruned</th>\n",
       "      <td id=\"T_7489d_row3_col0\" class=\"data row3 col0\" >9.571688</td>\n",
       "      <td id=\"T_7489d_row3_col1\" class=\"data row3 col1\" >5.500438</td>\n",
       "      <td id=\"T_7489d_row3_col2\" class=\"data row3 col2\" >2.994892</td>\n",
       "    </tr>\n",
       "    <tr>\n",
       "      <th id=\"T_7489d_level0_row4\" class=\"row_heading level0 row4\" >Layered Structured Pruned</th>\n",
       "      <td id=\"T_7489d_row4_col0\" class=\"data row4 col0\" >9.854425</td>\n",
       "      <td id=\"T_7489d_row4_col1\" class=\"data row4 col1\" >11.408793</td>\n",
       "      <td id=\"T_7489d_row4_col2\" class=\"data row4 col2\" >10.246904</td>\n",
       "    </tr>\n",
       "  </tbody>\n",
       "</table>\n"
      ],
      "text/plain": [
       "<pandas.io.formats.style.Styler at 0x1de1476d6a0>"
      ]
     },
     "execution_count": 101,
     "metadata": {},
     "output_type": "execute_result"
    }
   ],
   "source": [
    "vanilla_gradient = [normal_output_saliency, adversarial_output_saliency, l1_output_saliency, global_output_saliency, layered_output_saliency]\n",
    "integrated_gradients = [normal_output_ig, adversarial_output_ig, l1_output_ig, global_output_ig, layered_output_ig]\n",
    "smoothgrad = [normal_output_smooth, adversarial_output_smooth, l1_output_smooth, global_output_smooth, layered_output_smooth]\n",
    "\n",
    "row_labels = [\"Normal Model\", \"Adversarial Model\", \"L1 Unstructured Pruned\", \"Global Pruned\", \"Layered Structured Pruned\"]\n",
    "\n",
    "data = {\n",
    "    \"Vanilla Gradient\": vanilla_gradient,\n",
    "    \"Integrated Gradients\": integrated_gradients,\n",
    "    \"SmoothGrad\": smoothgrad\n",
    "}\n",
    "\n",
    "df = pd.DataFrame(data, index = row_labels)\n",
    "\n",
    "df.style.set_table_styles(\n",
    "    [{'selector': 'th, td', 'props': [('border', '1px solid black')]}]\n",
    ")"
   ]
  },
  {
   "cell_type": "code",
   "execution_count": 121,
   "id": "368e8e7c-0508-47c6-a93f-6872afd53c62",
   "metadata": {},
   "outputs": [],
   "source": [
    "def filter_and_compute_sparsity_saliency_ig(model, test_loader,method,  device):\n",
    "    \n",
    "    sparsity = quantus.Sparseness(disable_warnings=True, return_aggregate=True)\n",
    "    score_sparsity = []\n",
    "\n",
    "    for i, (x_batch, y_batch) in enumerate(test_loader):\n",
    "        x_batch, y_batch = x_batch.to(device), y_batch.to(device)\n",
    "        #print(len(x_batch))\n",
    "        outputs = model(x_batch)\n",
    "        predictions = torch.argmax(outputs, dim=1)\n",
    "        correct_mask = predictions == y_batch\n",
    "        #print(correct_mask)\n",
    "        x_batch = x_batch[correct_mask]\n",
    "        y_batch = y_batch[correct_mask]\n",
    "        #print(len(x_batch))\n",
    "        x_batch, y_batch = x_batch.cpu().numpy(), y_batch.cpu().numpy()\n",
    "        scores = sparsity(\n",
    "                model= model,\n",
    "                x_batch=x_batch,\n",
    "                y_batch=y_batch,\n",
    "                a_batch=None,\n",
    "                s_batch=None,\n",
    "                device=device,\n",
    "                explain_func= quantus.explain, \n",
    "                explain_func_kwargs = {\"method\": method, \"softmax\": False})\n",
    "        score_sparsity.extend(scores)\n",
    "        if len(score_sparsity) > 1000:\n",
    "            break \n",
    "    return np.nanmean(score_sparsity), np.nanstd(score_sparsity)"
   ]
  },
  {
   "cell_type": "code",
   "execution_count": 123,
   "id": "ac1a4aef-5bc4-4308-a2e0-d679ce66ba54",
   "metadata": {},
   "outputs": [
    {
     "name": "stdout",
     "output_type": "stream",
     "text": [
      "The sparsity score is:  (0.5353929176789969, 0.0037229877908571333)\n"
     ]
    }
   ],
   "source": [
    "normal_sparse_saliency = filter_and_compute_sparsity_saliency_ig(model, test_dataloader,\"Saliency\", device)\n",
    "print(\"The sparsity score is: \", normal_sparse_saliency)"
   ]
  },
  {
   "cell_type": "code",
   "execution_count": 124,
   "id": "bc004c35-7e97-420b-a2f1-ae9513c0d2f5",
   "metadata": {},
   "outputs": [
    {
     "name": "stdout",
     "output_type": "stream",
     "text": [
      "The sparsity score is:  (0.567786553556568, 0.005803276710414247)\n"
     ]
    }
   ],
   "source": [
    "adversarial_sparse_saliency = filter_and_compute_sparsity_saliency_ig(model_adv, test_dataloader,\"Saliency\", device)\n",
    "print(\"The sparsity score is: \", adversarial_sparse_saliency)"
   ]
  },
  {
   "cell_type": "code",
   "execution_count": 125,
   "id": "afc29135-5d57-466d-9c19-4fe73f8dbe8e",
   "metadata": {},
   "outputs": [
    {
     "name": "stdout",
     "output_type": "stream",
     "text": [
      "The sparsity score is:  (0.545625553741832, 0.004213131618629125)\n"
     ]
    }
   ],
   "source": [
    "l1_sparse_saliency =  filter_and_compute_sparsity_saliency_ig(model_l1_unstructured, test_dataloader,\"Saliency\", device)\n",
    "print(\"The sparsity score is: \",l1_sparse_saliency)"
   ]
  },
  {
   "cell_type": "code",
   "execution_count": 126,
   "id": "23e57683-ec80-4daf-9fda-535ff00f1b2f",
   "metadata": {},
   "outputs": [
    {
     "name": "stdout",
     "output_type": "stream",
     "text": [
      "The sparsity score is:  (0.6036586866658717, 0.007687796444217604)\n"
     ]
    }
   ],
   "source": [
    "global_sparse_saliency = filter_and_compute_sparsity_saliency_ig(model_global, test_dataloader,\"Saliency\", device)\n",
    "print(\"The sparsity score is: \", global_sparse_saliency)"
   ]
  },
  {
   "cell_type": "code",
   "execution_count": 127,
   "id": "30a0b809-3fe5-459e-967d-4270553fba1c",
   "metadata": {},
   "outputs": [
    {
     "name": "stdout",
     "output_type": "stream",
     "text": [
      "The sparsity score is:  (0.7910504827975011, 0.009565304980180553)\n"
     ]
    }
   ],
   "source": [
    "layered_sparse_saliency = filter_and_compute_sparsity_saliency_ig(model_structured, test_dataloader,\"Saliency\", device)\n",
    "print(\"The sparsity score is: \",layered_sparse_saliency  )"
   ]
  },
  {
   "cell_type": "code",
   "execution_count": 128,
   "id": "108e736a-a43a-4dce-8cce-49f083d5616d",
   "metadata": {},
   "outputs": [
    {
     "name": "stdout",
     "output_type": "stream",
     "text": [
      "The sparsity score is:  (0.7729951314646315, 0.014269488272607404)\n"
     ]
    }
   ],
   "source": [
    "normal_sparse_ig =  filter_and_compute_sparsity_saliency_ig(model, test_dataloader,\"IntegratedGradients\", device)\n",
    "print(\"The sparsity score is: \",normal_sparse_ig)"
   ]
  },
  {
   "cell_type": "code",
   "execution_count": 129,
   "id": "251de6d6-255e-4193-853e-e0d06aab1236",
   "metadata": {},
   "outputs": [
    {
     "name": "stdout",
     "output_type": "stream",
     "text": [
      "The sparsity score is:  (0.773559511057318, 0.014989847356781468)\n"
     ]
    }
   ],
   "source": [
    "adversarial_sparse_ig = filter_and_compute_sparsity_saliency_ig(model_adv, test_dataloader,\"IntegratedGradients\", device)\n",
    "print(\"The sparsity score is: \",adversarial_sparse_ig )"
   ]
  },
  {
   "cell_type": "code",
   "execution_count": 130,
   "id": "2f9fd7ca-f8aa-4e63-a7d0-d1b78a22405e",
   "metadata": {},
   "outputs": [
    {
     "name": "stdout",
     "output_type": "stream",
     "text": [
      "The sparsity score is:  (0.7720026135998528, 0.01552885635228196)\n"
     ]
    }
   ],
   "source": [
    "l1_sparse_ig = filter_and_compute_sparsity_saliency_ig(model_l1_unstructured, test_dataloader,\"IntegratedGradients\", device)\n",
    "print(\"The sparsity score is: \", l1_sparse_ig)"
   ]
  },
  {
   "cell_type": "code",
   "execution_count": 131,
   "id": "8d537c9e-247b-4d00-8932-2518dc8fb251",
   "metadata": {},
   "outputs": [
    {
     "name": "stdout",
     "output_type": "stream",
     "text": [
      "The sparsity score is:  (0.7674200542197189, 0.0146018313506834)\n"
     ]
    }
   ],
   "source": [
    "global_sparse_ig = filter_and_compute_sparsity_saliency_ig(model_global, test_dataloader,\"IntegratedGradients\", device)\n",
    "print(\"The sparsity score is: \",global_sparse_ig )"
   ]
  },
  {
   "cell_type": "code",
   "execution_count": 132,
   "id": "defbaaff-9bb0-4068-b2e0-2f9a0ea74f5b",
   "metadata": {},
   "outputs": [
    {
     "name": "stdout",
     "output_type": "stream",
     "text": [
      "The sparsity score is:  (0.850306168389013, 0.010784806913349557)\n"
     ]
    }
   ],
   "source": [
    "layered_sparse_ig = filter_and_compute_sparsity_saliency_ig(model_structured, test_dataloader,\"IntegratedGradients\", device)\n",
    "print(\"The sparsity score is: \", layered_sparse_ig)"
   ]
  },
  {
   "cell_type": "code",
   "execution_count": 133,
   "id": "154d41f6-9764-4456-909f-691dcebe36d5",
   "metadata": {},
   "outputs": [],
   "source": [
    "def filter_and_compute_sparsity_smooth(model, test_loader, device):\n",
    "    \n",
    "    sparsity = quantus.Sparseness(disable_warnings=True, return_aggregate=True)\n",
    "    score_sparsity = []\n",
    "\n",
    "    for i, (x_batch, y_batch) in enumerate(test_loader):\n",
    "        x_batch, y_batch = x_batch.to(device), y_batch.to(device)\n",
    "        #print(len(x_batch))\n",
    "        outputs = model(x_batch)\n",
    "        predictions = torch.argmax(outputs, dim=1)\n",
    "        correct_mask = predictions == y_batch\n",
    "        #print(correct_mask)\n",
    "        x_batch = x_batch[correct_mask]\n",
    "        y_batch = y_batch[correct_mask]\n",
    "        #print(len(x_batch))\n",
    "        x_batch, y_batch = x_batch.cpu().numpy(), y_batch.cpu().numpy()\n",
    "        scores = sparsity(\n",
    "                model= model,\n",
    "                x_batch=x_batch,\n",
    "                y_batch=y_batch,\n",
    "                a_batch=None,\n",
    "                s_batch=None,\n",
    "                device=device,\n",
    "                 explain_func= explainer_wrapper,\n",
    "                explain_func_kwargs = {\n",
    "                    \"method\": xai_method[0],\n",
    "                    \"posterior_mean\": copy.deepcopy(\n",
    "                        model\n",
    "                        .to(device)\n",
    "                        .state_dict()\n",
    "                    ),\n",
    "                    \"mean\": 1.0,\n",
    "                    \"std\": 0.5,\n",
    "                    \"n\": 25,\n",
    "                    \"device\": device,\n",
    "                })\n",
    "        score_sparsity.extend(scores)\n",
    "        if len(score_sparsity) > 1000:\n",
    "            break \n",
    "    return np.nanmean(score_sparsity), np.nanstd(score_sparsity)"
   ]
  },
  {
   "cell_type": "code",
   "execution_count": 135,
   "id": "bbf7c5a9-425d-4488-acd4-c9b05b4aa10a",
   "metadata": {},
   "outputs": [
    {
     "name": "stdout",
     "output_type": "stream",
     "text": [
      "The sparsity score is:  (0.34745736041242725, 0.0043840386908674985)\n"
     ]
    }
   ],
   "source": [
    "normal_sparse_smooth = filter_and_compute_sparsity_smooth(model, test_dataloader, device)\n",
    "print(\"The sparsity score is: \",normal_sparse_smooth )"
   ]
  },
  {
   "cell_type": "code",
   "execution_count": 136,
   "id": "aaf06ac0-9d0c-42a3-8ed3-d78e1ff294f2",
   "metadata": {},
   "outputs": [
    {
     "name": "stdout",
     "output_type": "stream",
     "text": [
      "The sparsity score is:  (0.4228882196351659, 0.005825839358584965)\n"
     ]
    }
   ],
   "source": [
    "adversarial_sparse_smooth = filter_and_compute_sparsity_smooth(model_adv, test_dataloader, device)\n",
    "print(\"The sparsity score is: \", adversarial_sparse_smooth)"
   ]
  },
  {
   "cell_type": "code",
   "execution_count": 137,
   "id": "5ec704a8-c540-4e3a-9d7c-39f1ea88118d",
   "metadata": {},
   "outputs": [
    {
     "name": "stdout",
     "output_type": "stream",
     "text": [
      "The sparsity score is:  (0.35473342218460663, 0.004543606507123993)\n"
     ]
    }
   ],
   "source": [
    "l1_sparse_smooth = filter_and_compute_sparsity_smooth(model_l1_unstructured, test_dataloader, device)\n",
    "print(\"The sparsity score is: \", l1_sparse_smooth)"
   ]
  },
  {
   "cell_type": "code",
   "execution_count": 138,
   "id": "000bbf6a-75d7-43b4-af9c-98ed269f58f9",
   "metadata": {},
   "outputs": [
    {
     "name": "stdout",
     "output_type": "stream",
     "text": [
      "The sparsity score is:  (0.418018706893464, 0.008366724387788765)\n"
     ]
    }
   ],
   "source": [
    "global_sparse_smooth = filter_and_compute_sparsity_smooth(model_global, test_dataloader, device)\n",
    "print(\"The sparsity score is: \", global_sparse_smooth)"
   ]
  },
  {
   "cell_type": "code",
   "execution_count": 139,
   "id": "a03ce84e-1ffb-4a23-94e6-44fe362bf955",
   "metadata": {},
   "outputs": [
    {
     "name": "stdout",
     "output_type": "stream",
     "text": [
      "The sparsity score is:  (0.6249091006791578, 0.008828304940229424)\n"
     ]
    }
   ],
   "source": [
    "layered_sparse_smooth =  filter_and_compute_sparsity_smooth(model_structured, test_dataloader, device)\n",
    "print(\"The sparsity score is: \",layered_sparse_smooth)"
   ]
  },
  {
   "cell_type": "code",
   "execution_count": 140,
   "id": "50e551cd-9ba8-49a4-835f-2b5f09f9c846",
   "metadata": {},
   "outputs": [
    {
     "data": {
      "text/html": [
       "<style type=\"text/css\">\n",
       "#T_b5fce th {\n",
       "  border: 1px solid black;\n",
       "}\n",
       "#T_b5fce  td {\n",
       "  border: 1px solid black;\n",
       "}\n",
       "</style>\n",
       "<table id=\"T_b5fce\">\n",
       "  <thead>\n",
       "    <tr>\n",
       "      <th class=\"blank level0\" >&nbsp;</th>\n",
       "      <th id=\"T_b5fce_level0_col0\" class=\"col_heading level0 col0\" >Vanilla Gradient</th>\n",
       "      <th id=\"T_b5fce_level0_col1\" class=\"col_heading level0 col1\" >Integrated Gradients</th>\n",
       "      <th id=\"T_b5fce_level0_col2\" class=\"col_heading level0 col2\" >SmoothGrad</th>\n",
       "    </tr>\n",
       "  </thead>\n",
       "  <tbody>\n",
       "    <tr>\n",
       "      <th id=\"T_b5fce_level0_row0\" class=\"row_heading level0 row0\" >Normal Model</th>\n",
       "      <td id=\"T_b5fce_row0_col0\" class=\"data row0 col0\" >(0.5353929176789969, 0.0037229877908571333)</td>\n",
       "      <td id=\"T_b5fce_row0_col1\" class=\"data row0 col1\" >(0.7729951314646315, 0.014269488272607404)</td>\n",
       "      <td id=\"T_b5fce_row0_col2\" class=\"data row0 col2\" >(0.34745736041242725, 0.0043840386908674985)</td>\n",
       "    </tr>\n",
       "    <tr>\n",
       "      <th id=\"T_b5fce_level0_row1\" class=\"row_heading level0 row1\" >Adversarial Model</th>\n",
       "      <td id=\"T_b5fce_row1_col0\" class=\"data row1 col0\" >(0.567786553556568, 0.005803276710414247)</td>\n",
       "      <td id=\"T_b5fce_row1_col1\" class=\"data row1 col1\" >(0.773559511057318, 0.014989847356781468)</td>\n",
       "      <td id=\"T_b5fce_row1_col2\" class=\"data row1 col2\" >(0.4228882196351659, 0.005825839358584965)</td>\n",
       "    </tr>\n",
       "    <tr>\n",
       "      <th id=\"T_b5fce_level0_row2\" class=\"row_heading level0 row2\" >L1 Unstructured Pruned</th>\n",
       "      <td id=\"T_b5fce_row2_col0\" class=\"data row2 col0\" >(0.545625553741832, 0.004213131618629125)</td>\n",
       "      <td id=\"T_b5fce_row2_col1\" class=\"data row2 col1\" >(0.7720026135998528, 0.01552885635228196)</td>\n",
       "      <td id=\"T_b5fce_row2_col2\" class=\"data row2 col2\" >(0.35473342218460663, 0.004543606507123993)</td>\n",
       "    </tr>\n",
       "    <tr>\n",
       "      <th id=\"T_b5fce_level0_row3\" class=\"row_heading level0 row3\" >Global Pruned</th>\n",
       "      <td id=\"T_b5fce_row3_col0\" class=\"data row3 col0\" >(0.6036586866658717, 0.007687796444217604)</td>\n",
       "      <td id=\"T_b5fce_row3_col1\" class=\"data row3 col1\" >(0.7674200542197189, 0.0146018313506834)</td>\n",
       "      <td id=\"T_b5fce_row3_col2\" class=\"data row3 col2\" >(0.418018706893464, 0.008366724387788765)</td>\n",
       "    </tr>\n",
       "    <tr>\n",
       "      <th id=\"T_b5fce_level0_row4\" class=\"row_heading level0 row4\" >Layered Structured Pruned</th>\n",
       "      <td id=\"T_b5fce_row4_col0\" class=\"data row4 col0\" >(0.7910504827975011, 0.009565304980180553)</td>\n",
       "      <td id=\"T_b5fce_row4_col1\" class=\"data row4 col1\" >(0.850306168389013, 0.010784806913349557)</td>\n",
       "      <td id=\"T_b5fce_row4_col2\" class=\"data row4 col2\" >(0.6249091006791578, 0.008828304940229424)</td>\n",
       "    </tr>\n",
       "  </tbody>\n",
       "</table>\n"
      ],
      "text/plain": [
       "<pandas.io.formats.style.Styler at 0x1de1964dc10>"
      ]
     },
     "execution_count": 140,
     "metadata": {},
     "output_type": "execute_result"
    }
   ],
   "source": [
    "vanilla_gradient = [normal_sparse_saliency, adversarial_sparse_saliency, l1_sparse_saliency, global_sparse_saliency, layered_sparse_saliency]\n",
    "integrated_gradients = [normal_sparse_ig, adversarial_sparse_ig, l1_sparse_ig, global_sparse_ig, layered_sparse_ig]\n",
    "smoothgrad = [normal_sparse_smooth, adversarial_sparse_smooth, l1_sparse_smooth, global_sparse_smooth, layered_sparse_smooth]\n",
    "\n",
    "row_labels = [\"Normal Model\", \"Adversarial Model\", \"L1 Unstructured Pruned\", \"Global Pruned\", \"Layered Structured Pruned\"]\n",
    "\n",
    "data = {\n",
    "    \"Vanilla Gradient\": vanilla_gradient,\n",
    "    \"Integrated Gradients\": integrated_gradients,\n",
    "    \"SmoothGrad\": smoothgrad\n",
    "}\n",
    "\n",
    "df = pd.DataFrame(data, index = row_labels)\n",
    "\n",
    "df.style.set_table_styles(\n",
    "    [{'selector': 'th, td', 'props': [('border', '1px solid black')]}]\n",
    ")"
   ]
  },
  {
   "cell_type": "code",
   "execution_count": null,
   "id": "1cc497ab-f24f-4c94-9c78-d14b7657fdb8",
   "metadata": {},
   "outputs": [],
   "source": []
  }
 ],
 "metadata": {
  "kernelspec": {
   "display_name": "Python 3 (ipykernel)",
   "language": "python",
   "name": "python3"
  },
  "language_info": {
   "codemirror_mode": {
    "name": "ipython",
    "version": 3
   },
   "file_extension": ".py",
   "mimetype": "text/x-python",
   "name": "python",
   "nbconvert_exporter": "python",
   "pygments_lexer": "ipython3",
   "version": "3.12.3"
  }
 },
 "nbformat": 4,
 "nbformat_minor": 5
}
