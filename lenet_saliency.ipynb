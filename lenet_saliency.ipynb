{
 "cells": [
  {
   "cell_type": "code",
   "execution_count": 265,
   "id": "93353e0b-c5ac-48d3-b291-a6fbcff74918",
   "metadata": {},
   "outputs": [],
   "source": [
    "import torch\n",
    "from torch import nn\n",
    "import torch.nn as nn\n",
    "import torch.nn.functional as F\n",
    "from torch.utils.data import DataLoader\n",
    "\n",
    "import torchvision\n",
    "from torchvision import datasets\n",
    "from torchvision.transforms import Normalize\n",
    "from torchvision import transforms\n",
    "from torchmetrics import Accuracy\n",
    "\n",
    "import torch.optim as optim\n",
    "from cleverhans.torch.attacks.projected_gradient_descent import (projected_gradient_descent)\n",
    "\n",
    "import quantus\n",
    "import captum\n",
    "from captum.attr import Saliency, IntegratedGradients, NoiseTunnel\n",
    "\n",
    "import pandas as pd\n",
    "import numpy as np\n",
    "import matplotlib.pyplot as plt\n",
    "\n",
    "import random\n",
    "import copy\n",
    "import gc\n",
    "\n",
    "import warnings\n",
    "warnings.filterwarnings('ignore')\n",
    "\n",
    "from ipynb.fs.full.utils import integrated_gradients"
   ]
  },
  {
   "cell_type": "code",
   "execution_count": 289,
   "id": "f7b011ac-a913-45e6-8580-b2fdcdf02757",
   "metadata": {},
   "outputs": [],
   "source": [
    "transformer = torchvision.transforms.Compose([torchvision.transforms.ToTensor()])\n",
    "test_dataset = torchvision.datasets.FashionMNIST(root='./datasets', train=False, transform=transformer, download=True)\n",
    "test_dataloader = torch.utils.data.DataLoader(test_dataset, batch_size=50, pin_memory=True)"
   ]
  },
  {
   "cell_type": "code",
   "execution_count": 291,
   "id": "d6ab24c5-d345-4494-950d-4906f617e51e",
   "metadata": {},
   "outputs": [],
   "source": [
    "class LeNet(torch.nn.Module):\n",
    "    def __init__(self):\n",
    "        super().__init__()\n",
    "        self.conv_1 = torch.nn.Conv2d(1, 6, 5)\n",
    "        self.pool_1 = torch.nn.MaxPool2d(2, 2)\n",
    "        self.relu_1 = torch.nn.ReLU()\n",
    "        self.conv_2 = torch.nn.Conv2d(6, 16, 5)\n",
    "        self.pool_2 = torch.nn.MaxPool2d(2, 2)\n",
    "        self.relu_2 = torch.nn.ReLU()\n",
    "        self.fc_1 = torch.nn.Linear(256, 120)\n",
    "        self.relu_3 = torch.nn.ReLU()\n",
    "        self.fc_2 = torch.nn.Linear(120, 84)\n",
    "        self.relu_4 = torch.nn.ReLU()\n",
    "        self.fc_3 = torch.nn.Linear(84, 10)\n",
    "\n",
    "    def forward(self, x):\n",
    "        x = self.pool_1(self.relu_1(self.conv_1(x)))\n",
    "        x = self.pool_2(self.relu_2(self.conv_2(x)))\n",
    "        x = x.view(x.shape[0], -1)\n",
    "        x = self.relu_3(self.fc_1(x))\n",
    "        x = self.relu_4(self.fc_2(x))\n",
    "        x = self.fc_3(x)\n",
    "        return x"
   ]
  },
  {
   "cell_type": "code",
   "execution_count": 293,
   "id": "83309437-e4c8-4edc-bddf-79319ca49268",
   "metadata": {},
   "outputs": [],
   "source": [
    "device = 'cuda' if torch.cuda.is_available() else 'cpu'"
   ]
  },
  {
   "cell_type": "code",
   "execution_count": 295,
   "id": "fa8163f0-bf39-4c89-b79e-3492c8144a2a",
   "metadata": {},
   "outputs": [
    {
     "data": {
      "text/plain": [
       "<All keys matched successfully>"
      ]
     },
     "execution_count": 295,
     "metadata": {},
     "output_type": "execute_result"
    }
   ],
   "source": [
    "from pathlib import Path\n",
    "\n",
    "MODEL_PATH = Path(\"models\")\n",
    "MODEL_PATH.mkdir(parents=True, exist_ok=True)\n",
    "\n",
    "MODEL_NAME = \"lenet_fmnist.pth\"\n",
    "MODEL_SAVE_PATH = MODEL_PATH / MODEL_NAME\n",
    "model = LeNet().to(device)\n",
    "model.load_state_dict(torch.load(MODEL_SAVE_PATH))\n"
   ]
  },
  {
   "cell_type": "code",
   "execution_count": 349,
   "id": "e9910320-ad0e-40c9-96ae-d42641225c26",
   "metadata": {},
   "outputs": [],
   "source": [
    "x_batch, y_batch = next(iter(test_dataloader))\n",
    "x_batch, y_batch = x_batch.to(device), y_batch.to(device)"
   ]
  },
  {
   "cell_type": "code",
   "execution_count": 351,
   "id": "a72f5e4b-9957-4ef6-a046-5df9840a41a4",
   "metadata": {},
   "outputs": [],
   "source": [
    "a_batch_integrad = quantus.normalise_func.normalise_by_negative(IntegratedGradients(model).attribute(inputs=x_batch, target=y_batch, baselines=torch.zeros_like(x_batch)).sum(axis=1).cpu().numpy())\n",
    "a_batch_integrad[a_batch_integrad<0] = 0\n",
    "a_batch_saliency = quantus.normalise_func.normalise_by_negative(Saliency(model).attribute(inputs=x_batch, target=y_batch, abs=True).sum(axis=1).cpu().numpy())\n",
    "saliency = Saliency(model)\n",
    "a_batch_smoothgrad = quantus.normalise_func.normalise_by_negative(NoiseTunnel(saliency).attribute(inputs = x_batch, target = y_batch, nt_type ='smoothgrad', nt_samples = 50, stdevs=0.15).sum(axis=1).cpu().numpy())\n"
   ]
  },
  {
   "cell_type": "code",
   "execution_count": 353,
   "id": "1a34005f-9996-4a65-b11a-e082f194b79d",
   "metadata": {},
   "outputs": [],
   "source": [
    "x_batch, y_batch = x_batch.cpu().numpy(), y_batch.cpu().numpy()"
   ]
  },
  {
   "cell_type": "code",
   "execution_count": 355,
   "id": "8bc9c269-4122-490e-830d-b4ad70d3a13b",
   "metadata": {},
   "outputs": [
    {
     "data": {
      "image/png": "[encoded data removed]",
      "text/plain": [
       "<Figure size 1000x200 with 4 Axes>"
      ]
     },
     "metadata": {},
     "output_type": "display_data"
    }
   ],
   "source": [
    "index = 5\n",
    "nr_images = 2\n",
    "fig, axes = plt.subplots(nrows=1, ncols=4, figsize=(nr_images*5., int(nr_images)))\n",
    "\n",
    "#plot normal\n",
    "axes[0].imshow(np.reshape(x_batch[index], (28,28)), cmap=\"grey\")\n",
    "axes[0].title.set_text(f\"Normal Image {y_batch[index].item()}\")\n",
    "axes[0].axis(\"off\")\n",
    "axes[1].imshow(a_batch_saliency[index], cmap=\"hot\")\n",
    "axes[1].title.set_text(f\"Vanilla Gradient\")\n",
    "axes[1].axis(\"off\")  \n",
    "axes[2].imshow(a_batch_integrad[index], cmap=\"hot\")\n",
    "axes[2].title.set_text(f\"Integrated Gradients\")\n",
    "axes[2].axis(\"off\")\n",
    "axes[3].imshow(a_batch_smoothgrad[index], cmap=\"hot\")\n",
    "axes[3].title.set_text(f\"Smooth Gradients\")\n",
    "axes[3].axis(\"off\")\n",
    "# axes[4].imshow(a_batch_noisegrad[index], cmap=\"seismic\")\n",
    "# axes[4].title.set_text(f\"Noise Gradients\")\n",
    "# axes[4].axis(\"off\")\n",
    "plt.tight_layout()\n",
    "\n",
    "\n",
    "plt.show()"
   ]
  },
  {
   "cell_type": "code",
   "execution_count": 357,
   "id": "ab17a47d-108c-4678-b3fd-4249137bb11e",
   "metadata": {},
   "outputs": [
    {
     "data": {
      "text/plain": [
       "<All keys matched successfully>"
      ]
     },
     "execution_count": 357,
     "metadata": {},
     "output_type": "execute_result"
    }
   ],
   "source": [
    "from pathlib import Path\n",
    "\n",
    "MODEL_PATH = Path(\"models\")\n",
    "MODEL_PATH.mkdir(parents=True, exist_ok=True)\n",
    "\n",
    "MODEL_NAME = \"lenet_fmnist_adv.pth\"\n",
    "MODEL_SAVE_PATH = MODEL_PATH / MODEL_NAME\n",
    "model_adv = LeNet().to(device)\n",
    "model_adv.load_state_dict(torch.load(MODEL_SAVE_PATH))"
   ]
  },
  {
   "cell_type": "code",
   "execution_count": 359,
   "id": "9e498c52-64cf-4375-be6b-88b57f400219",
   "metadata": {},
   "outputs": [],
   "source": [
    "x_batch, y_batch = next(iter(test_dataloader))\n",
    "x_batch, y_batch = x_batch.to(device), y_batch.to(device)"
   ]
  },
  {
   "cell_type": "code",
   "execution_count": 361,
   "id": "c85f8c17-21ae-4f18-9b98-d9cf54ea4319",
   "metadata": {},
   "outputs": [],
   "source": [
    "a_batch_integrad = quantus.normalise_func.normalise_by_negative(IntegratedGradients(model).attribute(inputs=x_batch, target=y_batch, baselines=torch.zeros_like(x_batch)).sum(axis=1).cpu().numpy())\n",
    "a_batch_integrad[a_batch_integrad<0] = 0\n",
    "a_batch_saliency = quantus.normalise_func.normalise_by_negative(Saliency(model).attribute(inputs=x_batch, target=y_batch, abs=True).sum(axis=1).cpu().numpy())\n",
    "saliency = Saliency(model)\n",
    "a_batch_smoothgrad = quantus.normalise_func.normalise_by_negative(NoiseTunnel(saliency).attribute(inputs = x_batch, target = y_batch, nt_type ='smoothgrad', nt_samples = 50, stdevs=0.15).sum(axis=1).cpu().numpy())\n"
   ]
  },
  {
   "cell_type": "code",
   "execution_count": 363,
   "id": "51233af8-2705-48b2-b731-2a027248ae58",
   "metadata": {},
   "outputs": [],
   "source": [
    "x_batch, y_batch = x_batch.cpu().numpy(), y_batch.cpu().numpy()"
   ]
  },
  {
   "cell_type": "code",
   "execution_count": 365,
   "id": "743232d2-96fa-4392-86ab-066b818f0677",
   "metadata": {},
   "outputs": [
    {
     "data": {
      "image/png": "[encoded data removed]",
      "text/plain": [
       "<Figure size 1000x200 with 4 Axes>"
      ]
     },
     "metadata": {},
     "output_type": "display_data"
    }
   ],
   "source": [
    "\n",
    "nr_images = 2\n",
    "fig, axes = plt.subplots(nrows=1, ncols=4, figsize=(nr_images*5., int(nr_images)))\n",
    "\n",
    "#plot normal\n",
    "axes[0].imshow(np.reshape(x_batch[index], (28,28)), cmap=\"grey\")\n",
    "axes[0].title.set_text(f\"Normal Image {y_batch[index].item()}\")\n",
    "axes[0].axis(\"off\")\n",
    "axes[1].imshow(a_batch_saliency_adv[index], cmap=\"hot\")\n",
    "axes[1].title.set_text(f\"Vanilla Gradient\")\n",
    "axes[1].axis(\"off\")  \n",
    "axes[2].imshow(a_batch_integrad_adv[index], cmap=\"hot\")\n",
    "axes[2].title.set_text(f\"Integrated Gradients\")\n",
    "axes[2].axis(\"off\")\n",
    "axes[3].imshow(a_batch_smoothgrad_adv[index], cmap=\"hot\")\n",
    "axes[3].title.set_text(f\"Smooth Gradients\")\n",
    "axes[3].axis(\"off\")\n",
    "# axes[4].imshow(a_batch_noisegrad[index], cmap=\"seismic\")\n",
    "# axes[4].title.set_text(f\"Noise Gradients\")\n",
    "# axes[4].axis(\"off\")\n",
    "plt.tight_layout()\n",
    "\n",
    "\n",
    "plt.show()"
   ]
  },
  {
   "cell_type": "code",
   "execution_count": 186,
   "id": "4ecc3c6f-0b77-491c-908b-5e5b7832f44b",
   "metadata": {},
   "outputs": [],
   "source": [
    "def filter_and_compute_road(model, test_loader, device):\n",
    "\n",
    "    faithfulness = quantus.ROAD(\n",
    "    noise=0.01,\n",
    "    perturb_func=quantus.perturb_func.noisy_linear_imputation,\n",
    "    percentages=list(range(1, 100, 5)),\n",
    "    display_progressbar=False)\n",
    "\n",
    "\n",
    "    score_faithfulness = []\n",
    "\n",
    "    for i, (x_batch, y_batch) in enumerate(test_loader):\n",
    "        x_batch, y_batch = x_batch.to(device), y_batch.to(device)\n",
    "        #print(len(x_batch))\n",
    "        outputs = model(x_batch)\n",
    "        predictions = torch.argmax(outputs, dim=1)\n",
    "        correct_mask = predictions == y_batch\n",
    "        #print(correct_mask)\n",
    "        x_batch = x_batch[correct_mask]\n",
    "        y_batch = y_batch[correct_mask]\n",
    "        #print(len(x_batch))\n",
    "        x_batch, y_batch = x_batch.cpu().numpy(), y_batch.cpu().numpy()\n",
    "        scores = faithfulness(\n",
    "                model= model,\n",
    "                x_batch=x_batch,\n",
    "                y_batch=y_batch,\n",
    "                a_batch=None,\n",
    "                s_batch=None,\n",
    "                device=device,\n",
    "                explain_func= quantus.explain,\n",
    "                explain_func_kwargs = {\"method\": \"Saliency\", \"softmax\": False})\n",
    "        #print(scores)\n",
    "        \n",
    "        score_faithfulness.append(scores)\n",
    "        if len(score_faithfulness) > 1000:\n",
    "            break\n",
    "    average_values = {}\n",
    "    for d in score_faithfulness:\n",
    "        for key, value in d.items():\n",
    "            if key in average_values:\n",
    "                average_values[key] += value\n",
    "            else:\n",
    "                average_values[key] = value\n",
    "\n",
    "    # Divide the sum by the number of dictionaries to get the average\n",
    "    num_dicts = len(score_faithfulness)\n",
    "    for key in average_values.keys():\n",
    "        average_values[key] /= num_dicts\n",
    "\n",
    "    # Display the average values\n",
    "    print(\"Average Values:\")\n",
    "    for key, value in average_values.items():\n",
    "        print(f\"{key}: {value}\")\n"
   ]
  },
  {
   "cell_type": "code",
   "execution_count": 188,
   "id": "ae1ff890-4523-4677-b6b7-a7db79cb617d",
   "metadata": {},
   "outputs": [
    {
     "name": "stdout",
     "output_type": "stream",
     "text": [
      "Average Values:\n",
      "1: 0.980519321872469\n",
      "6: 0.9523313680564047\n",
      "11: 0.9345262657380812\n",
      "16: 0.9155772287397922\n",
      "21: 0.9018087767541272\n",
      "26: 0.8817133836739284\n",
      "31: 0.8651798880002097\n",
      "36: 0.8435986630880592\n",
      "41: 0.8208638235160595\n",
      "46: 0.7907943138948048\n",
      "51: 0.7653321267375014\n",
      "56: 0.7212822591164385\n",
      "61: 0.6797400635145824\n",
      "66: 0.6270949583986123\n",
      "71: 0.570208105190173\n",
      "76: 0.497264256519688\n",
      "81: 0.4187745856655383\n",
      "86: 0.33851290371242493\n",
      "91: 0.27495322197493094\n",
      "96: 0.1570224477163883\n"
     ]
    }
   ],
   "source": [
    "filter_and_compute_road(model, test_dataloader, device)"
   ]
  },
  {
   "cell_type": "code",
   "execution_count": 190,
   "id": "b397d085-71de-45fd-a2a0-b688aced6ad0",
   "metadata": {},
   "outputs": [
    {
     "name": "stdout",
     "output_type": "stream",
     "text": [
      "Average Values:\n",
      "1: 0.9776635008856396\n",
      "6: 0.9130937762358147\n",
      "11: 0.8550316356322466\n",
      "16: 0.7981008735647436\n",
      "21: 0.743206465178651\n",
      "26: 0.694771987016428\n",
      "31: 0.6484913573909593\n",
      "36: 0.6155145647685392\n",
      "41: 0.5857218454951013\n",
      "46: 0.5605913653521837\n",
      "51: 0.5369455117128306\n",
      "56: 0.5187157554427351\n",
      "61: 0.4947555719283961\n",
      "66: 0.47277711593333493\n",
      "71: 0.4459212863521676\n",
      "76: 0.4213985075777557\n",
      "81: 0.3950917444281117\n",
      "86: 0.34473729441458756\n",
      "91: 0.2827938792526681\n",
      "96: 0.1601857724990711\n"
     ]
    }
   ],
   "source": [
    "filter_and_compute_road(model_adv, test_dataloader, device)"
   ]
  },
  {
   "cell_type": "code",
   "execution_count": 191,
   "id": "c95878ea-b60e-4e72-a7c9-5f15831cfcb8",
   "metadata": {},
   "outputs": [],
   "source": [
    "import math\n",
    "def filter_and_compute_input_stability(model, test_loader, device):\n",
    "    \n",
    "    metrics = quantus.RelativeInputStability(\n",
    "        nr_samples =5,\n",
    "        return_aggregate=False,\n",
    "         disable_warnings=True,\n",
    "    )\n",
    "    score = []\n",
    "    for i, (x_batch, y_batch) in enumerate(test_loader):\n",
    "        x_batch, y_batch = x_batch.to(device), y_batch.to(device)\n",
    "        outputs = model(x_batch)\n",
    "        predictions = torch.argmax(outputs, dim=1)\n",
    "        correct_mask = predictions == y_batch\n",
    "        x_batch = x_batch[correct_mask]\n",
    "        y_batch = y_batch[correct_mask]\n",
    "        x_batch, y_batch = x_batch.cpu().numpy(), y_batch.cpu().numpy()\n",
    "        scores = metrics(\n",
    "                model= model,\n",
    "                x_batch=x_batch,\n",
    "                y_batch=y_batch,\n",
    "                a_batch=None,\n",
    "                s_batch=None,\n",
    "                device=device,\n",
    "                explain_func= quantus.explain, \n",
    "                explain_func_kwargs = {\"method\": \"Saliency\", \"softmax\": False})\n",
    "        scores2 = np.nanmean(scores)\n",
    "        score.append(scores2)\n",
    "        if len(score) > 1000:\n",
    "            break \n",
    "    score2=score\n",
    "    return math.log(np.nanmean(score2), 10)"
   ]
  },
  {
   "cell_type": "code",
   "execution_count": 192,
   "id": "6dcc18d9-21de-4765-aa9f-5392a013a3d2",
   "metadata": {},
   "outputs": [
    {
     "name": "stdout",
     "output_type": "stream",
     "text": [
      "The relative input stability score is:  4.916048670285232\n"
     ]
    }
   ],
   "source": [
    "print(\"The relative input stability score is: \", filter_and_compute_input_stability(model, test_dataloader, device))"
   ]
  },
  {
   "cell_type": "code",
   "execution_count": 193,
   "id": "1d7155d7-16ba-49f5-8fe1-ebe75d1c6e31",
   "metadata": {},
   "outputs": [
    {
     "name": "stdout",
     "output_type": "stream",
     "text": [
      "The relative input stability score is:  4.3626501457087\n"
     ]
    }
   ],
   "source": [
    "print(\"The relative input stability score is: \", filter_and_compute_input_stability(model_adv, test_dataloader, device))"
   ]
  },
  {
   "cell_type": "code",
   "execution_count": 201,
   "id": "65648bc3-9655-4a4f-9bda-779736373182",
   "metadata": {},
   "outputs": [],
   "source": [
    "def filter_and_compute_output_stability(model, test_loader, device):\n",
    "    metrics = quantus.RelativeOutputStability(\n",
    "        nr_samples = 5,\n",
    "         return_aggregate=False,\n",
    "        disable_warnings=True,\n",
    "    )\n",
    "    score = []\n",
    "    \n",
    "    for i, (x_batch, y_batch) in enumerate(test_loader):\n",
    "        x_batch, y_batch = x_batch.to(device), y_batch.to(device)\n",
    "        outputs = model(x_batch)\n",
    "        predictions = torch.argmax(outputs, dim=1)\n",
    "        correct_mask = predictions == y_batch\n",
    "        x_batch = x_batch[correct_mask]\n",
    "        y_batch = y_batch[correct_mask]\n",
    "        x_batch, y_batch = x_batch.cpu().numpy(), y_batch.cpu().numpy()\n",
    "        scores = metrics(\n",
    "                model= model,\n",
    "                x_batch=x_batch,\n",
    "                y_batch=y_batch,\n",
    "                a_batch=None,\n",
    "                s_batch=None,\n",
    "                device=device,\n",
    "                explain_func= quantus.explain, \n",
    "                explain_func_kwargs = {\"method\": \"Saliency\", \"softmax\": False})\n",
    "        scores2 = np.nanmean(scores)\n",
    "        score.append(scores2)\n",
    "        if len(score) > 1000:\n",
    "            break \n",
    "    score2=score\n",
    "    return math.log(np.nanmean(score2), 10)"
   ]
  },
  {
   "cell_type": "code",
   "execution_count": 203,
   "id": "ddde41f0-749e-4eb9-8e4c-99706250982c",
   "metadata": {},
   "outputs": [
    {
     "name": "stdout",
     "output_type": "stream",
     "text": [
      "The relative output stability score is:  10.334893227947708\n"
     ]
    }
   ],
   "source": [
    "print(\"The relative output stability score is: \", filter_and_compute_output_stability(model, test_dataloader, device))"
   ]
  },
  {
   "cell_type": "code",
   "execution_count": 204,
   "id": "1c71ae95-7895-401e-bcbd-b9bd9d97618a",
   "metadata": {},
   "outputs": [
    {
     "name": "stdout",
     "output_type": "stream",
     "text": [
      "The relative output stability score is:  10.672220787386726\n"
     ]
    }
   ],
   "source": [
    "print(\"The relative output stability score is: \", filter_and_compute_output_stability(model_adv, test_dataloader, device))"
   ]
  },
  {
   "cell_type": "code",
   "execution_count": 205,
   "id": "368e8e7c-0508-47c6-a93f-6872afd53c62",
   "metadata": {},
   "outputs": [],
   "source": [
    "def filter_and_compute_sparsity(model, test_loader, device):\n",
    "    \n",
    "    sparsity = quantus.Sparseness(disable_warnings=True, return_aggregate=True)\n",
    "    score_sparsity = []\n",
    "\n",
    "    for i, (x_batch, y_batch) in enumerate(test_loader):\n",
    "        x_batch, y_batch = x_batch.to(device), y_batch.to(device)\n",
    "        #print(len(x_batch))\n",
    "        outputs = model(x_batch)\n",
    "        predictions = torch.argmax(outputs, dim=1)\n",
    "        correct_mask = predictions == y_batch\n",
    "        #print(correct_mask)\n",
    "        x_batch = x_batch[correct_mask]\n",
    "        y_batch = y_batch[correct_mask]\n",
    "        #print(len(x_batch))\n",
    "        x_batch, y_batch = x_batch.cpu().numpy(), y_batch.cpu().numpy()\n",
    "        scores = sparsity(\n",
    "                model= model,\n",
    "                x_batch=x_batch,\n",
    "                y_batch=y_batch,\n",
    "                a_batch=None,\n",
    "                s_batch=None,\n",
    "                device=device,\n",
    "                explain_func= quantus.explain, \n",
    "                explain_func_kwargs = {\"method\": \"Saliency\", \"softmax\": False})\n",
    "        score_sparsity.extend(scores)\n",
    "        if len(score_sparsity) > 1000:\n",
    "            break \n",
    "    return np.nanmean(score_sparsity), np.nanstd(score_sparsity)"
   ]
  },
  {
   "cell_type": "code",
   "execution_count": 206,
   "id": "ac1a4aef-5bc4-4308-a2e0-d679ce66ba54",
   "metadata": {},
   "outputs": [
    {
     "name": "stdout",
     "output_type": "stream",
     "text": [
      "The sparsity score is:  (0.5677687426936806, 0.003827704201699615)\n"
     ]
    }
   ],
   "source": [
    "print(\"The sparsity score is: \", filter_and_compute_sparsity(model, test_dataloader, device))"
   ]
  },
  {
   "cell_type": "code",
   "execution_count": 207,
   "id": "bc004c35-7e97-420b-a2f1-ae9513c0d2f5",
   "metadata": {},
   "outputs": [
    {
     "name": "stdout",
     "output_type": "stream",
     "text": [
      "The sparsity score is:  (0.5874429138194804, 0.006468718623922003)\n"
     ]
    }
   ],
   "source": [
    "print(\"The sparsity score is: \", filter_and_compute_sparsity(model_adv, test_dataloader, device))"
   ]
  },
  {
   "cell_type": "code",
   "execution_count": null,
   "id": "8384bba7-16fd-4147-9dad-84771ef1c4c2",
   "metadata": {},
   "outputs": [],
   "source": []
  }
 ],
 "metadata": {
  "kernelspec": {
   "display_name": "Python 3 (ipykernel)",
   "language": "python",
   "name": "python3"
  },
  "language_info": {
   "codemirror_mode": {
    "name": "ipython",
    "version": 3
   },
   "file_extension": ".py",
   "mimetype": "text/x-python",
   "name": "python",
   "nbconvert_exporter": "python",
   "pygments_lexer": "ipython3",
   "version": "3.12.3"
  }
 },
 "nbformat": 4,
 "nbformat_minor": 5
}
