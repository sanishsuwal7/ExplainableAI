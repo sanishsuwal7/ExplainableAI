{
 "cells": [
  {
   "cell_type": "code",
   "execution_count": 2,
   "id": "93353e0b-c5ac-48d3-b291-a6fbcff74918",
   "metadata": {},
   "outputs": [],
   "source": [
    "import torch\n",
    "from torch import nn\n",
    "import torch.nn as nn\n",
    "import torch.nn.functional as F\n",
    "from torch.utils.data import DataLoader\n",
    "\n",
    "import torchvision\n",
    "from torchvision import datasets\n",
    "from torchvision.transforms import Normalize\n",
    "from torchvision import transforms\n",
    "from torchmetrics import Accuracy\n",
    "\n",
    "import torch.optim as optim\n",
    "from cleverhans.torch.attacks.projected_gradient_descent import (projected_gradient_descent)\n",
    "\n",
    "import quantus\n",
    "import captum\n",
    "from captum.attr import Saliency, IntegratedGradients, NoiseTunnel\n",
    "\n",
    "import pandas as pd\n",
    "import numpy as np\n",
    "import matplotlib.pyplot as plt\n",
    "\n",
    "import random\n",
    "import copy\n",
    "import gc\n",
    "\n",
    "import warnings\n",
    "warnings.filterwarnings('ignore')\n",
    "\n"
   ]
  },
  {
   "cell_type": "code",
   "execution_count": 3,
   "id": "f7b011ac-a913-45e6-8580-b2fdcdf02757",
   "metadata": {},
   "outputs": [],
   "source": [
    "transformer = torchvision.transforms.Compose([torchvision.transforms.ToTensor()])\n",
    "test_dataset = torchvision.datasets.FashionMNIST(root='./datasets', train=False, transform=transformer, download=True)\n",
    "test_dataloader = torch.utils.data.DataLoader(test_dataset, batch_size=50, pin_memory=True)"
   ]
  },
  {
   "cell_type": "code",
   "execution_count": 4,
   "id": "d6ab24c5-d345-4494-950d-4906f617e51e",
   "metadata": {},
   "outputs": [],
   "source": [
    "class LeNet(torch.nn.Module):\n",
    "    def __init__(self):\n",
    "        super().__init__()\n",
    "        self.conv_1 = torch.nn.Conv2d(1, 6, 5)\n",
    "        self.pool_1 = torch.nn.MaxPool2d(2, 2)\n",
    "        self.relu_1 = torch.nn.ReLU()\n",
    "        self.conv_2 = torch.nn.Conv2d(6, 16, 5)\n",
    "        self.pool_2 = torch.nn.MaxPool2d(2, 2)\n",
    "        self.relu_2 = torch.nn.ReLU()\n",
    "        self.fc_1 = torch.nn.Linear(256, 120)\n",
    "        self.relu_3 = torch.nn.ReLU()\n",
    "        self.fc_2 = torch.nn.Linear(120, 84)\n",
    "        self.relu_4 = torch.nn.ReLU()\n",
    "        self.fc_3 = torch.nn.Linear(84, 10)\n",
    "\n",
    "    def forward(self, x):\n",
    "        x = self.pool_1(self.relu_1(self.conv_1(x)))\n",
    "        x = self.pool_2(self.relu_2(self.conv_2(x)))\n",
    "        x = x.view(x.shape[0], -1)\n",
    "        x = self.relu_3(self.fc_1(x))\n",
    "        x = self.relu_4(self.fc_2(x))\n",
    "        x = self.fc_3(x)\n",
    "        return x"
   ]
  },
  {
   "cell_type": "code",
   "execution_count": 108,
   "id": "83309437-e4c8-4edc-bddf-79319ca49268",
   "metadata": {},
   "outputs": [],
   "source": [
    "device = 'cuda' if torch.cuda.is_available() else 'cpu'"
   ]
  },
  {
   "cell_type": "code",
   "execution_count": 110,
   "id": "fa8163f0-bf39-4c89-b79e-3492c8144a2a",
   "metadata": {},
   "outputs": [
    {
     "data": {
      "text/plain": [
       "<All keys matched successfully>"
      ]
     },
     "execution_count": 110,
     "metadata": {},
     "output_type": "execute_result"
    }
   ],
   "source": [
    "from pathlib import Path\n",
    "\n",
    "MODEL_PATH = Path(\"models\")\n",
    "MODEL_PATH.mkdir(parents=True, exist_ok=True)\n",
    "\n",
    "MODEL_NAME = \"lenet_fmnist.pth\"\n",
    "MODEL_SAVE_PATH = MODEL_PATH / MODEL_NAME\n",
    "model = LeNet().to(device)\n",
    "model.load_state_dict(torch.load(MODEL_SAVE_PATH))\n"
   ]
  },
  {
   "cell_type": "code",
   "execution_count": 12,
   "id": "e9910320-ad0e-40c9-96ae-d42641225c26",
   "metadata": {},
   "outputs": [],
   "source": [
    "x_batch, y_batch = next(iter(test_dataloader))\n",
    "x_batch, y_batch = x_batch.to(device), y_batch.to(device)"
   ]
  },
  {
   "cell_type": "code",
   "execution_count": 14,
   "id": "a72f5e4b-9957-4ef6-a046-5df9840a41a4",
   "metadata": {},
   "outputs": [],
   "source": [
    "a_batch_integrad = quantus.normalise_func.normalise_by_negative(IntegratedGradients(model).attribute(inputs=x_batch, target=y_batch, baselines=torch.zeros_like(x_batch)).sum(axis=1).cpu().numpy())\n",
    "a_batch_integrad[a_batch_integrad<0] = 0\n",
    "a_batch_saliency = quantus.normalise_func.normalise_by_negative(Saliency(model).attribute(inputs=x_batch, target=y_batch, abs=True).sum(axis=1).cpu().numpy())\n",
    "saliency = Saliency(model)\n",
    "a_batch_smoothgrad = quantus.normalise_func.normalise_by_negative(NoiseTunnel(saliency).attribute(inputs = x_batch, target = y_batch, nt_type ='smoothgrad', nt_samples = 50, stdevs=0.15).sum(axis=1).cpu().numpy())\n"
   ]
  },
  {
   "cell_type": "code",
   "execution_count": 16,
   "id": "1a34005f-9996-4a65-b11a-e082f194b79d",
   "metadata": {},
   "outputs": [],
   "source": [
    "x_batch, y_batch = x_batch.cpu().numpy(), y_batch.cpu().numpy()"
   ]
  },
  {
   "cell_type": "code",
   "execution_count": 18,
   "id": "8bc9c269-4122-490e-830d-b4ad70d3a13b",
   "metadata": {},
   "outputs": [
    {
     "data": {
      "image/png": "[encoded data removed]",
      "text/plain": [
       "<Figure size 1000x200 with 4 Axes>"
      ]
     },
     "metadata": {},
     "output_type": "display_data"
    }
   ],
   "source": [
    "index = 5\n",
    "nr_images = 2\n",
    "fig, axes = plt.subplots(nrows=1, ncols=4, figsize=(nr_images*5., int(nr_images)))\n",
    "\n",
    "#plot normal\n",
    "axes[0].imshow(np.reshape(x_batch[index], (28,28)), cmap=\"grey\")\n",
    "axes[0].title.set_text(f\"Normal Image {y_batch[index].item()}\")\n",
    "axes[0].axis(\"off\")\n",
    "axes[1].imshow(a_batch_saliency[index], cmap=\"hot\")\n",
    "axes[1].title.set_text(f\"Vanilla Gradient\")\n",
    "axes[1].axis(\"off\")  \n",
    "axes[2].imshow(a_batch_integrad[index], cmap=\"hot\")\n",
    "axes[2].title.set_text(f\"Integrated Gradients\")\n",
    "axes[2].axis(\"off\")\n",
    "axes[3].imshow(a_batch_smoothgrad[index], cmap=\"hot\")\n",
    "axes[3].title.set_text(f\"Smooth Gradients\")\n",
    "axes[3].axis(\"off\")\n",
    "# axes[4].imshow(a_batch_noisegrad[index], cmap=\"seismic\")\n",
    "# axes[4].title.set_text(f\"Noise Gradients\")\n",
    "# axes[4].axis(\"off\")\n",
    "plt.tight_layout()\n",
    "\n",
    "\n",
    "plt.show()"
   ]
  },
  {
   "cell_type": "code",
   "execution_count": 112,
   "id": "ab17a47d-108c-4678-b3fd-4249137bb11e",
   "metadata": {},
   "outputs": [
    {
     "data": {
      "text/plain": [
       "<All keys matched successfully>"
      ]
     },
     "execution_count": 112,
     "metadata": {},
     "output_type": "execute_result"
    }
   ],
   "source": [
    "from pathlib import Path\n",
    "\n",
    "MODEL_PATH = Path(\"models\")\n",
    "MODEL_PATH.mkdir(parents=True, exist_ok=True)\n",
    "\n",
    "MODEL_NAME = \"lenet_fmnist_adv.pth\"\n",
    "MODEL_SAVE_PATH = MODEL_PATH / MODEL_NAME\n",
    "model_adv = LeNet().to(device)\n",
    "model_adv.load_state_dict(torch.load(MODEL_SAVE_PATH))"
   ]
  },
  {
   "cell_type": "code",
   "execution_count": 22,
   "id": "9e498c52-64cf-4375-be6b-88b57f400219",
   "metadata": {},
   "outputs": [],
   "source": [
    "x_batch, y_batch = next(iter(test_dataloader))\n",
    "x_batch, y_batch = x_batch.to(device), y_batch.to(device)"
   ]
  },
  {
   "cell_type": "code",
   "execution_count": 24,
   "id": "c85f8c17-21ae-4f18-9b98-d9cf54ea4319",
   "metadata": {},
   "outputs": [],
   "source": [
    "a_batch_integrad_adv = quantus.normalise_func.normalise_by_negative(IntegratedGradients(model_adv).attribute(inputs=x_batch, target=y_batch, baselines=torch.zeros_like(x_batch)).sum(axis=1).cpu().numpy())\n",
    "a_batch_integrad_adv[a_batch_integrad_adv<0] = 0\n",
    "a_batch_saliency_adv = quantus.normalise_func.normalise_by_negative(Saliency(model_adv).attribute(inputs=x_batch, target=y_batch, abs=True).sum(axis=1).cpu().numpy())\n",
    "saliency = Saliency(model_adv)\n",
    "a_batch_smoothgrad_adv = quantus.normalise_func.normalise_by_negative(NoiseTunnel(saliency).attribute(inputs = x_batch, target = y_batch, nt_type ='smoothgrad', nt_samples = 50, stdevs=0.15).sum(axis=1).cpu().numpy())\n"
   ]
  },
  {
   "cell_type": "code",
   "execution_count": 26,
   "id": "51233af8-2705-48b2-b731-2a027248ae58",
   "metadata": {},
   "outputs": [],
   "source": [
    "x_batch, y_batch = x_batch.cpu().numpy(), y_batch.cpu().numpy()"
   ]
  },
  {
   "cell_type": "code",
   "execution_count": 28,
   "id": "743232d2-96fa-4392-86ab-066b818f0677",
   "metadata": {},
   "outputs": [
    {
     "data": {
      "image/png": "[encoded data removed]",
      "text/plain": [
       "<Figure size 1000x200 with 4 Axes>"
      ]
     },
     "metadata": {},
     "output_type": "display_data"
    }
   ],
   "source": [
    "\n",
    "nr_images = 2\n",
    "fig, axes = plt.subplots(nrows=1, ncols=4, figsize=(nr_images*5., int(nr_images)))\n",
    "\n",
    "#plot normal\n",
    "axes[0].imshow(np.reshape(x_batch[index], (28,28)), cmap=\"grey\")\n",
    "axes[0].title.set_text(f\"Normal Image {y_batch[index].item()}\")\n",
    "axes[0].axis(\"off\")\n",
    "axes[1].imshow(a_batch_saliency_adv[index], cmap=\"hot\")\n",
    "axes[1].title.set_text(f\"Vanilla Gradient\")\n",
    "axes[1].axis(\"off\")  \n",
    "axes[2].imshow(a_batch_integrad_adv[index], cmap=\"hot\")\n",
    "axes[2].title.set_text(f\"Integrated Gradients\")\n",
    "axes[2].axis(\"off\")\n",
    "axes[3].imshow(a_batch_smoothgrad_adv[index], cmap=\"hot\")\n",
    "axes[3].title.set_text(f\"Smooth Gradients\")\n",
    "axes[3].axis(\"off\")\n",
    "# axes[4].imshow(a_batch_noisegrad[index], cmap=\"seismic\")\n",
    "# axes[4].title.set_text(f\"Noise Gradients\")\n",
    "# axes[4].axis(\"off\")\n",
    "plt.tight_layout()\n",
    "\n",
    "\n",
    "plt.show()"
   ]
  },
  {
   "cell_type": "code",
   "execution_count": 46,
   "id": "2876ac11-2527-41ac-814d-2f91376b555c",
   "metadata": {},
   "outputs": [],
   "source": [
    "def explainer_wrapper(**kwargs):\n",
    "    if kwargs[\"method\"] == \"SmoothGrad\":\n",
    "        return smoothgrad_explainer(**kwargs)\n",
    "    else:\n",
    "        return ValueError(\"Explanation function doesnt exist\")\n",
    "\n",
    "def smoothgrad_explainer(model, inputs, targets, abs=True, normalise=True, stdevs=0.15, nt_samples=10, *args, **kwargs):\n",
    "    std = kwargs.get(\"std\", 0.15)  # Standard deviation for input noise\n",
    "    n = kwargs.get(\"n\", 10)  # Number of noisy samples\n",
    "    clip = kwargs.get(\"clip\", False)\n",
    "\n",
    "    model.to(kwargs.get(\"device\", None))\n",
    "    model.eval()\n",
    "\n",
    "    if not isinstance(inputs, torch.Tensor):\n",
    "        inputs = (\n",
    "            torch.Tensor(inputs).reshape(-1,kwargs.get(\"nr_channels\", 1),kwargs.get(\"img_size\", 28),kwargs.get(\"img_size\", 28),).to(kwargs.get(\"device\", None))\n",
    "        )\n",
    "    \n",
    "    if not isinstance(targets, torch.Tensor):\n",
    "        targets = torch.as_tensor(targets).long().to(kwargs.get(\"device\", None))\n",
    "\n",
    "    assert (len(np.shape(inputs)) == 4), \"Inputs should be shaped (nr_samples, nr_channels, img_size, img_size\"\n",
    "\n",
    "    if inputs.shape[0] > 1:\n",
    "        explanation = torch.zeros(\n",
    "            (\n",
    "                n,\n",
    "                inputs.shape[0],\n",
    "                kwargs.get(\"img_size\", 28),\n",
    "                kwargs.get(\"img_size\", 28),\n",
    "            )\n",
    "        )\n",
    "    else:\n",
    "        explanation = torch.zeros(\n",
    "            (n, kwargs.get(\"img_size\", 28), kwargs.get(\"img_size\", 28))\n",
    "        )\n",
    "    saliency = Saliency(model)\n",
    "    \n",
    "    # for i in range(n):\n",
    "    #     # Create noisy input by adding Gaussian noise\n",
    "    #     # inputs_noisy = inputs + torch.randn_like(inputs) * std\n",
    "    #     # Clip the noisy inputs to the valid range if needed\n",
    "    #     if clip:\n",
    "    #         inputs_noisy = torch.clip(inputs_noisy, min=0.0, max=1.0)\n",
    "\n",
    "    #     # Compute the saliency map for the noisy input\n",
    "    explanation = (\n",
    "        NoiseTunnel(saliency)\n",
    "        .attribute(inputs=inputs, target=targets, nt_type=\"smoothgrad\", stdevs = stdevs, nt_samples= 10)\n",
    "        .sum(axis=1)\n",
    "        .reshape(-1, kwargs.get(\"img_size\", 28), kwargs.get(\"img_size\", 28))\n",
    "        .cpu()\n",
    "        .data\n",
    "    )\n",
    "\n",
    "    # explanation = explanation.mean(axis=0)\n",
    "    gc.collect()\n",
    "    torch.cuda.empty_cache()\n",
    "\n",
    "    explanation = explanation.numpy()\n",
    "    # Normalization (if required)\n",
    "    if normalise:\n",
    "        explanation = quantus.normalise_func.normalise_by_negative(explanation)\n",
    "\n",
    "    # Convert the result to NumPy if it is still a PyTorch tensor\n",
    "    if isinstance(explanation, torch.Tensor):\n",
    "        if explanation.requires_grad:\n",
    "            return explanation.cpu().detach().numpy()\n",
    "        return explanation.cpu().numpy()\n",
    "\n",
    "    return explanation\n",
    "\n",
    "\n",
    "# # SmoothGrad\n",
    "gc.collect()\n",
    "torch.cuda.empty_cache()\n",
    "a_batch_smoothgrad_custom = smoothgrad_explainer(model=model.to(device), \n",
    "                                        inputs=x_batch, \n",
    "                                        targets=y_batch,\n",
    "                                        **{ \"device\": device})\n",
    "\n",
    "gc.collect()\n",
    "torch.cuda.empty_cache()\n",
    "a_batch_smoothgrad_adv_custom = smoothgrad_explainer(model=model_adv.to(device), \n",
    "                                        inputs=x_batch, \n",
    "                                        targets=y_batch,\n",
    "                                        **{ \"device\": device})\n"
   ]
  },
  {
   "cell_type": "code",
   "execution_count": 80,
   "id": "c62eebed-6e21-4730-90dd-cbd452803db8",
   "metadata": {},
   "outputs": [],
   "source": [
    "xai_method=[\"SmoothGrad\"]"
   ]
  },
  {
   "cell_type": "code",
   "execution_count": 57,
   "id": "4ecc3c6f-0b77-491c-908b-5e5b7832f44b",
   "metadata": {},
   "outputs": [],
   "source": [
    "def filter_and_compute_road(model, test_loader, device):\n",
    "\n",
    "    faithfulness = quantus.ROAD(\n",
    "    noise=0.01,\n",
    "    perturb_func=quantus.perturb_func.noisy_linear_imputation,\n",
    "    percentages=list(range(1, 100, 5)),\n",
    "    display_progressbar=False)\n",
    "\n",
    "\n",
    "    score_faithfulness = []\n",
    "\n",
    "    for i, (x_batch, y_batch) in enumerate(test_loader):\n",
    "        x_batch, y_batch = x_batch.to(device), y_batch.to(device)\n",
    "        #print(len(x_batch))\n",
    "        outputs = model(x_batch)\n",
    "        predictions = torch.argmax(outputs, dim=1)\n",
    "        correct_mask = predictions == y_batch\n",
    "        #print(correct_mask)\n",
    "        x_batch = x_batch[correct_mask]\n",
    "        y_batch = y_batch[correct_mask]\n",
    "        #print(len(x_batch))\n",
    "        x_batch, y_batch = x_batch.cpu().numpy(), y_batch.cpu().numpy()\n",
    "        scores = faithfulness(\n",
    "                model= model,\n",
    "                x_batch=x_batch,\n",
    "                y_batch=y_batch,\n",
    "                a_batch=None,\n",
    "                s_batch=None,\n",
    "                device=device,\n",
    "                explain_func= quantus.explain,\n",
    "                explain_func_kwargs = {\"method\": \"Saliency\", \"softmax\": False})\n",
    "        #print(scores)\n",
    "        \n",
    "        score_faithfulness.append(scores)\n",
    "        if len(score_faithfulness) > 1000:\n",
    "            break\n",
    "    average_values = {}\n",
    "    for d in score_faithfulness:\n",
    "        for key, value in d.items():\n",
    "            if key in average_values:\n",
    "                average_values[key] += value\n",
    "            else:\n",
    "                average_values[key] = value\n",
    "\n",
    "    # Divide the sum by the number of dictionaries to get the average\n",
    "    num_dicts = len(score_faithfulness)\n",
    "    for key in average_values.keys():\n",
    "        average_values[key] /= num_dicts\n",
    "\n",
    "    # Display the average values\n",
    "    # print(\"Average Values:\")\n",
    "    # for key, value in average_values.items():\n",
    "    #     print(f\"{key}: {value}\")\n",
    "    return average_values\n"
   ]
  },
  {
   "cell_type": "code",
   "execution_count": 59,
   "id": "ae1ff890-4523-4677-b6b7-a7db79cb617d",
   "metadata": {},
   "outputs": [],
   "source": [
    "result_normal = filter_and_compute_road(model, test_dataloader, device)"
   ]
  },
  {
   "cell_type": "code",
   "execution_count": 61,
   "id": "b397d085-71de-45fd-a2a0-b688aced6ad0",
   "metadata": {},
   "outputs": [],
   "source": [
    "result_adv = filter_and_compute_road(model_adv, test_dataloader, device)"
   ]
  },
  {
   "cell_type": "code",
   "execution_count": 69,
   "id": "f421c14a-9cda-4682-8219-68560e5d5455",
   "metadata": {},
   "outputs": [
    {
     "data": {
      "image/png": "[encoded data removed]",
      "text/plain": [
       "<Figure size 400x300 with 1 Axes>"
      ]
     },
     "metadata": {},
     "output_type": "display_data"
    }
   ],
   "source": [
    "import matplotlib.pyplot as plt\n",
    "import pandas as pd\n",
    "\n",
    "# Plot setup\n",
    "fig, ax = plt.subplots(figsize=(4, 3))\n",
    "\n",
    "ax.plot(list(result_normal.keys()),list(result_normal.values()), label='N', linestyle='-', marker='o', linewidth=2)\n",
    "ax.plot(list(result_adv.keys()), list(result_adv.values()), label='A', linestyle='--', marker='s', linewidth=2)\n",
    "\n",
    "# Customize the plot\n",
    "ax.set_xlabel('% of Features Removed', fontsize=10)\n",
    "ax.set_ylabel('Accuracy', fontsize=10)\n",
    "ax.legend(fontsize=10)\n",
    "\n",
    "# Grid and ticks\n",
    "ax.grid(True, which='both', linestyle='--', linewidth=0.5)\n",
    "ax.tick_params(axis='both', which='major', labelsize=10)\n",
    "\n",
    "plt.savefig(\"LeNet_FMNIST_SALIENCY_ROAD.pdf\", format=\"pdf\", dpi=300, bbox_inches=\"tight\")\n",
    "plt.show()"
   ]
  },
  {
   "cell_type": "code",
   "execution_count": 75,
   "id": "6dafa563-aa53-4edd-9446-6ca189748a3c",
   "metadata": {},
   "outputs": [],
   "source": [
    "def filter_and_compute_road(model, test_loader, device):\n",
    "\n",
    "    faithfulness = quantus.ROAD(\n",
    "    noise=0.01,\n",
    "    perturb_func=quantus.perturb_func.noisy_linear_imputation,\n",
    "    percentages=list(range(1, 100, 5)),\n",
    "    display_progressbar=False)\n",
    "\n",
    "\n",
    "    score_faithfulness = []\n",
    "\n",
    "    for i, (x_batch, y_batch) in enumerate(test_loader):\n",
    "        x_batch, y_batch = x_batch.to(device), y_batch.to(device)\n",
    "        #print(len(x_batch))\n",
    "        outputs = model(x_batch)\n",
    "        predictions = torch.argmax(outputs, dim=1)\n",
    "        correct_mask = predictions == y_batch\n",
    "        #print(correct_mask)\n",
    "        x_batch = x_batch[correct_mask]\n",
    "        y_batch = y_batch[correct_mask]\n",
    "        #print(len(x_batch))\n",
    "        x_batch, y_batch = x_batch.cpu().numpy(), y_batch.cpu().numpy()\n",
    "        scores = faithfulness(\n",
    "                model= model,\n",
    "                x_batch=x_batch,\n",
    "                y_batch=y_batch,\n",
    "                a_batch=None,\n",
    "                s_batch=None,\n",
    "                device=device,\n",
    "                explain_func= quantus.explain,\n",
    "                explain_func_kwargs = {\"method\": \"IntegratedGradients\", \"softmax\": False})\n",
    "        #print(scores)\n",
    "        \n",
    "        score_faithfulness.append(scores)\n",
    "        if len(score_faithfulness) > 1000:\n",
    "            break\n",
    "    average_values = {}\n",
    "    for d in score_faithfulness:\n",
    "        for key, value in d.items():\n",
    "            if key in average_values:\n",
    "                average_values[key] += value\n",
    "            else:\n",
    "                average_values[key] = value\n",
    "\n",
    "    # Divide the sum by the number of dictionaries to get the average\n",
    "    num_dicts = len(score_faithfulness)\n",
    "    for key in average_values.keys():\n",
    "        average_values[key] /= num_dicts\n",
    "\n",
    "    # Display the average values\n",
    "    # print(\"Average Values:\")\n",
    "    # for key, value in average_values.items():\n",
    "    #     print(f\"{key}: {value}\")\n",
    "    return average_values"
   ]
  },
  {
   "cell_type": "code",
   "execution_count": 77,
   "id": "71434ccc-bae1-438b-b940-b30a04756e25",
   "metadata": {},
   "outputs": [],
   "source": [
    "result_normal_ig = filter_and_compute_road(model, test_dataloader, device)"
   ]
  },
  {
   "cell_type": "code",
   "execution_count": 78,
   "id": "b9ba9857-b0bc-4fb8-87f5-af99e43c6dc0",
   "metadata": {},
   "outputs": [],
   "source": [
    "result_adv_ig = filter_and_compute_road(model_adv, test_dataloader, device)"
   ]
  },
  {
   "cell_type": "code",
   "execution_count": 80,
   "id": "240141be-2a62-4d7f-821a-9868115e8865",
   "metadata": {},
   "outputs": [
    {
     "data": {
      "image/png": "[encoded data removed]",
      "text/plain": [
       "<Figure size 400x300 with 1 Axes>"
      ]
     },
     "metadata": {},
     "output_type": "display_data"
    }
   ],
   "source": [
    "import matplotlib.pyplot as plt\n",
    "import pandas as pd\n",
    "\n",
    "# Plot setup\n",
    "fig, ax = plt.subplots(figsize=(4, 3))\n",
    "\n",
    "ax.plot(list(result_normal_ig.keys()),list(result_normal_ig.values()), label='N', linestyle='-', marker='o', linewidth=2)\n",
    "ax.plot(list(result_normal_ig.keys()), list(result_adv_ig.values()), label='A', linestyle='--', marker='s', linewidth=2)\n",
    "\n",
    "# Customize the plot\n",
    "ax.set_xlabel('% of Features Removed', fontsize=10)\n",
    "ax.set_ylabel('Accuracy', fontsize=10)\n",
    "ax.legend(fontsize=10)\n",
    "\n",
    "# Grid and ticks\n",
    "ax.grid(True, which='both', linestyle='--', linewidth=0.5)\n",
    "ax.tick_params(axis='both', which='major', labelsize=10)\n",
    "\n",
    "plt.savefig(\"LeNet_FMNIST_IG_ROAD.pdf\", format=\"pdf\", dpi=300, bbox_inches=\"tight\")\n",
    "plt.show()"
   ]
  },
  {
   "cell_type": "code",
   "execution_count": 82,
   "id": "7a01b732-02cb-40e8-ba15-4e4358b83c8e",
   "metadata": {},
   "outputs": [],
   "source": [
    "def filter_and_compute_road(model, test_loader, device):\n",
    "\n",
    "    faithfulness = quantus.ROAD(\n",
    "    noise=0.01,\n",
    "    perturb_func=quantus.perturb_func.noisy_linear_imputation,\n",
    "    percentages=list(range(1, 100, 5)),\n",
    "    display_progressbar=False)\n",
    "\n",
    "\n",
    "    score_faithfulness = []\n",
    "\n",
    "    for i, (x_batch, y_batch) in enumerate(test_loader):\n",
    "        x_batch, y_batch = x_batch.to(device), y_batch.to(device)\n",
    "        #print(len(x_batch))\n",
    "        outputs = model(x_batch)\n",
    "        predictions = torch.argmax(outputs, dim=1)\n",
    "        correct_mask = predictions == y_batch\n",
    "        #print(correct_mask)\n",
    "        x_batch = x_batch[correct_mask]\n",
    "        y_batch = y_batch[correct_mask]\n",
    "        #print(len(x_batch))\n",
    "        x_batch, y_batch = x_batch.cpu().numpy(), y_batch.cpu().numpy()\n",
    "        scores = faithfulness(\n",
    "                model= model,\n",
    "                x_batch=x_batch,\n",
    "                y_batch=y_batch,\n",
    "                a_batch=None,\n",
    "                s_batch=None,\n",
    "                device=device,\n",
    "                explain_func= explainer_wrapper,\n",
    "                explain_func_kwargs = {\n",
    "                    \"method\": xai_method[0],\n",
    "                    \"posterior_mean\": copy.deepcopy(\n",
    "                        model\n",
    "                        .to(device)\n",
    "                        .state_dict()\n",
    "                    ),\n",
    "                    \"mean\": 1.0,\n",
    "                    \"std\": 0.5,\n",
    "                    \"n\": 25,\n",
    "                    \"device\": device,\n",
    "                },\n",
    "        )\n",
    "        #print(scores)\n",
    "        \n",
    "        score_faithfulness.append(scores)\n",
    "        if len(score_faithfulness) > 1000:\n",
    "            break\n",
    "    average_values = {}\n",
    "    for d in score_faithfulness:\n",
    "        for key, value in d.items():\n",
    "            if key in average_values:\n",
    "                average_values[key] += value\n",
    "            else:\n",
    "                average_values[key] = value\n",
    "\n",
    "    # Divide the sum by the number of dictionaries to get the average\n",
    "    num_dicts = len(score_faithfulness)\n",
    "    for key in average_values.keys():\n",
    "        average_values[key] /= num_dicts\n",
    "\n",
    "    # Display the average values\n",
    "    # print(\"Average Values:\")\n",
    "    # for key, value in average_values.items():\n",
    "    #     print(f\"{key}: {value}\")\n",
    "    return average_values"
   ]
  },
  {
   "cell_type": "code",
   "execution_count": 84,
   "id": "8355d70b-ca23-4d76-824b-2d24f6b445cc",
   "metadata": {},
   "outputs": [],
   "source": [
    "result_normal_smooth = filter_and_compute_road(model, test_dataloader, device)"
   ]
  },
  {
   "cell_type": "code",
   "execution_count": 85,
   "id": "581b3816-3ad8-463a-9944-ab9a46e39a73",
   "metadata": {},
   "outputs": [],
   "source": [
    "result_adv_smooth = filter_and_compute_road(model_adv, test_dataloader, device)"
   ]
  },
  {
   "cell_type": "code",
   "execution_count": 86,
   "id": "a05f4308-e287-43b7-9d9a-d19d3309ddfd",
   "metadata": {},
   "outputs": [
    {
     "data": {
      "image/png": "[encoded data removed]",
      "text/plain": [
       "<Figure size 400x300 with 1 Axes>"
      ]
     },
     "metadata": {},
     "output_type": "display_data"
    }
   ],
   "source": [
    "import matplotlib.pyplot as plt\n",
    "import pandas as pd\n",
    "\n",
    "# Plot setup\n",
    "fig, ax = plt.subplots(figsize=(4, 3))\n",
    "\n",
    "ax.plot(list(result_normal_smooth.keys()),list(result_normal_smooth.values()), label='N', linestyle='-', marker='o', linewidth=2)\n",
    "ax.plot(list(result_normal_smooth.keys()), list(result_adv_smooth.values()), label='A', linestyle='--', marker='s', linewidth=2)\n",
    "\n",
    "# Customize the plot\n",
    "ax.set_xlabel('% of Features Removed', fontsize=10)\n",
    "ax.set_ylabel('Accuracy', fontsize=10)\n",
    "ax.legend(fontsize=10)\n",
    "\n",
    "# Grid and ticks\n",
    "ax.grid(True, which='both', linestyle='--', linewidth=0.5)\n",
    "ax.tick_params(axis='both', which='major', labelsize=10)\n",
    "\n",
    "plt.savefig(\"LeNet_FMNIST_SMOOTH_ROAD.pdf\", format=\"pdf\", dpi=300, bbox_inches=\"tight\")\n",
    "plt.show()"
   ]
  },
  {
   "cell_type": "code",
   "execution_count": 36,
   "id": "c95878ea-b60e-4e72-a7c9-5f15831cfcb8",
   "metadata": {},
   "outputs": [],
   "source": [
    "import math\n",
    "def filter_and_compute_input_stability(model, test_loader, device):\n",
    "    \n",
    "    metrics = quantus.RelativeInputStability(\n",
    "        nr_samples =5,\n",
    "        return_aggregate=False,\n",
    "         disable_warnings=True,\n",
    "    )\n",
    "    score = []\n",
    "    for i, (x_batch, y_batch) in enumerate(test_loader):\n",
    "        x_batch, y_batch = x_batch.to(device), y_batch.to(device)\n",
    "        outputs = model(x_batch)\n",
    "        predictions = torch.argmax(outputs, dim=1)\n",
    "        correct_mask = predictions == y_batch\n",
    "        x_batch = x_batch[correct_mask]\n",
    "        y_batch = y_batch[correct_mask]\n",
    "        x_batch, y_batch = x_batch.cpu().numpy(), y_batch.cpu().numpy()\n",
    "        scores = metrics(\n",
    "                model= model,\n",
    "                x_batch=x_batch,\n",
    "                y_batch=y_batch,\n",
    "                a_batch=None,\n",
    "                s_batch=None,\n",
    "                device=device,\n",
    "                explain_func= quantus.explain, \n",
    "                explain_func_kwargs = {\"method\": \"Saliency\", \"softmax\": False})\n",
    "        scores2 = np.nanmean(scores)\n",
    "        score.append(scores2)\n",
    "        if len(score) > 1000:\n",
    "            break \n",
    "    score2=score\n",
    "    return math.log(np.nanmean(score2), 10)"
   ]
  },
  {
   "cell_type": "code",
   "execution_count": 86,
   "id": "6dcc18d9-21de-4765-aa9f-5392a013a3d2",
   "metadata": {},
   "outputs": [
    {
     "name": "stdout",
     "output_type": "stream",
     "text": [
      "The relative input stability score is:  3.877078447886443\n"
     ]
    }
   ],
   "source": [
    "print(\"The relative input stability score is: \", filter_and_compute_input_stability(model, test_dataloader, device))"
   ]
  },
  {
   "cell_type": "code",
   "execution_count": 87,
   "id": "1d7155d7-16ba-49f5-8fe1-ebe75d1c6e31",
   "metadata": {},
   "outputs": [
    {
     "name": "stdout",
     "output_type": "stream",
     "text": [
      "The relative input stability score is:  3.9085331154510055\n"
     ]
    }
   ],
   "source": [
    "print(\"The relative input stability score is: \", filter_and_compute_input_stability(model_adv, test_dataloader, device))"
   ]
  },
  {
   "cell_type": "code",
   "execution_count": 88,
   "id": "320b26fc-76b7-4fbe-9899-081b16ce6e9a",
   "metadata": {},
   "outputs": [],
   "source": [
    "import math\n",
    "def filter_and_compute_input_stability(model, test_loader, device):\n",
    "    \n",
    "    metrics = quantus.RelativeInputStability(\n",
    "        nr_samples =5,\n",
    "        return_aggregate=False,\n",
    "         disable_warnings=True,\n",
    "    )\n",
    "    score = []\n",
    "    for i, (x_batch, y_batch) in enumerate(test_loader):\n",
    "        x_batch, y_batch = x_batch.to(device), y_batch.to(device)\n",
    "        outputs = model(x_batch)\n",
    "        predictions = torch.argmax(outputs, dim=1)\n",
    "        correct_mask = predictions == y_batch\n",
    "        x_batch = x_batch[correct_mask]\n",
    "        y_batch = y_batch[correct_mask]\n",
    "        x_batch, y_batch = x_batch.cpu().numpy(), y_batch.cpu().numpy()\n",
    "        scores = metrics(\n",
    "                model= model,\n",
    "                x_batch=x_batch,\n",
    "                y_batch=y_batch,\n",
    "                a_batch=None,\n",
    "                s_batch=None,\n",
    "                device=device,\n",
    "                explain_func= quantus.explain, \n",
    "                explain_func_kwargs = {\"method\": \"IntegratedGradients\", \"softmax\": False})\n",
    "        scores2 = np.nanmean(scores)\n",
    "        score.append(scores2)\n",
    "        if len(score) > 1000:\n",
    "            break \n",
    "    score2=score\n",
    "    return math.log(np.nanmean(score2), 10)"
   ]
  },
  {
   "cell_type": "code",
   "execution_count": 89,
   "id": "d2a6e947-ce81-4f29-9fb5-8adca72e88d1",
   "metadata": {},
   "outputs": [
    {
     "name": "stdout",
     "output_type": "stream",
     "text": [
      "The relative input stability score is:  5.402758695982698\n"
     ]
    }
   ],
   "source": [
    "print(\"The relative input stability score is: \", filter_and_compute_input_stability(model, test_dataloader, device))"
   ]
  },
  {
   "cell_type": "code",
   "execution_count": 90,
   "id": "fbc388bf-29a1-4787-8ed0-e807d8c5e4e3",
   "metadata": {},
   "outputs": [
    {
     "name": "stdout",
     "output_type": "stream",
     "text": [
      "The relative input stability score is:  -0.23497096204053192\n"
     ]
    }
   ],
   "source": [
    "print(\"The relative input stability score is: \", filter_and_compute_input_stability(model_adv, test_dataloader, device))"
   ]
  },
  {
   "cell_type": "code",
   "execution_count": 74,
   "id": "da10eee5-6cba-472b-8e09-71f0a7e3b6b2",
   "metadata": {},
   "outputs": [],
   "source": [
    "import math\n",
    "def filter_and_compute_input_stability(model, test_loader, device):\n",
    "    \n",
    "    metrics = quantus.RelativeInputStability(\n",
    "        nr_samples =5,\n",
    "        return_aggregate=False,\n",
    "         disable_warnings=True,\n",
    "    )\n",
    "    score = []\n",
    "    for i, (x_batch, y_batch) in enumerate(test_loader):\n",
    "        x_batch, y_batch = x_batch.to(device), y_batch.to(device)\n",
    "        outputs = model(x_batch)\n",
    "        predictions = torch.argmax(outputs, dim=1)\n",
    "        correct_mask = predictions == y_batch\n",
    "        x_batch = x_batch[correct_mask]\n",
    "        y_batch = y_batch[correct_mask]\n",
    "        x_batch, y_batch = x_batch.cpu().numpy(), y_batch.cpu().numpy()\n",
    "        scores = metrics(\n",
    "                model= model,\n",
    "                x_batch=x_batch,\n",
    "                y_batch=y_batch,\n",
    "                a_batch=None,\n",
    "                s_batch=None,\n",
    "                device=device,\n",
    "                explain_func= explainer_wrapper,\n",
    "                explain_func_kwargs = {\n",
    "                    \"method\": xai_method[0],\n",
    "                    \"posterior_mean\": copy.deepcopy(\n",
    "                        model\n",
    "                        .to(device)\n",
    "                        .state_dict()\n",
    "                    ),\n",
    "                    \"mean\": 1.0,\n",
    "                    \"std\": 0.5,\n",
    "                    \"n\": 25,\n",
    "                    \"device\": device,\n",
    "                })\n",
    "        scores2 = np.nanmean(scores)\n",
    "        score.append(scores2)\n",
    "        if len(score) > 1000:\n",
    "            break \n",
    "    score2=score\n",
    "    return math.log(np.nanmean(score2), 10)"
   ]
  },
  {
   "cell_type": "code",
   "execution_count": 76,
   "id": "3ce0692d-680e-4d3e-8b97-22b504175c20",
   "metadata": {},
   "outputs": [
    {
     "name": "stdout",
     "output_type": "stream",
     "text": [
      "The relative input stability score is:  -1.7482177856173367\n"
     ]
    }
   ],
   "source": [
    "print(\"The relative input stability score is: \", filter_and_compute_input_stability(model, test_dataloader, device))"
   ]
  },
  {
   "cell_type": "code",
   "execution_count": 77,
   "id": "96d98040-4a00-4ec3-9112-28530c7f23b3",
   "metadata": {},
   "outputs": [
    {
     "name": "stdout",
     "output_type": "stream",
     "text": [
      "The relative input stability score is:  -2.5467499784306917\n"
     ]
    }
   ],
   "source": [
    "print(\"The relative input stability score is: \", filter_and_compute_input_stability(model_adv, test_dataloader, device))"
   ]
  },
  {
   "cell_type": "code",
   "execution_count": 91,
   "id": "65648bc3-9655-4a4f-9bda-779736373182",
   "metadata": {},
   "outputs": [],
   "source": [
    "def filter_and_compute_output_stability(model, test_loader, device):\n",
    "    metrics = quantus.RelativeOutputStability(\n",
    "        nr_samples = 5,\n",
    "         return_aggregate=False,\n",
    "        disable_warnings=True,\n",
    "    )\n",
    "    score = []\n",
    "    \n",
    "    for i, (x_batch, y_batch) in enumerate(test_loader):\n",
    "        x_batch, y_batch = x_batch.to(device), y_batch.to(device)\n",
    "        outputs = model(x_batch)\n",
    "        predictions = torch.argmax(outputs, dim=1)\n",
    "        correct_mask = predictions == y_batch\n",
    "        x_batch = x_batch[correct_mask]\n",
    "        y_batch = y_batch[correct_mask]\n",
    "        x_batch, y_batch = x_batch.cpu().numpy(), y_batch.cpu().numpy()\n",
    "        scores = metrics(\n",
    "                model= model,\n",
    "                x_batch=x_batch,\n",
    "                y_batch=y_batch,\n",
    "                a_batch=None,\n",
    "                s_batch=None,\n",
    "                device=device,\n",
    "                explain_func= quantus.explain, \n",
    "                explain_func_kwargs = {\"method\": \"Saliency\", \"softmax\": False})\n",
    "        scores2 = np.nanmean(scores)\n",
    "        score.append(scores2)\n",
    "        if len(score) > 1000:\n",
    "            break \n",
    "    score2=score\n",
    "    return math.log(np.nanmean(score2), 10)"
   ]
  },
  {
   "cell_type": "code",
   "execution_count": 92,
   "id": "ddde41f0-749e-4eb9-8e4c-99706250982c",
   "metadata": {},
   "outputs": [
    {
     "name": "stdout",
     "output_type": "stream",
     "text": [
      "The relative output stability score is:  9.347834837443516\n"
     ]
    }
   ],
   "source": [
    "print(\"The relative output stability score is: \", filter_and_compute_output_stability(model, test_dataloader, device))"
   ]
  },
  {
   "cell_type": "code",
   "execution_count": 93,
   "id": "1c71ae95-7895-401e-bcbd-b9bd9d97618a",
   "metadata": {},
   "outputs": [
    {
     "name": "stdout",
     "output_type": "stream",
     "text": [
      "The relative output stability score is:  10.909848677600547\n"
     ]
    }
   ],
   "source": [
    "print(\"The relative output stability score is: \", filter_and_compute_output_stability(model_adv, test_dataloader, device))"
   ]
  },
  {
   "cell_type": "code",
   "execution_count": 94,
   "id": "49b631e3-e828-4f9c-9b4b-58db2e1f901c",
   "metadata": {},
   "outputs": [],
   "source": [
    "def filter_and_compute_output_stability(model, test_loader, device):\n",
    "    metrics = quantus.RelativeOutputStability(\n",
    "        nr_samples = 5,\n",
    "         return_aggregate=False,\n",
    "        disable_warnings=True,\n",
    "    )\n",
    "    score = []\n",
    "    \n",
    "    for i, (x_batch, y_batch) in enumerate(test_loader):\n",
    "        x_batch, y_batch = x_batch.to(device), y_batch.to(device)\n",
    "        outputs = model(x_batch)\n",
    "        predictions = torch.argmax(outputs, dim=1)\n",
    "        correct_mask = predictions == y_batch\n",
    "        x_batch = x_batch[correct_mask]\n",
    "        y_batch = y_batch[correct_mask]\n",
    "        x_batch, y_batch = x_batch.cpu().numpy(), y_batch.cpu().numpy()\n",
    "        scores = metrics(\n",
    "                model= model,\n",
    "                x_batch=x_batch,\n",
    "                y_batch=y_batch,\n",
    "                a_batch=None,\n",
    "                s_batch=None,\n",
    "                device=device,\n",
    "                explain_func= quantus.explain, \n",
    "                explain_func_kwargs = {\"method\": \"IntegratedGradients\", \"softmax\": False})\n",
    "        scores2 = np.nanmean(scores)\n",
    "        score.append(scores2)\n",
    "        if len(score) > 1000:\n",
    "            break \n",
    "    score2=score\n",
    "    return math.log(np.nanmean(score2), 10)"
   ]
  },
  {
   "cell_type": "code",
   "execution_count": 95,
   "id": "f158aff8-7275-49f0-889c-b8adb4c733dc",
   "metadata": {},
   "outputs": [
    {
     "name": "stdout",
     "output_type": "stream",
     "text": [
      "The relative output stability score is:  9.28950387479393\n"
     ]
    }
   ],
   "source": [
    "print(\"The relative output stability score is: \", filter_and_compute_output_stability(model, test_dataloader, device))"
   ]
  },
  {
   "cell_type": "code",
   "execution_count": 96,
   "id": "3338edcb-129b-4ee1-85c8-94987f0f6a7b",
   "metadata": {},
   "outputs": [
    {
     "name": "stdout",
     "output_type": "stream",
     "text": [
      "The relative output stability score is:  6.188524105824519\n"
     ]
    }
   ],
   "source": [
    "print(\"The relative output stability score is: \", filter_and_compute_output_stability(model_adv, test_dataloader, device))"
   ]
  },
  {
   "cell_type": "code",
   "execution_count": 123,
   "id": "d612940d-1b99-49a9-a833-f650133fc13d",
   "metadata": {},
   "outputs": [],
   "source": [
    "def filter_and_compute_output_stability(model, test_loader, device):\n",
    "    metrics = quantus.RelativeOutputStability(\n",
    "        nr_samples = 5,\n",
    "         return_aggregate=False,\n",
    "        disable_warnings=True,\n",
    "    )\n",
    "    score = []\n",
    "    \n",
    "    for i, (x_batch, y_batch) in enumerate(test_loader):\n",
    "        x_batch, y_batch = x_batch.to(device), y_batch.to(device)\n",
    "        outputs = model(x_batch)\n",
    "        predictions = torch.argmax(outputs, dim=1)\n",
    "        correct_mask = predictions == y_batch\n",
    "        x_batch = x_batch[correct_mask]\n",
    "        y_batch = y_batch[correct_mask]\n",
    "        x_batch, y_batch = x_batch.cpu().numpy(), y_batch.cpu().numpy()\n",
    "        scores = metrics(\n",
    "                model= model,\n",
    "                x_batch=x_batch,\n",
    "                y_batch=y_batch,\n",
    "                a_batch=None,\n",
    "                s_batch=None,\n",
    "                device=device,\n",
    "                explain_func= explainer_wrapper,\n",
    "                explain_func_kwargs = {\n",
    "                    \"method\": xai_method[0],\n",
    "                    \"posterior_mean\": copy.deepcopy(\n",
    "                        model\n",
    "                        .to(device)\n",
    "                        .state_dict()\n",
    "                    ),\n",
    "                    \"mean\": 1.0,\n",
    "                    \"std\": 0.5,\n",
    "                    \"n\": 25,\n",
    "                    \"device\": device,\n",
    "                })\n",
    "        scores2 = np.nanmean(scores)\n",
    "        score.append(scores2)\n",
    "        if len(score) > 1000:\n",
    "            break \n",
    "    score2=score\n",
    "    return math.log(np.nanmean(score2), 10)"
   ]
  },
  {
   "cell_type": "code",
   "execution_count": 124,
   "id": "c8f83799-7a23-4a94-b573-9d87e2bc9f72",
   "metadata": {},
   "outputs": [
    {
     "name": "stdout",
     "output_type": "stream",
     "text": [
      "The relative output stability score is:  3.8097313160433877\n"
     ]
    }
   ],
   "source": [
    "print(\"The relative output stability score is: \", filter_and_compute_output_stability(model, test_dataloader, device))"
   ]
  },
  {
   "cell_type": "code",
   "execution_count": 125,
   "id": "f5e56512-1bd4-4cde-8182-fd626bae0e17",
   "metadata": {},
   "outputs": [
    {
     "name": "stdout",
     "output_type": "stream",
     "text": [
      "The relative output stability score is:  4.125275965587252\n"
     ]
    }
   ],
   "source": [
    "print(\"The relative output stability score is: \", filter_and_compute_output_stability(model_adv, test_dataloader, device))"
   ]
  },
  {
   "cell_type": "code",
   "execution_count": 97,
   "id": "368e8e7c-0508-47c6-a93f-6872afd53c62",
   "metadata": {},
   "outputs": [],
   "source": [
    "def filter_and_compute_sparsity(model, test_loader, device):\n",
    "    \n",
    "    sparsity = quantus.Sparseness(disable_warnings=True, return_aggregate=True)\n",
    "    score_sparsity = []\n",
    "\n",
    "    for i, (x_batch, y_batch) in enumerate(test_loader):\n",
    "        x_batch, y_batch = x_batch.to(device), y_batch.to(device)\n",
    "        #print(len(x_batch))\n",
    "        outputs = model(x_batch)\n",
    "        predictions = torch.argmax(outputs, dim=1)\n",
    "        correct_mask = predictions == y_batch\n",
    "        #print(correct_mask)\n",
    "        x_batch = x_batch[correct_mask]\n",
    "        y_batch = y_batch[correct_mask]\n",
    "        #print(len(x_batch))\n",
    "        x_batch, y_batch = x_batch.cpu().numpy(), y_batch.cpu().numpy()\n",
    "        scores = sparsity(\n",
    "                model= model,\n",
    "                x_batch=x_batch,\n",
    "                y_batch=y_batch,\n",
    "                a_batch=None,\n",
    "                s_batch=None,\n",
    "                device=device,\n",
    "                explain_func= quantus.explain, \n",
    "                explain_func_kwargs = {\"method\": \"Saliency\", \"softmax\": False})\n",
    "        score_sparsity.extend(scores)\n",
    "        if len(score_sparsity) > 1000:\n",
    "            break \n",
    "    return np.nanmean(score_sparsity), np.nanstd(score_sparsity)"
   ]
  },
  {
   "cell_type": "code",
   "execution_count": 98,
   "id": "ac1a4aef-5bc4-4308-a2e0-d679ce66ba54",
   "metadata": {},
   "outputs": [
    {
     "name": "stdout",
     "output_type": "stream",
     "text": [
      "The sparsity score is:  (0.5740714641226329, 0.004699775795992491)\n"
     ]
    }
   ],
   "source": [
    "print(\"The sparsity score is: \", filter_and_compute_sparsity(model, test_dataloader, device))"
   ]
  },
  {
   "cell_type": "code",
   "execution_count": 99,
   "id": "bc004c35-7e97-420b-a2f1-ae9513c0d2f5",
   "metadata": {},
   "outputs": [
    {
     "name": "stdout",
     "output_type": "stream",
     "text": [
      "The sparsity score is:  (0.5299913803471586, 0.005550866795815178)\n"
     ]
    }
   ],
   "source": [
    "print(\"The sparsity score is: \", filter_and_compute_sparsity(model_adv, test_dataloader, device))"
   ]
  },
  {
   "cell_type": "code",
   "execution_count": 100,
   "id": "8384bba7-16fd-4147-9dad-84771ef1c4c2",
   "metadata": {},
   "outputs": [],
   "source": [
    "def filter_and_compute_sparsity(model, test_loader, device):\n",
    "    \n",
    "    sparsity = quantus.Sparseness(disable_warnings=True, return_aggregate=True)\n",
    "    score_sparsity = []\n",
    "\n",
    "    for i, (x_batch, y_batch) in enumerate(test_loader):\n",
    "        x_batch, y_batch = x_batch.to(device), y_batch.to(device)\n",
    "        #print(len(x_batch))\n",
    "        outputs = model(x_batch)\n",
    "        predictions = torch.argmax(outputs, dim=1)\n",
    "        correct_mask = predictions == y_batch\n",
    "        #print(correct_mask)\n",
    "        x_batch = x_batch[correct_mask]\n",
    "        y_batch = y_batch[correct_mask]\n",
    "        #print(len(x_batch))\n",
    "        x_batch, y_batch = x_batch.cpu().numpy(), y_batch.cpu().numpy()\n",
    "        scores = sparsity(\n",
    "                model= model,\n",
    "                x_batch=x_batch,\n",
    "                y_batch=y_batch,\n",
    "                a_batch=None,\n",
    "                s_batch=None,\n",
    "                device=device,\n",
    "                explain_func= quantus.explain, \n",
    "                explain_func_kwargs = {\"method\": \"IntegratedGradients\", \"softmax\": False})\n",
    "        score_sparsity.extend(scores)\n",
    "        if len(score_sparsity) > 1000:\n",
    "            break \n",
    "    return np.nanmean(score_sparsity), np.nanstd(score_sparsity)"
   ]
  },
  {
   "cell_type": "code",
   "execution_count": 101,
   "id": "108e736a-a43a-4dce-8cce-49f083d5616d",
   "metadata": {},
   "outputs": [
    {
     "name": "stdout",
     "output_type": "stream",
     "text": [
      "The sparsity score is:  (0.7646283400608169, 0.013378739640471728)\n"
     ]
    }
   ],
   "source": [
    "print(\"The sparsity score is: \", filter_and_compute_sparsity(model, test_dataloader, device))"
   ]
  },
  {
   "cell_type": "code",
   "execution_count": 102,
   "id": "251de6d6-255e-4193-853e-e0d06aab1236",
   "metadata": {},
   "outputs": [
    {
     "name": "stdout",
     "output_type": "stream",
     "text": [
      "The sparsity score is:  (0.7515817406221436, 0.01580212954837601)\n"
     ]
    }
   ],
   "source": [
    "print(\"The sparsity score is: \", filter_and_compute_sparsity(model_adv, test_dataloader, device))"
   ]
  },
  {
   "cell_type": "code",
   "execution_count": 118,
   "id": "154d41f6-9764-4456-909f-691dcebe36d5",
   "metadata": {},
   "outputs": [],
   "source": [
    "def filter_and_compute_sparsity(model, test_loader, device):\n",
    "    \n",
    "    sparsity = quantus.Sparseness(disable_warnings=True, return_aggregate=True)\n",
    "    score_sparsity = []\n",
    "\n",
    "    for i, (x_batch, y_batch) in enumerate(test_loader):\n",
    "        x_batch, y_batch = x_batch.to(device), y_batch.to(device)\n",
    "        #print(len(x_batch))\n",
    "        outputs = model(x_batch)\n",
    "        predictions = torch.argmax(outputs, dim=1)\n",
    "        correct_mask = predictions == y_batch\n",
    "        #print(correct_mask)\n",
    "        x_batch = x_batch[correct_mask]\n",
    "        y_batch = y_batch[correct_mask]\n",
    "        #print(len(x_batch))\n",
    "        x_batch, y_batch = x_batch.cpu().numpy(), y_batch.cpu().numpy()\n",
    "        scores = sparsity(\n",
    "                model= model,\n",
    "                x_batch=x_batch,\n",
    "                y_batch=y_batch,\n",
    "                a_batch=None,\n",
    "                s_batch=None,\n",
    "                device=device,\n",
    "                 explain_func= explainer_wrapper,\n",
    "                explain_func_kwargs = {\n",
    "                    \"method\": xai_method[0],\n",
    "                    \"posterior_mean\": copy.deepcopy(\n",
    "                        model\n",
    "                        .to(device)\n",
    "                        .state_dict()\n",
    "                    ),\n",
    "                    \"mean\": 1.0,\n",
    "                    \"std\": 0.5,\n",
    "                    \"n\": 25,\n",
    "                    \"device\": device,\n",
    "                })\n",
    "        score_sparsity.extend(scores)\n",
    "        if len(score_sparsity) > 1000:\n",
    "            break \n",
    "    return np.nanmean(score_sparsity), np.nanstd(score_sparsity)"
   ]
  },
  {
   "cell_type": "code",
   "execution_count": 120,
   "id": "bbf7c5a9-425d-4488-acd4-c9b05b4aa10a",
   "metadata": {},
   "outputs": [
    {
     "name": "stdout",
     "output_type": "stream",
     "text": [
      "The sparsity score is:  (0.36347501177214936, 0.004383773423152594)\n"
     ]
    }
   ],
   "source": [
    "print(\"The sparsity score is: \", filter_and_compute_sparsity(model, test_dataloader, device))"
   ]
  },
  {
   "cell_type": "code",
   "execution_count": 121,
   "id": "aaf06ac0-9d0c-42a3-8ed3-d78e1ff294f2",
   "metadata": {},
   "outputs": [
    {
     "name": "stdout",
     "output_type": "stream",
     "text": [
      "The sparsity score is:  (0.39347098394714963, 0.007213650042788234)\n"
     ]
    }
   ],
   "source": [
    "print(\"The sparsity score is: \", filter_and_compute_sparsity(model_adv, test_dataloader, device))"
   ]
  },
  {
   "cell_type": "code",
   "execution_count": null,
   "id": "5ec704a8-c540-4e3a-9d7c-39f1ea88118d",
   "metadata": {},
   "outputs": [],
   "source": []
  }
 ],
 "metadata": {
  "kernelspec": {
   "display_name": "Python 3 (ipykernel)",
   "language": "python",
   "name": "python3"
  },
  "language_info": {
   "codemirror_mode": {
    "name": "ipython",
    "version": 3
   },
   "file_extension": ".py",
   "mimetype": "text/x-python",
   "name": "python",
   "nbconvert_exporter": "python",
   "pygments_lexer": "ipython3",
   "version": "3.12.3"
  }
 },
 "nbformat": 4,
 "nbformat_minor": 5
}
