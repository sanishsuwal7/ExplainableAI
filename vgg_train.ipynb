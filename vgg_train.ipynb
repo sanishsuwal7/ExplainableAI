{
 "cells": [
  {
   "cell_type": "code",
   "execution_count": 25,
   "id": "d6df794c-14c3-47b0-818d-ff9953179467",
   "metadata": {},
   "outputs": [],
   "source": [
    "import torch\n",
    "import torch.nn as nn\n",
    "import torch.nn.functional as F\n",
    "from torch.utils.data import DataLoader\n",
    "\n",
    "\n",
    "import torchvision\n",
    "from torchvision import datasets\n",
    "import torchvision.transforms as transforms\n",
    "from torchvision import models\n",
    "from torchmetrics import Accuracy\n",
    "\n",
    "import quantus\n",
    "import captum\n",
    "from captum.attr import Saliency, IntegratedGradients, NoiseTunnel\n",
    "from cleverhans.torch.attacks.projected_gradient_descent import (projected_gradient_descent)\n",
    "\n",
    "import numpy as np\n",
    "import pandas as pd\n",
    "import matplotlib.pyplot as plt\n",
    "import seaborn as sns\n",
    "\n",
    "import random\n",
    "import copy\n",
    "import gc\n",
    "import math\n",
    "\n",
    "import warnings\n",
    "warnings.filterwarnings('ignore')"
   ]
  },
  {
   "cell_type": "code",
   "execution_count": 27,
   "id": "87883845-d8d6-4d59-80af-ce577324c470",
   "metadata": {},
   "outputs": [],
   "source": [
    "device = torch.device(\"cuda\" if torch.cuda.is_available() else \"cpu\")"
   ]
  },
  {
   "cell_type": "code",
   "execution_count": 29,
   "id": "0099db84-457e-4a99-aba4-234875500e0a",
   "metadata": {},
   "outputs": [],
   "source": [
    "epochs = 120\n",
    "\n",
    "batch_size = 128\n",
    "\n",
    "classes = ('plane', 'car' , 'bird','cat', 'deer', 'dog', 'frog', 'horse', 'ship', 'truck')"
   ]
  },
  {
   "cell_type": "code",
   "execution_count": 31,
   "id": "b968d064-920c-4201-b920-e8efc51cb657",
   "metadata": {},
   "outputs": [],
   "source": [
    "# normalize = transforms.Normalize(mean=[0.485, 0.456, 0.406],\n",
    "#                                      std=[0.229, 0.224, 0.225])\n",
    "# cifar_transforms = transforms.Compose([transforms.RandomHorizontalFlip(),\n",
    "#             transforms.RandomCrop(32, 4),\n",
    "#             transforms.ToTensor(),\n",
    "#             normalize,])\n",
    "\n",
    "cifar_transforms = transforms.Compose([transforms.ToTensor()])"
   ]
  },
  {
   "cell_type": "code",
   "execution_count": 33,
   "id": "960959e1-5a29-4154-85cf-e58bb5be5630",
   "metadata": {},
   "outputs": [
    {
     "name": "stdout",
     "output_type": "stream",
     "text": [
      "Files already downloaded and verified\n",
      "Files already downloaded and verified\n"
     ]
    }
   ],
   "source": [
    "train_dataset = torchvision.datasets.CIFAR10(root= './datasets', train = True, download=True, transform = cifar_transforms)\n",
    "test_dataset =  torchvision.datasets.CIFAR10(root= './datasets', train = False, download=True, transform = cifar_transforms)"
   ]
  },
  {
   "cell_type": "code",
   "execution_count": 34,
   "id": "c95e56e0-31e5-4a36-bbb7-4bb170c0e442",
   "metadata": {},
   "outputs": [],
   "source": [
    "train_dataloader = torch.utils.data.DataLoader(train_dataset, batch_size=batch_size, shuffle=True, pin_memory=True) # num_workers=4,\n",
    "test_dataloader = torch.utils.data.DataLoader(test_dataset, batch_size=batch_size, pin_memory=True)"
   ]
  },
  {
   "cell_type": "code",
   "execution_count": 37,
   "id": "c0939233-5da0-41fc-8300-98cb8dbad47a",
   "metadata": {},
   "outputs": [],
   "source": [
    "class VGG(nn.Module):\n",
    "    def __init__(self, features):\n",
    "        super(VGG,self).__init__()\n",
    "        self.features = features\n",
    "        self.classifier = nn.Sequential(\n",
    "            nn.Dropout(),\n",
    "            nn.Linear(512,512),\n",
    "            nn.ReLU(True),\n",
    "            nn.Dropout(),\n",
    "            nn.Linear(512,512),\n",
    "            nn.ReLU(True),\n",
    "            nn.Linear(512,10)\n",
    "        )\n",
    "\n",
    "        for m in self.modules():\n",
    "            if isinstance(m, nn.Conv2d):\n",
    "                n = m.kernel_size[0] * m.kernel_size[1] * m.out_channels\n",
    "                m.weight.data.normal_(0, math.sqrt(2. / n))\n",
    "                m.bias.data.zero_()\n",
    "\n",
    "    def forward(self, x):\n",
    "        x = self.features(x)\n",
    "        x = x.view(x.size(0), -1)\n",
    "        x = self.classifier(x)\n",
    "        return x\n",
    "\n",
    "def make_layers(cfg):\n",
    "    layers = []\n",
    "    in_channels =3\n",
    "    for out_channels in cfg:\n",
    "        if out_channels == 'M':\n",
    "            layers += [nn.MaxPool2d(kernel_size = 2, stride =2)]\n",
    "        else:\n",
    "            conv2d = nn.Conv2d(in_channels, out_channels, kernel_size = 3, padding =1)\n",
    "            layers += [conv2d, nn.ReLU(inplace = True)]\n",
    "            in_channels = out_channels\n",
    "    return nn.Sequential(*layers)\n",
    "\n",
    "cfg = [64, 64, 'M', 128, 128, 'M', 256, 256, 256, 'M', 512, 512, 512, 'M', 512, 512, 512, 'M']\n",
    "\n",
    "def vgg16():\n",
    "    return VGG(make_layers(cfg))"
   ]
  },
  {
   "cell_type": "code",
   "execution_count": 39,
   "id": "4509f222-b60f-4ba1-a864-098365015936",
   "metadata": {},
   "outputs": [],
   "source": [
    "model = vgg16()\n",
    "learning_rate = 0.05\n",
    "criterion = nn.CrossEntropyLoss(reduction=\"mean\")\n",
    "optimizer = torch.optim.SGD(model.parameters(), lr = learning_rate, momentum = 0.9, weight_decay = 5e-4)"
   ]
  },
  {
   "cell_type": "code",
   "execution_count": 41,
   "id": "fdfbe690-2171-4d63-98c1-28e91aa66559",
   "metadata": {},
   "outputs": [],
   "source": [
    "def evaluate_model(model, data, device):\n",
    "    model.eval()\n",
    "    logits = torch.Tensor().to(device)\n",
    "    targets = torch.LongTensor().to(device)\n",
    "\n",
    "    with torch.no_grad():\n",
    "        for x_batch, y_batch in data:\n",
    "            x_batch, y_batch = x_batch.to(device), y_batch.to(device)\n",
    "            logits = torch.cat([logits, model(x_batch)])\n",
    "            targets = torch.cat([targets, y_batch])\n",
    "    \n",
    "    return torch.nn.functional.softmax(logits, dim=1), targets"
   ]
  },
  {
   "cell_type": "code",
   "execution_count": 43,
   "id": "1ad28b90-d153-4b68-b308-34cae2e2eb7e",
   "metadata": {},
   "outputs": [],
   "source": [
    "def train_normal(model, epochs):\n",
    "    model.train()\n",
    "    for epoch in range(epochs):\n",
    "        for x_batch, y_batch in train_dataloader:\n",
    "            x_batch, y_batch = x_batch.to(device), y_batch.to(device)\n",
    "            optimizer.zero_grad()\n",
    "            logits = model(x_batch)\n",
    "            loss = criterion(logits, y_batch)\n",
    "            loss.backward()\n",
    "            optimizer.step()\n",
    "\n",
    "        # Evaluate model!\n",
    "        if epochs%10==0:\n",
    "            predictions, labels = evaluate_model(model, test_dataloader, device)\n",
    "            test_acc = np.mean(np.argmax(predictions.cpu().numpy(), axis=1) == labels.cpu().numpy())\n",
    "            print(f\"Epoch {epoch+1}/{epochs} - test accuracy: {(100 * test_acc):.2f}% and CE loss {loss.item():.2f}\")\n",
    "    return model"
   ]
  },
  {
   "cell_type": "code",
   "execution_count": null,
   "id": "ba8f9779-f3d5-4d9f-a192-7901cd0f6359",
   "metadata": {},
   "outputs": [
    {
     "name": "stdout",
     "output_type": "stream",
     "text": [
      "Epoch 1/120 - test accuracy: 13.47% and CE loss 2.21\n",
      "Epoch 2/120 - test accuracy: 34.14% and CE loss 1.58\n",
      "Epoch 3/120 - test accuracy: 43.01% and CE loss 1.49\n",
      "Epoch 4/120 - test accuracy: 53.46% and CE loss 1.07\n",
      "Epoch 5/120 - test accuracy: 59.72% and CE loss 1.23\n"
     ]
    }
   ],
   "source": [
    "model_normal = train_normal(model = model.to(device), epochs = epochs)"
   ]
  },
  {
   "cell_type": "code",
   "execution_count": null,
   "id": "238027fa-4928-4d12-95e5-abcdfeb306be",
   "metadata": {},
   "outputs": [],
   "source": [
    "# Model to GPU and eval mode.\n",
    "model_normal.to(device)\n",
    "model_normal.eval()\n",
    "\n",
    "# Check test set performance.\n",
    "predictions, labels = evaluate_model(model_normal, test_dataloader, device)\n",
    "test_acc = np.mean(np.argmax(predictions.cpu().numpy(), axis=1) == labels.cpu().numpy())        \n",
    "print(f\"Model test accuracy: {(100 * test_acc):.2f}%\")"
   ]
  },
  {
   "cell_type": "code",
   "execution_count": null,
   "id": "f1fa47cd-a45a-4d25-8015-88ce0bbecf88",
   "metadata": {},
   "outputs": [],
   "source": [
    "from pathlib import Path\n",
    "\n",
    "MODEL_PATH = Path(\"models\")\n",
    "MODEL_PATH.mkdir(parents=True, exist_ok=True)\n",
    "\n",
    "MODEL_NAME = \"vgg_cifar.pth\"\n",
    "MODEL_SAVE_PATH = MODEL_PATH / MODEL_NAME\n",
    "\n",
    "print(f\"Saving the model: {MODEL_SAVE_PATH}\")\n",
    "torch.save(obj=model_normal.state_dict(), f=MODEL_SAVE_PATH)"
   ]
  },
  {
   "cell_type": "markdown",
   "id": "5e5b45f0-a7d1-492d-ab3a-9cd6afcc4676",
   "metadata": {},
   "source": [
    "# Adversarial Training"
   ]
  },
  {
   "cell_type": "code",
   "execution_count": 73,
   "id": "50edb7c7-67cb-427b-b8ef-af540c7f7a1e",
   "metadata": {},
   "outputs": [],
   "source": [
    "model = vgg16()\n",
    "learning_rate = 0.05\n",
    "criterion = torch.nn.CrossEntropyLoss(reduction=\"mean\")\n",
    "optimizer = torch.optim.SGD(model.parameters(), lr = learning_rate, momentum = 0.9, weight_decay = 5e-4)\n",
    "eps= [0.01, 0.03, 0.06, 0.1, 0.3, 0.5]"
   ]
  },
  {
   "cell_type": "code",
   "execution_count": 75,
   "id": "0343cc03-9c83-4433-abd2-4ad5164a2e6f",
   "metadata": {},
   "outputs": [],
   "source": [
    "def evaluate_model(model, data, device):\n",
    "    model.eval()\n",
    "    logits = torch.Tensor().to(device)\n",
    "    targets = torch.LongTensor().to(device)\n",
    "\n",
    "    with torch.no_grad():\n",
    "        for x_batch, y_batch in data:\n",
    "            x_batch, y_batch = x_batch.to(device), y_batch.to(device)\n",
    "            logits = torch.cat([logits, model(x_batch)])\n",
    "            targets = torch.cat([targets, y_batch])\n",
    "    \n",
    "    return torch.nn.functional.softmax(logits, dim=1), targets"
   ]
  },
  {
   "cell_type": "code",
   "execution_count": 77,
   "id": "c8c88e8b-dbc9-4483-970d-c29b801f2c18",
   "metadata": {},
   "outputs": [],
   "source": [
    "def train_adv(model, epsilon, epochs):\n",
    "    model.train()\n",
    "    eps = epsilon\n",
    "    for epoch in range(epochs):\n",
    "        for x_batch, y_batch in train_dataloader:\n",
    "            x_batch, y_batch = x_batch.to(device), y_batch.to(device)\n",
    "            x_batch = projected_gradient_descent(model, x_batch, eps, eps/10, 40, np.inf)\n",
    "            optimizer.zero_grad()\n",
    "            logits = model(x_batch)\n",
    "            loss = criterion(logits, y_batch)\n",
    "            loss.backward()\n",
    "            optimizer.step()\n",
    "\n",
    "        # Evaluate model!\n",
    "        if epochs%10==0:\n",
    "            predictions, labels = evaluate_model(model, test_dataloader, device)\n",
    "            test_acc = np.mean(np.argmax(predictions.cpu().numpy(), axis=1) == labels.cpu().numpy())\n",
    "            print(f\"Epoch {epoch+1}/{epochs} - test accuracy: {(100 * test_acc):.2f}% and CE loss {loss.item():.2f}\")\n",
    "    return model"
   ]
  },
  {
   "cell_type": "code",
   "execution_count": 83,
   "id": "9f968115-a602-4081-8e47-0cd84acb7266",
   "metadata": {},
   "outputs": [
    {
     "name": "stdout",
     "output_type": "stream",
     "text": [
      "Epoch 1/100 - test accuracy: 21.61% and CE loss 1.97\n",
      "Epoch 2/100 - test accuracy: 33.43% and CE loss 1.86\n",
      "Epoch 3/100 - test accuracy: 34.10% and CE loss 1.79\n",
      "Epoch 4/100 - test accuracy: 53.47% and CE loss 1.36\n",
      "Epoch 5/100 - test accuracy: 61.15% and CE loss 1.08\n",
      "Epoch 6/100 - test accuracy: 67.06% and CE loss 1.02\n",
      "Epoch 7/100 - test accuracy: 69.84% and CE loss 0.79\n",
      "Epoch 8/100 - test accuracy: 70.26% and CE loss 0.79\n",
      "Epoch 9/100 - test accuracy: 74.50% and CE loss 0.68\n",
      "Epoch 10/100 - test accuracy: 76.50% and CE loss 0.62\n",
      "Epoch 11/100 - test accuracy: 77.97% and CE loss 0.81\n",
      "Epoch 12/100 - test accuracy: 77.82% and CE loss 0.66\n",
      "Epoch 13/100 - test accuracy: 75.05% and CE loss 0.64\n",
      "Epoch 14/100 - test accuracy: 75.97% and CE loss 0.68\n",
      "Epoch 15/100 - test accuracy: 79.45% and CE loss 0.62\n",
      "Epoch 16/100 - test accuracy: 77.86% and CE loss 0.55\n",
      "Epoch 17/100 - test accuracy: 80.09% and CE loss 0.72\n",
      "Epoch 18/100 - test accuracy: 78.69% and CE loss 0.75\n",
      "Epoch 19/100 - test accuracy: 82.92% and CE loss 0.40\n",
      "Epoch 20/100 - test accuracy: 83.46% and CE loss 0.58\n",
      "Epoch 21/100 - test accuracy: 82.32% and CE loss 0.57\n",
      "Epoch 22/100 - test accuracy: 82.70% and CE loss 0.60\n",
      "Epoch 23/100 - test accuracy: 83.84% and CE loss 0.63\n",
      "Epoch 24/100 - test accuracy: 82.71% and CE loss 0.39\n",
      "Epoch 25/100 - test accuracy: 82.55% and CE loss 0.59\n",
      "Epoch 26/100 - test accuracy: 82.11% and CE loss 0.57\n",
      "Epoch 27/100 - test accuracy: 83.03% and CE loss 0.38\n",
      "Epoch 28/100 - test accuracy: 83.92% and CE loss 0.35\n",
      "Epoch 29/100 - test accuracy: 82.47% and CE loss 0.37\n",
      "Epoch 30/100 - test accuracy: 83.79% and CE loss 0.49\n",
      "Epoch 31/100 - test accuracy: 84.32% and CE loss 0.39\n",
      "Epoch 32/100 - test accuracy: 85.27% and CE loss 0.39\n",
      "Epoch 33/100 - test accuracy: 84.51% and CE loss 0.54\n",
      "Epoch 34/100 - test accuracy: 84.22% and CE loss 0.33\n",
      "Epoch 35/100 - test accuracy: 84.94% and CE loss 0.42\n",
      "Epoch 36/100 - test accuracy: 85.70% and CE loss 0.43\n",
      "Epoch 37/100 - test accuracy: 84.81% and CE loss 0.45\n",
      "Epoch 38/100 - test accuracy: 81.88% and CE loss 0.35\n",
      "Epoch 39/100 - test accuracy: 85.33% and CE loss 0.30\n",
      "Epoch 40/100 - test accuracy: 83.77% and CE loss 0.38\n",
      "Epoch 41/100 - test accuracy: 86.24% and CE loss 0.26\n",
      "Epoch 42/100 - test accuracy: 83.87% and CE loss 0.33\n",
      "Epoch 43/100 - test accuracy: 85.64% and CE loss 0.34\n",
      "Epoch 44/100 - test accuracy: 85.82% and CE loss 0.33\n",
      "Epoch 45/100 - test accuracy: 86.13% and CE loss 0.47\n",
      "Epoch 46/100 - test accuracy: 85.31% and CE loss 0.41\n",
      "Epoch 47/100 - test accuracy: 85.43% and CE loss 0.50\n",
      "Epoch 48/100 - test accuracy: 84.78% and CE loss 0.60\n",
      "Epoch 49/100 - test accuracy: 83.65% and CE loss 0.41\n",
      "Epoch 50/100 - test accuracy: 83.89% and CE loss 0.21\n",
      "Epoch 51/100 - test accuracy: 86.25% and CE loss 0.38\n",
      "Epoch 52/100 - test accuracy: 85.40% and CE loss 0.56\n",
      "Epoch 53/100 - test accuracy: 86.08% and CE loss 0.42\n",
      "Epoch 54/100 - test accuracy: 85.05% and CE loss 0.32\n",
      "Epoch 55/100 - test accuracy: 83.51% and CE loss 0.49\n",
      "Epoch 56/100 - test accuracy: 85.71% and CE loss 0.36\n",
      "Epoch 57/100 - test accuracy: 84.19% and CE loss 0.61\n",
      "Epoch 58/100 - test accuracy: 86.29% and CE loss 0.41\n",
      "Epoch 59/100 - test accuracy: 86.73% and CE loss 0.42\n",
      "Epoch 60/100 - test accuracy: 84.26% and CE loss 0.44\n",
      "Epoch 61/100 - test accuracy: 85.70% and CE loss 0.33\n",
      "Epoch 62/100 - test accuracy: 85.71% and CE loss 0.25\n",
      "Epoch 63/100 - test accuracy: 83.88% and CE loss 0.40\n",
      "Epoch 64/100 - test accuracy: 85.06% and CE loss 0.31\n",
      "Epoch 65/100 - test accuracy: 86.00% and CE loss 0.41\n",
      "Epoch 66/100 - test accuracy: 85.29% and CE loss 0.42\n",
      "Epoch 67/100 - test accuracy: 85.19% and CE loss 0.41\n",
      "Epoch 68/100 - test accuracy: 85.34% and CE loss 0.44\n",
      "Epoch 69/100 - test accuracy: 84.83% and CE loss 0.39\n",
      "Epoch 70/100 - test accuracy: 85.34% and CE loss 0.43\n",
      "Epoch 71/100 - test accuracy: 86.26% and CE loss 0.48\n",
      "Epoch 72/100 - test accuracy: 83.97% and CE loss 0.43\n",
      "Epoch 73/100 - test accuracy: 86.11% and CE loss 0.38\n",
      "Epoch 74/100 - test accuracy: 85.94% and CE loss 0.28\n",
      "Epoch 75/100 - test accuracy: 86.49% and CE loss 0.25\n",
      "Epoch 76/100 - test accuracy: 85.92% and CE loss 0.28\n",
      "Epoch 77/100 - test accuracy: 84.82% and CE loss 0.53\n",
      "Epoch 78/100 - test accuracy: 84.44% and CE loss 0.35\n",
      "Epoch 79/100 - test accuracy: 86.72% and CE loss 0.34\n",
      "Epoch 80/100 - test accuracy: 86.67% and CE loss 0.24\n",
      "Epoch 81/100 - test accuracy: 86.32% and CE loss 0.37\n",
      "Epoch 82/100 - test accuracy: 84.91% and CE loss 0.48\n",
      "Epoch 83/100 - test accuracy: 86.35% and CE loss 0.38\n",
      "Epoch 84/100 - test accuracy: 85.34% and CE loss 0.43\n",
      "Epoch 85/100 - test accuracy: 86.14% and CE loss 0.24\n",
      "Epoch 86/100 - test accuracy: 83.55% and CE loss 0.43\n",
      "Epoch 87/100 - test accuracy: 86.90% and CE loss 0.57\n",
      "Epoch 88/100 - test accuracy: 86.45% and CE loss 0.48\n",
      "Epoch 89/100 - test accuracy: 85.76% and CE loss 0.21\n",
      "Epoch 90/100 - test accuracy: 84.31% and CE loss 0.25\n",
      "Epoch 91/100 - test accuracy: 85.97% and CE loss 0.61\n",
      "Epoch 92/100 - test accuracy: 86.34% and CE loss 0.41\n",
      "Epoch 93/100 - test accuracy: 83.84% and CE loss 0.51\n",
      "Epoch 94/100 - test accuracy: 85.92% and CE loss 0.36\n",
      "Epoch 95/100 - test accuracy: 84.00% and CE loss 0.52\n",
      "Epoch 96/100 - test accuracy: 86.37% and CE loss 0.51\n",
      "Epoch 97/100 - test accuracy: 85.97% and CE loss 0.35\n",
      "Epoch 98/100 - test accuracy: 86.25% and CE loss 0.40\n",
      "Epoch 99/100 - test accuracy: 84.43% and CE loss 0.34\n",
      "Epoch 100/100 - test accuracy: 86.56% and CE loss 0.40\n"
     ]
    }
   ],
   "source": [
    "model_adversarial = train_adv(model=model.to(device),\n",
    "                    epsilon = eps[0], \n",
    "                    epochs=epochs)"
   ]
  },
  {
   "cell_type": "code",
   "execution_count": 85,
   "id": "40671d34-1ebc-4788-a8eb-2f2ae43c1d23",
   "metadata": {},
   "outputs": [
    {
     "name": "stdout",
     "output_type": "stream",
     "text": [
      "Model test accuracy: 86.29%\n"
     ]
    }
   ],
   "source": [
    "# Model to GPU and eval mode.\n",
    "model_adversarial.to(device)\n",
    "model_adversarial.eval()\n",
    "\n",
    "# Check test set performance.\n",
    "predictions, labels = evaluate_model(model_adversarial, test_dataloader, device)\n",
    "test_acc = np.mean(np.argmax(predictions.cpu().numpy(), axis=1) == labels.cpu().numpy())        \n",
    "print(f\"Model test accuracy: {(100 * test_acc):.2f}%\")"
   ]
  },
  {
   "cell_type": "code",
   "execution_count": 87,
   "id": "165e52de-e662-4494-8d57-0879c7781413",
   "metadata": {},
   "outputs": [
    {
     "name": "stdout",
     "output_type": "stream",
     "text": [
      "Saving the model: models\\vgg_cifar_adv.pth\n"
     ]
    }
   ],
   "source": [
    "from pathlib import Path\n",
    "\n",
    "MODEL_PATH = Path(\"models\")\n",
    "MODEL_PATH.mkdir(parents=True, exist_ok=True)\n",
    "\n",
    "MODEL_NAME = \"vgg_cifar_adv.pth\"\n",
    "MODEL_SAVE_PATH = MODEL_PATH / MODEL_NAME\n",
    "\n",
    "print(f\"Saving the model: {MODEL_SAVE_PATH}\")\n",
    "torch.save(obj=model_adversarial.state_dict(), f=MODEL_SAVE_PATH)"
   ]
  },
  {
   "cell_type": "markdown",
   "id": "a3dc8ad0-1ff2-4cd2-9874-45015ec1307f",
   "metadata": {},
   "source": [
    "# L1 Unstructured"
   ]
  },
  {
   "cell_type": "code",
   "execution_count": 128,
   "id": "f0b0a053-42ed-4464-a0b8-f0a9312bd980",
   "metadata": {},
   "outputs": [],
   "source": [
    "model = vgg16()\n",
    "epochs = 100\n",
    "criterion = nn.CrossEntropyLoss(reduction=\"mean\")\n",
    "optimizer = torch.optim.SGD(model.parameters(), lr = 0.05, momentum = 0.9, weight_decay = 5e-4)"
   ]
  },
  {
   "cell_type": "code",
   "execution_count": 72,
   "id": "914a15bc-c6f0-44bb-bd6c-a730be1d5f50",
   "metadata": {},
   "outputs": [],
   "source": [
    "def count_params(model):\n",
    "    total_params = 0\n",
    "    for layer_names, param in model.named_parameters():\n",
    "        total_params += torch.count_nonzero(param.data)\n",
    "    return total_params"
   ]
  },
  {
   "cell_type": "code",
   "execution_count": 74,
   "id": "1a130e9b-83cd-4eed-b45b-8ad2e9ff6f11",
   "metadata": {},
   "outputs": [
    {
     "name": "stdout",
     "output_type": "stream",
     "text": [
      "Unpruned VGG-16 model has 15240904 trainable parameters\n"
     ]
    }
   ],
   "source": [
    "orig_params = count_params(model)\n",
    "print(f\"Unpruned VGG-16 model has {orig_params} trainable parameters\")"
   ]
  },
  {
   "cell_type": "code",
   "execution_count": 76,
   "id": "e2613035-1637-492b-bad3-8eb1188268ba",
   "metadata": {},
   "outputs": [
    {
     "name": "stdout",
     "output_type": "stream",
     "text": [
      "layer.name: features.0.weight & param.shape = torch.Size([64, 3, 3, 3])\n",
      "layer.name: features.0.bias & param.shape = torch.Size([64])\n",
      "layer.name: features.2.weight & param.shape = torch.Size([64, 64, 3, 3])\n",
      "layer.name: features.2.bias & param.shape = torch.Size([64])\n",
      "layer.name: features.5.weight & param.shape = torch.Size([128, 64, 3, 3])\n",
      "layer.name: features.5.bias & param.shape = torch.Size([128])\n",
      "layer.name: features.7.weight & param.shape = torch.Size([128, 128, 3, 3])\n",
      "layer.name: features.7.bias & param.shape = torch.Size([128])\n",
      "layer.name: features.10.weight & param.shape = torch.Size([256, 128, 3, 3])\n",
      "layer.name: features.10.bias & param.shape = torch.Size([256])\n",
      "layer.name: features.12.weight & param.shape = torch.Size([256, 256, 3, 3])\n",
      "layer.name: features.12.bias & param.shape = torch.Size([256])\n",
      "layer.name: features.14.weight & param.shape = torch.Size([256, 256, 3, 3])\n",
      "layer.name: features.14.bias & param.shape = torch.Size([256])\n",
      "layer.name: features.17.weight & param.shape = torch.Size([512, 256, 3, 3])\n",
      "layer.name: features.17.bias & param.shape = torch.Size([512])\n",
      "layer.name: features.19.weight & param.shape = torch.Size([512, 512, 3, 3])\n",
      "layer.name: features.19.bias & param.shape = torch.Size([512])\n",
      "layer.name: features.21.weight & param.shape = torch.Size([512, 512, 3, 3])\n",
      "layer.name: features.21.bias & param.shape = torch.Size([512])\n",
      "layer.name: features.24.weight & param.shape = torch.Size([512, 512, 3, 3])\n",
      "layer.name: features.24.bias & param.shape = torch.Size([512])\n",
      "layer.name: features.26.weight & param.shape = torch.Size([512, 512, 3, 3])\n",
      "layer.name: features.26.bias & param.shape = torch.Size([512])\n",
      "layer.name: features.28.weight & param.shape = torch.Size([512, 512, 3, 3])\n",
      "layer.name: features.28.bias & param.shape = torch.Size([512])\n",
      "layer.name: classifier.1.weight & param.shape = torch.Size([512, 512])\n",
      "layer.name: classifier.1.bias & param.shape = torch.Size([512])\n",
      "layer.name: classifier.4.weight & param.shape = torch.Size([512, 512])\n",
      "layer.name: classifier.4.bias & param.shape = torch.Size([512])\n",
      "layer.name: classifier.6.weight & param.shape = torch.Size([10, 512])\n",
      "layer.name: classifier.6.bias & param.shape = torch.Size([10])\n"
     ]
    }
   ],
   "source": [
    "for layer, param in model.named_parameters():\n",
    "    print(f\"layer.name: {layer} & param.shape = {param.shape}\")"
   ]
  },
  {
   "cell_type": "code",
   "execution_count": 80,
   "id": "77c5d9fb-01f7-42b8-8508-ccdffaf87f56",
   "metadata": {},
   "outputs": [
    {
     "name": "stdout",
     "output_type": "stream",
     "text": [
      "features.0.weight torch.Size([64, 3, 3, 3])\n",
      "features.0.bias torch.Size([64])\n",
      "features.2.weight torch.Size([64, 64, 3, 3])\n",
      "features.2.bias torch.Size([64])\n",
      "features.5.weight torch.Size([128, 64, 3, 3])\n",
      "features.5.bias torch.Size([128])\n",
      "features.7.weight torch.Size([128, 128, 3, 3])\n",
      "features.7.bias torch.Size([128])\n",
      "features.10.weight torch.Size([256, 128, 3, 3])\n",
      "features.10.bias torch.Size([256])\n",
      "features.12.weight torch.Size([256, 256, 3, 3])\n",
      "features.12.bias torch.Size([256])\n",
      "features.14.weight torch.Size([256, 256, 3, 3])\n",
      "features.14.bias torch.Size([256])\n",
      "features.17.weight torch.Size([512, 256, 3, 3])\n",
      "features.17.bias torch.Size([512])\n",
      "features.19.weight torch.Size([512, 512, 3, 3])\n",
      "features.19.bias torch.Size([512])\n",
      "features.21.weight torch.Size([512, 512, 3, 3])\n",
      "features.21.bias torch.Size([512])\n",
      "features.24.weight torch.Size([512, 512, 3, 3])\n",
      "features.24.bias torch.Size([512])\n",
      "features.26.weight torch.Size([512, 512, 3, 3])\n",
      "features.26.bias torch.Size([512])\n",
      "features.28.weight torch.Size([512, 512, 3, 3])\n",
      "features.28.bias torch.Size([512])\n",
      "classifier.1.weight torch.Size([512, 512])\n",
      "classifier.1.bias torch.Size([512])\n",
      "classifier.4.weight torch.Size([512, 512])\n",
      "classifier.4.bias torch.Size([512])\n",
      "classifier.6.weight torch.Size([10, 512])\n",
      "classifier.6.bias torch.Size([10])\n"
     ]
    }
   ],
   "source": [
    "for layer_name in model.state_dict().keys():\n",
    "    print(layer_name, model.state_dict()[layer_name].shape)"
   ]
  },
  {
   "cell_type": "code",
   "execution_count": 100,
   "id": "622b69cf-c27c-4706-8c9b-c4202d0aff87",
   "metadata": {},
   "outputs": [],
   "source": [
    "def compute_sparsity(model):\n",
    "    conv1_sparsity = (torch.sum(model.features[0].weight == 0) / model.features[0].weight.nelement()) * 100\n",
    "    conv2_sparsity = (torch.sum(model.features[2].weight == 0) / model.features[2].weight.nelement()) * 100\n",
    "    conv3_sparsity = (torch.sum(model.features[5].weight == 0) / model.features[5].weight.nelement()) * 100\n",
    "    conv4_sparsity = (torch.sum(model.features[7].weight == 0) / model.features[7].weight.nelement()) * 100\n",
    "    conv5_sparsity = (torch.sum(model.features[10].weight == 0) / model.features[10].weight.nelement()) * 100\n",
    "    conv6_sparsity = (torch.sum(model.features[12].weight == 0) / model.features[12].weight.nelement()) * 100\n",
    "    conv7_sparsity = (torch.sum(model.features[14].weight == 0) / model.features[14].weight.nelement()) * 100\n",
    "    conv8_sparsity = (torch.sum(model.features[17].weight == 0) / model.features[17].weight.nelement()) * 100\n",
    "    conv9_sparsity = (torch.sum(model.features[19].weight == 0) / model.features[19].weight.nelement()) * 100\n",
    "    conv10_sparsity = (torch.sum(model.features[21].weight == 0) / model.features[21].weight.nelement()) * 100\n",
    "    conv11_sparsity = (torch.sum(model.features[24].weight == 0) / model.features[24].weight.nelement()) * 100\n",
    "    conv12_sparsity = (torch.sum(model.features[26].weight == 0) / model.features[26].weight.nelement()) * 100\n",
    "    conv13_sparsity = (torch.sum(model.features[28].weight == 0) / model.features[28].weight.nelement()) * 100\n",
    "    fc1_sparsity = (torch.sum(model.classifier[1].weight == 0) / model.classifier[1].weight.nelement()) * 100\n",
    "    fc2_sparsity = (torch.sum(model.classifier[4].weight == 0) / model.classifier[4].weight.nelement()) * 100\n",
    "    op_sparsity = (torch.sum(model.classifier[6].weight == 0) / model.classifier[6].weight.nelement()) * 100\n",
    "\n",
    "    num = torch.sum(model.features[0].weight == 0) + torch.sum(model.features[2].weight == 0) + torch.sum(model.features[5].weight == 0) + torch.sum(model.features[7].weight == 0) + torch.sum(model.features[10].weight == 0) + torch.sum(model.features[12].weight == 0) + torch.sum(model.features[14].weight == 0) + torch.sum(model.features[17].weight == 0) + torch.sum(model.features[19].weight == 0) + torch.sum(model.features[21].weight == 0)+ torch.sum(model.features[24].weight == 0) + torch.sum(model.features[26].weight == 0) + torch.sum(model.features[28].weight == 0) + torch.sum(model.classifier[1].weight == 0) + torch.sum(model.classifier[4].weight == 0) + torch.sum(model.classifier[6].weight == 0)\n",
    "    denom = model.features[0].weight.nelement() + model.features[2].weight.nelement() + model.features[5].weight.nelement() + model.features[7].weight.nelement() + model.features[10].weight.nelement() + model.features[12].weight.nelement() + model.features[14].weight.nelement() + model.features[17].weight.nelement() + model.features[19].weight.nelement() + model.features[21].weight.nelement() + model.features[24].weight.nelement() + model.features[26].weight.nelement() + model.features[28].weight.nelement() + model.classifier[1].weight.nelement() + model.classifier[4].weight.nelement() + model.classifier[6].weight.nelement()\n",
    "    global_sparsity = num/denom * 100\n",
    "    return global_sparsity"
   ]
  },
  {
   "cell_type": "code",
   "execution_count": 102,
   "id": "260437c2-0dfa-4f68-9df7-d6804b0f2f38",
   "metadata": {},
   "outputs": [
    {
     "name": "stdout",
     "output_type": "stream",
     "text": [
      "VGG-16 global sparsity = 1.91%\n"
     ]
    }
   ],
   "source": [
    "print(f\"VGG-16 global sparsity = {compute_sparsity(model):.2f}%\")"
   ]
  },
  {
   "cell_type": "code",
   "execution_count": 120,
   "id": "1dab805d-eec1-48f7-9126-094556600269",
   "metadata": {},
   "outputs": [],
   "source": [
    "import torch.nn.utils.prune as prune\n",
    "for name, module in model.named_modules():\n",
    "    # prune 20% of weights/connections in for all hidden layaers-\n",
    "    if isinstance(module, torch.nn.Linear) and name != 'classifier.6':\n",
    "        prune.l1_unstructured(module = module, name = 'weight', amount = 0.5)\n",
    "    \n",
    "    # prune 10% of weights/connections for output layer-\n",
    "    elif isinstance(module, torch.nn.Linear) and name == 'classifier.6':\n",
    "        prune.l1_unstructured(module = module, name = 'weight', amount = 0.5)"
   ]
  },
  {
   "cell_type": "code",
   "execution_count": 122,
   "id": "5b9f747d-5693-4cb0-bbdb-4f7705905b33",
   "metadata": {},
   "outputs": [
    {
     "name": "stdout",
     "output_type": "stream",
     "text": [
      "VGG-16 global sparsity = 3.14%\n"
     ]
    }
   ],
   "source": [
    "print(f\"VGG-16 global sparsity = {compute_sparsity(model):.2f}%\")"
   ]
  },
  {
   "cell_type": "code",
   "execution_count": 124,
   "id": "504ec34f-cba9-4455-9d39-1a574423fa4b",
   "metadata": {},
   "outputs": [],
   "source": [
    "def evaluate_model(model, data, device):\n",
    "    model.eval()\n",
    "    logits = torch.Tensor().to(device)\n",
    "    targets = torch.LongTensor().to(device)\n",
    "\n",
    "    with torch.no_grad():\n",
    "        for x_batch, y_batch in data:\n",
    "            x_batch, y_batch = x_batch.to(device), y_batch.to(device)\n",
    "            logits = torch.cat([logits, model(x_batch)])\n",
    "            targets = torch.cat([targets, y_batch])\n",
    "    \n",
    "    return torch.nn.functional.softmax(logits, dim=1), targets"
   ]
  },
  {
   "cell_type": "code",
   "execution_count": 126,
   "id": "f9c8bc92-8e4d-4b4b-85f5-42f0f3f436bb",
   "metadata": {},
   "outputs": [],
   "source": [
    "def train_l1_prune(model, epochs):\n",
    "    model.train()\n",
    "    for epoch in range(epochs):\n",
    "        for x_batch, y_batch in train_dataloader:\n",
    "            x_batch, y_batch = x_batch.to(device), y_batch.to(device)\n",
    "            optimizer.zero_grad()\n",
    "            logits = model(x_batch)\n",
    "            loss = criterion(logits, y_batch)\n",
    "            loss.backward()\n",
    "            optimizer.step()\n",
    "\n",
    "        # Evaluate model!\n",
    "        if epochs%10==0:\n",
    "            predictions, labels = evaluate_model(model, test_dataloader, device)\n",
    "            test_acc = np.mean(np.argmax(predictions.cpu().numpy(), axis=1) == labels.cpu().numpy())\n",
    "            print(f\"Epoch {epoch+1}/{epochs} - test accuracy: {(100 * test_acc):.2f}% and CE loss {loss.item():.2f}\")\n",
    "    return model"
   ]
  },
  {
   "cell_type": "code",
   "execution_count": null,
   "id": "16c960b5-d151-4301-bfc9-36bb9a9c5238",
   "metadata": {},
   "outputs": [],
   "source": [
    "model_l1_unstructured = train_l1_prune(model = model.to(device), epochs = epochs)"
   ]
  },
  {
   "cell_type": "code",
   "execution_count": null,
   "id": "5c41500e-b7e8-459d-9af2-be85ad5ca953",
   "metadata": {},
   "outputs": [],
   "source": [
    "# Model to GPU and eval mode.\n",
    "model_l1_unstructured.to(device)\n",
    "model_l1_unstructured.eval()\n",
    "\n",
    "# Check test set performance.\n",
    "predictions, labels = evaluate_model(model_l1_unstructured, test_dataloader, device)\n",
    "test_acc = np.mean(np.argmax(predictions.cpu().numpy(), axis=1) == labels.cpu().numpy())        \n",
    "print(f\"Model test accuracy: {(100 * test_acc):.2f}%\")"
   ]
  },
  {
   "cell_type": "code",
   "execution_count": null,
   "id": "2697f5fa-166b-45b2-a006-e1a7539d7d21",
   "metadata": {},
   "outputs": [],
   "source": [
    "from pathlib import Path\n",
    "\n",
    "MODEL_PATH = Path(\"models\")\n",
    "MODEL_PATH.mkdir(parents=True, exist_ok=True)\n",
    "\n",
    "MODEL_NAME = \"vgg_cifar_l1_unstructured.pth\"\n",
    "MODEL_SAVE_PATH = MODEL_PATH / MODEL_NAME\n",
    "\n",
    "print(f\"Saving the model: {MODEL_SAVE_PATH}\")\n",
    "torch.save(obj=model_l1_unstructured.state_dict(), f=MODEL_SAVE_PATH)"
   ]
  },
  {
   "cell_type": "markdown",
   "id": "b84c3b3a-8656-4ca4-b233-dadc139b4661",
   "metadata": {},
   "source": [
    "# Global Pruning"
   ]
  },
  {
   "cell_type": "code",
   "execution_count": 131,
   "id": "451b435e-e391-4d46-ac72-920dcea2aa9e",
   "metadata": {},
   "outputs": [],
   "source": [
    "model = vgg16()\n",
    "epochs = 100\n",
    "criterion = nn.CrossEntropyLoss()\n",
    "optimizer = torch.optim.SGD(model.parameters(), lr = 0.05, momentum = 0.9, weight_decay = 5e-4)"
   ]
  },
  {
   "cell_type": "code",
   "execution_count": 133,
   "id": "946436b5-b296-4430-ab8c-ad4028a7490b",
   "metadata": {},
   "outputs": [
    {
     "name": "stdout",
     "output_type": "stream",
     "text": [
      "Unpruned VGG-16 model has 15240906 trainable parameters\n"
     ]
    }
   ],
   "source": [
    "orig_params = count_params(model)\n",
    "print(f\"Unpruned VGG-16 model has {orig_params} trainable parameters\")"
   ]
  },
  {
   "cell_type": "code",
   "execution_count": 135,
   "id": "e5b7e49f-5fb1-4ecd-afa1-642b61ac9f3f",
   "metadata": {},
   "outputs": [
    {
     "name": "stdout",
     "output_type": "stream",
     "text": [
      "layer.name: features.0.weight & param.shape = torch.Size([64, 3, 3, 3])\n",
      "layer.name: features.0.bias & param.shape = torch.Size([64])\n",
      "layer.name: features.2.weight & param.shape = torch.Size([64, 64, 3, 3])\n",
      "layer.name: features.2.bias & param.shape = torch.Size([64])\n",
      "layer.name: features.5.weight & param.shape = torch.Size([128, 64, 3, 3])\n",
      "layer.name: features.5.bias & param.shape = torch.Size([128])\n",
      "layer.name: features.7.weight & param.shape = torch.Size([128, 128, 3, 3])\n",
      "layer.name: features.7.bias & param.shape = torch.Size([128])\n",
      "layer.name: features.10.weight & param.shape = torch.Size([256, 128, 3, 3])\n",
      "layer.name: features.10.bias & param.shape = torch.Size([256])\n",
      "layer.name: features.12.weight & param.shape = torch.Size([256, 256, 3, 3])\n",
      "layer.name: features.12.bias & param.shape = torch.Size([256])\n",
      "layer.name: features.14.weight & param.shape = torch.Size([256, 256, 3, 3])\n",
      "layer.name: features.14.bias & param.shape = torch.Size([256])\n",
      "layer.name: features.17.weight & param.shape = torch.Size([512, 256, 3, 3])\n",
      "layer.name: features.17.bias & param.shape = torch.Size([512])\n",
      "layer.name: features.19.weight & param.shape = torch.Size([512, 512, 3, 3])\n",
      "layer.name: features.19.bias & param.shape = torch.Size([512])\n",
      "layer.name: features.21.weight & param.shape = torch.Size([512, 512, 3, 3])\n",
      "layer.name: features.21.bias & param.shape = torch.Size([512])\n",
      "layer.name: features.24.weight & param.shape = torch.Size([512, 512, 3, 3])\n",
      "layer.name: features.24.bias & param.shape = torch.Size([512])\n",
      "layer.name: features.26.weight & param.shape = torch.Size([512, 512, 3, 3])\n",
      "layer.name: features.26.bias & param.shape = torch.Size([512])\n",
      "layer.name: features.28.weight & param.shape = torch.Size([512, 512, 3, 3])\n",
      "layer.name: features.28.bias & param.shape = torch.Size([512])\n",
      "layer.name: classifier.1.weight & param.shape = torch.Size([512, 512])\n",
      "layer.name: classifier.1.bias & param.shape = torch.Size([512])\n",
      "layer.name: classifier.4.weight & param.shape = torch.Size([512, 512])\n",
      "layer.name: classifier.4.bias & param.shape = torch.Size([512])\n",
      "layer.name: classifier.6.weight & param.shape = torch.Size([10, 512])\n",
      "layer.name: classifier.6.bias & param.shape = torch.Size([10])\n"
     ]
    }
   ],
   "source": [
    "for layer, param in model.named_parameters():\n",
    "    print(f\"layer.name: {layer} & param.shape = {param.shape}\")"
   ]
  },
  {
   "cell_type": "code",
   "execution_count": 137,
   "id": "19388edb-da57-4808-ab78-2d5bc0bcc711",
   "metadata": {},
   "outputs": [
    {
     "name": "stdout",
     "output_type": "stream",
     "text": [
      "VGG-16 global sparsity = 0.00%\n"
     ]
    }
   ],
   "source": [
    "print(f\"VGG-16 global sparsity = {compute_sparsity(model):.2f}%\")"
   ]
  },
  {
   "cell_type": "code",
   "execution_count": 139,
   "id": "e16472d0-aa35-41b3-9749-00577eaf5709",
   "metadata": {},
   "outputs": [],
   "source": [
    "parameters_to_prune = (\n",
    "    (model.features[0], 'weight'),\n",
    "    (model.features[2], 'weight'),\n",
    "    (model.features[5], 'weight'),\n",
    "    (model.features[7], 'weight'),\n",
    "    (model.features[10], 'weight'),\n",
    "    (model.features[12], 'weight'),\n",
    "    (model.features[14], 'weight'),\n",
    "    (model.features[17], 'weight'),\n",
    "    (model.features[19], 'weight'),\n",
    "    (model.features[21], 'weight'),\n",
    "    (model.features[24], 'weight'),\n",
    "    (model.features[26], 'weight'),\n",
    "    (model.features[28], 'weight'),\n",
    "    (model.classifier[1], 'weight'),\n",
    "    (model.classifier[4], 'weight'),\n",
    "    (model.classifier[6], 'weight')\n",
    ")\n",
    "\n",
    "prune_rates_global = [0.2, 0.3, 0.4, 0.5, 0.6]"
   ]
  },
  {
   "cell_type": "code",
   "execution_count": 141,
   "id": "ecae3845-2bb8-48c0-a56c-14bd801e943e",
   "metadata": {},
   "outputs": [],
   "source": [
    "def evaluate_model(model, data, device):\n",
    "    model.eval()\n",
    "    logits = torch.Tensor().to(device)\n",
    "    targets = torch.LongTensor().to(device)\n",
    "\n",
    "    with torch.no_grad():\n",
    "        for x_batch, y_batch in data:\n",
    "            x_batch, y_batch = x_batch.to(device), y_batch.to(device)\n",
    "            logits = torch.cat([logits, model(x_batch)])\n",
    "            targets = torch.cat([targets, y_batch])\n",
    "    \n",
    "    return torch.nn.functional.softmax(logits, dim=1), targets"
   ]
  },
  {
   "cell_type": "code",
   "execution_count": 143,
   "id": "53e3f839-5230-489d-b6d3-a3bf2e57d6fc",
   "metadata": {},
   "outputs": [],
   "source": [
    "def train_global_pruned(model, epochs):\n",
    "    for iter_prune_round in range(1):\n",
    "        print(f\"\\n\\nIterative Global pruning round = {iter_prune_round + 1}\")\n",
    "        \n",
    "        # Prune layer-wise in a structured manner-\n",
    "        prune.global_unstructured(\n",
    "            parameters_to_prune,\n",
    "            pruning_method = prune.L1Unstructured,\n",
    "            amount = prune_rates_global[iter_prune_round]\n",
    "            \n",
    "        )\n",
    "    \n",
    "        # Print current global sparsity level-\n",
    "        print(f\"VGG global sparsity = {compute_sparsity(model):.2f}%\")\n",
    "        \n",
    "        \n",
    "        # Fine-training loop-\n",
    "        print(\"\\nFine-tuning pruned model to recover model's performance\\n\")\n",
    "        model.train()\n",
    "        for epoch in range(epochs):\n",
    "            for x_batch, y_batch in train_dataloader:\n",
    "                x_batch, y_batch = x_batch.to(device), y_batch.to(device)\n",
    "                optimizer.zero_grad()\n",
    "                logits = model(x_batch)\n",
    "                loss = criterion(logits, y_batch)\n",
    "                loss.backward()\n",
    "                optimizer.step()\n",
    "    \n",
    "            # Evaluate model!\n",
    "            if epochs%10==0:\n",
    "                predictions, labels = evaluate_model(model, test_dataloader, device)\n",
    "                test_acc = np.mean(np.argmax(predictions.cpu().numpy(), axis=1) == labels.cpu().numpy())\n",
    "                print(f\"Epoch {epoch+1}/{epochs} - test accuracy: {(100 * test_acc):.2f}% and CE loss {loss.item():.2f}\")\n",
    "    return model"
   ]
  },
  {
   "cell_type": "code",
   "execution_count": null,
   "id": "5220bf96-4526-49e5-8f82-5b360752f0c3",
   "metadata": {},
   "outputs": [],
   "source": [
    "model_global = train_global_pruned(model = model.to(device), epochs = epochs)"
   ]
  },
  {
   "cell_type": "code",
   "execution_count": null,
   "id": "00d711ba-0444-430e-aa8d-9feb57a99d60",
   "metadata": {},
   "outputs": [],
   "source": [
    "# Model to GPU and eval mode.\n",
    "model_global.to(device)\n",
    "model_global.eval()\n",
    "\n",
    "# Check test set performance.\n",
    "predictions, labels = evaluate_model(model_global, test_dataloader, device)\n",
    "test_acc = np.mean(np.argmax(predictions.cpu().numpy(), axis=1) == labels.cpu().numpy())        \n",
    "print(f\"Model test accuracy: {(100 * test_acc):.2f}%\")"
   ]
  },
  {
   "cell_type": "code",
   "execution_count": null,
   "id": "bbad099f-06da-4433-b501-9d64c2233390",
   "metadata": {},
   "outputs": [],
   "source": [
    "from pathlib import Path\n",
    "\n",
    "MODEL_PATH = Path(\"models\")\n",
    "MODEL_PATH.mkdir(parents=True, exist_ok=True)\n",
    "\n",
    "MODEL_NAME = \"vgg_cifar_global.pth\"\n",
    "MODEL_SAVE_PATH = MODEL_PATH / MODEL_NAME\n",
    "\n",
    "print(f\"Saving the model: {MODEL_SAVE_PATH}\")\n",
    "torch.save(obj=model_global.state_dict(), f=MODEL_SAVE_PATH)"
   ]
  },
  {
   "cell_type": "markdown",
   "id": "b20d5424-804c-45c5-a992-c9e6e2769cc4",
   "metadata": {},
   "source": [
    "# Layered Structure"
   ]
  },
  {
   "cell_type": "code",
   "execution_count": 146,
   "id": "0304a4aa-2155-4149-a8f9-d8f282a9952a",
   "metadata": {},
   "outputs": [],
   "source": [
    "model = vgg16()\n",
    "epochs = 100\n",
    "criterion = nn.CrossEntropyLoss()\n",
    "optimizer = torch.optim.SGD(model.parameters(), lr = 0.05, momentum = 0.9, weight_decay = 5e-4)"
   ]
  },
  {
   "cell_type": "code",
   "execution_count": 148,
   "id": "49640d0f-5628-4ba2-ab7b-56549d0c49d1",
   "metadata": {},
   "outputs": [
    {
     "name": "stdout",
     "output_type": "stream",
     "text": [
      "Unpruned VGG-16 model has 15240906 trainable parameters\n"
     ]
    }
   ],
   "source": [
    "orig_params = count_params(model)\n",
    "print(f\"Unpruned VGG-16 model has {orig_params} trainable parameters\")"
   ]
  },
  {
   "cell_type": "code",
   "execution_count": 150,
   "id": "4ed26e1a-db99-4bd1-af12-efc1841770df",
   "metadata": {},
   "outputs": [
    {
     "name": "stdout",
     "output_type": "stream",
     "text": [
      "layer.name: features.0.weight & param.shape = torch.Size([64, 3, 3, 3])\n",
      "layer.name: features.0.bias & param.shape = torch.Size([64])\n",
      "layer.name: features.2.weight & param.shape = torch.Size([64, 64, 3, 3])\n",
      "layer.name: features.2.bias & param.shape = torch.Size([64])\n",
      "layer.name: features.5.weight & param.shape = torch.Size([128, 64, 3, 3])\n",
      "layer.name: features.5.bias & param.shape = torch.Size([128])\n",
      "layer.name: features.7.weight & param.shape = torch.Size([128, 128, 3, 3])\n",
      "layer.name: features.7.bias & param.shape = torch.Size([128])\n",
      "layer.name: features.10.weight & param.shape = torch.Size([256, 128, 3, 3])\n",
      "layer.name: features.10.bias & param.shape = torch.Size([256])\n",
      "layer.name: features.12.weight & param.shape = torch.Size([256, 256, 3, 3])\n",
      "layer.name: features.12.bias & param.shape = torch.Size([256])\n",
      "layer.name: features.14.weight & param.shape = torch.Size([256, 256, 3, 3])\n",
      "layer.name: features.14.bias & param.shape = torch.Size([256])\n",
      "layer.name: features.17.weight & param.shape = torch.Size([512, 256, 3, 3])\n",
      "layer.name: features.17.bias & param.shape = torch.Size([512])\n",
      "layer.name: features.19.weight & param.shape = torch.Size([512, 512, 3, 3])\n",
      "layer.name: features.19.bias & param.shape = torch.Size([512])\n",
      "layer.name: features.21.weight & param.shape = torch.Size([512, 512, 3, 3])\n",
      "layer.name: features.21.bias & param.shape = torch.Size([512])\n",
      "layer.name: features.24.weight & param.shape = torch.Size([512, 512, 3, 3])\n",
      "layer.name: features.24.bias & param.shape = torch.Size([512])\n",
      "layer.name: features.26.weight & param.shape = torch.Size([512, 512, 3, 3])\n",
      "layer.name: features.26.bias & param.shape = torch.Size([512])\n",
      "layer.name: features.28.weight & param.shape = torch.Size([512, 512, 3, 3])\n",
      "layer.name: features.28.bias & param.shape = torch.Size([512])\n",
      "layer.name: classifier.1.weight & param.shape = torch.Size([512, 512])\n",
      "layer.name: classifier.1.bias & param.shape = torch.Size([512])\n",
      "layer.name: classifier.4.weight & param.shape = torch.Size([512, 512])\n",
      "layer.name: classifier.4.bias & param.shape = torch.Size([512])\n",
      "layer.name: classifier.6.weight & param.shape = torch.Size([10, 512])\n",
      "layer.name: classifier.6.bias & param.shape = torch.Size([10])\n"
     ]
    }
   ],
   "source": [
    "for layer, param in model.named_parameters():\n",
    "    print(f\"layer.name: {layer} & param.shape = {param.shape}\")"
   ]
  },
  {
   "cell_type": "code",
   "execution_count": 152,
   "id": "74c92bb7-9183-45f1-8e44-8ccc812474c4",
   "metadata": {},
   "outputs": [
    {
     "name": "stdout",
     "output_type": "stream",
     "text": [
      "VGG-16 global sparsity = 0.00%\n"
     ]
    }
   ],
   "source": [
    "print(f\"VGG-16 global sparsity = {compute_sparsity(model):.2f}%\")"
   ]
  },
  {
   "cell_type": "code",
   "execution_count": 154,
   "id": "df02a8d3-cc43-40e9-8449-67ac08e7b6fb",
   "metadata": {},
   "outputs": [],
   "source": [
    "def train_layered_pruned(model, epochs):\n",
    "    for iter_prune_round in range(1):\n",
    "        print(f\"\\n\\nIterative Global pruning round = {iter_prune_round + 1}\")\n",
    "        \n",
    "        # Prune layer-wise in a structured manner-\n",
    "        prune.ln_structured(model.features[0], name = \"weight\", amount = 0.1, n = 2, dim = 0)\n",
    "        prune.ln_structured(model.features[2], name = \"weight\", amount = 0.1, n = 2, dim = 0)\n",
    "        prune.ln_structured(model.features[5], name = \"weight\", amount = 0.1, n = 2, dim = 0)\n",
    "        prune.ln_structured(model.features[7], name = \"weight\", amount = 0.1, n = 2, dim = 0)\n",
    "        prune.ln_structured(model.features[10], name = \"weight\", amount = 0.1, n = 2, dim = 0)\n",
    "        prune.ln_structured(model.features[12], name = \"weight\", amount = 0.1, n = 2, dim = 0)\n",
    "        prune.ln_structured(model.features[14], name = \"weight\", amount = 0.1, n = 2, dim = 0)\n",
    "        prune.ln_structured(model.features[17], name = \"weight\", amount = 0.1, n = 2, dim = 0)\n",
    "        prune.ln_structured(model.features[19], name = \"weight\", amount = 0.1, n = 2, dim = 0)\n",
    "        prune.ln_structured(model.features[21], name = \"weight\", amount = 0.1, n = 2, dim = 0)\n",
    "        prune.ln_structured(model.features[24], name = \"weight\", amount = 0.1, n = 2, dim = 0)\n",
    "        prune.ln_structured(model.features[26], name = \"weight\", amount = 0.1, n = 2, dim = 0)\n",
    "        prune.ln_structured(model.features[28], name = \"weight\", amount = 0.1, n = 2, dim = 0)\n",
    "        prune.ln_structured(model.classifier[1], name = \"weight\", amount = 0.1, n = 2, dim = 0)\n",
    "        prune.ln_structured(model.classifier[4], name = \"weight\", amount = 0.1, n = 2, dim = 0)\n",
    "        prune.ln_structured(model.classifier[6], name = \"weight\", amount = 0.1, n = 2, dim = 0)\n",
    "        \n",
    "        # Print current global sparsity level-\n",
    "        print(f\"VGG global sparsity = {compute_sparsity(model):.2f}%\")\n",
    "        \n",
    "        \n",
    "        # Fine-training loop-\n",
    "        print(\"\\nFine-tuning pruned model to recover model's performance\\n\")\n",
    "        model.train()\n",
    "        for epoch in range(epochs):\n",
    "            for x_batch, y_batch in train_dataloader:\n",
    "                x_batch, y_batch = x_batch.to(device), y_batch.to(device)\n",
    "                optimizer.zero_grad()\n",
    "                logits = model(x_batch)\n",
    "                loss = criterion(logits, y_batch)\n",
    "                loss.backward()\n",
    "                optimizer.step()\n",
    "    \n",
    "            # Evaluate model!\n",
    "            if epochs%10==0:\n",
    "                predictions, labels = evaluate_model(model, test_dataloader, device)\n",
    "                test_acc = np.mean(np.argmax(predictions.cpu().numpy(), axis=1) == labels.cpu().numpy())\n",
    "                print(f\"Epoch {epoch+1}/{epochs} - test accuracy: {(100 * test_acc):.2f}% and CE loss {loss.item():.2f}\")\n",
    "    return model"
   ]
  },
  {
   "cell_type": "code",
   "execution_count": 156,
   "id": "f66efbea-e042-46d7-8a42-5d87983c54af",
   "metadata": {},
   "outputs": [
    {
     "name": "stdout",
     "output_type": "stream",
     "text": [
      "\n",
      "\n",
      "Iterative Global pruning round = 1\n",
      "VGG global sparsity = 9.98%\n",
      "\n",
      "Fine-tuning pruned model to recover model's performance\n",
      "\n"
     ]
    },
    {
     "ename": "KeyboardInterrupt",
     "evalue": "",
     "output_type": "error",
     "traceback": [
      "\u001b[1;31m---------------------------------------------------------------------------\u001b[0m",
      "\u001b[1;31mKeyboardInterrupt\u001b[0m                         Traceback (most recent call last)",
      "Cell \u001b[1;32mIn[156], line 1\u001b[0m\n\u001b[1;32m----> 1\u001b[0m model_layered_structured \u001b[38;5;241m=\u001b[39m train_layered_pruned(model \u001b[38;5;241m=\u001b[39m model\u001b[38;5;241m.\u001b[39mto(device), epochs \u001b[38;5;241m=\u001b[39m epochs)\n",
      "Cell \u001b[1;32mIn[154], line 36\u001b[0m, in \u001b[0;36mtrain_layered_pruned\u001b[1;34m(model, epochs)\u001b[0m\n\u001b[0;32m     34\u001b[0m     logits \u001b[38;5;241m=\u001b[39m model(x_batch)\n\u001b[0;32m     35\u001b[0m     loss \u001b[38;5;241m=\u001b[39m criterion(logits, y_batch)\n\u001b[1;32m---> 36\u001b[0m     loss\u001b[38;5;241m.\u001b[39mbackward()\n\u001b[0;32m     37\u001b[0m     optimizer\u001b[38;5;241m.\u001b[39mstep()\n\u001b[0;32m     39\u001b[0m \u001b[38;5;66;03m# Evaluate model!\u001b[39;00m\n",
      "File \u001b[1;32m~\\anaconda3\\Lib\\site-packages\\torch\\_tensor.py:521\u001b[0m, in \u001b[0;36mTensor.backward\u001b[1;34m(self, gradient, retain_graph, create_graph, inputs)\u001b[0m\n\u001b[0;32m    511\u001b[0m \u001b[38;5;28;01mif\u001b[39;00m has_torch_function_unary(\u001b[38;5;28mself\u001b[39m):\n\u001b[0;32m    512\u001b[0m     \u001b[38;5;28;01mreturn\u001b[39;00m handle_torch_function(\n\u001b[0;32m    513\u001b[0m         Tensor\u001b[38;5;241m.\u001b[39mbackward,\n\u001b[0;32m    514\u001b[0m         (\u001b[38;5;28mself\u001b[39m,),\n\u001b[1;32m   (...)\u001b[0m\n\u001b[0;32m    519\u001b[0m         inputs\u001b[38;5;241m=\u001b[39minputs,\n\u001b[0;32m    520\u001b[0m     )\n\u001b[1;32m--> 521\u001b[0m torch\u001b[38;5;241m.\u001b[39mautograd\u001b[38;5;241m.\u001b[39mbackward(\n\u001b[0;32m    522\u001b[0m     \u001b[38;5;28mself\u001b[39m, gradient, retain_graph, create_graph, inputs\u001b[38;5;241m=\u001b[39minputs\n\u001b[0;32m    523\u001b[0m )\n",
      "File \u001b[1;32m~\\anaconda3\\Lib\\site-packages\\torch\\autograd\\__init__.py:289\u001b[0m, in \u001b[0;36mbackward\u001b[1;34m(tensors, grad_tensors, retain_graph, create_graph, grad_variables, inputs)\u001b[0m\n\u001b[0;32m    284\u001b[0m     retain_graph \u001b[38;5;241m=\u001b[39m create_graph\n\u001b[0;32m    286\u001b[0m \u001b[38;5;66;03m# The reason we repeat the same comment below is that\u001b[39;00m\n\u001b[0;32m    287\u001b[0m \u001b[38;5;66;03m# some Python versions print out the first line of a multi-line function\u001b[39;00m\n\u001b[0;32m    288\u001b[0m \u001b[38;5;66;03m# calls in the traceback and some print out the last line\u001b[39;00m\n\u001b[1;32m--> 289\u001b[0m _engine_run_backward(\n\u001b[0;32m    290\u001b[0m     tensors,\n\u001b[0;32m    291\u001b[0m     grad_tensors_,\n\u001b[0;32m    292\u001b[0m     retain_graph,\n\u001b[0;32m    293\u001b[0m     create_graph,\n\u001b[0;32m    294\u001b[0m     inputs,\n\u001b[0;32m    295\u001b[0m     allow_unreachable\u001b[38;5;241m=\u001b[39m\u001b[38;5;28;01mTrue\u001b[39;00m,\n\u001b[0;32m    296\u001b[0m     accumulate_grad\u001b[38;5;241m=\u001b[39m\u001b[38;5;28;01mTrue\u001b[39;00m,\n\u001b[0;32m    297\u001b[0m )\n",
      "File \u001b[1;32m~\\anaconda3\\Lib\\site-packages\\torch\\autograd\\graph.py:769\u001b[0m, in \u001b[0;36m_engine_run_backward\u001b[1;34m(t_outputs, *args, **kwargs)\u001b[0m\n\u001b[0;32m    767\u001b[0m     unregister_hooks \u001b[38;5;241m=\u001b[39m _register_logging_hooks_on_whole_graph(t_outputs)\n\u001b[0;32m    768\u001b[0m \u001b[38;5;28;01mtry\u001b[39;00m:\n\u001b[1;32m--> 769\u001b[0m     \u001b[38;5;28;01mreturn\u001b[39;00m Variable\u001b[38;5;241m.\u001b[39m_execution_engine\u001b[38;5;241m.\u001b[39mrun_backward(  \u001b[38;5;66;03m# Calls into the C++ engine to run the backward pass\u001b[39;00m\n\u001b[0;32m    770\u001b[0m         t_outputs, \u001b[38;5;241m*\u001b[39margs, \u001b[38;5;241m*\u001b[39m\u001b[38;5;241m*\u001b[39mkwargs\n\u001b[0;32m    771\u001b[0m     )  \u001b[38;5;66;03m# Calls into the C++ engine to run the backward pass\u001b[39;00m\n\u001b[0;32m    772\u001b[0m \u001b[38;5;28;01mfinally\u001b[39;00m:\n\u001b[0;32m    773\u001b[0m     \u001b[38;5;28;01mif\u001b[39;00m attach_logging_hooks:\n",
      "\u001b[1;31mKeyboardInterrupt\u001b[0m: "
     ]
    }
   ],
   "source": [
    "model_layered_structured = train_layered_pruned(model = model.to(device), epochs = epochs)"
   ]
  },
  {
   "cell_type": "code",
   "execution_count": null,
   "id": "eaa824de-5628-48ce-9477-d9b176f88c73",
   "metadata": {},
   "outputs": [],
   "source": [
    "# Model to GPU and eval mode.\n",
    "model_layered_structured.to(device)\n",
    "model_layered_structured.eval()\n",
    "\n",
    "# Check test set performance.\n",
    "predictions, labels = evaluate_model(model_layered_structured, test_dataloader, device)\n",
    "test_acc = np.mean(np.argmax(predictions.cpu().numpy(), axis=1) == labels.cpu().numpy())        \n",
    "print(f\"Model test accuracy: {(100 * test_acc):.2f}%\")"
   ]
  },
  {
   "cell_type": "code",
   "execution_count": null,
   "id": "9128bc16-6ca8-44fd-bae8-ebf61578ec22",
   "metadata": {},
   "outputs": [],
   "source": [
    "from pathlib import Path\n",
    "\n",
    "MODEL_PATH = Path(\"models\")\n",
    "MODEL_PATH.mkdir(parents=True, exist_ok=True)\n",
    "\n",
    "MODEL_NAME = \"vgg_cifar_structured.pth\"\n",
    "MODEL_SAVE_PATH = MODEL_PATH / MODEL_NAME\n",
    "\n",
    "print(f\"Saving the model: {MODEL_SAVE_PATH}\")\n",
    "torch.save(obj=model_layered_structured.state_dict(), f=MODEL_SAVE_PATH)"
   ]
  }
 ],
 "metadata": {
  "kernelspec": {
   "display_name": "Python 3 (ipykernel)",
   "language": "python",
   "name": "python3"
  },
  "language_info": {
   "codemirror_mode": {
    "name": "ipython",
    "version": 3
   },
   "file_extension": ".py",
   "mimetype": "text/x-python",
   "name": "python",
   "nbconvert_exporter": "python",
   "pygments_lexer": "ipython3",
   "version": "3.12.3"
  }
 },
 "nbformat": 4,
 "nbformat_minor": 5
}
