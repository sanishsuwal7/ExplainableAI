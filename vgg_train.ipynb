{
 "cells": [
  {
   "cell_type": "code",
   "execution_count": 81,
   "id": "d6df794c-14c3-47b0-818d-ff9953179467",
   "metadata": {},
   "outputs": [],
   "source": [
    "import torch\n",
    "import torch.nn as nn\n",
    "import torch.nn.functional as F\n",
    "from torch.utils.data import DataLoader\n",
    "\n",
    "\n",
    "import torchvision\n",
    "from torchvision import datasets\n",
    "import torchvision.transforms as transforms\n",
    "from torchvision import models\n",
    "from torchmetrics import Accuracy\n",
    "\n",
    "import quantus\n",
    "import captum\n",
    "from captum.attr import Saliency, IntegratedGradients, NoiseTunnel\n",
    "from cleverhans.torch.attacks.projected_gradient_descent import (projected_gradient_descent)\n",
    "\n",
    "import numpy as np\n",
    "import pandas as pd\n",
    "import matplotlib.pyplot as plt\n",
    "import seaborn as sns\n",
    "\n",
    "import random\n",
    "import copy\n",
    "import gc\n",
    "import math\n",
    "\n",
    "import warnings\n",
    "warnings.filterwarnings('ignore')"
   ]
  },
  {
   "cell_type": "code",
   "execution_count": 48,
   "id": "87883845-d8d6-4d59-80af-ce577324c470",
   "metadata": {},
   "outputs": [],
   "source": [
    "device = torch.device(\"cuda\" if torch.cuda.is_available() else \"cpu\")"
   ]
  },
  {
   "cell_type": "code",
   "execution_count": 50,
   "id": "0099db84-457e-4a99-aba4-234875500e0a",
   "metadata": {},
   "outputs": [],
   "source": [
    "epochs = 100\n",
    "\n",
    "batch_size = 128\n",
    "\n",
    "classes = ('plane', 'car' , 'bird','cat', 'deer', 'dog', 'frog', 'horse', 'ship', 'truck')"
   ]
  },
  {
   "cell_type": "code",
   "execution_count": 52,
   "id": "b968d064-920c-4201-b920-e8efc51cb657",
   "metadata": {},
   "outputs": [],
   "source": [
    "normalize = transforms.Normalize(mean=[0.485, 0.456, 0.406],\n",
    "                                     std=[0.229, 0.224, 0.225])\n",
    "cifar_transforms = transforms.Compose([transforms.RandomHorizontalFlip(),\n",
    "            transforms.RandomCrop(32, 4),\n",
    "            transforms.ToTensor(),\n",
    "            normalize,])"
   ]
  },
  {
   "cell_type": "code",
   "execution_count": 54,
   "id": "960959e1-5a29-4154-85cf-e58bb5be5630",
   "metadata": {},
   "outputs": [
    {
     "name": "stdout",
     "output_type": "stream",
     "text": [
      "Files already downloaded and verified\n",
      "Files already downloaded and verified\n"
     ]
    }
   ],
   "source": [
    "train_dataset = torchvision.datasets.CIFAR10(root= './datasets', train = True, download=True, transform = cifar_transforms)\n",
    "test_dataset =  torchvision.datasets.CIFAR10(root= './datasets', train = False, download=True, transform = cifar_transforms)"
   ]
  },
  {
   "cell_type": "code",
   "execution_count": 55,
   "id": "c95e56e0-31e5-4a36-bbb7-4bb170c0e442",
   "metadata": {},
   "outputs": [],
   "source": [
    "train_dataloader = torch.utils.data.DataLoader(train_dataset, batch_size=batch_size, shuffle=True, pin_memory=True) # num_workers=4,\n",
    "test_dataloader = torch.utils.data.DataLoader(test_dataset, batch_size=batch_size, pin_memory=True)"
   ]
  },
  {
   "cell_type": "code",
   "execution_count": 58,
   "id": "c0939233-5da0-41fc-8300-98cb8dbad47a",
   "metadata": {},
   "outputs": [],
   "source": [
    "class VGG(nn.Module):\n",
    "    def __init__(self, features):\n",
    "        super(VGG,self).__init__()\n",
    "        self.features = features\n",
    "        self.classifier = nn.Sequential(\n",
    "            nn.Dropout(),\n",
    "            nn.Linear(512,512),\n",
    "            nn.ReLU(True),\n",
    "            nn.Dropout(),\n",
    "            nn.Linear(512,512),\n",
    "            nn.ReLU(True),\n",
    "            nn.Linear(512,10)\n",
    "        )\n",
    "\n",
    "        for m in self.modules():\n",
    "            if isinstance(m, nn.Conv2d):\n",
    "                n = m.kernel_size[0] * m.kernel_size[1] * m.out_channels\n",
    "                m.weight.data.normal_(0, math.sqrt(2. / n))\n",
    "                m.bias.data.zero_()\n",
    "\n",
    "    def forward(self, x):\n",
    "        x = self.features(x)\n",
    "        x = x.view(x.size(0), -1)\n",
    "        x = self.classifier(x)\n",
    "        return x\n",
    "\n",
    "def make_layers(cfg):\n",
    "    layers = []\n",
    "    in_channels =3\n",
    "    for out_channels in cfg:\n",
    "        if out_channels == 'M':\n",
    "            layers += [nn.MaxPool2d(kernel_size = 2, stride =2)]\n",
    "        else:\n",
    "            conv2d = nn.Conv2d(in_channels, out_channels, kernel_size = 3, padding =1)\n",
    "            layers += [conv2d, nn.ReLU(inplace = True)]\n",
    "            in_channels = out_channels\n",
    "    return nn.Sequential(*layers)\n",
    "\n",
    "cfg = [64, 64, 'M', 128, 128, 'M', 256, 256, 256, 'M', 512, 512, 512, 'M', 512, 512, 512, 'M']\n",
    "\n",
    "def vgg16():\n",
    "    return VGG(make_layers(cfg))"
   ]
  },
  {
   "cell_type": "code",
   "execution_count": 60,
   "id": "4509f222-b60f-4ba1-a864-098365015936",
   "metadata": {},
   "outputs": [],
   "source": [
    "model = vgg16()\n",
    "learning_rate = 0.05\n",
    "criterion = nn.CrossEntropyLoss(reduction=\"mean\")\n",
    "optimizer = torch.optim.SGD(model.parameters(), lr = learning_rate, momentum = 0.9, weight_decay = 5e-4)"
   ]
  },
  {
   "cell_type": "code",
   "execution_count": 62,
   "id": "fdfbe690-2171-4d63-98c1-28e91aa66559",
   "metadata": {},
   "outputs": [],
   "source": [
    "def evaluate_model(model, data, device):\n",
    "    model.eval()\n",
    "    logits = torch.Tensor().to(device)\n",
    "    targets = torch.LongTensor().to(device)\n",
    "\n",
    "    with torch.no_grad():\n",
    "        for x_batch, y_batch in data:\n",
    "            x_batch, y_batch = x_batch.to(device), y_batch.to(device)\n",
    "            logits = torch.cat([logits, model(x_batch)])\n",
    "            targets = torch.cat([targets, y_batch])\n",
    "    \n",
    "    return torch.nn.functional.softmax(logits, dim=1), targets"
   ]
  },
  {
   "cell_type": "code",
   "execution_count": 64,
   "id": "1ad28b90-d153-4b68-b308-34cae2e2eb7e",
   "metadata": {},
   "outputs": [],
   "source": [
    "def train_normal(model, epochs):\n",
    "    model.train()\n",
    "    for epoch in range(epochs):\n",
    "        for x_batch, y_batch in train_dataloader:\n",
    "            x_batch, y_batch = x_batch.to(device), y_batch.to(device)\n",
    "            optimizer.zero_grad()\n",
    "            logits = model(x_batch)\n",
    "            loss = criterion(logits, y_batch)\n",
    "            loss.backward()\n",
    "            optimizer.step()\n",
    "\n",
    "        # Evaluate model!\n",
    "        if epochs%10==0:\n",
    "            predictions, labels = evaluate_model(model, test_dataloader, device)\n",
    "            test_acc = np.mean(np.argmax(predictions.cpu().numpy(), axis=1) == labels.cpu().numpy())\n",
    "            print(f\"Epoch {epoch+1}/{epochs} - test accuracy: {(100 * test_acc):.2f}% and CE loss {loss.item():.2f}\")\n",
    "    return model"
   ]
  },
  {
   "cell_type": "code",
   "execution_count": 66,
   "id": "ba8f9779-f3d5-4d9f-a192-7901cd0f6359",
   "metadata": {},
   "outputs": [
    {
     "name": "stdout",
     "output_type": "stream",
     "text": [
      "Epoch 1/100 - test accuracy: 23.50% and CE loss 1.84\n",
      "Epoch 2/100 - test accuracy: 32.76% and CE loss 1.60\n",
      "Epoch 3/100 - test accuracy: 44.23% and CE loss 1.64\n",
      "Epoch 4/100 - test accuracy: 58.82% and CE loss 1.02\n",
      "Epoch 5/100 - test accuracy: 60.55% and CE loss 0.93\n",
      "Epoch 6/100 - test accuracy: 63.02% and CE loss 1.11\n",
      "Epoch 7/100 - test accuracy: 69.27% and CE loss 1.06\n",
      "Epoch 8/100 - test accuracy: 74.10% and CE loss 0.71\n",
      "Epoch 9/100 - test accuracy: 74.67% and CE loss 0.67\n",
      "Epoch 10/100 - test accuracy: 75.15% and CE loss 0.97\n",
      "Epoch 11/100 - test accuracy: 78.07% and CE loss 0.62\n",
      "Epoch 12/100 - test accuracy: 79.47% and CE loss 0.62\n",
      "Epoch 13/100 - test accuracy: 77.30% and CE loss 0.50\n",
      "Epoch 14/100 - test accuracy: 78.25% and CE loss 0.50\n",
      "Epoch 15/100 - test accuracy: 77.78% and CE loss 0.66\n",
      "Epoch 16/100 - test accuracy: 80.02% and CE loss 0.55\n",
      "Epoch 17/100 - test accuracy: 80.84% and CE loss 0.42\n",
      "Epoch 18/100 - test accuracy: 80.25% and CE loss 0.37\n",
      "Epoch 19/100 - test accuracy: 81.33% and CE loss 0.58\n",
      "Epoch 20/100 - test accuracy: 82.70% and CE loss 0.49\n",
      "Epoch 21/100 - test accuracy: 83.07% and CE loss 0.72\n",
      "Epoch 22/100 - test accuracy: 80.65% and CE loss 0.56\n",
      "Epoch 23/100 - test accuracy: 81.02% and CE loss 0.46\n",
      "Epoch 24/100 - test accuracy: 83.73% and CE loss 0.36\n",
      "Epoch 25/100 - test accuracy: 82.15% and CE loss 0.49\n",
      "Epoch 26/100 - test accuracy: 83.79% and CE loss 0.57\n",
      "Epoch 27/100 - test accuracy: 84.70% and CE loss 0.44\n",
      "Epoch 28/100 - test accuracy: 82.33% and CE loss 0.45\n",
      "Epoch 29/100 - test accuracy: 84.49% and CE loss 0.50\n",
      "Epoch 30/100 - test accuracy: 83.49% and CE loss 0.29\n",
      "Epoch 31/100 - test accuracy: 84.02% and CE loss 0.36\n",
      "Epoch 32/100 - test accuracy: 85.06% and CE loss 0.48\n",
      "Epoch 33/100 - test accuracy: 85.82% and CE loss 0.35\n",
      "Epoch 34/100 - test accuracy: 84.42% and CE loss 0.31\n",
      "Epoch 35/100 - test accuracy: 86.22% and CE loss 0.34\n",
      "Epoch 36/100 - test accuracy: 85.28% and CE loss 0.27\n",
      "Epoch 37/100 - test accuracy: 85.60% and CE loss 0.48\n",
      "Epoch 38/100 - test accuracy: 86.18% and CE loss 0.16\n",
      "Epoch 39/100 - test accuracy: 85.67% and CE loss 0.32\n",
      "Epoch 40/100 - test accuracy: 83.73% and CE loss 0.45\n",
      "Epoch 41/100 - test accuracy: 85.85% and CE loss 0.67\n",
      "Epoch 42/100 - test accuracy: 84.78% and CE loss 0.45\n",
      "Epoch 43/100 - test accuracy: 85.48% and CE loss 0.38\n",
      "Epoch 44/100 - test accuracy: 83.08% and CE loss 0.41\n",
      "Epoch 45/100 - test accuracy: 85.29% and CE loss 0.31\n",
      "Epoch 46/100 - test accuracy: 85.98% and CE loss 0.44\n",
      "Epoch 47/100 - test accuracy: 84.74% and CE loss 0.36\n",
      "Epoch 48/100 - test accuracy: 86.14% and CE loss 0.21\n",
      "Epoch 49/100 - test accuracy: 86.60% and CE loss 0.35\n",
      "Epoch 50/100 - test accuracy: 85.36% and CE loss 0.24\n",
      "Epoch 51/100 - test accuracy: 84.68% and CE loss 0.36\n",
      "Epoch 52/100 - test accuracy: 85.27% and CE loss 0.27\n",
      "Epoch 53/100 - test accuracy: 85.38% and CE loss 0.24\n",
      "Epoch 54/100 - test accuracy: 86.68% and CE loss 0.27\n",
      "Epoch 55/100 - test accuracy: 86.35% and CE loss 0.21\n",
      "Epoch 56/100 - test accuracy: 84.58% and CE loss 0.33\n",
      "Epoch 57/100 - test accuracy: 84.23% and CE loss 0.43\n",
      "Epoch 58/100 - test accuracy: 85.98% and CE loss 0.26\n",
      "Epoch 59/100 - test accuracy: 85.78% and CE loss 0.27\n",
      "Epoch 60/100 - test accuracy: 85.67% and CE loss 0.39\n",
      "Epoch 61/100 - test accuracy: 85.31% and CE loss 0.27\n",
      "Epoch 62/100 - test accuracy: 84.48% and CE loss 0.28\n",
      "Epoch 63/100 - test accuracy: 84.84% and CE loss 0.41\n",
      "Epoch 64/100 - test accuracy: 84.79% and CE loss 0.38\n",
      "Epoch 65/100 - test accuracy: 86.37% and CE loss 0.50\n",
      "Epoch 66/100 - test accuracy: 85.64% and CE loss 0.28\n",
      "Epoch 67/100 - test accuracy: 85.82% and CE loss 0.35\n",
      "Epoch 68/100 - test accuracy: 85.13% and CE loss 0.26\n",
      "Epoch 69/100 - test accuracy: 84.49% and CE loss 0.33\n",
      "Epoch 70/100 - test accuracy: 86.12% and CE loss 0.28\n",
      "Epoch 71/100 - test accuracy: 84.80% and CE loss 0.47\n",
      "Epoch 72/100 - test accuracy: 84.14% and CE loss 0.49\n",
      "Epoch 73/100 - test accuracy: 83.93% and CE loss 0.36\n",
      "Epoch 74/100 - test accuracy: 86.86% and CE loss 0.41\n",
      "Epoch 75/100 - test accuracy: 84.96% and CE loss 0.17\n",
      "Epoch 76/100 - test accuracy: 85.56% and CE loss 0.33\n",
      "Epoch 77/100 - test accuracy: 85.71% and CE loss 0.40\n",
      "Epoch 78/100 - test accuracy: 86.50% and CE loss 0.54\n",
      "Epoch 79/100 - test accuracy: 84.71% and CE loss 0.35\n",
      "Epoch 80/100 - test accuracy: 85.55% and CE loss 0.30\n",
      "Epoch 81/100 - test accuracy: 86.63% and CE loss 0.35\n",
      "Epoch 82/100 - test accuracy: 85.54% and CE loss 0.26\n",
      "Epoch 83/100 - test accuracy: 84.84% and CE loss 0.24\n",
      "Epoch 84/100 - test accuracy: 84.23% and CE loss 0.48\n",
      "Epoch 85/100 - test accuracy: 84.49% and CE loss 0.21\n",
      "Epoch 86/100 - test accuracy: 85.50% and CE loss 0.33\n",
      "Epoch 87/100 - test accuracy: 86.82% and CE loss 0.33\n",
      "Epoch 88/100 - test accuracy: 86.86% and CE loss 0.71\n",
      "Epoch 89/100 - test accuracy: 86.48% and CE loss 0.24\n",
      "Epoch 90/100 - test accuracy: 86.08% and CE loss 0.28\n",
      "Epoch 91/100 - test accuracy: 85.92% and CE loss 0.45\n",
      "Epoch 92/100 - test accuracy: 85.74% and CE loss 0.30\n",
      "Epoch 93/100 - test accuracy: 85.32% and CE loss 0.34\n",
      "Epoch 94/100 - test accuracy: 87.09% and CE loss 0.46\n",
      "Epoch 95/100 - test accuracy: 86.68% and CE loss 0.40\n",
      "Epoch 96/100 - test accuracy: 86.39% and CE loss 0.28\n",
      "Epoch 97/100 - test accuracy: 85.83% and CE loss 0.29\n",
      "Epoch 98/100 - test accuracy: 86.93% and CE loss 0.41\n",
      "Epoch 99/100 - test accuracy: 86.52% and CE loss 0.21\n",
      "Epoch 100/100 - test accuracy: 85.62% and CE loss 0.21\n"
     ]
    }
   ],
   "source": [
    "model_normal = train_normal(model = model.to(device), epochs = epochs)"
   ]
  },
  {
   "cell_type": "code",
   "execution_count": 68,
   "id": "238027fa-4928-4d12-95e5-abcdfeb306be",
   "metadata": {},
   "outputs": [
    {
     "name": "stdout",
     "output_type": "stream",
     "text": [
      "Model test accuracy: 85.55%\n"
     ]
    }
   ],
   "source": [
    "# Model to GPU and eval mode.\n",
    "model_normal.to(device)\n",
    "model_normal.eval()\n",
    "\n",
    "# Check test set performance.\n",
    "predictions, labels = evaluate_model(model_normal, test_dataloader, device)\n",
    "test_acc = np.mean(np.argmax(predictions.cpu().numpy(), axis=1) == labels.cpu().numpy())        \n",
    "print(f\"Model test accuracy: {(100 * test_acc):.2f}%\")"
   ]
  },
  {
   "cell_type": "code",
   "execution_count": 70,
   "id": "f1fa47cd-a45a-4d25-8015-88ce0bbecf88",
   "metadata": {},
   "outputs": [
    {
     "name": "stdout",
     "output_type": "stream",
     "text": [
      "Saving the model: models\\vgg_cifar.pth\n"
     ]
    }
   ],
   "source": [
    "from pathlib import Path\n",
    "\n",
    "MODEL_PATH = Path(\"models\")\n",
    "MODEL_PATH.mkdir(parents=True, exist_ok=True)\n",
    "\n",
    "MODEL_NAME = \"vgg_cifar.pth\"\n",
    "MODEL_SAVE_PATH = MODEL_PATH / MODEL_NAME\n",
    "\n",
    "print(f\"Saving the model: {MODEL_SAVE_PATH}\")\n",
    "torch.save(obj=model_normal.state_dict(), f=MODEL_SAVE_PATH)"
   ]
  },
  {
   "cell_type": "markdown",
   "id": "5e5b45f0-a7d1-492d-ab3a-9cd6afcc4676",
   "metadata": {},
   "source": [
    "# Adversarial Training"
   ]
  },
  {
   "cell_type": "code",
   "execution_count": 73,
   "id": "50edb7c7-67cb-427b-b8ef-af540c7f7a1e",
   "metadata": {},
   "outputs": [],
   "source": [
    "model = vgg16()\n",
    "learning_rate = 0.05\n",
    "criterion = torch.nn.CrossEntropyLoss(reduction=\"mean\")\n",
    "optimizer = torch.optim.SGD(model.parameters(), lr = learning_rate, momentum = 0.9, weight_decay = 5e-4)\n",
    "eps= [0.01, 0.03, 0.06, 0.1, 0.3, 0.5]"
   ]
  },
  {
   "cell_type": "code",
   "execution_count": 75,
   "id": "0343cc03-9c83-4433-abd2-4ad5164a2e6f",
   "metadata": {},
   "outputs": [],
   "source": [
    "def evaluate_model(model, data, device):\n",
    "    model.eval()\n",
    "    logits = torch.Tensor().to(device)\n",
    "    targets = torch.LongTensor().to(device)\n",
    "\n",
    "    with torch.no_grad():\n",
    "        for x_batch, y_batch in data:\n",
    "            x_batch, y_batch = x_batch.to(device), y_batch.to(device)\n",
    "            logits = torch.cat([logits, model(x_batch)])\n",
    "            targets = torch.cat([targets, y_batch])\n",
    "    \n",
    "    return torch.nn.functional.softmax(logits, dim=1), targets"
   ]
  },
  {
   "cell_type": "code",
   "execution_count": 77,
   "id": "c8c88e8b-dbc9-4483-970d-c29b801f2c18",
   "metadata": {},
   "outputs": [],
   "source": [
    "def train_adv(model, epsilon, epochs):\n",
    "    model.train()\n",
    "    eps = epsilon\n",
    "    for epoch in range(epochs):\n",
    "        for x_batch, y_batch in train_dataloader:\n",
    "            x_batch, y_batch = x_batch.to(device), y_batch.to(device)\n",
    "            x_batch = projected_gradient_descent(model, x_batch, eps, eps/10, 40, np.inf)\n",
    "            optimizer.zero_grad()\n",
    "            logits = model(x_batch)\n",
    "            loss = criterion(logits, y_batch)\n",
    "            loss.backward()\n",
    "            optimizer.step()\n",
    "\n",
    "        # Evaluate model!\n",
    "        if epochs%10==0:\n",
    "            predictions, labels = evaluate_model(model, test_dataloader, device)\n",
    "            test_acc = np.mean(np.argmax(predictions.cpu().numpy(), axis=1) == labels.cpu().numpy())\n",
    "            print(f\"Epoch {epoch+1}/{epochs} - test accuracy: {(100 * test_acc):.2f}% and CE loss {loss.item():.2f}\")\n",
    "    return model"
   ]
  },
  {
   "cell_type": "code",
   "execution_count": 83,
   "id": "9f968115-a602-4081-8e47-0cd84acb7266",
   "metadata": {},
   "outputs": [
    {
     "name": "stdout",
     "output_type": "stream",
     "text": [
      "Epoch 1/100 - test accuracy: 21.61% and CE loss 1.97\n",
      "Epoch 2/100 - test accuracy: 33.43% and CE loss 1.86\n",
      "Epoch 3/100 - test accuracy: 34.10% and CE loss 1.79\n",
      "Epoch 4/100 - test accuracy: 53.47% and CE loss 1.36\n",
      "Epoch 5/100 - test accuracy: 61.15% and CE loss 1.08\n",
      "Epoch 6/100 - test accuracy: 67.06% and CE loss 1.02\n",
      "Epoch 7/100 - test accuracy: 69.84% and CE loss 0.79\n",
      "Epoch 8/100 - test accuracy: 70.26% and CE loss 0.79\n",
      "Epoch 9/100 - test accuracy: 74.50% and CE loss 0.68\n",
      "Epoch 10/100 - test accuracy: 76.50% and CE loss 0.62\n",
      "Epoch 11/100 - test accuracy: 77.97% and CE loss 0.81\n",
      "Epoch 12/100 - test accuracy: 77.82% and CE loss 0.66\n",
      "Epoch 13/100 - test accuracy: 75.05% and CE loss 0.64\n",
      "Epoch 14/100 - test accuracy: 75.97% and CE loss 0.68\n",
      "Epoch 15/100 - test accuracy: 79.45% and CE loss 0.62\n",
      "Epoch 16/100 - test accuracy: 77.86% and CE loss 0.55\n",
      "Epoch 17/100 - test accuracy: 80.09% and CE loss 0.72\n",
      "Epoch 18/100 - test accuracy: 78.69% and CE loss 0.75\n",
      "Epoch 19/100 - test accuracy: 82.92% and CE loss 0.40\n",
      "Epoch 20/100 - test accuracy: 83.46% and CE loss 0.58\n",
      "Epoch 21/100 - test accuracy: 82.32% and CE loss 0.57\n",
      "Epoch 22/100 - test accuracy: 82.70% and CE loss 0.60\n",
      "Epoch 23/100 - test accuracy: 83.84% and CE loss 0.63\n",
      "Epoch 24/100 - test accuracy: 82.71% and CE loss 0.39\n",
      "Epoch 25/100 - test accuracy: 82.55% and CE loss 0.59\n",
      "Epoch 26/100 - test accuracy: 82.11% and CE loss 0.57\n",
      "Epoch 27/100 - test accuracy: 83.03% and CE loss 0.38\n",
      "Epoch 28/100 - test accuracy: 83.92% and CE loss 0.35\n",
      "Epoch 29/100 - test accuracy: 82.47% and CE loss 0.37\n",
      "Epoch 30/100 - test accuracy: 83.79% and CE loss 0.49\n",
      "Epoch 31/100 - test accuracy: 84.32% and CE loss 0.39\n",
      "Epoch 32/100 - test accuracy: 85.27% and CE loss 0.39\n",
      "Epoch 33/100 - test accuracy: 84.51% and CE loss 0.54\n",
      "Epoch 34/100 - test accuracy: 84.22% and CE loss 0.33\n",
      "Epoch 35/100 - test accuracy: 84.94% and CE loss 0.42\n",
      "Epoch 36/100 - test accuracy: 85.70% and CE loss 0.43\n",
      "Epoch 37/100 - test accuracy: 84.81% and CE loss 0.45\n",
      "Epoch 38/100 - test accuracy: 81.88% and CE loss 0.35\n",
      "Epoch 39/100 - test accuracy: 85.33% and CE loss 0.30\n",
      "Epoch 40/100 - test accuracy: 83.77% and CE loss 0.38\n",
      "Epoch 41/100 - test accuracy: 86.24% and CE loss 0.26\n",
      "Epoch 42/100 - test accuracy: 83.87% and CE loss 0.33\n",
      "Epoch 43/100 - test accuracy: 85.64% and CE loss 0.34\n",
      "Epoch 44/100 - test accuracy: 85.82% and CE loss 0.33\n",
      "Epoch 45/100 - test accuracy: 86.13% and CE loss 0.47\n",
      "Epoch 46/100 - test accuracy: 85.31% and CE loss 0.41\n",
      "Epoch 47/100 - test accuracy: 85.43% and CE loss 0.50\n",
      "Epoch 48/100 - test accuracy: 84.78% and CE loss 0.60\n",
      "Epoch 49/100 - test accuracy: 83.65% and CE loss 0.41\n",
      "Epoch 50/100 - test accuracy: 83.89% and CE loss 0.21\n",
      "Epoch 51/100 - test accuracy: 86.25% and CE loss 0.38\n",
      "Epoch 52/100 - test accuracy: 85.40% and CE loss 0.56\n",
      "Epoch 53/100 - test accuracy: 86.08% and CE loss 0.42\n",
      "Epoch 54/100 - test accuracy: 85.05% and CE loss 0.32\n",
      "Epoch 55/100 - test accuracy: 83.51% and CE loss 0.49\n",
      "Epoch 56/100 - test accuracy: 85.71% and CE loss 0.36\n",
      "Epoch 57/100 - test accuracy: 84.19% and CE loss 0.61\n",
      "Epoch 58/100 - test accuracy: 86.29% and CE loss 0.41\n",
      "Epoch 59/100 - test accuracy: 86.73% and CE loss 0.42\n",
      "Epoch 60/100 - test accuracy: 84.26% and CE loss 0.44\n",
      "Epoch 61/100 - test accuracy: 85.70% and CE loss 0.33\n",
      "Epoch 62/100 - test accuracy: 85.71% and CE loss 0.25\n",
      "Epoch 63/100 - test accuracy: 83.88% and CE loss 0.40\n",
      "Epoch 64/100 - test accuracy: 85.06% and CE loss 0.31\n",
      "Epoch 65/100 - test accuracy: 86.00% and CE loss 0.41\n",
      "Epoch 66/100 - test accuracy: 85.29% and CE loss 0.42\n",
      "Epoch 67/100 - test accuracy: 85.19% and CE loss 0.41\n",
      "Epoch 68/100 - test accuracy: 85.34% and CE loss 0.44\n",
      "Epoch 69/100 - test accuracy: 84.83% and CE loss 0.39\n",
      "Epoch 70/100 - test accuracy: 85.34% and CE loss 0.43\n",
      "Epoch 71/100 - test accuracy: 86.26% and CE loss 0.48\n",
      "Epoch 72/100 - test accuracy: 83.97% and CE loss 0.43\n",
      "Epoch 73/100 - test accuracy: 86.11% and CE loss 0.38\n",
      "Epoch 74/100 - test accuracy: 85.94% and CE loss 0.28\n",
      "Epoch 75/100 - test accuracy: 86.49% and CE loss 0.25\n",
      "Epoch 76/100 - test accuracy: 85.92% and CE loss 0.28\n",
      "Epoch 77/100 - test accuracy: 84.82% and CE loss 0.53\n",
      "Epoch 78/100 - test accuracy: 84.44% and CE loss 0.35\n",
      "Epoch 79/100 - test accuracy: 86.72% and CE loss 0.34\n",
      "Epoch 80/100 - test accuracy: 86.67% and CE loss 0.24\n",
      "Epoch 81/100 - test accuracy: 86.32% and CE loss 0.37\n",
      "Epoch 82/100 - test accuracy: 84.91% and CE loss 0.48\n",
      "Epoch 83/100 - test accuracy: 86.35% and CE loss 0.38\n",
      "Epoch 84/100 - test accuracy: 85.34% and CE loss 0.43\n",
      "Epoch 85/100 - test accuracy: 86.14% and CE loss 0.24\n",
      "Epoch 86/100 - test accuracy: 83.55% and CE loss 0.43\n",
      "Epoch 87/100 - test accuracy: 86.90% and CE loss 0.57\n",
      "Epoch 88/100 - test accuracy: 86.45% and CE loss 0.48\n",
      "Epoch 89/100 - test accuracy: 85.76% and CE loss 0.21\n",
      "Epoch 90/100 - test accuracy: 84.31% and CE loss 0.25\n",
      "Epoch 91/100 - test accuracy: 85.97% and CE loss 0.61\n",
      "Epoch 92/100 - test accuracy: 86.34% and CE loss 0.41\n",
      "Epoch 93/100 - test accuracy: 83.84% and CE loss 0.51\n",
      "Epoch 94/100 - test accuracy: 85.92% and CE loss 0.36\n",
      "Epoch 95/100 - test accuracy: 84.00% and CE loss 0.52\n",
      "Epoch 96/100 - test accuracy: 86.37% and CE loss 0.51\n",
      "Epoch 97/100 - test accuracy: 85.97% and CE loss 0.35\n",
      "Epoch 98/100 - test accuracy: 86.25% and CE loss 0.40\n",
      "Epoch 99/100 - test accuracy: 84.43% and CE loss 0.34\n",
      "Epoch 100/100 - test accuracy: 86.56% and CE loss 0.40\n"
     ]
    }
   ],
   "source": [
    "model_adversarial = train_adv(model=model.to(device),\n",
    "                    epsilon = eps[0], \n",
    "                    epochs=epochs)"
   ]
  },
  {
   "cell_type": "code",
   "execution_count": 85,
   "id": "40671d34-1ebc-4788-a8eb-2f2ae43c1d23",
   "metadata": {},
   "outputs": [
    {
     "name": "stdout",
     "output_type": "stream",
     "text": [
      "Model test accuracy: 86.29%\n"
     ]
    }
   ],
   "source": [
    "# Model to GPU and eval mode.\n",
    "model_adversarial.to(device)\n",
    "model_adversarial.eval()\n",
    "\n",
    "# Check test set performance.\n",
    "predictions, labels = evaluate_model(model_adversarial, test_dataloader, device)\n",
    "test_acc = np.mean(np.argmax(predictions.cpu().numpy(), axis=1) == labels.cpu().numpy())        \n",
    "print(f\"Model test accuracy: {(100 * test_acc):.2f}%\")"
   ]
  },
  {
   "cell_type": "code",
   "execution_count": 87,
   "id": "165e52de-e662-4494-8d57-0879c7781413",
   "metadata": {},
   "outputs": [
    {
     "name": "stdout",
     "output_type": "stream",
     "text": [
      "Saving the model: models\\vgg_cifar_adv.pth\n"
     ]
    }
   ],
   "source": [
    "from pathlib import Path\n",
    "\n",
    "MODEL_PATH = Path(\"models\")\n",
    "MODEL_PATH.mkdir(parents=True, exist_ok=True)\n",
    "\n",
    "MODEL_NAME = \"vgg_cifar_adv.pth\"\n",
    "MODEL_SAVE_PATH = MODEL_PATH / MODEL_NAME\n",
    "\n",
    "print(f\"Saving the model: {MODEL_SAVE_PATH}\")\n",
    "torch.save(obj=model_adversarial.state_dict(), f=MODEL_SAVE_PATH)"
   ]
  },
  {
   "cell_type": "code",
   "execution_count": null,
   "id": "543d169a-3be8-47da-a6b2-db4a49df76e1",
   "metadata": {},
   "outputs": [],
   "source": []
  }
 ],
 "metadata": {
  "kernelspec": {
   "display_name": "Python 3 (ipykernel)",
   "language": "python",
   "name": "python3"
  },
  "language_info": {
   "codemirror_mode": {
    "name": "ipython",
    "version": 3
   },
   "file_extension": ".py",
   "mimetype": "text/x-python",
   "name": "python",
   "nbconvert_exporter": "python",
   "pygments_lexer": "ipython3",
   "version": "3.12.3"
  }
 },
 "nbformat": 4,
 "nbformat_minor": 5
}
