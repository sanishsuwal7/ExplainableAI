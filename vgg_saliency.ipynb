{
 "cells": [
  {
   "cell_type": "code",
   "execution_count": 78,
   "id": "fb41a50f-97cb-421f-ba9e-17fadefcfd41",
   "metadata": {},
   "outputs": [],
   "source": [
    "import torch\n",
    "from torch import nn\n",
    "import torch.nn as nn\n",
    "import torch.nn.functional as F\n",
    "from torch.utils.data import DataLoader\n",
    "\n",
    "import torchvision\n",
    "from torchvision import datasets\n",
    "from torchvision import transforms\n",
    "from torchmetrics import Accuracy\n",
    "\n",
    "import torch.optim as optim\n",
    "from cleverhans.torch.attacks.projected_gradient_descent import (projected_gradient_descent)\n",
    "\n",
    "import quantus\n",
    "import captum\n",
    "from captum.attr import Saliency, IntegratedGradients, NoiseTunnel\n",
    "\n",
    "import pandas as pd\n",
    "import numpy as np\n",
    "import matplotlib.pyplot as plt\n",
    "\n",
    "import random\n",
    "import copy\n",
    "import gc\n",
    "import math\n",
    "\n",
    "import warnings\n",
    "warnings.filterwarnings('ignore')"
   ]
  },
  {
   "cell_type": "code",
   "execution_count": 80,
   "id": "ad980ddf-403a-402f-800a-117976cdd401",
   "metadata": {},
   "outputs": [],
   "source": [
    "device = torch.device(\"cuda\" if torch.cuda.is_available() else \"cpu\")"
   ]
  },
  {
   "cell_type": "code",
   "execution_count": 82,
   "id": "97a6fbbe-99ff-4428-86d6-96be7fda3808",
   "metadata": {},
   "outputs": [],
   "source": [
    "normalize = transforms.Normalize(mean=[0.485, 0.456, 0.406],\n",
    "                                     std=[0.229, 0.224, 0.225])\n",
    "cifar_transforms = transforms.Compose([transforms.RandomHorizontalFlip(),\n",
    "            transforms.RandomCrop(32, 4),\n",
    "            transforms.ToTensor(),\n",
    "            normalize,])"
   ]
  },
  {
   "cell_type": "code",
   "execution_count": 84,
   "id": "7b9ff383-29af-4cb8-b8a4-697e5b18b2a7",
   "metadata": {},
   "outputs": [
    {
     "name": "stdout",
     "output_type": "stream",
     "text": [
      "Files already downloaded and verified\n"
     ]
    }
   ],
   "source": [
    "test_dataset =  torchvision.datasets.CIFAR10(root= './datasets', train = False, download=True, transform = cifar_transforms)\n",
    "test_dataloader = torch.utils.data.DataLoader(test_dataset, batch_size=128, pin_memory=True)"
   ]
  },
  {
   "cell_type": "code",
   "execution_count": 85,
   "id": "e620913d-82d0-4244-8ea8-4bd475587b70",
   "metadata": {},
   "outputs": [
    {
     "data": {
      "text/plain": [
       "['airplane',\n",
       " 'automobile',\n",
       " 'bird',\n",
       " 'cat',\n",
       " 'deer',\n",
       " 'dog',\n",
       " 'frog',\n",
       " 'horse',\n",
       " 'ship',\n",
       " 'truck']"
      ]
     },
     "execution_count": 85,
     "metadata": {},
     "output_type": "execute_result"
    }
   ],
   "source": [
    "class_names = test_dataset.classes\n",
    "class_names"
   ]
  },
  {
   "cell_type": "code",
   "execution_count": 88,
   "id": "9f0e88e5-6a1c-4393-8bfe-fca62c888050",
   "metadata": {},
   "outputs": [],
   "source": [
    "class VGG(nn.Module):\n",
    "    def __init__(self, features):\n",
    "        super(VGG,self).__init__()\n",
    "        self.features = features\n",
    "        self.classifier = nn.Sequential(\n",
    "            nn.Dropout(),\n",
    "            nn.Linear(512,512),\n",
    "            nn.ReLU(True),\n",
    "            nn.Dropout(),\n",
    "            nn.Linear(512,512),\n",
    "            nn.ReLU(True),\n",
    "            nn.Linear(512,10)\n",
    "        )\n",
    "\n",
    "        for m in self.modules():\n",
    "            if isinstance(m, nn.Conv2d):\n",
    "                n = m.kernel_size[0] * m.kernel_size[1] * m.out_channels\n",
    "                m.weight.data.normal_(0, math.sqrt(2. / n))\n",
    "                m.bias.data.zero_()\n",
    "\n",
    "    def forward(self, x):\n",
    "        x = self.features(x)\n",
    "        x = x.view(x.size(0), -1)\n",
    "        x = self.classifier(x)\n",
    "        return x\n",
    "\n",
    "def make_layers(cfg):\n",
    "    layers = []\n",
    "    in_channels =3\n",
    "    for out_channels in cfg:\n",
    "        if out_channels == 'M':\n",
    "            layers += [nn.MaxPool2d(kernel_size = 2, stride =2)]\n",
    "        else:\n",
    "            conv2d = nn.Conv2d(in_channels, out_channels, kernel_size = 3, padding =1)\n",
    "            layers += [conv2d, nn.ReLU(inplace = True)]\n",
    "            in_channels = out_channels\n",
    "    return nn.Sequential(*layers)\n",
    "\n",
    "cfg = [64, 64, 'M', 128, 128, 'M', 256, 256, 256, 'M', 512, 512, 512, 'M', 512, 512, 512, 'M']\n",
    "\n",
    "def vgg16():\n",
    "    return VGG(make_layers(cfg))"
   ]
  },
  {
   "cell_type": "code",
   "execution_count": 90,
   "id": "063a503a-43ed-4dfd-8d5d-d7f0dae364d0",
   "metadata": {},
   "outputs": [
    {
     "data": {
      "text/plain": [
       "<All keys matched successfully>"
      ]
     },
     "execution_count": 90,
     "metadata": {},
     "output_type": "execute_result"
    }
   ],
   "source": [
    "from pathlib import Path\n",
    "\n",
    "MODEL_PATH = Path(\"models\")\n",
    "MODEL_PATH.mkdir(parents=True, exist_ok=True)\n",
    "\n",
    "MODEL_NAME = \"vgg_cifar.pth\"\n",
    "MODEL_SAVE_PATH = MODEL_PATH / MODEL_NAME\n",
    "model = vgg16().to(device)\n",
    "model.load_state_dict(torch.load(MODEL_SAVE_PATH))"
   ]
  },
  {
   "cell_type": "code",
   "execution_count": 92,
   "id": "6c0a120d-59fe-47a1-8a13-409ea98bce50",
   "metadata": {},
   "outputs": [],
   "source": [
    "gc.collect()\n",
    "torch.cuda.empty_cache()\n",
    "x_batch, y_batch = next(iter(test_dataloader))\n",
    "x_batch, y_batch = x_batch.to(device), y_batch.to(device)"
   ]
  },
  {
   "cell_type": "code",
   "execution_count": 168,
   "id": "4d18e530-7618-4edc-8f59-70bc86c162f9",
   "metadata": {},
   "outputs": [
    {
     "name": "stderr",
     "output_type": "stream",
     "text": [
      "Clipping input data to the valid range for imshow with RGB data ([0..1] for floats or [0..255] for integers).\n",
      "Clipping input data to the valid range for imshow with RGB data ([0..1] for floats or [0..255] for integers).\n",
      "Clipping input data to the valid range for imshow with RGB data ([0..1] for floats or [0..255] for integers).\n",
      "Clipping input data to the valid range for imshow with RGB data ([0..1] for floats or [0..255] for integers).\n",
      "Clipping input data to the valid range for imshow with RGB data ([0..1] for floats or [0..255] for integers).\n",
      "Clipping input data to the valid range for imshow with RGB data ([0..1] for floats or [0..255] for integers).\n",
      "Clipping input data to the valid range for imshow with RGB data ([0..1] for floats or [0..255] for integers).\n",
      "Clipping input data to the valid range for imshow with RGB data ([0..1] for floats or [0..255] for integers).\n",
      "Clipping input data to the valid range for imshow with RGB data ([0..1] for floats or [0..255] for integers).\n",
      "Clipping input data to the valid range for imshow with RGB data ([0..1] for floats or [0..255] for integers).\n",
      "Clipping input data to the valid range for imshow with RGB data ([0..1] for floats or [0..255] for integers).\n",
      "Clipping input data to the valid range for imshow with RGB data ([0..1] for floats or [0..255] for integers).\n"
     ]
    },
    {
     "data": {
      "image/png": "[encoded data removed]",
      "text/plain": [
       "<Figure size 1200x400 with 12 Axes>"
      ]
     },
     "metadata": {},
     "output_type": "display_data"
    }
   ],
   "source": [
    "import matplotlib.pyplot as plt\n",
    "%matplotlib inline\n",
    "fig = plt.figure(figsize=(12, 4))\n",
    "indexes = []\n",
    "rows, cols = 2, 6\n",
    "for i in range(1, (rows * cols) + 1):\n",
    "    random_idx = torch.randint(0, len(x_batch), size=[1]).item()\n",
    "    img, label_gt = x_batch[random_idx], y_batch[random_idx]\n",
    "    img_temp = img.unsqueeze(dim=0).to(device)\n",
    "    indexes.append(random_idx)\n",
    "    # print(img.shape)\n",
    "    label_pred = torch.argmax(model(img_temp))\n",
    "    fig.add_subplot(rows, cols, i)\n",
    "    img = img.permute(1, 2, 0)    # CWH --> WHC\n",
    "    plt.imshow(img.cpu().numpy(), cmap='gray')\n",
    "    if label_pred == label_gt:\n",
    "        plt.title(class_names[label_pred], color='g') # for correct prediction\n",
    "    else:\n",
    "        plt.title(class_names[label_pred], color='r') # for incorrect prediction\n",
    "    plt.axis(False)\n",
    "    plt.tight_layout();"
   ]
  },
  {
   "cell_type": "code",
   "execution_count": 96,
   "id": "6f67f7f0-160a-4ced-ab6c-5c2b81090fa6",
   "metadata": {},
   "outputs": [],
   "source": [
    "a_batch_integrad = quantus.normalise_func.normalise_by_negative(IntegratedGradients(model).attribute(inputs=x_batch, target=y_batch, baselines=torch.zeros_like(x_batch)).sum(axis=1).cpu().numpy())\n",
    "a_batch_integrad[a_batch_integrad<0] = 0\n",
    "a_batch_saliency = quantus.normalise_func.normalise_by_negative(Saliency(model).attribute(inputs=x_batch, target=y_batch, abs=True).sum(axis=1).cpu().numpy())\n",
    "saliency = Saliency(model)\n",
    "a_batch_smoothgrad = quantus.normalise_func.normalise_by_negative(NoiseTunnel(saliency).attribute(inputs = x_batch, target = y_batch, nt_type ='smoothgrad', nt_samples = 50, stdevs=0.15).sum(axis=1).cpu().numpy())\n"
   ]
  },
  {
   "cell_type": "code",
   "execution_count": 170,
   "id": "fed77902-2dc0-4f45-a572-6064d62fa996",
   "metadata": {},
   "outputs": [],
   "source": [
    "x_batch, y_batch = x_batch.cpu().numpy(), y_batch.cpu().numpy()"
   ]
  },
  {
   "cell_type": "code",
   "execution_count": 172,
   "id": "a9df611c-b665-474a-ae61-672d027fdd31",
   "metadata": {},
   "outputs": [
    {
     "name": "stderr",
     "output_type": "stream",
     "text": [
      "Clipping input data to the valid range for imshow with RGB data ([0..1] for floats or [0..255] for integers).\n"
     ]
    },
    {
     "data": {
      "image/png": "[encoded data removed]",
      "text/plain": [
       "<Figure size 1000x200 with 4 Axes>"
      ]
     },
     "metadata": {},
     "output_type": "display_data"
    }
   ],
   "source": [
    "index = indexes[6]\n",
    "nr_images = 2\n",
    "fig, axes = plt.subplots(nrows=1, ncols=4, figsize=(nr_images*5., int(nr_images)))\n",
    "\n",
    "#plot normal\n",
    "axes[0].imshow(np.moveaxis(x_batch[index], 0, -1), vmin=0.0, vmax=1.0)\n",
    "axes[0].title.set_text(f\"Normal Image {y_batch[index].item()}\")\n",
    "axes[0].axis(\"off\")\n",
    "axes[1].imshow(a_batch_saliency[index], cmap=\"hot\")\n",
    "axes[1].title.set_text(f\"Vanilla Gradient\")\n",
    "axes[1].axis(\"off\")  \n",
    "axes[2].imshow(a_batch_integrad[index], cmap=\"hot\")\n",
    "axes[2].title.set_text(f\"Integrated Gradients\")\n",
    "axes[2].axis(\"off\")\n",
    "axes[3].imshow(a_batch_smoothgrad[index], cmap=\"hot\")\n",
    "axes[3].title.set_text(f\"Smooth Gradients\")\n",
    "axes[3].axis(\"off\")\n",
    "# axes[4].imshow(a_batch_noisegrad[index], cmap=\"seismic\")\n",
    "# axes[4].title.set_text(f\"Noise Gradients\")\n",
    "# axes[4].axis(\"off\")\n",
    "plt.tight_layout()\n",
    "\n",
    "\n",
    "plt.show()"
   ]
  },
  {
   "cell_type": "code",
   "execution_count": 134,
   "id": "3190b494-59e0-4c63-9178-5a0bfad67c69",
   "metadata": {},
   "outputs": [
    {
     "data": {
      "text/plain": [
       "<All keys matched successfully>"
      ]
     },
     "execution_count": 134,
     "metadata": {},
     "output_type": "execute_result"
    }
   ],
   "source": [
    "from pathlib import Path\n",
    "\n",
    "MODEL_PATH = Path(\"models\")\n",
    "MODEL_PATH.mkdir(parents=True, exist_ok=True)\n",
    "\n",
    "MODEL_NAME = \"vgg_cifar_adv.pth\"\n",
    "MODEL_SAVE_PATH = MODEL_PATH / MODEL_NAME\n",
    "model_adv = vgg16().to(device)\n",
    "model_adv.load_state_dict(torch.load(MODEL_SAVE_PATH))"
   ]
  },
  {
   "cell_type": "code",
   "execution_count": 174,
   "id": "5c343dd2-8af5-4b9e-98f6-d749500d2f5d",
   "metadata": {},
   "outputs": [],
   "source": [
    "x_batch, y_batch = next(iter(test_dataloader))\n",
    "x_batch, y_batch = x_batch.to(device), y_batch.to(device)"
   ]
  },
  {
   "cell_type": "code",
   "execution_count": 108,
   "id": "49cc5585-1801-4635-875b-64ead2a045c8",
   "metadata": {},
   "outputs": [],
   "source": [
    "a_batch_integrad_adv = quantus.normalise_func.normalise_by_negative(IntegratedGradients(model_adv).attribute(inputs=x_batch, target=y_batch, baselines=torch.zeros_like(x_batch)).sum(axis=1).cpu().numpy())\n",
    "a_batch_integrad_adv[a_batch_integrad_adv<0] = 0\n",
    "a_batch_saliency_adv = quantus.normalise_func.normalise_by_negative(Saliency(model_adv).attribute(inputs=x_batch, target=y_batch, abs=True).sum(axis=1).cpu().numpy())\n",
    "saliency = Saliency(model_adv)\n",
    "a_batch_smoothgrad_adv = quantus.normalise_func.normalise_by_negative(NoiseTunnel(saliency).attribute(inputs = x_batch, target = y_batch, nt_type ='smoothgrad', nt_samples = 50, stdevs=0.15).sum(axis=1).cpu().numpy())\n"
   ]
  },
  {
   "cell_type": "code",
   "execution_count": 178,
   "id": "52667fea-41c1-483e-a81c-77bf2770e2ab",
   "metadata": {},
   "outputs": [
    {
     "name": "stderr",
     "output_type": "stream",
     "text": [
      "Clipping input data to the valid range for imshow with RGB data ([0..1] for floats or [0..255] for integers).\n"
     ]
    },
    {
     "data": {
      "image/png": "[encoded data removed]",
      "text/plain": [
       "<Figure size 1000x200 with 4 Axes>"
      ]
     },
     "metadata": {},
     "output_type": "display_data"
    }
   ],
   "source": [
    "index = indexes[6]\n",
    "nr_images = 2\n",
    "fig, axes = plt.subplots(nrows=1, ncols=4, figsize=(nr_images*5., int(nr_images)))\n",
    "\n",
    "#plot normal\n",
    "axes[0].imshow(np.moveaxis(x_batch[index].cpu().numpy(), 0, -1), vmin=0.0, vmax=1.0)\n",
    "axes[0].title.set_text(f\"Normal Image {y_batch[index].item()}\")\n",
    "axes[0].axis(\"off\")\n",
    "axes[1].imshow(a_batch_saliency_adv[index], cmap=\"hot\")\n",
    "axes[1].title.set_text(f\"Vanilla Gradient\")\n",
    "axes[1].axis(\"off\")  \n",
    "axes[2].imshow(a_batch_integrad_adv[index], cmap=\"hot\")\n",
    "axes[2].title.set_text(f\"Integrated Gradients\")\n",
    "axes[2].axis(\"off\")\n",
    "axes[3].imshow(a_batch_smoothgrad_adv[index], cmap=\"hot\")\n",
    "axes[3].title.set_text(f\"Smooth Gradients\")\n",
    "axes[3].axis(\"off\")\n",
    "# axes[4].imshow(a_batch_noisegrad[index], cmap=\"seismic\")\n",
    "# axes[4].title.set_text(f\"Noise Gradients\")\n",
    "# axes[4].axis(\"off\")\n",
    "plt.tight_layout()\n",
    "\n",
    "\n",
    "plt.show()"
   ]
  },
  {
   "cell_type": "code",
   "execution_count": null,
   "id": "c3b62c2b-0301-452a-bfba-50ff03ba49b1",
   "metadata": {},
   "outputs": [],
   "source": [
    "def filter_and_compute_road(model, test_loader, device):\n",
    "\n",
    "    faithfulness = quantus.ROAD(\n",
    "    noise=0.01,\n",
    "    perturb_func=quantus.perturb_func.noisy_linear_imputation,\n",
    "    percentages=list(range(1, 100, 5)),\n",
    "    display_progressbar=False)\n",
    "\n",
    "\n",
    "    score_faithfulness = []\n",
    "\n",
    "    for i, (x_batch, y_batch) in enumerate(test_loader):\n",
    "        x_batch, y_batch = x_batch.to(device), y_batch.to(device)\n",
    "        #print(len(x_batch))\n",
    "        outputs = model(x_batch)\n",
    "        predictions = torch.argmax(outputs, dim=1)\n",
    "        correct_mask = predictions == y_batch\n",
    "        #print(correct_mask)\n",
    "        x_batch = x_batch[correct_mask]\n",
    "        y_batch = y_batch[correct_mask]\n",
    "        #print(len(x_batch))\n",
    "        x_batch, y_batch = x_batch.cpu().numpy(), y_batch.cpu().numpy()\n",
    "        scores = faithfulness(\n",
    "                model= model,\n",
    "                x_batch=x_batch,\n",
    "                y_batch=y_batch,\n",
    "                a_batch=None,\n",
    "                s_batch=None,\n",
    "                device=device,\n",
    "                explain_func= quantus.explain,\n",
    "                explain_func_kwargs = {\"method\": \"Saliency\", \"softmax\": False})\n",
    "        #print(scores)\n",
    "        \n",
    "        score_faithfulness.append(scores)\n",
    "        if len(score_faithfulness) > 1000:\n",
    "            break\n",
    "    average_values = {}\n",
    "    for d in score_faithfulness:\n",
    "        for key, value in d.items():\n",
    "            if key in average_values:\n",
    "                average_values[key] += value\n",
    "            else:\n",
    "                average_values[key] = value\n",
    "\n",
    "    # Divide the sum by the number of dictionaries to get the average\n",
    "    num_dicts = len(score_faithfulness)\n",
    "    for key in average_values.keys():\n",
    "        average_values[key] /= num_dicts\n",
    "\n",
    "    # Display the average values\n",
    "    print(\"Average Values:\")\n",
    "    for key, value in average_values.items():\n",
    "        print(f\"{key}: {value}\")\n"
   ]
  },
  {
   "cell_type": "code",
   "execution_count": null,
   "id": "fd656483-a020-4efa-8d9d-002dd42b14d8",
   "metadata": {},
   "outputs": [],
   "source": [
    "filter_and_compute_road(model, test_dataloader, device)"
   ]
  },
  {
   "cell_type": "code",
   "execution_count": null,
   "id": "18ee5eaa-3d6c-47bf-8e10-f34020f8bc02",
   "metadata": {},
   "outputs": [],
   "source": [
    "filter_and_compute_road(model_adv, test_dataloader, device)"
   ]
  },
  {
   "cell_type": "code",
   "execution_count": null,
   "id": "edff0091-e6be-4572-95f0-237336e4948c",
   "metadata": {},
   "outputs": [],
   "source": [
    "import math\n",
    "def filter_and_compute_input_stability(model, test_loader, device):\n",
    "    \n",
    "    metrics = quantus.RelativeInputStability(\n",
    "        nr_samples =5,\n",
    "        return_aggregate=False,\n",
    "         disable_warnings=True,\n",
    "    )\n",
    "    score = []\n",
    "    for i, (x_batch, y_batch) in enumerate(test_loader):\n",
    "        x_batch, y_batch = x_batch.to(device), y_batch.to(device)\n",
    "        outputs = model(x_batch)\n",
    "        predictions = torch.argmax(outputs, dim=1)\n",
    "        correct_mask = predictions == y_batch\n",
    "        x_batch = x_batch[correct_mask]\n",
    "        y_batch = y_batch[correct_mask]\n",
    "        x_batch, y_batch = x_batch.cpu().numpy(), y_batch.cpu().numpy()\n",
    "        scores = metrics(\n",
    "                model= model,\n",
    "                x_batch=x_batch,\n",
    "                y_batch=y_batch,\n",
    "                a_batch=None,\n",
    "                s_batch=None,\n",
    "                device=device,\n",
    "                explain_func= quantus.explain, \n",
    "                explain_func_kwargs = {\"method\": \"Saliency\", \"softmax\": False})\n",
    "        scores2 = np.nanmean(scores)\n",
    "        score.append(scores2)\n",
    "        if len(score) > 1000:\n",
    "            break \n",
    "    score2=score\n",
    "    return math.log(np.nanmean(score2), 10)"
   ]
  },
  {
   "cell_type": "code",
   "execution_count": null,
   "id": "70ca9653-6b92-42e1-9a1c-034274235d91",
   "metadata": {},
   "outputs": [],
   "source": [
    "print(\"The relative input stability score is: \", filter_and_compute_input_stability(model, test_dataloader, device))"
   ]
  },
  {
   "cell_type": "code",
   "execution_count": null,
   "id": "86b1ca86-f885-4a7b-93eb-275520ae3c03",
   "metadata": {},
   "outputs": [],
   "source": [
    "print(\"The relative input stability score is: \", filter_and_compute_input_stability(model_adv, test_dataloader, device))"
   ]
  },
  {
   "cell_type": "code",
   "execution_count": null,
   "id": "819a9bae-08b6-4e4c-bea5-8ebd1ee9fd99",
   "metadata": {},
   "outputs": [],
   "source": [
    "def filter_and_compute_output_stability(model, test_loader, device):\n",
    "    metrics = quantus.RelativeOutputStability(\n",
    "        nr_samples = 5,\n",
    "         return_aggregate=False,\n",
    "        disable_warnings=True,\n",
    "    )\n",
    "    score = []\n",
    "    \n",
    "    for i, (x_batch, y_batch) in enumerate(test_loader):\n",
    "        x_batch, y_batch = x_batch.to(device), y_batch.to(device)\n",
    "        outputs = model(x_batch)\n",
    "        predictions = torch.argmax(outputs, dim=1)\n",
    "        correct_mask = predictions == y_batch\n",
    "        x_batch = x_batch[correct_mask]\n",
    "        y_batch = y_batch[correct_mask]\n",
    "        x_batch, y_batch = x_batch.cpu().numpy(), y_batch.cpu().numpy()\n",
    "        scores = metrics(\n",
    "                model= model,\n",
    "                x_batch=x_batch,\n",
    "                y_batch=y_batch,\n",
    "                a_batch=None,\n",
    "                s_batch=None,\n",
    "                device=device,\n",
    "                explain_func= quantus.explain, \n",
    "                explain_func_kwargs = {\"method\": \"Saliency\", \"softmax\": False})\n",
    "        scores2 = np.nanmean(scores)\n",
    "        score.append(scores2)\n",
    "        if len(score) > 1000:\n",
    "            break \n",
    "    score2=score\n",
    "    return math.log(np.nanmean(score2), 10)"
   ]
  },
  {
   "cell_type": "code",
   "execution_count": null,
   "id": "39b263e0-80c3-4a97-975a-59bd2261c931",
   "metadata": {},
   "outputs": [],
   "source": [
    "print(\"The relative output stability score is: \", filter_and_compute_output_stability(model, test_dataloader, device))"
   ]
  },
  {
   "cell_type": "code",
   "execution_count": null,
   "id": "2301e052-4154-45a0-8f69-837d7a79b340",
   "metadata": {},
   "outputs": [],
   "source": [
    "print(\"The relative output stability score is: \", filter_and_compute_output_stability(model_adv, test_dataloader, device))"
   ]
  },
  {
   "cell_type": "code",
   "execution_count": null,
   "id": "f1d26719-e518-44cc-a3dd-9ba8803cf61b",
   "metadata": {},
   "outputs": [],
   "source": [
    "def filter_and_compute_sparsity(model, test_loader, device):\n",
    "    \n",
    "    sparsity = quantus.Sparseness(disable_warnings=True, return_aggregate=True)\n",
    "    score_sparsity = []\n",
    "\n",
    "    for i, (x_batch, y_batch) in enumerate(test_loader):\n",
    "        x_batch, y_batch = x_batch.to(device), y_batch.to(device)\n",
    "        #print(len(x_batch))\n",
    "        outputs = model(x_batch)\n",
    "        predictions = torch.argmax(outputs, dim=1)\n",
    "        correct_mask = predictions == y_batch\n",
    "        #print(correct_mask)\n",
    "        x_batch = x_batch[correct_mask]\n",
    "        y_batch = y_batch[correct_mask]\n",
    "        #print(len(x_batch))\n",
    "        x_batch, y_batch = x_batch.cpu().numpy(), y_batch.cpu().numpy()\n",
    "        scores = sparsity(\n",
    "                model= model,\n",
    "                x_batch=x_batch,\n",
    "                y_batch=y_batch,\n",
    "                a_batch=None,\n",
    "                s_batch=None,\n",
    "                device=device,\n",
    "                explain_func= quantus.explain, \n",
    "                explain_func_kwargs = {\"method\": \"Saliency\", \"softmax\": False})\n",
    "        score_sparsity.extend(scores)\n",
    "        if len(score_sparsity) > 1000:\n",
    "            break \n",
    "    return np.nanmean(score_sparsity), np.nanstd(score_sparsity)"
   ]
  },
  {
   "cell_type": "code",
   "execution_count": null,
   "id": "b6650b37-4f92-4535-a961-5c3ae481b189",
   "metadata": {},
   "outputs": [],
   "source": [
    "print(\"The sparsity score is: \", filter_and_compute_sparsity(model, test_dataloader, device))"
   ]
  },
  {
   "cell_type": "code",
   "execution_count": null,
   "id": "5f018c16-083b-49fd-a8af-1356245d07cd",
   "metadata": {},
   "outputs": [],
   "source": [
    "print(\"The sparsity score is: \", filter_and_compute_sparsity(model_adv, test_dataloader, device))"
   ]
  }
 ],
 "metadata": {
  "kernelspec": {
   "display_name": "Python 3 (ipykernel)",
   "language": "python",
   "name": "python3"
  },
  "language_info": {
   "codemirror_mode": {
    "name": "ipython",
    "version": 3
   },
   "file_extension": ".py",
   "mimetype": "text/x-python",
   "name": "python",
   "nbconvert_exporter": "python",
   "pygments_lexer": "ipython3",
   "version": "3.12.3"
  }
 },
 "nbformat": 4,
 "nbformat_minor": 5
}
