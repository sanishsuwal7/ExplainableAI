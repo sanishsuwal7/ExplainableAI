{
 "cells": [
  {
   "cell_type": "code",
   "execution_count": 1,
   "id": "fc59d288-cf81-485e-a9f3-29acdae31caa",
   "metadata": {},
   "outputs": [],
   "source": [
    "from torchvision import datasets\n",
    "import torch\n",
    "import torch.nn as nn\n",
    "import torch.nn.functional as F\n",
    "import torchvision\n",
    "import torchvision.transforms as transforms\n",
    "from torchvision import models\n",
    "from torch.utils.data import DataLoader\n",
    "import torch.optim as optim\n",
    "from cleverhans.torch.attacks.projected_gradient_descent import (projected_gradient_descent)\n",
    "\n",
    "import matplotlib.pyplot as plt\n",
    "import numpy as np"
   ]
  },
  {
   "cell_type": "code",
   "execution_count": 2,
   "id": "48b4804b-8861-48b3-bfbd-4fe3e711221f",
   "metadata": {},
   "outputs": [],
   "source": [
    "train_dataset = datasets.MNIST(root=\"./datasets/\", train=True, download=True, transform=transforms.ToTensor())\n",
    "test_dataset = datasets.MNIST(root=\"./datasets/\", train=False, download = True, transform=transforms.ToTensor())"
   ]
  },
  {
   "cell_type": "code",
   "execution_count": 3,
   "id": "17fa9213-918e-44a5-8df4-b5915cfca70a",
   "metadata": {},
   "outputs": [],
   "source": [
    "mnist_transforms = transforms.Compose([transforms.ToTensor(), transforms.Normalize((0.1307,), (0.3081,))])"
   ]
  },
  {
   "cell_type": "code",
   "execution_count": 4,
   "id": "e9fd299a-240d-4057-9fc4-4aee2b6db90e",
   "metadata": {},
   "outputs": [],
   "source": [
    "train_dataset = datasets.MNIST(root=\"./datasets\", train=True, download = False, transform = mnist_transforms)\n",
    "test_dataset = datasets.MNIST(root=\"./datasets\", train=False, download = False, transform = mnist_transforms)"
   ]
  },
  {
   "cell_type": "code",
   "execution_count": 5,
   "id": "27e183cc-1d2f-4efa-bfc4-dcb99174d9cf",
   "metadata": {},
   "outputs": [],
   "source": [
    "train_size = int(0.9 * len(train_dataset))\n",
    "val_size = len(train_dataset) - train_size\n",
    "train_dataset, val_dataset = torch.utils.data.random_split(dataset = train_dataset, lengths=[train_size, val_size])"
   ]
  },
  {
   "cell_type": "code",
   "execution_count": 6,
   "id": "1d603ba7-37d3-40c1-9be1-12e1db395733",
   "metadata": {},
   "outputs": [],
   "source": [
    "train_loader = DataLoader(dataset = train_dataset, batch_size = 32, shuffle=True)\n",
    "test_loader = DataLoader(dataset = test_dataset, batch_size = 32, shuffle=True)\n",
    "val_loader = DataLoader(dataset = val_dataset, batch_size = 32, shuffle=True)"
   ]
  },
  {
   "cell_type": "code",
   "execution_count": 7,
   "id": "22bcc0b1-55e8-48ce-82ec-25c6735605ff",
   "metadata": {},
   "outputs": [],
   "source": [
    "from torch import nn\n",
    "class LeNet5V1(nn.Module):\n",
    "    def __init__(self):\n",
    "        super().__init__()\n",
    "        self.feature = nn.Sequential(\n",
    "            #1\n",
    "            nn.Conv2d(in_channels=1, out_channels=6, kernel_size=5, stride=1, padding=2),   # 28*28->32*32-->28*28\n",
    "            nn.Tanh(),\n",
    "            nn.AvgPool2d(kernel_size=2, stride=2),  # 14*14\n",
    "            \n",
    "            #2\n",
    "            nn.Conv2d(in_channels=6, out_channels=16, kernel_size=5, stride=1),  # 10*10\n",
    "            nn.Tanh(),\n",
    "            nn.AvgPool2d(kernel_size=2, stride=2),  # 5*5\n",
    "            \n",
    "        )\n",
    "        self.classifier = nn.Sequential(\n",
    "            nn.Flatten(),\n",
    "            nn.Linear(in_features=16*5*5, out_features=120),\n",
    "            nn.Tanh(),\n",
    "            nn.Linear(in_features=120, out_features=84),\n",
    "            nn.Tanh(),\n",
    "            nn.Linear(in_features=84, out_features=10),\n",
    "        )\n",
    "        \n",
    "    def forward(self, x):\n",
    "        return self.classifier(self.feature(x))\n",
    "# class LeNet5V1(nn.Module):\n",
    "#     def __init__(self):\n",
    "#         super(LeNet5V1, self).__init__()\n",
    "#         self.conv1 = nn.Conv2d(1, 32, 3, 1)\n",
    "#         self.conv2 = nn.Conv2d(32, 64, 3, 1)\n",
    "#         self.dropout1 = nn.Dropout(0.25)\n",
    "#         self.dropout2 = nn.Dropout(0.5)\n",
    "#         self.fc1 = nn.Linear(9216, 128)\n",
    "#         self.fc2 = nn.Linear(128, 10)\n",
    "\n",
    "#     def forward(self, x):\n",
    "#         x = self.conv1(x)\n",
    "#         x = F.relu(x)\n",
    "#         x = self.conv2(x)\n",
    "#         x = F.relu(x)\n",
    "#         x = F.max_pool2d(x, 2)\n",
    "#         x = self.dropout1(x)\n",
    "#         x = torch.flatten(x, 1)\n",
    "#         x = self.fc1(x)\n",
    "#         x = F.relu(x)\n",
    "#         x = self.dropout2(x)\n",
    "#         x = self.fc2(x)\n",
    "#         output = F.log_softmax(x, dim=1)\n",
    "#         return output\n"
   ]
  },
  {
   "cell_type": "code",
   "execution_count": 8,
   "id": "2ae74168-4e4f-4ecd-b1e6-b641d72140d5",
   "metadata": {},
   "outputs": [],
   "source": [
    "from torchmetrics import Accuracy\n",
    "device = torch.device(\"cuda\" if torch.cuda.is_available() else \"cpu\")\n",
    "model = LeNet5V1().to(device)\n",
    "loss_fn = nn.CrossEntropyLoss()\n",
    "optimizer = torch.optim.Adam(params = model.parameters(), lr = 1e-4)\n",
    "EPOCHS = 10\n",
    "accuracy = Accuracy(task='multiclass', num_classes=10)\n",
    "eps= [0.01, 0.03, 0.06, 0.1, 0.3, 0.5]"
   ]
  },
  {
   "cell_type": "code",
   "execution_count": 9,
   "id": "a70c08dd-c64e-46fd-ae5f-8effc4c7cc8d",
   "metadata": {},
   "outputs": [
    {
     "data": {
      "application/vnd.jupyter.widget-view+json": {
       "model_id": "40d111093697406993be09a9769638b8",
       "version_major": 2,
       "version_minor": 0
      },
      "text/plain": [
       "  0%|          | 0/10 [00:00<?, ?it/s]"
      ]
     },
     "metadata": {},
     "output_type": "display_data"
    },
    {
     "name": "stdout",
     "output_type": "stream",
     "text": [
      "Epoch: 0| Train acc: 84.20654| Val loss:  0.30161| Val acc:  91.28989\n",
      "Epoch: 1| Train acc: 93.31124| Val loss:  0.19103| Val acc:  94.39827\n",
      "Epoch: 2| Train acc: 95.58835| Val loss:  0.12849| Val acc:  96.04388\n",
      "Epoch: 3| Train acc: 96.85649| Val loss:  0.09821| Val acc:  97.04122\n",
      "Epoch: 4| Train acc: 97.50259| Val loss:  0.08357| Val acc:  97.32380\n",
      "Epoch: 5| Train acc: 97.92654| Val loss:  0.06783| Val acc:  97.98869\n",
      "Epoch: 6| Train acc: 98.17277| Val loss:  0.06149| Val acc:  98.18816\n",
      "Epoch: 7| Train acc: 98.39677| Val loss:  0.05723| Val acc:  98.27127\n",
      "Epoch: 8| Train acc: 98.55784| Val loss:  0.05069| Val acc:  98.55386\n",
      "Epoch: 9| Train acc: 98.60597| Val loss:  0.04879| Val acc:  98.63697\n"
     ]
    }
   ],
   "source": [
    "from tqdm.notebook import tqdm\n",
    "\n",
    "accuracy = accuracy.to(device)\n",
    "\n",
    "for epoch in tqdm(range(EPOCHS)):\n",
    "    # Training loop\n",
    "    train_acc = 0.0\n",
    "    for X, y in train_loader:\n",
    "        X, y = X.to(device), y.to(device)\n",
    "        X = projected_gradient_descent(model, X, eps[0], eps[0]/10, 40, np.inf )\n",
    "        model.train()\n",
    "        \n",
    "        y_pred = model(X)\n",
    "        loss = loss_fn(y_pred, y)\n",
    "        \n",
    "        acc = accuracy(y_pred, y)\n",
    "        train_acc += acc\n",
    "        \n",
    "        optimizer.zero_grad()\n",
    "        loss.backward()\n",
    "        optimizer.step()\n",
    "        \n",
    "    train_acc /= len(train_loader)\n",
    "        \n",
    "    # Validation loop\n",
    "    val_loss, val_acc = 0.0, 0.0\n",
    "    model.eval()\n",
    "    with torch.inference_mode():\n",
    "        for X, y in val_loader:\n",
    "            X, y = X.to(device), y.to(device)\n",
    "            \n",
    "            y_pred = model(X)\n",
    "            \n",
    "            loss = loss_fn(y_pred, y)\n",
    "            val_loss += loss.item()\n",
    "            \n",
    "            acc = accuracy(y_pred, y)\n",
    "            val_acc += acc\n",
    "            \n",
    "        val_loss /= len(val_loader)\n",
    "        val_acc /= len(val_loader)\n",
    "    \n",
    "    print(f\"Epoch: {epoch}| Train acc: {(100* train_acc):.5f}| Val loss: {val_loss: .5f}| Val acc: {(100*val_acc): .5f}\")\n",
    "                \n",
    "        \n",
    "        \n",
    "    "
   ]
  },
  {
   "cell_type": "code",
   "execution_count": 10,
   "id": "a5bf8fe3-f9f1-44ad-8c40-fe06cbda6091",
   "metadata": {},
   "outputs": [
    {
     "name": "stdout",
     "output_type": "stream",
     "text": [
      "Saving the model: models\\lenet5_v1_mnist_adv.pth\n"
     ]
    },
    {
     "name": "stderr",
     "output_type": "stream",
     "text": [
      "C:\\Users\\User\\AppData\\Local\\Temp\\ipykernel_14156\\2667992705.py:15: FutureWarning: You are using `torch.load` with `weights_only=False` (the current default value), which uses the default pickle module implicitly. It is possible to construct malicious pickle data which will execute arbitrary code during unpickling (See https://github.com/pytorch/pytorch/blob/main/SECURITY.md#untrusted-models for more details). In a future release, the default value for `weights_only` will be flipped to `True`. This limits the functions that could be executed during unpickling. Arbitrary objects will no longer be allowed to be loaded via this mode unless they are explicitly allowlisted by the user via `torch.serialization.add_safe_globals`. We recommend you start setting `weights_only=True` for any use case where you don't have full control of the loaded file. Please open an issue on GitHub for any issues related to this experimental feature.\n",
      "  model_lenet5_v1_mnist_adv_loaded.load_state_dict(torch.load(MODEL_SAVE_PATH))\n"
     ]
    },
    {
     "data": {
      "text/plain": [
       "<All keys matched successfully>"
      ]
     },
     "execution_count": 10,
     "metadata": {},
     "output_type": "execute_result"
    }
   ],
   "source": [
    "from pathlib import Path\n",
    "\n",
    "MODEL_PATH = Path(\"models\")\n",
    "MODEL_PATH.mkdir(parents=True, exist_ok=True)\n",
    "\n",
    "MODEL_NAME = \"lenet5_v1_mnist_adv.pth\"\n",
    "MODEL_SAVE_PATH = MODEL_PATH / MODEL_NAME\n",
    "\n",
    "# Saving the model\n",
    "print(f\"Saving the model: {MODEL_SAVE_PATH}\")\n",
    "torch.save(obj=model.state_dict(), f=MODEL_SAVE_PATH)\n",
    "\n",
    "# Loading the saved model\n",
    "model_lenet5_v1_mnist_adv_loaded = LeNet5V1()\n",
    "model_lenet5_v1_mnist_adv_loaded.load_state_dict(torch.load(MODEL_SAVE_PATH))"
   ]
  },
  {
   "cell_type": "code",
   "execution_count": 11,
   "id": "236c53e6-b2b9-4efe-9270-1bb21f811a97",
   "metadata": {},
   "outputs": [
    {
     "name": "stdout",
     "output_type": "stream",
     "text": [
      "Test loss:  0.04100| Test acc:  98.70207\n"
     ]
    }
   ],
   "source": [
    "test_loss, test_acc = 0, 0\n",
    "\n",
    "model = model_lenet5_v1_mnist_adv_loaded.to(device)\n",
    "\n",
    "model.eval()\n",
    "with torch.inference_mode():\n",
    "    for X, y in test_loader:\n",
    "        X, y = X.to(device), y.to(device)\n",
    "        y_pred = model(X)\n",
    "        \n",
    "        test_loss += loss_fn(y_pred, y)\n",
    "        test_acc += accuracy(y_pred, y)\n",
    "        \n",
    "    test_loss /= len(test_loader)\n",
    "    test_acc /= len(test_loader)\n",
    "\n",
    "print(f\"Test loss: {test_loss: .5f}| Test acc: {(100* test_acc): .5f}\")"
   ]
  },
  {
   "cell_type": "code",
   "execution_count": null,
   "id": "edc9b786-275e-4e08-b1b0-3aed24586444",
   "metadata": {},
   "outputs": [],
   "source": []
  }
 ],
 "metadata": {
  "kernelspec": {
   "display_name": "Python 3 (ipykernel)",
   "language": "python",
   "name": "python3"
  },
  "language_info": {
   "codemirror_mode": {
    "name": "ipython",
    "version": 3
   },
   "file_extension": ".py",
   "mimetype": "text/x-python",
   "name": "python",
   "nbconvert_exporter": "python",
   "pygments_lexer": "ipython3",
   "version": "3.12.3"
  }
 },
 "nbformat": 4,
 "nbformat_minor": 5
}
