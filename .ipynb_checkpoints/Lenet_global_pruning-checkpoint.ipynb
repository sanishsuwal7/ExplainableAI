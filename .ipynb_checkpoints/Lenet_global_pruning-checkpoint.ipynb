{
 "cells": [
  {
   "cell_type": "code",
   "execution_count": 2,
   "id": "4585496d-85d4-451d-a100-c11846f9f4d3",
   "metadata": {},
   "outputs": [],
   "source": [
    "from torchvision import datasets"
   ]
  },
  {
   "cell_type": "code",
   "execution_count": 3,
   "id": "a20546cf-8b15-4544-be2a-0dcf7c2aefe1",
   "metadata": {},
   "outputs": [],
   "source": [
    "train_dataset = datasets.MNIST(root=\"./datasets/\", train=True, download=True)\n",
    "test_dataset = datasets.MNIST(root=\"./datasets/\", train=False, download=True)"
   ]
  },
  {
   "cell_type": "code",
   "execution_count": 4,
   "id": "053cad48-a5dd-459c-b32e-1fb3ef6e4f30",
   "metadata": {},
   "outputs": [],
   "source": [
    "from torchvision import transforms\n",
    "train_val_dataset = datasets.MNIST(root=\"./datasets/\", train=True, download=False, transform=transforms.ToTensor())\n",
    "test_dataset = datasets.MNIST(root=\"./datasets\", train=False, download=False, transform=transforms.ToTensor())"
   ]
  },
  {
   "cell_type": "code",
   "execution_count": 8,
   "id": "85980545-0346-4858-9013-1e4f6ab6c6c0",
   "metadata": {},
   "outputs": [
    {
     "data": {
      "text/plain": [
       "(tensor([0.1307]), tensor([0.3081]))"
      ]
     },
     "execution_count": 8,
     "metadata": {},
     "output_type": "execute_result"
    }
   ],
   "source": [
    "import torch\n",
    "imgs = torch.stack([img for img, _ in train_val_dataset], dim =0)\n",
    "mean = imgs.view(1, -1).mean(dim =1)\n",
    "std = imgs.view(1, -1).std(dim =1)\n",
    "mean, std"
   ]
  },
  {
   "cell_type": "code",
   "execution_count": 9,
   "id": "b865ea91-06da-459d-87a0-0a0dd29a909a",
   "metadata": {},
   "outputs": [],
   "source": [
    "mnist_transforms = transforms.Compose([transforms.ToTensor(), transforms.Normalize(mean=mean, std=std)])\n",
    "train_val_dataset = datasets.MNIST(root=\"./datasets/\", train=True, download=False, transform=mnist_transforms)\n",
    "test_dataset = datasets.MNIST(root=\"./datasets/\", train=False, download=False, transform=mnist_transforms)"
   ]
  },
  {
   "cell_type": "code",
   "execution_count": 12,
   "id": "c06a5181-fbed-4a5d-8ab6-a2b95e090da6",
   "metadata": {},
   "outputs": [
    {
     "data": {
      "text/plain": [
       "(54000, 6000, 10000)"
      ]
     },
     "execution_count": 12,
     "metadata": {},
     "output_type": "execute_result"
    }
   ],
   "source": [
    "train_size = int(0.9 * len(train_val_dataset))\n",
    "val_size = len(train_val_dataset) - train_size\n",
    "\n",
    "train_dataset, val_dataset = torch.utils.data.random_split(dataset=train_val_dataset, lengths=[train_size, val_size])\n",
    "len(train_dataset), len(val_dataset), len(test_dataset)"
   ]
  },
  {
   "cell_type": "code",
   "execution_count": 14,
   "id": "a29fd5ab-38d0-475f-b779-828f7d6a6467",
   "metadata": {},
   "outputs": [
    {
     "data": {
      "text/plain": [
       "(1688, 188, 313)"
      ]
     },
     "execution_count": 14,
     "metadata": {},
     "output_type": "execute_result"
    }
   ],
   "source": [
    "from torch.utils.data import DataLoader\n",
    "\n",
    "BATCH_SIZE = 32\n",
    "\n",
    "train_dataloader = DataLoader(dataset=train_dataset, batch_size=BATCH_SIZE, shuffle=True)\n",
    "val_dataloader = DataLoader(dataset=val_dataset, batch_size=BATCH_SIZE, shuffle=True)\n",
    "test_dataloader = DataLoader(dataset=test_dataset, batch_size=BATCH_SIZE, shuffle=True)\n",
    "\n",
    "# Let's see no of batches that we have now with the current batch-size\n",
    "len(train_dataloader), len(val_dataloader), len(test_dataloader) "
   ]
  },
  {
   "cell_type": "code",
   "execution_count": 16,
   "id": "5cf70938-ce89-49c9-9099-d61c86b12d69",
   "metadata": {},
   "outputs": [],
   "source": [
    "from torch import nn\n",
    "import torch\n",
    "import torch.nn as nn\n",
    "import torch.nn.functional as F\n",
    "\n",
    "class LeNet5V1(nn.Module):\n",
    "    def __init__(self):\n",
    "        super(LeNet5V1, self).__init__()\n",
    "        self.conv1 = nn.Conv2d(1, 32, 3, 1)\n",
    "        self.conv2 = nn.Conv2d(32, 64, 3, 1)\n",
    "        self.dropout1 = nn.Dropout(0.25)\n",
    "        self.dropout2 = nn.Dropout(0.5)\n",
    "        self.fc1 = nn.Linear(9216, 128)\n",
    "        self.fc2 = nn.Linear(128, 10)\n",
    "\n",
    "    def forward(self, x):\n",
    "        x = self.conv1(x)\n",
    "        x = F.relu(x)\n",
    "        x = self.conv2(x)\n",
    "        x = F.relu(x)\n",
    "        x = F.max_pool2d(x, 2)\n",
    "        x = self.dropout1(x)\n",
    "        x = torch.flatten(x, 1)\n",
    "        x = self.fc1(x)\n",
    "        x = F.relu(x)\n",
    "        x = self.dropout2(x)\n",
    "        x = self.fc2(x)\n",
    "        output = F.log_softmax(x, dim=1)\n",
    "        return output"
   ]
  },
  {
   "cell_type": "code",
   "execution_count": 18,
   "id": "9e120182-571f-4384-98cb-96998163ad63",
   "metadata": {},
   "outputs": [],
   "source": [
    "from torchmetrics import Accuracy\n",
    "model_lenet5v1 = LeNet5V1()\n",
    "loss_fn = nn.CrossEntropyLoss()\n",
    "optimizer = torch.optim.Adam(params=model_lenet5v1.parameters(), lr = 0.001)\n",
    "accuracy = Accuracy(task='multiclass', num_classes=10)"
   ]
  },
  {
   "cell_type": "code",
   "execution_count": 20,
   "id": "619b3149-1c93-41ae-9091-dda50d599600",
   "metadata": {},
   "outputs": [
    {
     "data": {
      "application/vnd.jupyter.widget-view+json": {
       "model_id": "dec0c89a195743759a4093d100a8a516",
       "version_major": 2,
       "version_minor": 0
      },
      "text/plain": [
       "  0%|          | 0/12 [00:00<?, ?it/s]"
      ]
     },
     "metadata": {},
     "output_type": "display_data"
    },
    {
     "name": "stdout",
     "output_type": "stream",
     "text": [
      "Epoch: 0| Train loss:  0.18371| Train acc:  0.94542| Val loss:  0.04981| Val acc:  0.98554\n",
      "Epoch: 1| Train loss:  0.08385| Train acc:  0.97427| Val loss:  0.04055| Val acc:  0.98803\n",
      "Epoch: 2| Train loss:  0.06440| Train acc:  0.98025| Val loss:  0.04389| Val acc:  0.98803\n",
      "Epoch: 3| Train loss:  0.05160| Train acc:  0.98421| Val loss:  0.03794| Val acc:  0.98920\n",
      "Epoch: 4| Train loss:  0.04361| Train acc:  0.98697| Val loss:  0.03645| Val acc:  0.98920\n",
      "Epoch: 5| Train loss:  0.03724| Train acc:  0.98854| Val loss:  0.04338| Val acc:  0.98836\n",
      "Epoch: 6| Train loss:  0.03686| Train acc:  0.98861| Val loss:  0.03385| Val acc:  0.98969\n",
      "Epoch: 7| Train loss:  0.03017| Train acc:  0.99050| Val loss:  0.02706| Val acc:  0.99269\n",
      "Epoch: 8| Train loss:  0.03038| Train acc:  0.99056| Val loss:  0.03002| Val acc:  0.99152\n",
      "Epoch: 9| Train loss:  0.02760| Train acc:  0.99104| Val loss:  0.03457| Val acc:  0.99019\n",
      "Epoch: 10| Train loss:  0.02399| Train acc:  0.99200| Val loss:  0.04935| Val acc:  0.98870\n",
      "Epoch: 11| Train loss:  0.02501| Train acc:  0.99161| Val loss:  0.04744| Val acc:  0.98886\n"
     ]
    }
   ],
   "source": [
    "from tqdm.notebook import tqdm\n",
    "\n",
    "# device-agnostic setup\n",
    "device = 'cuda' if torch.cuda.is_available() else 'cpu'\n",
    "accuracy = accuracy.to(device)\n",
    "model_lenet5v1 = model_lenet5v1.to(device)\n",
    "\n",
    "EPOCHS = 12\n",
    "\n",
    "for epoch in tqdm(range(EPOCHS)):\n",
    "    # Training loop\n",
    "    train_loss, train_acc = 0.0, 0.0\n",
    "    for X, y in train_dataloader:\n",
    "        X, y = X.to(device), y.to(device)\n",
    "        \n",
    "        model_lenet5v1.train()\n",
    "        \n",
    "        y_pred = model_lenet5v1(X)\n",
    "        \n",
    "        loss = loss_fn(y_pred, y)\n",
    "        train_loss += loss.item()\n",
    "        \n",
    "        acc = accuracy(y_pred, y)\n",
    "        train_acc += acc\n",
    "        \n",
    "        optimizer.zero_grad()\n",
    "        loss.backward()\n",
    "        optimizer.step()\n",
    "        \n",
    "    train_loss /= len(train_dataloader)\n",
    "    train_acc /= len(train_dataloader)\n",
    "        \n",
    "    # Validation loop\n",
    "    val_loss, val_acc = 0.0, 0.0\n",
    "    model_lenet5v1.eval()\n",
    "    with torch.inference_mode():\n",
    "        for X, y in val_dataloader:\n",
    "            X, y = X.to(device), y.to(device)\n",
    "            \n",
    "            y_pred = model_lenet5v1(X)\n",
    "            \n",
    "            loss = loss_fn(y_pred, y)\n",
    "            val_loss += loss.item()\n",
    "            \n",
    "            acc = accuracy(y_pred, y)\n",
    "            val_acc += acc\n",
    "            \n",
    "        val_loss /= len(val_dataloader)\n",
    "        val_acc /= len(val_dataloader)\n",
    "    \n",
    "    print(f\"Epoch: {epoch}| Train loss: {train_loss: .5f}| Train acc: {train_acc: .5f}| Val loss: {val_loss: .5f}| Val acc: {val_acc: .5f}\")"
   ]
  },
  {
   "cell_type": "code",
   "execution_count": 22,
   "id": "cab97a14-fa3c-4b44-9329-dd0b4ce228fa",
   "metadata": {},
   "outputs": [],
   "source": [
    "def count_params(model):\n",
    "    total_params = 0\n",
    "    for layer_names, param in model.named_parameters():\n",
    "        total_params += torch.count_nonzero(param.data)\n",
    "    return total_params"
   ]
  },
  {
   "cell_type": "code",
   "execution_count": 24,
   "id": "3775ccb7-be8c-4d91-8da9-73887d3fea0e",
   "metadata": {},
   "outputs": [
    {
     "name": "stdout",
     "output_type": "stream",
     "text": [
      "Unpruned LeNet-5 model has 1199882 trainable parameters\n"
     ]
    }
   ],
   "source": [
    "orig_params = count_params(model_lenet5v1)\n",
    "print(f\"Unpruned LeNet-5 model has {orig_params} trainable parameters\")"
   ]
  },
  {
   "cell_type": "code",
   "execution_count": 26,
   "id": "2a5fcdac-d5f4-4d4a-9edc-2a783a45fb42",
   "metadata": {},
   "outputs": [
    {
     "name": "stdout",
     "output_type": "stream",
     "text": [
      "layer.name: conv1.weight & param.shape = torch.Size([32, 1, 3, 3])\n",
      "layer.name: conv1.bias & param.shape = torch.Size([32])\n",
      "layer.name: conv2.weight & param.shape = torch.Size([64, 32, 3, 3])\n",
      "layer.name: conv2.bias & param.shape = torch.Size([64])\n",
      "layer.name: fc1.weight & param.shape = torch.Size([128, 9216])\n",
      "layer.name: fc1.bias & param.shape = torch.Size([128])\n",
      "layer.name: fc2.weight & param.shape = torch.Size([10, 128])\n",
      "layer.name: fc2.bias & param.shape = torch.Size([10])\n"
     ]
    }
   ],
   "source": [
    "for layer, param in model_lenet5v1.named_parameters():\n",
    "    print(f\"layer.name: {layer} & param.shape = {param.shape}\")"
   ]
  },
  {
   "cell_type": "code",
   "execution_count": 28,
   "id": "05a171ba-f626-4876-aa2a-09e4f43f07c6",
   "metadata": {},
   "outputs": [
    {
     "name": "stdout",
     "output_type": "stream",
     "text": [
      "conv1.weight torch.Size([32, 1, 3, 3])\n",
      "conv1.bias torch.Size([32])\n",
      "conv2.weight torch.Size([64, 32, 3, 3])\n",
      "conv2.bias torch.Size([64])\n",
      "fc1.weight torch.Size([128, 9216])\n",
      "fc1.bias torch.Size([128])\n",
      "fc2.weight torch.Size([10, 128])\n",
      "fc2.bias torch.Size([10])\n"
     ]
    }
   ],
   "source": [
    "for layer_name in model_lenet5v1.state_dict().keys():\n",
    "    print(layer_name, model_lenet5v1.state_dict()[layer_name].shape)"
   ]
  },
  {
   "cell_type": "code",
   "execution_count": 30,
   "id": "21323dc0-d320-4386-ac91-dc9c0fc67f7f",
   "metadata": {},
   "outputs": [
    {
     "data": {
      "text/plain": [
       "odict_keys(['conv1.weight', 'conv1.bias', 'conv2.weight', 'conv2.bias', 'fc1.weight', 'fc1.bias', 'fc2.weight', 'fc2.bias'])"
      ]
     },
     "execution_count": 30,
     "metadata": {},
     "output_type": "execute_result"
    }
   ],
   "source": [
    "model_lenet5v1.state_dict().keys()"
   ]
  },
  {
   "cell_type": "code",
   "execution_count": 32,
   "id": "116c5366-4413-4437-ad79-307be71fb3ba",
   "metadata": {},
   "outputs": [],
   "source": [
    "parameters_to_prune = (\n",
    "    (model_lenet5v1.conv1, 'weight'),\n",
    "    (model_lenet5v1.conv2, 'weight'),\n",
    "    (model_lenet5v1.fc1, 'weight'),\n",
    "    (model_lenet5v1.fc2, 'weight')\n",
    ")"
   ]
  },
  {
   "cell_type": "code",
   "execution_count": 34,
   "id": "e445f454-c1b9-45e9-bf14-0c09e04c3c44",
   "metadata": {},
   "outputs": [],
   "source": [
    "def compute_sparsity(model):\n",
    "    conv1_sparsity = (torch.sum(model.conv1.weight == 0) / model.conv1.weight.nelement()) * 100\n",
    "    conv2_sparsity = (torch.sum(model.conv2.weight == 0) / model.conv2.weight.nelement()) * 100\n",
    "    fc1_sparsity = (torch.sum(model.fc1.weight == 0) / model.fc1.weight.nelement()) * 100\n",
    "    op_sparsity = (torch.sum(model.fc2.weight == 0) / model.fc2.weight.nelement()) * 100\n",
    "\n",
    "    num = torch.sum(model.conv1.weight == 0) + torch.sum(model.conv2.weight == 0) + torch.sum(model.fc1.weight == 0) + torch.sum(model.fc2.weight == 0)\n",
    "    denom = model.conv1.weight.nelement() + model.conv2.weight.nelement() + model.fc1.weight.nelement() + model.fc2.weight.nelement()\n",
    "\n",
    "    global_sparsity = num/denom * 100\n",
    "\n",
    "    print(f\"Lenet 5 Global sparsity = {global_sparsity:.2f}%\")\n",
    "    return None"
   ]
  },
  {
   "cell_type": "code",
   "execution_count": 36,
   "id": "b83a76fe-44c4-420b-a0a2-088db8b0685e",
   "metadata": {},
   "outputs": [
    {
     "name": "stdout",
     "output_type": "stream",
     "text": [
      "Lenet 5 Global sparsity = 0.00%\n"
     ]
    }
   ],
   "source": [
    "compute_sparsity(model_lenet5v1)"
   ]
  },
  {
   "cell_type": "code",
   "execution_count": 38,
   "id": "6ceb984a-b6a6-4dad-add9-ea7395ff390b",
   "metadata": {},
   "outputs": [
    {
     "data": {
      "text/plain": [
       "tensor(1199882, device='cuda:0')"
      ]
     },
     "execution_count": 38,
     "metadata": {},
     "output_type": "execute_result"
    }
   ],
   "source": [
    "count_params(model_lenet5v1)"
   ]
  },
  {
   "cell_type": "code",
   "execution_count": 40,
   "id": "a349be3c-b152-4365-a886-3c0fa54dc787",
   "metadata": {},
   "outputs": [],
   "source": [
    "prune_rates_global = [0.2, 0.3, 0.4, 0.5, 0.6]"
   ]
  },
  {
   "cell_type": "code",
   "execution_count": 42,
   "id": "11e52b37-0813-4554-bdd5-8f149c0272da",
   "metadata": {},
   "outputs": [
    {
     "name": "stdout",
     "output_type": "stream",
     "text": [
      "\n",
      "\n",
      "Iterative Global pruning round = 1\n",
      "Lenet 5 Global sparsity = 20.00%\n",
      "\n",
      "Fine-tuning pruned model to recover model's performance\n",
      "\n",
      "Epoch: 0| Train loss:  0.02198| Train acc:  0.99319| Val loss:  0.03269| Val acc:  0.99219\n",
      "Epoch: 1| Train loss:  0.02060| Train acc:  0.99341| Val loss:  0.03065| Val acc:  0.99202\n",
      "Epoch: 2| Train loss:  0.01814| Train acc:  0.99458| Val loss:  0.03360| Val acc:  0.99235\n",
      "Epoch: 3| Train loss:  0.01826| Train acc:  0.99426| Val loss:  0.03459| Val acc:  0.99252\n",
      "Epoch: 4| Train loss:  0.01794| Train acc:  0.99413| Val loss:  0.04571| Val acc:  0.99152\n",
      "Epoch: 5| Train loss:  0.01593| Train acc:  0.99513| Val loss:  0.03782| Val acc:  0.99036\n",
      "Epoch: 6| Train loss:  0.01826| Train acc:  0.99461| Val loss:  0.04089| Val acc:  0.99169\n",
      "Epoch: 7| Train loss:  0.01572| Train acc:  0.99446| Val loss:  0.04173| Val acc:  0.99152\n",
      "Epoch: 8| Train loss:  0.01528| Train acc:  0.99496| Val loss:  0.03508| Val acc:  0.99252\n",
      "Epoch: 9| Train loss:  0.01436| Train acc:  0.99537| Val loss:  0.04558| Val acc:  0.99152\n",
      "Epoch: 10| Train loss:  0.01416| Train acc:  0.99559| Val loss:  0.03571| Val acc:  0.99186\n",
      "Epoch: 11| Train loss:  0.01432| Train acc:  0.99559| Val loss:  0.04547| Val acc:  0.99136\n",
      "\n",
      "\n",
      "Iterative Global pruning round = 2\n",
      "Lenet 5 Global sparsity = 44.00%\n",
      "\n",
      "Fine-tuning pruned model to recover model's performance\n",
      "\n",
      "Epoch: 0| Train loss:  0.01318| Train acc:  0.99608| Val loss:  0.04642| Val acc:  0.99219\n",
      "Epoch: 1| Train loss:  0.01433| Train acc:  0.99571| Val loss:  0.04643| Val acc:  0.99169\n",
      "Epoch: 2| Train loss:  0.01283| Train acc:  0.99600| Val loss:  0.04573| Val acc:  0.99202\n",
      "Epoch: 3| Train loss:  0.01343| Train acc:  0.99574| Val loss:  0.04951| Val acc:  0.99069\n",
      "Epoch: 4| Train loss:  0.01234| Train acc:  0.99591| Val loss:  0.05723| Val acc:  0.99186\n",
      "Epoch: 5| Train loss:  0.01308| Train acc:  0.99596| Val loss:  0.05066| Val acc:  0.99053\n",
      "Epoch: 6| Train loss:  0.01132| Train acc:  0.99672| Val loss:  0.04304| Val acc:  0.99186\n",
      "Epoch: 7| Train loss:  0.01151| Train acc:  0.99656| Val loss:  0.05145| Val acc:  0.99186\n",
      "Epoch: 8| Train loss:  0.01172| Train acc:  0.99630| Val loss:  0.04749| Val acc:  0.99086\n",
      "Epoch: 9| Train loss:  0.01342| Train acc:  0.99604| Val loss:  0.04576| Val acc:  0.99069\n",
      "Epoch: 10| Train loss:  0.01072| Train acc:  0.99669| Val loss:  0.05013| Val acc:  0.99169\n",
      "Epoch: 11| Train loss:  0.01061| Train acc:  0.99658| Val loss:  0.05353| Val acc:  0.99169\n",
      "\n",
      "\n",
      "Iterative Global pruning round = 3\n",
      "Lenet 5 Global sparsity = 66.40%\n",
      "\n",
      "Fine-tuning pruned model to recover model's performance\n",
      "\n",
      "Epoch: 0| Train loss:  0.01181| Train acc:  0.99624| Val loss:  0.05208| Val acc:  0.99152\n",
      "Epoch: 1| Train loss:  0.00980| Train acc:  0.99693| Val loss:  0.05136| Val acc:  0.99086\n",
      "Epoch: 2| Train loss:  0.00800| Train acc:  0.99765| Val loss:  0.06139| Val acc:  0.99136\n",
      "Epoch: 3| Train loss:  0.01013| Train acc:  0.99706| Val loss:  0.04092| Val acc:  0.99186\n",
      "Epoch: 4| Train loss:  0.00816| Train acc:  0.99720| Val loss:  0.05124| Val acc:  0.99202\n",
      "Epoch: 5| Train loss:  0.00856| Train acc:  0.99728| Val loss:  0.06019| Val acc:  0.99053\n",
      "Epoch: 6| Train loss:  0.00967| Train acc:  0.99743| Val loss:  0.05331| Val acc:  0.99219\n",
      "Epoch: 7| Train loss:  0.00790| Train acc:  0.99765| Val loss:  0.04852| Val acc:  0.99219\n",
      "Epoch: 8| Train loss:  0.00845| Train acc:  0.99769| Val loss:  0.04808| Val acc:  0.99285\n",
      "Epoch: 9| Train loss:  0.00695| Train acc:  0.99769| Val loss:  0.05619| Val acc:  0.99252\n",
      "Epoch: 10| Train loss:  0.00623| Train acc:  0.99780| Val loss:  0.06505| Val acc:  0.99202\n",
      "Epoch: 11| Train loss:  0.00826| Train acc:  0.99743| Val loss:  0.05824| Val acc:  0.99186\n",
      "\n",
      "\n",
      "Iterative Global pruning round = 4\n",
      "Lenet 5 Global sparsity = 83.20%\n",
      "\n",
      "Fine-tuning pruned model to recover model's performance\n",
      "\n",
      "Epoch: 0| Train loss:  0.03333| Train acc:  0.98971| Val loss:  0.04036| Val acc:  0.99202\n",
      "Epoch: 1| Train loss:  0.01828| Train acc:  0.99387| Val loss:  0.03702| Val acc:  0.99186\n",
      "Epoch: 2| Train loss:  0.01471| Train acc:  0.99498| Val loss:  0.04979| Val acc:  0.99102\n",
      "Epoch: 3| Train loss:  0.01333| Train acc:  0.99617| Val loss:  0.04275| Val acc:  0.99285\n",
      "Epoch: 4| Train loss:  0.01239| Train acc:  0.99617| Val loss:  0.03577| Val acc:  0.99368\n",
      "Epoch: 5| Train loss:  0.01171| Train acc:  0.99632| Val loss:  0.03844| Val acc:  0.99219\n",
      "Epoch: 6| Train loss:  0.01169| Train acc:  0.99626| Val loss:  0.04198| Val acc:  0.99285\n",
      "Epoch: 7| Train loss:  0.01035| Train acc:  0.99643| Val loss:  0.05012| Val acc:  0.99285\n",
      "Epoch: 8| Train loss:  0.00945| Train acc:  0.99706| Val loss:  0.04184| Val acc:  0.99368\n",
      "Epoch: 9| Train loss:  0.00986| Train acc:  0.99693| Val loss:  0.04721| Val acc:  0.99285\n",
      "Epoch: 10| Train loss:  0.01007| Train acc:  0.99700| Val loss:  0.04706| Val acc:  0.99252\n",
      "Epoch: 11| Train loss:  0.00930| Train acc:  0.99722| Val loss:  0.04352| Val acc:  0.99335\n",
      "\n",
      "\n",
      "Iterative Global pruning round = 5\n",
      "Lenet 5 Global sparsity = 93.28%\n",
      "\n",
      "Fine-tuning pruned model to recover model's performance\n",
      "\n",
      "Epoch: 0| Train loss:  0.42696| Train acc:  0.91097| Val loss:  0.09008| Val acc:  0.97291\n",
      "Epoch: 1| Train loss:  0.16294| Train acc:  0.95122| Val loss:  0.07230| Val acc:  0.97822\n",
      "Epoch: 2| Train loss:  0.12943| Train acc:  0.96057| Val loss:  0.06190| Val acc:  0.98255\n",
      "Epoch: 3| Train loss:  0.11394| Train acc:  0.96612| Val loss:  0.05589| Val acc:  0.98421\n",
      "Epoch: 4| Train loss:  0.09959| Train acc:  0.96906| Val loss:  0.05013| Val acc:  0.98570\n",
      "Epoch: 5| Train loss:  0.08881| Train acc:  0.97262| Val loss:  0.04799| Val acc:  0.98620\n",
      "Epoch: 6| Train loss:  0.08015| Train acc:  0.97514| Val loss:  0.04565| Val acc:  0.98587\n",
      "Epoch: 7| Train loss:  0.07480| Train acc:  0.97734| Val loss:  0.04586| Val acc:  0.98670\n",
      "Epoch: 8| Train loss:  0.07032| Train acc:  0.97865| Val loss:  0.04892| Val acc:  0.98670\n",
      "Epoch: 9| Train loss:  0.06768| Train acc:  0.97915| Val loss:  0.04425| Val acc:  0.98820\n",
      "Epoch: 10| Train loss:  0.06305| Train acc:  0.98021| Val loss:  0.04179| Val acc:  0.98853\n",
      "Epoch: 11| Train loss:  0.05993| Train acc:  0.98091| Val loss:  0.03997| Val acc:  0.98886\n"
     ]
    }
   ],
   "source": [
    "import torch.nn.utils.prune as prune\n",
    "\n",
    "for iter_prune_round in range(5):\n",
    "    print(f\"\\n\\nIterative Global pruning round = {iter_prune_round + 1}\")\n",
    "    \n",
    "    # Prune layer-wise in a structured manner-\n",
    "    prune.global_unstructured(\n",
    "        parameters_to_prune,\n",
    "        pruning_method = prune.L1Unstructured,\n",
    "        amount = prune_rates_global[iter_prune_round]\n",
    "        \n",
    "    )\n",
    "\n",
    "    # Print current global sparsity level-\n",
    "    compute_sparsity(model_lenet5v1)\n",
    "    \n",
    "    \n",
    "    # Fine-training loop-\n",
    "    print(\"\\nFine-tuning pruned model to recover model's performance\\n\")\n",
    "    \n",
    "    \n",
    "    for epoch in range(EPOCHS):\n",
    "        train_loss, train_acc = 0.0, 0.0\n",
    "        for X, y in train_dataloader:\n",
    "            X, y = X.to(device), y.to(device)\n",
    "            \n",
    "            model_lenet5v1.train()\n",
    "            \n",
    "            y_pred = model_lenet5v1(X)\n",
    "            \n",
    "            loss = loss_fn(y_pred, y)\n",
    "            train_loss += loss.item()\n",
    "            \n",
    "            acc = accuracy(y_pred, y)\n",
    "            train_acc += acc\n",
    "            \n",
    "            optimizer.zero_grad()\n",
    "            loss.backward()\n",
    "            optimizer.step()\n",
    "            \n",
    "        train_loss /= len(train_dataloader)\n",
    "        train_acc /= len(train_dataloader)\n",
    "            \n",
    "        # Validation loop\n",
    "        val_loss, val_acc = 0.0, 0.0\n",
    "        model_lenet5v1.eval()\n",
    "        with torch.inference_mode():\n",
    "            for X, y in val_dataloader:\n",
    "                X, y = X.to(device), y.to(device)\n",
    "                \n",
    "                y_pred = model_lenet5v1(X)\n",
    "                \n",
    "                loss = loss_fn(y_pred, y)\n",
    "                val_loss += loss.item()\n",
    "                \n",
    "                acc = accuracy(y_pred, y)\n",
    "                val_acc += acc\n",
    "                \n",
    "            val_loss /= len(val_dataloader)\n",
    "            val_acc /= len(val_dataloader)\n",
    "        \n",
    "        print(f\"Epoch: {epoch}| Train loss: {train_loss: .5f}| Train acc: {train_acc: .5f}| Val loss: {val_loss: .5f}| Val acc: {val_acc: .5f}\")\n"
   ]
  },
  {
   "cell_type": "code",
   "execution_count": null,
   "id": "9118ca6b-8dd8-4115-935e-e7146bd2064d",
   "metadata": {},
   "outputs": [],
   "source": []
  }
 ],
 "metadata": {
  "kernelspec": {
   "display_name": "Python 3 (ipykernel)",
   "language": "python",
   "name": "python3"
  },
  "language_info": {
   "codemirror_mode": {
    "name": "ipython",
    "version": 3
   },
   "file_extension": ".py",
   "mimetype": "text/x-python",
   "name": "python",
   "nbconvert_exporter": "python",
   "pygments_lexer": "ipython3",
   "version": "3.12.3"
  }
 },
 "nbformat": 4,
 "nbformat_minor": 5
}
