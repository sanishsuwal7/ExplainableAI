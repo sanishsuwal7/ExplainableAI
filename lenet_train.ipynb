{
 "cells": [
  {
   "cell_type": "code",
   "execution_count": 100,
   "id": "d3e671d5-ea38-4d53-9b93-700e21998a7e",
   "metadata": {},
   "outputs": [],
   "source": [
    "import torch\n",
    "from torch import nn\n",
    "import torch.nn as nn\n",
    "import torch.nn.functional as F\n",
    "from torch.utils.data import DataLoader\n",
    "\n",
    "import torchvision\n",
    "from torchvision import datasets\n",
    "from torchvision import transforms\n",
    "from torchvision.transforms import Normalize\n",
    "from torchmetrics import Accuracy\n",
    "\n",
    "import torch.optim as optim\n",
    "from cleverhans.torch.attacks.projected_gradient_descent import (projected_gradient_descent)\n",
    "\n",
    "import quantus\n",
    "import captum\n",
    "from captum.attr import Saliency, IntegratedGradients, NoiseTunnel\n",
    "\n",
    "import pandas as pd\n",
    "import numpy as np\n",
    "import matplotlib.pyplot as plt\n",
    "\n",
    "import random\n",
    "import copy\n",
    "import gc\n",
    "\n",
    "import warnings\n",
    "warnings.filterwarnings('ignore')"
   ]
  },
  {
   "cell_type": "code",
   "execution_count": 102,
   "id": "9dac2627-71f4-446d-b520-60255275ff26",
   "metadata": {},
   "outputs": [],
   "source": [
    "device = 'cuda' if torch.cuda.is_available() else 'cpu'"
   ]
  },
  {
   "cell_type": "code",
   "execution_count": 104,
   "id": "06a50ea5-7a18-426c-83ef-e32f27116f9f",
   "metadata": {},
   "outputs": [],
   "source": [
    "transformer = torchvision.transforms.Compose([torchvision.transforms.ToTensor(), Normalize(mean=0.3814, std=0.3994)])\n",
    "\n",
    "train_dataset = datasets.FashionMNIST(root='./datasets', train=True, download = True, transform=transformer)\n",
    "test_dataset = datasets.FashionMNIST(root='./datasets', train=False, download = True, transform=transformer)\n",
    "\n",
    "train_dataloader = torch.utils.data.DataLoader(train_dataset, batch_size=32, shuffle=True, pin_memory=True) # num_workers=4,\n",
    "test_dataloader = torch.utils.data.DataLoader(test_dataset, batch_size=32, pin_memory=True)"
   ]
  },
  {
   "cell_type": "code",
   "execution_count": 106,
   "id": "d3b8e827-f84d-46a5-bd31-1a0d4024e9a6",
   "metadata": {},
   "outputs": [],
   "source": [
    "#for natural and adversarial LeNet Model \n",
    "class LeNet(torch.nn.Module):\n",
    "    def __init__(self):\n",
    "        super().__init__()\n",
    "        self.conv_1 = torch.nn.Conv2d(1, 6, 5)\n",
    "        self.pool_1 = torch.nn.MaxPool2d(2, 2)\n",
    "        self.relu_1 = torch.nn.ReLU()\n",
    "        self.conv_2 = torch.nn.Conv2d(6, 16, 5)\n",
    "        self.pool_2 = torch.nn.MaxPool2d(2, 2)\n",
    "        self.relu_2 = torch.nn.ReLU()\n",
    "        self.fc_1 = torch.nn.Linear(256, 120)\n",
    "        self.relu_3 = torch.nn.ReLU()\n",
    "        self.fc_2 = torch.nn.Linear(120, 84)\n",
    "        self.relu_4 = torch.nn.ReLU()\n",
    "        self.fc_3 = torch.nn.Linear(84, 10)\n",
    "\n",
    "    def forward(self, x):\n",
    "        x = self.pool_1(self.relu_1(self.conv_1(x)))\n",
    "        x = self.pool_2(self.relu_2(self.conv_2(x)))\n",
    "        x = x.view(x.shape[0], -1)\n",
    "        x = self.relu_3(self.fc_1(x))\n",
    "        x = self.relu_4(self.fc_2(x))\n",
    "        x = self.fc_3(x)\n",
    "        return x"
   ]
  },
  {
   "cell_type": "code",
   "execution_count": 108,
   "id": "0300c511-9636-4993-bfad-07ccfd1055b5",
   "metadata": {},
   "outputs": [],
   "source": [
    "model = LeNet()\n",
    "learning_rate = 0.001\n",
    "epochs = 50 \n",
    "criterion = torch.nn.CrossEntropyLoss(reduction=\"mean\")\n",
    "optimizer = torch.optim.Adam(model.parameters(), lr=learning_rate)"
   ]
  },
  {
   "cell_type": "code",
   "execution_count": 110,
   "id": "d2635ead-8fbd-40b1-8b0c-61c975dc1c2c",
   "metadata": {},
   "outputs": [],
   "source": [
    "def evaluate_model(model, data, device):\n",
    "    model.eval()\n",
    "    logits = torch.Tensor().to(device)\n",
    "    targets = torch.LongTensor().to(device)\n",
    "\n",
    "    with torch.no_grad():\n",
    "        for x_batch, y_batch in data:\n",
    "            x_batch, y_batch = x_batch.to(device), y_batch.to(device)\n",
    "            logits = torch.cat([logits, model(x_batch)])\n",
    "            targets = torch.cat([targets, y_batch])\n",
    "    \n",
    "    return torch.nn.functional.softmax(logits, dim=1), targets"
   ]
  },
  {
   "cell_type": "code",
   "execution_count": 112,
   "id": "65f4441d-ed90-4319-ad80-2f5c246f71ac",
   "metadata": {},
   "outputs": [],
   "source": [
    "def train_normal(model, epochs):\n",
    "    model.train()\n",
    "    for epoch in range(epochs):\n",
    "        for x_batch, y_batch in train_dataloader:\n",
    "            x_batch, y_batch = x_batch.to(device), y_batch.to(device)\n",
    "            optimizer.zero_grad()\n",
    "            logits = model(x_batch)\n",
    "            loss = criterion(logits, y_batch)\n",
    "            loss.backward()\n",
    "            optimizer.step()\n",
    "\n",
    "        # Evaluate model!\n",
    "        if epochs%10==0:\n",
    "            predictions, labels = evaluate_model(model, test_dataloader, device)\n",
    "            test_acc = np.mean(np.argmax(predictions.cpu().numpy(), axis=1) == labels.cpu().numpy())\n",
    "            print(f\"Epoch {epoch+1}/{epochs} - test accuracy: {(100 * test_acc):.2f}% and CE loss {loss.item():.2f}\")\n",
    "    return model"
   ]
  },
  {
   "cell_type": "code",
   "execution_count": 77,
   "id": "b23adf41-6462-47e1-a7f3-6cb823ea3111",
   "metadata": {},
   "outputs": [
    {
     "name": "stdout",
     "output_type": "stream",
     "text": [
      "Epoch 1/50 - test accuracy: 84.84% and CE loss 0.39\n",
      "Epoch 2/50 - test accuracy: 86.71% and CE loss 0.66\n",
      "Epoch 3/50 - test accuracy: 88.12% and CE loss 0.52\n",
      "Epoch 4/50 - test accuracy: 87.97% and CE loss 0.16\n",
      "Epoch 5/50 - test accuracy: 88.17% and CE loss 0.37\n",
      "Epoch 6/50 - test accuracy: 88.92% and CE loss 0.05\n",
      "Epoch 7/50 - test accuracy: 88.87% and CE loss 0.32\n",
      "Epoch 8/50 - test accuracy: 87.97% and CE loss 0.34\n",
      "Epoch 9/50 - test accuracy: 89.63% and CE loss 0.42\n",
      "Epoch 10/50 - test accuracy: 89.14% and CE loss 0.12\n",
      "Epoch 11/50 - test accuracy: 88.67% and CE loss 0.05\n",
      "Epoch 12/50 - test accuracy: 89.57% and CE loss 0.37\n",
      "Epoch 13/50 - test accuracy: 89.65% and CE loss 0.07\n",
      "Epoch 14/50 - test accuracy: 90.19% and CE loss 0.33\n",
      "Epoch 15/50 - test accuracy: 89.70% and CE loss 0.23\n",
      "Epoch 16/50 - test accuracy: 89.77% and CE loss 0.13\n",
      "Epoch 17/50 - test accuracy: 89.27% and CE loss 0.13\n",
      "Epoch 18/50 - test accuracy: 89.28% and CE loss 0.12\n",
      "Epoch 19/50 - test accuracy: 89.38% and CE loss 0.20\n",
      "Epoch 20/50 - test accuracy: 89.29% and CE loss 0.16\n",
      "Epoch 21/50 - test accuracy: 89.34% and CE loss 0.14\n",
      "Epoch 22/50 - test accuracy: 89.44% and CE loss 0.03\n",
      "Epoch 23/50 - test accuracy: 89.38% and CE loss 0.08\n",
      "Epoch 24/50 - test accuracy: 89.05% and CE loss 0.05\n",
      "Epoch 25/50 - test accuracy: 88.96% and CE loss 0.02\n",
      "Epoch 26/50 - test accuracy: 88.20% and CE loss 0.30\n",
      "Epoch 27/50 - test accuracy: 89.13% and CE loss 0.06\n",
      "Epoch 28/50 - test accuracy: 88.83% and CE loss 0.04\n",
      "Epoch 29/50 - test accuracy: 89.22% and CE loss 0.01\n",
      "Epoch 30/50 - test accuracy: 88.38% and CE loss 0.06\n",
      "Epoch 31/50 - test accuracy: 89.40% and CE loss 0.14\n",
      "Epoch 32/50 - test accuracy: 88.93% and CE loss 0.16\n",
      "Epoch 33/50 - test accuracy: 89.15% and CE loss 0.20\n",
      "Epoch 34/50 - test accuracy: 88.72% and CE loss 0.16\n",
      "Epoch 35/50 - test accuracy: 88.67% and CE loss 0.03\n",
      "Epoch 36/50 - test accuracy: 89.11% and CE loss 0.33\n",
      "Epoch 37/50 - test accuracy: 89.30% and CE loss 0.05\n",
      "Epoch 38/50 - test accuracy: 89.20% and CE loss 0.13\n",
      "Epoch 39/50 - test accuracy: 88.76% and CE loss 0.19\n",
      "Epoch 40/50 - test accuracy: 88.68% and CE loss 0.00\n",
      "Epoch 41/50 - test accuracy: 88.97% and CE loss 0.07\n",
      "Epoch 42/50 - test accuracy: 89.03% and CE loss 0.03\n",
      "Epoch 43/50 - test accuracy: 88.80% and CE loss 0.19\n",
      "Epoch 44/50 - test accuracy: 89.17% and CE loss 0.07\n",
      "Epoch 45/50 - test accuracy: 88.86% and CE loss 0.04\n",
      "Epoch 46/50 - test accuracy: 88.82% and CE loss 0.00\n",
      "Epoch 47/50 - test accuracy: 89.16% and CE loss 0.07\n",
      "Epoch 48/50 - test accuracy: 89.28% and CE loss 0.01\n",
      "Epoch 49/50 - test accuracy: 88.86% and CE loss 0.07\n",
      "Epoch 50/50 - test accuracy: 88.92% and CE loss 0.06\n"
     ]
    }
   ],
   "source": [
    "model_normal = train_normal(model = model.to(device), epochs = epochs)"
   ]
  },
  {
   "cell_type": "code",
   "execution_count": 79,
   "id": "9a390518-d09b-4080-917b-f68390cf814f",
   "metadata": {},
   "outputs": [
    {
     "name": "stdout",
     "output_type": "stream",
     "text": [
      "Model test accuracy: 88.92%\n"
     ]
    }
   ],
   "source": [
    "# Model to GPU and eval mode.\n",
    "model_normal.to(device)\n",
    "model_normal.eval()\n",
    "\n",
    "# Check test set performance.\n",
    "predictions, labels = evaluate_model(model_normal, test_dataloader, device)\n",
    "test_acc = np.mean(np.argmax(predictions.cpu().numpy(), axis=1) == labels.cpu().numpy())        \n",
    "print(f\"Model test accuracy: {(100 * test_acc):.2f}%\")"
   ]
  },
  {
   "cell_type": "code",
   "execution_count": 81,
   "id": "dfb78616-0351-444e-a330-3994eeeb0563",
   "metadata": {},
   "outputs": [
    {
     "name": "stdout",
     "output_type": "stream",
     "text": [
      "Saving the model: models\\lenet_fmnist.pth\n"
     ]
    }
   ],
   "source": [
    "from pathlib import Path\n",
    "\n",
    "MODEL_PATH = Path(\"models\")\n",
    "MODEL_PATH.mkdir(parents=True, exist_ok=True)\n",
    "\n",
    "MODEL_NAME = \"lenet_fmnist.pth\"\n",
    "MODEL_SAVE_PATH = MODEL_PATH / MODEL_NAME\n",
    "\n",
    "print(f\"Saving the model: {MODEL_SAVE_PATH}\")\n",
    "torch.save(obj=model_normal.state_dict(), f=MODEL_SAVE_PATH)"
   ]
  },
  {
   "cell_type": "markdown",
   "id": "77e8598c-2f5e-43f5-b10b-3771f6e27755",
   "metadata": {},
   "source": [
    "# Train Adversarial Models"
   ]
  },
  {
   "cell_type": "code",
   "execution_count": 114,
   "id": "30ace2b9-b265-419a-bb89-41a1ee2c36fb",
   "metadata": {},
   "outputs": [],
   "source": [
    "model = LeNet()\n",
    "learning_rate = 1e-4\n",
    "epochs = 40\n",
    "eps = [0.01,0.03,0.06,0.0,0.3,0.5]\n",
    "criterion = torch.nn.CrossEntropyLoss(reduction=\"mean\")\n",
    "optimizer = torch.optim.Adam(model.parameters(), lr=learning_rate)"
   ]
  },
  {
   "cell_type": "code",
   "execution_count": 116,
   "id": "946b73cd-df81-41b5-b26d-eb3fbdbff41f",
   "metadata": {},
   "outputs": [],
   "source": [
    "def evaluate_model(model, data, device):\n",
    "    model.eval()\n",
    "    logits = torch.Tensor().to(device)\n",
    "    targets = torch.LongTensor().to(device)\n",
    "\n",
    "    with torch.no_grad():\n",
    "        for x_batch, y_batch in data:\n",
    "            x_batch, y_batch = x_batch.to(device), y_batch.to(device)\n",
    "            logits = torch.cat([logits, model(x_batch)])\n",
    "            targets = torch.cat([targets, y_batch])\n",
    "    \n",
    "    return torch.nn.functional.softmax(logits, dim=1), targets"
   ]
  },
  {
   "cell_type": "code",
   "execution_count": 118,
   "id": "337aad80-ffe6-4e28-86fb-8e5a5d0bde1c",
   "metadata": {},
   "outputs": [],
   "source": [
    "def train_adv(model, epsilon, epochs):\n",
    "    model.train()\n",
    "    eps = epsilon\n",
    "    for epoch in range(epochs):\n",
    "        for x_batch, y_batch in train_dataloader:\n",
    "            x_batch, y_batch = x_batch.to(device), y_batch.to(device)\n",
    "            x_batch = projected_gradient_descent(model, x_batch, eps, eps/10, 40, np.inf)\n",
    "            optimizer.zero_grad()\n",
    "            logits = model(x_batch)\n",
    "            loss = criterion(logits, y_batch)\n",
    "            loss.backward()\n",
    "            optimizer.step()\n",
    "\n",
    "        # Evaluate model!\n",
    "        if epochs%10==0:\n",
    "            predictions, labels = evaluate_model(model, test_dataloader, device)\n",
    "            test_acc = np.mean(np.argmax(predictions.cpu().numpy(), axis=1) == labels.cpu().numpy())\n",
    "            print(f\"Epoch {epoch+1}/{epochs} - test accuracy: {(100 * test_acc):.2f}% and CE loss {loss.item():.2f}\")\n",
    "    return model"
   ]
  },
  {
   "cell_type": "code",
   "execution_count": 120,
   "id": "181b24a9-9bcc-4f9a-bc23-25d0daf64b70",
   "metadata": {},
   "outputs": [
    {
     "name": "stdout",
     "output_type": "stream",
     "text": [
      "Epoch 1/40 - test accuracy: 74.91% and CE loss 0.61\n",
      "Epoch 2/40 - test accuracy: 79.06% and CE loss 0.47\n",
      "Epoch 3/40 - test accuracy: 81.38% and CE loss 0.84\n",
      "Epoch 4/40 - test accuracy: 82.89% and CE loss 0.35\n",
      "Epoch 5/40 - test accuracy: 83.80% and CE loss 0.48\n",
      "Epoch 6/40 - test accuracy: 84.79% and CE loss 0.23\n",
      "Epoch 7/40 - test accuracy: 84.83% and CE loss 0.18\n",
      "Epoch 8/40 - test accuracy: 85.29% and CE loss 0.33\n",
      "Epoch 9/40 - test accuracy: 86.13% and CE loss 0.33\n",
      "Epoch 10/40 - test accuracy: 86.52% and CE loss 0.37\n",
      "Epoch 11/40 - test accuracy: 86.38% and CE loss 0.56\n",
      "Epoch 12/40 - test accuracy: 87.10% and CE loss 0.11\n",
      "Epoch 13/40 - test accuracy: 86.97% and CE loss 0.42\n",
      "Epoch 14/40 - test accuracy: 87.02% and CE loss 0.32\n",
      "Epoch 15/40 - test accuracy: 87.43% and CE loss 0.17\n",
      "Epoch 16/40 - test accuracy: 87.34% and CE loss 0.39\n",
      "Epoch 17/40 - test accuracy: 88.18% and CE loss 0.14\n",
      "Epoch 18/40 - test accuracy: 88.15% and CE loss 0.36\n",
      "Epoch 19/40 - test accuracy: 88.11% and CE loss 0.22\n",
      "Epoch 20/40 - test accuracy: 88.03% and CE loss 0.40\n",
      "Epoch 21/40 - test accuracy: 88.50% and CE loss 0.17\n",
      "Epoch 22/40 - test accuracy: 88.66% and CE loss 0.13\n",
      "Epoch 23/40 - test accuracy: 88.31% and CE loss 0.21\n",
      "Epoch 24/40 - test accuracy: 88.64% and CE loss 0.27\n",
      "Epoch 25/40 - test accuracy: 88.62% and CE loss 0.20\n",
      "Epoch 26/40 - test accuracy: 88.77% and CE loss 0.22\n",
      "Epoch 27/40 - test accuracy: 88.25% and CE loss 0.14\n",
      "Epoch 28/40 - test accuracy: 89.01% and CE loss 0.34\n",
      "Epoch 29/40 - test accuracy: 88.54% and CE loss 0.30\n",
      "Epoch 30/40 - test accuracy: 88.54% and CE loss 0.13\n",
      "Epoch 31/40 - test accuracy: 89.23% and CE loss 0.25\n",
      "Epoch 32/40 - test accuracy: 88.99% and CE loss 0.20\n",
      "Epoch 33/40 - test accuracy: 89.12% and CE loss 0.24\n",
      "Epoch 34/40 - test accuracy: 88.99% and CE loss 0.26\n",
      "Epoch 35/40 - test accuracy: 89.30% and CE loss 0.43\n",
      "Epoch 36/40 - test accuracy: 89.10% and CE loss 0.16\n",
      "Epoch 37/40 - test accuracy: 89.19% and CE loss 0.08\n",
      "Epoch 38/40 - test accuracy: 89.25% and CE loss 0.10\n",
      "Epoch 39/40 - test accuracy: 89.44% and CE loss 0.18\n",
      "Epoch 40/40 - test accuracy: 89.50% and CE loss 0.31\n"
     ]
    }
   ],
   "source": [
    "model_adversarial = train_adv(model=model.to(device),\n",
    "                    epsilon = eps[0], \n",
    "                    epochs=epochs)"
   ]
  },
  {
   "cell_type": "code",
   "execution_count": 126,
   "id": "c299b3fd-fe4e-4c30-a067-04d115c0ff80",
   "metadata": {},
   "outputs": [
    {
     "name": "stdout",
     "output_type": "stream",
     "text": [
      "Model test accuracy: 89.50%\n"
     ]
    }
   ],
   "source": [
    "# Model to GPU and eval mode.\n",
    "model_adversarial.to(device)\n",
    "model_adversarial.eval()\n",
    "\n",
    "# Check test set performance.\n",
    "predictions, labels = evaluate_model(model_adversarial, test_dataloader, device)\n",
    "test_acc = np.mean(np.argmax(predictions.cpu().numpy(), axis=1) == labels.cpu().numpy())        \n",
    "print(f\"Model test accuracy: {(100 * test_acc):.2f}%\")"
   ]
  },
  {
   "cell_type": "code",
   "execution_count": 128,
   "id": "242782e1-bb3d-482d-a210-da7bd8c72858",
   "metadata": {},
   "outputs": [
    {
     "name": "stdout",
     "output_type": "stream",
     "text": [
      "Saving the model: models\\lenet_fmnist_adv.pth\n"
     ]
    }
   ],
   "source": [
    "from pathlib import Path\n",
    "\n",
    "MODEL_PATH = Path(\"models\")\n",
    "MODEL_PATH.mkdir(parents=True, exist_ok=True)\n",
    "\n",
    "MODEL_NAME = \"lenet_fmnist_adv.pth\"\n",
    "MODEL_SAVE_PATH = MODEL_PATH / MODEL_NAME\n",
    "\n",
    "print(f\"Saving the model: {MODEL_SAVE_PATH}\")\n",
    "torch.save(obj=model_adversarial.state_dict(), f=MODEL_SAVE_PATH)"
   ]
  },
  {
   "cell_type": "code",
   "execution_count": null,
   "id": "01d50e6a-d0e4-4636-93c0-7590c97fd688",
   "metadata": {},
   "outputs": [],
   "source": []
  }
 ],
 "metadata": {
  "kernelspec": {
   "display_name": "Python 3 (ipykernel)",
   "language": "python",
   "name": "python3"
  },
  "language_info": {
   "codemirror_mode": {
    "name": "ipython",
    "version": 3
   },
   "file_extension": ".py",
   "mimetype": "text/x-python",
   "name": "python",
   "nbconvert_exporter": "python",
   "pygments_lexer": "ipython3",
   "version": "3.12.3"
  }
 },
 "nbformat": 4,
 "nbformat_minor": 5
}
