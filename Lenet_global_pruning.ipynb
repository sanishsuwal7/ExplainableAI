{
 "cells": [
  {
   "cell_type": "code",
   "execution_count": 1,
   "id": "4585496d-85d4-451d-a100-c11846f9f4d3",
   "metadata": {},
   "outputs": [],
   "source": [
    "from torchvision import datasets"
   ]
  },
  {
   "cell_type": "code",
   "execution_count": 3,
   "id": "a20546cf-8b15-4544-be2a-0dcf7c2aefe1",
   "metadata": {},
   "outputs": [],
   "source": [
    "train_dataset = datasets.MNIST(root=\"./datasets/\", train=True, download=True)\n",
    "test_dataset = datasets.MNIST(root=\"./datasets/\", train=False, download=True)"
   ]
  },
  {
   "cell_type": "code",
   "execution_count": 5,
   "id": "053cad48-a5dd-459c-b32e-1fb3ef6e4f30",
   "metadata": {},
   "outputs": [],
   "source": [
    "from torchvision import transforms\n",
    "train_val_dataset = datasets.MNIST(root=\"./datasets/\", train=True, download=False, transform=transforms.ToTensor())\n",
    "test_dataset = datasets.MNIST(root=\"./datasets\", train=False, download=False, transform=transforms.ToTensor())"
   ]
  },
  {
   "cell_type": "code",
   "execution_count": 7,
   "id": "85980545-0346-4858-9013-1e4f6ab6c6c0",
   "metadata": {},
   "outputs": [
    {
     "data": {
      "text/plain": [
       "(tensor([0.1307]), tensor([0.3081]))"
      ]
     },
     "execution_count": 7,
     "metadata": {},
     "output_type": "execute_result"
    }
   ],
   "source": [
    "import torch\n",
    "imgs = torch.stack([img for img, _ in train_val_dataset], dim =0)\n",
    "mean = imgs.view(1, -1).mean(dim =1)\n",
    "std = imgs.view(1, -1).std(dim =1)\n",
    "mean, std"
   ]
  },
  {
   "cell_type": "code",
   "execution_count": 9,
   "id": "b865ea91-06da-459d-87a0-0a0dd29a909a",
   "metadata": {},
   "outputs": [],
   "source": [
    "mnist_transforms = transforms.Compose([transforms.ToTensor(), transforms.Normalize(mean=mean, std=std)])\n",
    "train_val_dataset = datasets.MNIST(root=\"./datasets/\", train=True, download=False, transform=mnist_transforms)\n",
    "test_dataset = datasets.MNIST(root=\"./datasets/\", train=False, download=False, transform=mnist_transforms)"
   ]
  },
  {
   "cell_type": "code",
   "execution_count": 11,
   "id": "c06a5181-fbed-4a5d-8ab6-a2b95e090da6",
   "metadata": {},
   "outputs": [
    {
     "data": {
      "text/plain": [
       "(54000, 6000, 10000)"
      ]
     },
     "execution_count": 11,
     "metadata": {},
     "output_type": "execute_result"
    }
   ],
   "source": [
    "train_size = int(0.9 * len(train_val_dataset))\n",
    "val_size = len(train_val_dataset) - train_size\n",
    "\n",
    "train_dataset, val_dataset = torch.utils.data.random_split(dataset=train_val_dataset, lengths=[train_size, val_size])\n",
    "len(train_dataset), len(val_dataset), len(test_dataset)"
   ]
  },
  {
   "cell_type": "code",
   "execution_count": 13,
   "id": "a29fd5ab-38d0-475f-b779-828f7d6a6467",
   "metadata": {},
   "outputs": [
    {
     "data": {
      "text/plain": [
       "(1688, 188, 313)"
      ]
     },
     "execution_count": 13,
     "metadata": {},
     "output_type": "execute_result"
    }
   ],
   "source": [
    "from torch.utils.data import DataLoader\n",
    "\n",
    "BATCH_SIZE = 32\n",
    "\n",
    "train_dataloader = DataLoader(dataset=train_dataset, batch_size=BATCH_SIZE, shuffle=True)\n",
    "val_dataloader = DataLoader(dataset=val_dataset, batch_size=BATCH_SIZE, shuffle=True)\n",
    "test_dataloader = DataLoader(dataset=test_dataset, batch_size=BATCH_SIZE, shuffle=True)\n",
    "\n",
    "# Let's see no of batches that we have now with the current batch-size\n",
    "len(train_dataloader), len(val_dataloader), len(test_dataloader) "
   ]
  },
  {
   "cell_type": "code",
   "execution_count": 15,
   "id": "5cf70938-ce89-49c9-9099-d61c86b12d69",
   "metadata": {},
   "outputs": [],
   "source": [
    "from torch import nn\n",
    "import torch\n",
    "import torch.nn as nn\n",
    "import torch.nn.functional as F\n",
    "\n",
    "class LeNet5V1(nn.Module):\n",
    "    def __init__(self):\n",
    "        super(LeNet5V1, self).__init__()\n",
    "        self.conv1 = nn.Conv2d(1, 32, 3, 1)\n",
    "        self.conv2 = nn.Conv2d(32, 64, 3, 1)\n",
    "        self.dropout1 = nn.Dropout(0.25)\n",
    "        self.dropout2 = nn.Dropout(0.5)\n",
    "        self.fc1 = nn.Linear(9216, 128)\n",
    "        self.fc2 = nn.Linear(128, 10)\n",
    "\n",
    "    def forward(self, x):\n",
    "        x = self.conv1(x)\n",
    "        x = F.relu(x)\n",
    "        x = self.conv2(x)\n",
    "        x = F.relu(x)\n",
    "        x = F.max_pool2d(x, 2)\n",
    "        x = self.dropout1(x)\n",
    "        x = torch.flatten(x, 1)\n",
    "        x = self.fc1(x)\n",
    "        x = F.relu(x)\n",
    "        x = self.dropout2(x)\n",
    "        x = self.fc2(x)\n",
    "        output = F.log_softmax(x, dim=1)\n",
    "        return output"
   ]
  },
  {
   "cell_type": "code",
   "execution_count": 17,
   "id": "9e120182-571f-4384-98cb-96998163ad63",
   "metadata": {},
   "outputs": [],
   "source": [
    "from torchmetrics import Accuracy\n",
    "model_lenet5v1 = LeNet5V1()\n",
    "loss_fn = nn.CrossEntropyLoss()\n",
    "optimizer = torch.optim.Adam(params=model_lenet5v1.parameters(), lr = 0.001)\n",
    "accuracy = Accuracy(task='multiclass', num_classes=10)"
   ]
  },
  {
   "cell_type": "code",
   "execution_count": 19,
   "id": "619b3149-1c93-41ae-9091-dda50d599600",
   "metadata": {},
   "outputs": [
    {
     "data": {
      "application/vnd.jupyter.widget-view+json": {
       "model_id": "cc0eccf1242042e4a93bbe963f855c88",
       "version_major": 2,
       "version_minor": 0
      },
      "text/plain": [
       "  0%|          | 0/12 [00:00<?, ?it/s]"
      ]
     },
     "metadata": {},
     "output_type": "display_data"
    },
    {
     "name": "stdout",
     "output_type": "stream",
     "text": [
      "Epoch: 0| Train loss:  0.19286| Train acc:  0.94154| Val loss:  0.05914| Val acc:  0.98221\n",
      "Epoch: 1| Train loss:  0.08386| Train acc:  0.97556| Val loss:  0.04646| Val acc:  0.98687\n",
      "Epoch: 2| Train loss:  0.06423| Train acc:  0.98054| Val loss:  0.04381| Val acc:  0.98737\n",
      "Epoch: 3| Train loss:  0.05230| Train acc:  0.98423| Val loss:  0.04709| Val acc:  0.98587\n",
      "Epoch: 4| Train loss:  0.04639| Train acc:  0.98562| Val loss:  0.04364| Val acc:  0.98753\n",
      "Epoch: 5| Train loss:  0.04022| Train acc:  0.98641| Val loss:  0.04062| Val acc:  0.98986\n",
      "Epoch: 6| Train loss:  0.03433| Train acc:  0.98945| Val loss:  0.03974| Val acc:  0.98936\n",
      "Epoch: 7| Train loss:  0.03093| Train acc:  0.99004| Val loss:  0.04146| Val acc:  0.98986\n",
      "Epoch: 8| Train loss:  0.02940| Train acc:  0.99061| Val loss:  0.04074| Val acc:  0.99036\n",
      "Epoch: 9| Train loss:  0.02692| Train acc:  0.99122| Val loss:  0.04832| Val acc:  0.98953\n",
      "Epoch: 10| Train loss:  0.02477| Train acc:  0.99185| Val loss:  0.04641| Val acc:  0.99069\n",
      "Epoch: 11| Train loss:  0.02400| Train acc:  0.99280| Val loss:  0.04381| Val acc:  0.98986\n"
     ]
    }
   ],
   "source": [
    "from tqdm.notebook import tqdm\n",
    "\n",
    "# device-agnostic setup\n",
    "device = 'cuda' if torch.cuda.is_available() else 'cpu'\n",
    "accuracy = accuracy.to(device)\n",
    "model_lenet5v1 = model_lenet5v1.to(device)\n",
    "\n",
    "EPOCHS = 12\n",
    "\n",
    "for epoch in tqdm(range(EPOCHS)):\n",
    "    # Training loop\n",
    "    train_loss, train_acc = 0.0, 0.0\n",
    "    for X, y in train_dataloader:\n",
    "        X, y = X.to(device), y.to(device)\n",
    "        \n",
    "        model_lenet5v1.train()\n",
    "        \n",
    "        y_pred = model_lenet5v1(X)\n",
    "        \n",
    "        loss = loss_fn(y_pred, y)\n",
    "        train_loss += loss.item()\n",
    "        \n",
    "        acc = accuracy(y_pred, y)\n",
    "        train_acc += acc\n",
    "        \n",
    "        optimizer.zero_grad()\n",
    "        loss.backward()\n",
    "        optimizer.step()\n",
    "        \n",
    "    train_loss /= len(train_dataloader)\n",
    "    train_acc /= len(train_dataloader)\n",
    "        \n",
    "    # Validation loop\n",
    "    val_loss, val_acc = 0.0, 0.0\n",
    "    model_lenet5v1.eval()\n",
    "    with torch.inference_mode():\n",
    "        for X, y in val_dataloader:\n",
    "            X, y = X.to(device), y.to(device)\n",
    "            \n",
    "            y_pred = model_lenet5v1(X)\n",
    "            \n",
    "            loss = loss_fn(y_pred, y)\n",
    "            val_loss += loss.item()\n",
    "            \n",
    "            acc = accuracy(y_pred, y)\n",
    "            val_acc += acc\n",
    "            \n",
    "        val_loss /= len(val_dataloader)\n",
    "        val_acc /= len(val_dataloader)\n",
    "    \n",
    "    print(f\"Epoch: {epoch}| Train loss: {train_loss: .5f}| Train acc: {train_acc: .5f}| Val loss: {val_loss: .5f}| Val acc: {val_acc: .5f}\")"
   ]
  },
  {
   "cell_type": "code",
   "execution_count": 21,
   "id": "cab97a14-fa3c-4b44-9329-dd0b4ce228fa",
   "metadata": {},
   "outputs": [],
   "source": [
    "def count_params(model):\n",
    "    total_params = 0\n",
    "    for layer_names, param in model.named_parameters():\n",
    "        total_params += torch.count_nonzero(param.data)\n",
    "    return total_params"
   ]
  },
  {
   "cell_type": "code",
   "execution_count": 23,
   "id": "3775ccb7-be8c-4d91-8da9-73887d3fea0e",
   "metadata": {},
   "outputs": [
    {
     "name": "stdout",
     "output_type": "stream",
     "text": [
      "Unpruned LeNet-5 model has 1199882 trainable parameters\n"
     ]
    }
   ],
   "source": [
    "orig_params = count_params(model_lenet5v1)\n",
    "print(f\"Unpruned LeNet-5 model has {orig_params} trainable parameters\")"
   ]
  },
  {
   "cell_type": "code",
   "execution_count": 25,
   "id": "2a5fcdac-d5f4-4d4a-9edc-2a783a45fb42",
   "metadata": {},
   "outputs": [
    {
     "name": "stdout",
     "output_type": "stream",
     "text": [
      "layer.name: conv1.weight & param.shape = torch.Size([32, 1, 3, 3])\n",
      "layer.name: conv1.bias & param.shape = torch.Size([32])\n",
      "layer.name: conv2.weight & param.shape = torch.Size([64, 32, 3, 3])\n",
      "layer.name: conv2.bias & param.shape = torch.Size([64])\n",
      "layer.name: fc1.weight & param.shape = torch.Size([128, 9216])\n",
      "layer.name: fc1.bias & param.shape = torch.Size([128])\n",
      "layer.name: fc2.weight & param.shape = torch.Size([10, 128])\n",
      "layer.name: fc2.bias & param.shape = torch.Size([10])\n"
     ]
    }
   ],
   "source": [
    "for layer, param in model_lenet5v1.named_parameters():\n",
    "    print(f\"layer.name: {layer} & param.shape = {param.shape}\")"
   ]
  },
  {
   "cell_type": "code",
   "execution_count": 27,
   "id": "05a171ba-f626-4876-aa2a-09e4f43f07c6",
   "metadata": {},
   "outputs": [
    {
     "name": "stdout",
     "output_type": "stream",
     "text": [
      "conv1.weight torch.Size([32, 1, 3, 3])\n",
      "conv1.bias torch.Size([32])\n",
      "conv2.weight torch.Size([64, 32, 3, 3])\n",
      "conv2.bias torch.Size([64])\n",
      "fc1.weight torch.Size([128, 9216])\n",
      "fc1.bias torch.Size([128])\n",
      "fc2.weight torch.Size([10, 128])\n",
      "fc2.bias torch.Size([10])\n"
     ]
    }
   ],
   "source": [
    "for layer_name in model_lenet5v1.state_dict().keys():\n",
    "    print(layer_name, model_lenet5v1.state_dict()[layer_name].shape)"
   ]
  },
  {
   "cell_type": "code",
   "execution_count": 29,
   "id": "21323dc0-d320-4386-ac91-dc9c0fc67f7f",
   "metadata": {},
   "outputs": [
    {
     "data": {
      "text/plain": [
       "odict_keys(['conv1.weight', 'conv1.bias', 'conv2.weight', 'conv2.bias', 'fc1.weight', 'fc1.bias', 'fc2.weight', 'fc2.bias'])"
      ]
     },
     "execution_count": 29,
     "metadata": {},
     "output_type": "execute_result"
    }
   ],
   "source": [
    "model_lenet5v1.state_dict().keys()"
   ]
  },
  {
   "cell_type": "code",
   "execution_count": 31,
   "id": "116c5366-4413-4437-ad79-307be71fb3ba",
   "metadata": {},
   "outputs": [],
   "source": [
    "parameters_to_prune = (\n",
    "    (model_lenet5v1.conv1, 'weight'),\n",
    "    (model_lenet5v1.conv2, 'weight'),\n",
    "    (model_lenet5v1.fc1, 'weight'),\n",
    "    (model_lenet5v1.fc2, 'weight')\n",
    ")"
   ]
  },
  {
   "cell_type": "code",
   "execution_count": 33,
   "id": "e445f454-c1b9-45e9-bf14-0c09e04c3c44",
   "metadata": {},
   "outputs": [],
   "source": [
    "def compute_sparsity(model):\n",
    "    conv1_sparsity = (torch.sum(model.conv1.weight == 0) / model.conv1.weight.nelement()) * 100\n",
    "    conv2_sparsity = (torch.sum(model.conv2.weight == 0) / model.conv2.weight.nelement()) * 100\n",
    "    fc1_sparsity = (torch.sum(model.fc1.weight == 0) / model.fc1.weight.nelement()) * 100\n",
    "    op_sparsity = (torch.sum(model.fc2.weight == 0) / model.fc2.weight.nelement()) * 100\n",
    "\n",
    "    num = torch.sum(model.conv1.weight == 0) + torch.sum(model.conv2.weight == 0) + torch.sum(model.fc1.weight == 0) + torch.sum(model.fc2.weight == 0)\n",
    "    denom = model.conv1.weight.nelement() + model.conv2.weight.nelement() + model.fc1.weight.nelement() + model.fc2.weight.nelement()\n",
    "\n",
    "    global_sparsity = num/denom * 100\n",
    "\n",
    "    print(f\"Lenet 5 Global sparsity = {global_sparsity:.2f}%\")\n",
    "    return None"
   ]
  },
  {
   "cell_type": "code",
   "execution_count": 35,
   "id": "b83a76fe-44c4-420b-a0a2-088db8b0685e",
   "metadata": {},
   "outputs": [
    {
     "name": "stdout",
     "output_type": "stream",
     "text": [
      "Lenet 5 Global sparsity = 0.00%\n"
     ]
    }
   ],
   "source": [
    "compute_sparsity(model_lenet5v1)"
   ]
  },
  {
   "cell_type": "code",
   "execution_count": 37,
   "id": "6ceb984a-b6a6-4dad-add9-ea7395ff390b",
   "metadata": {},
   "outputs": [
    {
     "data": {
      "text/plain": [
       "tensor(1199882, device='cuda:0')"
      ]
     },
     "execution_count": 37,
     "metadata": {},
     "output_type": "execute_result"
    }
   ],
   "source": [
    "count_params(model_lenet5v1)"
   ]
  },
  {
   "cell_type": "code",
   "execution_count": 39,
   "id": "a349be3c-b152-4365-a886-3c0fa54dc787",
   "metadata": {},
   "outputs": [],
   "source": [
    "prune_rates_global = [0.2, 0.3, 0.4, 0.5, 0.6]"
   ]
  },
  {
   "cell_type": "code",
   "execution_count": null,
   "id": "11e52b37-0813-4554-bdd5-8f149c0272da",
   "metadata": {},
   "outputs": [
    {
     "name": "stdout",
     "output_type": "stream",
     "text": [
      "\n",
      "\n",
      "Iterative Global pruning round = 1\n",
      "Lenet 5 Global sparsity = 36.00%\n",
      "\n",
      "Fine-tuning pruned model to recover model's performance\n",
      "\n",
      "Epoch: 0| Train loss:  0.02111| Train acc:  0.99343| Val loss:  0.05259| Val acc:  0.99019\n",
      "Epoch: 1| Train loss:  0.01813| Train acc:  0.99441| Val loss:  0.05327| Val acc:  0.99019\n",
      "Epoch: 2| Train loss:  0.01778| Train acc:  0.99439| Val loss:  0.04779| Val acc:  0.99053\n",
      "Epoch: 3| Train loss:  0.01773| Train acc:  0.99409| Val loss:  0.04807| Val acc:  0.99102\n",
      "Epoch: 4| Train loss:  0.01764| Train acc:  0.99419| Val loss:  0.04515| Val acc:  0.99169\n",
      "Epoch: 5| Train loss:  0.01883| Train acc:  0.99389| Val loss:  0.04981| Val acc:  0.98986\n",
      "Epoch: 6| Train loss:  0.01487| Train acc:  0.99513| Val loss:  0.05514| Val acc:  0.99086\n",
      "Epoch: 7| Train loss:  0.01699| Train acc:  0.99456| Val loss:  0.04744| Val acc:  0.99019\n",
      "Epoch: 8| Train loss:  0.01484| Train acc:  0.99530| Val loss:  0.05337| Val acc:  0.99136\n",
      "Epoch: 9| Train loss:  0.01600| Train acc:  0.99511| Val loss:  0.04335| Val acc:  0.99269\n",
      "Epoch: 10| Train loss:  0.01503| Train acc:  0.99496| Val loss:  0.04853| Val acc:  0.99202\n",
      "Epoch: 11| Train loss:  0.01369| Train acc:  0.99583| Val loss:  0.03882| Val acc:  0.99003\n",
      "\n",
      "\n",
      "Iterative Global pruning round = 2\n",
      "Lenet 5 Global sparsity = 55.20%\n",
      "\n",
      "Fine-tuning pruned model to recover model's performance\n",
      "\n"
     ]
    }
   ],
   "source": [
    "import torch.nn.utils.prune as prune\n",
    "\n",
    "for iter_prune_round in range(5):\n",
    "    print(f\"\\n\\nIterative Global pruning round = {iter_prune_round + 1}\")\n",
    "    \n",
    "    # Prune layer-wise in a structured manner-\n",
    "    prune.global_unstructured(\n",
    "        parameters_to_prune,\n",
    "        pruning_method = prune.L1Unstructured,\n",
    "        amount = prune_rates_global[iter_prune_round]\n",
    "        \n",
    "    )\n",
    "\n",
    "    # Print current global sparsity level-\n",
    "    compute_sparsity(model_lenet5v1)\n",
    "    \n",
    "    \n",
    "    # Fine-training loop-\n",
    "    print(\"\\nFine-tuning pruned model to recover model's performance\\n\")\n",
    "    \n",
    "    \n",
    "    for epoch in range(EPOCHS):\n",
    "        train_loss, train_acc = 0.0, 0.0\n",
    "        for X, y in train_dataloader:\n",
    "            X, y = X.to(device), y.to(device)\n",
    "            \n",
    "            model_lenet5v1.train()\n",
    "            \n",
    "            y_pred = model_lenet5v1(X)\n",
    "            \n",
    "            loss = loss_fn(y_pred, y)\n",
    "            train_loss += loss.item()\n",
    "            \n",
    "            acc = accuracy(y_pred, y)\n",
    "            train_acc += acc\n",
    "            \n",
    "            optimizer.zero_grad()\n",
    "            loss.backward()\n",
    "            optimizer.step()\n",
    "            \n",
    "        train_loss /= len(train_dataloader)\n",
    "        train_acc /= len(train_dataloader)\n",
    "            \n",
    "        # Validation loop\n",
    "        val_loss, val_acc = 0.0, 0.0\n",
    "        model_lenet5v1.eval()\n",
    "        with torch.inference_mode():\n",
    "            for X, y in val_dataloader:\n",
    "                X, y = X.to(device), y.to(device)\n",
    "                \n",
    "                y_pred = model_lenet5v1(X)\n",
    "                \n",
    "                loss = loss_fn(y_pred, y)\n",
    "                val_loss += loss.item()\n",
    "                \n",
    "                acc = accuracy(y_pred, y)\n",
    "                val_acc += acc\n",
    "                \n",
    "            val_loss /= len(val_dataloader)\n",
    "            val_acc /= len(val_dataloader)\n",
    "        \n",
    "        print(f\"Epoch: {epoch}| Train loss: {train_loss: .5f}| Train acc: {train_acc: .5f}| Val loss: {val_loss: .5f}| Val acc: {val_acc: .5f}\")\n"
   ]
  },
  {
   "cell_type": "code",
   "execution_count": null,
   "id": "9118ca6b-8dd8-4115-935e-e7146bd2064d",
   "metadata": {},
   "outputs": [],
   "source": []
  }
 ],
 "metadata": {
  "kernelspec": {
   "display_name": "Python 3 (ipykernel)",
   "language": "python",
   "name": "python3"
  },
  "language_info": {
   "codemirror_mode": {
    "name": "ipython",
    "version": 3
   },
   "file_extension": ".py",
   "mimetype": "text/x-python",
   "name": "python",
   "nbconvert_exporter": "python",
   "pygments_lexer": "ipython3",
   "version": "3.12.3"
  }
 },
 "nbformat": 4,
 "nbformat_minor": 5
}
